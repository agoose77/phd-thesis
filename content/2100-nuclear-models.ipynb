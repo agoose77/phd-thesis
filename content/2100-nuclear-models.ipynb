{
 "cells": [
  {
   "cell_type": "markdown",
   "id": "0ec51114-f100-4101-a5c4-75e14ed753b2",
   "metadata": {
    "user_expressions": []
   },
   "source": [
    "# Nuclear Models\n",
    "\n",
    "Understanding the structure of the nucleus can be done in a variety of ways\n",
    "\n",
    "Microscopic models\n",
    ": emergent phenomena from single-nucleon treatment of nucleus\n",
    "\n",
    "Macroscopic models\n",
    ": collective description of nucleus leads to predictions of macroscopic phenomena"
   ]
  },
  {
   "cell_type": "markdown",
   "id": "7aa2d370-731a-44fa-9855-e2e0a04beb94",
   "metadata": {
    "user_expressions": []
   },
   "source": [
    "## Macroscopic Models\n",
    "\n",
    "(liquid-drop-model)=\n",
    "### Liquid Drop Model\n",
    "First described in 1935, the Semi Empirical Mass Formula (SEMF) is an approximation for the ground-state binding energy of a nucleus according to its proton and neutron numbers.{cite:ps}`weizsacker_zur_1935` Inspired by the liquid drop model, which considers the nucleus as a drop of incompressible fluid, it comprises of several theoretically-motivated terms:\n",
    "\n",
    ":::{math}\n",
    ":label: semi-empirical-mass-formula\n",
    "\n",
    "E_B = \\underbrace{a_VA}_{\\text{volume}} - \\underbrace{a_SA^{\\frac{2}{3}}}_{\\text{surface}} - \\underbrace{a_C\\frac{Z(Z-1)}{A^{\\frac{1}{3}}}}_{\\text{coulomb}} - \\underbrace{a_A\\frac{(N-Z)^2}{A}}_{\\text{asymmetry}} + \\underbrace{\\delta(N, Z)}_{\\text{pairing}}\n",
    ":::\n",
    "\n",
    "Volume energy\n",
    ": The attractive-repulsive potential of the strong force. The short effective range of the strong interaction means that it is effectively constrained to a constant number of neighbours.\n",
    "\n",
    "Surface energy\n",
    ": A corrective term to account for nucleons at the surface of the nucleus, which have fewer neighbours than those at the centre of the drop.\n",
    "\n",
    "Coulomb energy\n",
    ": Coulombic repulsion between positively charged protons reduces the binding energy.\n",
    "\n",
    "Asymmetry energy\n",
    ": Given the Paul exclusion principle, nuclei of {math}`N = Z` should have higher binding energies than those for which {math}`N \\neq Z`. \n",
    "\n",
    "Pairing energy\n",
    ": Identical nucleons with anti-aligned spins in the same spatial state have maximal wavefunction overlap, and correspondingly an enhanced binding energy.\n",
    "\n",
    "It will be useful to discuss some of the features of this model in subsequent sections. For now, it suffices to say that the liquid-drop model (or semi-empirical mass formula) produces a reasonable prediction of the binding energy of a wide range of nuclei, particularly for heavier nuclei."
   ]
  },
  {
   "cell_type": "markdown",
   "id": "8ce693e4-fb3b-4dd5-85fc-d2c6bc47f26c",
   "metadata": {
    "tags": [],
    "user_expressions": []
   },
   "source": [
    "## Microscopic Models\n",
    "% Reference: TIME EVOLUTION IN QUANTUM DOTS, Sigve Bøe Skattum"
   ]
  },
  {
   "cell_type": "markdown",
   "id": "21ba3fe0-83fa-4863-ba9f-bd8014fcf7e8",
   "metadata": {
    "user_expressions": []
   },
   "source": [
    "### Many Body Systems"
   ]
  },
  {
   "cell_type": "markdown",
   "id": "25b5cf6f-7ce6-482e-9656-ed3f73bd83f4",
   "metadata": {
    "tags": [],
    "user_expressions": []
   },
   "source": [
    "For a system of {math}`N` indistinguishable particles, the canonical many-particle basis is given by the direct-product of the single-particle states:\n",
    ":::{math}\n",
    "\\ket{\\lambda_1 \\lambda_2 \\dots \\lambda_N}_{\\text{C}} &= \\ket{\\lambda_1} \\otimes \\ket{\\lambda_2} \\otimes \\dots \\otimes \\ket{\\lambda_N}\n",
    "\n",
    "                        &= \\ket{\\lambda_1}\\ket{\\lambda_2}\\dots\\ket{\\lambda_N}\\,.\n",
    ":::\n",
    "However, an arbitrary state in this basis is not guaranteed to satisfy the anti-symmetry requirements of a fermionic system such as the nucleus (under isospin symmetry). These anti-symmetric states are given by _permutations_ of the canonical basis vectors (via the anti-symmetrisation operator {math}`\\hat{\\mathcal{A}}`)\n",
    ":::{math}\n",
    "\\ket{\\lambda_1 \\lambda_2 \\dots \\lambda_N}_{\\text{AS}} \n",
    "&= \\hat{\\mathcal{A}}\\Bqty{\\ket{\\lambda_1} \\otimes \\ket{\\lambda_2} \\otimes \\dots \\otimes \\ket{\\lambda_N}}\n",
    "\n",
    "&= \\frac{1}{N !} \\sum_{P \\in S_{N}}(-1)^{\\pi} \\hat{P}\\pqty{\\ket{\\lambda_1}\\otimes\\ket{\\lambda_2} \\otimes \\dots \\otimes \\ket{\\lambda_N}} \\,.\n",
    ":::"
   ]
  },
  {
   "cell_type": "markdown",
   "id": "dc31f98a-246a-4d62-b1cd-9157c6e6b796",
   "metadata": {
    "user_expressions": []
   },
   "source": [
    "It is usually more convenient to explore nuclear theory in terms of the language of second quantisation, which intrinsically embodies the anti-symmetrisation requirement through the creation and annihilation operators.{cite:ps}`eisenberg_microscopic_1976` Subsequently, states are most naturally described using occupation number representation\n",
    ":::{math}\n",
    "\\ket{n_1 n_2 \\dots}_{\\text{OR}}\\,,\n",
    ":::\n",
    "where {math}`n_1` indicates the number of particles in the single-particle state {math}`1`."
   ]
  },
  {
   "cell_type": "markdown",
   "id": "fdc6bdd7-34f3-421e-8d2b-839d3c50ba8d",
   "metadata": {
    "tags": [],
    "user_expressions": []
   },
   "source": [
    "The Hamiltonian of a quantum system is the operator {math}`\\hat{H}`, conventionally given as the sum of kinetic and potential energy operators\n",
    ":::{math}\n",
    ":label: hamiltonian\n",
    "\\hat{H} = \\hat{T} + \\hat{V}\\,,\n",
    ":::\n",
    "whose eigenvalues correspond to the set of measurable energies. Considering up-to two-body interactions, we can write {eq}`hamiltonian` in second quantization form as\n",
    "\n",
    ":::{math}\n",
    ":label: hamiltonian-2q\n",
    "\n",
    "\\hat{H} = \n",
    "\\sum_{\\alpha\\beta}T_{\\alpha \\beta}\\underbrace{\\hat{a}^\\dagger_\\alpha\\hat{a}_\\beta}_\\text{one-body} + \n",
    "\\frac{1}{2}\\sum_{\\alpha\\beta\\gamma\\delta}V_{\\alpha\\beta\\gamma\\delta}\\underbrace{\\hat{a}^\\dagger_\\alpha\\hat{a}^\\dagger_\\beta\\hat{a}_\\delta\\hat{a}_\\gamma}_\\text{two-body}\\,,\n",
    ":::\n",
    "where {math}`\\hat{T}` is the kinetic energy operator and {math}`\\hat{V}` is the two-body inter-nucleon interaction.[^representation]\n",
    "\n",
    ":::{note}\n",
    ":class: margin\n",
    "\n",
    "See {cite:ps}`constantinou_natural_2017` for a discussion of alternate representations of \n",
    "{math}`\\frac{1}{2}\\sum_{\\alpha\\beta\\gamma\\delta}V_{\\alpha\\beta\\gamma\\delta}{\\hat{a}^\\dagger_\\alpha\\hat{a}^\\dagger_\\beta\\hat{a}_\\delta\\hat{a}_\\gamma}`, e.g. \n",
    "{math}`\\frac{1}{4}\\sum_{\\alpha\\beta\\gamma\\delta}\\overline{V}_{\\alpha\\beta\\gamma\\delta}{\\hat{a}^\\dagger_\\alpha\\hat{a}^\\dagger_\\beta\\hat{a}_\\delta\\hat{a}_\\gamma}`\n",
    ":::"
   ]
  },
  {
   "cell_type": "markdown",
   "id": "33e833ab-477d-494e-9a34-330925b3dce1",
   "metadata": {
    "tags": [],
    "user_expressions": []
   },
   "source": [
    "### Mean Field Theory\n",
    "{eq}`hamiltonian-2q` could be recast in terms of an artificial single-particle potential {math}`\\hat{U}`\n",
    "\n",
    ":::{math}\n",
    ":label: hamiltonian-2q-mean-field\n",
    "\n",
    "\\hat{H} &= \n",
    "\\underbrace{\\sum_{\\alpha\\beta}\\pqty{T_{\\alpha \\beta} + U_{\\alpha\\beta}}\\hat{a}^\\dagger_\\alpha\\hat{a}_\\beta}_\\text{single particle Hamiltonian} + \n",
    "\\underbrace{\n",
    "    \\frac{1}{2}\n",
    "    \\sum_{\\alpha\\beta\\gamma\\delta}\n",
    "        V_{\\alpha\\beta\\gamma\\delta} \n",
    "            \\hat{a}^\\dagger_\\alpha\\hat{a}^\\dagger_\\beta\\hat{a}_\\delta\\hat{a}_\\gamma - \n",
    "    \\sum_{\\alpha\\beta}\n",
    "        U_{\\alpha\\beta}\n",
    "            \\hat{a}^\\dagger_\\alpha\\hat{a}_\\beta\n",
    "}_\\text{residual interaction}\\,,\n",
    "\n",
    "        &= \\hat{H}^{[1]} + \\hat{V'}\\,,\n",
    ":::\n",
    "where {math}`\\hat{H}^{[1]}` is the single-particle Hamiltonian, and {math}`\\hat{V'}` is a _residual_ interaction between nucleons. In the event that this residual interaction is small, it can be treated as a perturbation of the single-particle Hamiltonian. Under this simplification, the problem of solving the many-body Schrodinger equation is reduced to that of solving the single-particle Schrödinger equation for an external potential\n",
    "\n",
    ":::{math}\n",
    ":label: mean-field-single-particle-hamiltonian\n",
    "\\hat{H}^{[1]}\\ket{\\phi_k} = E_k\\ket{\\phi_k}\\,.\n",
    ":::\n",
    "\n",
    ":::{note}\n",
    ":class: margin\n",
    "Some authors use the term \"quasiparticles\", which conflicts with the same term used to describe Bogoliubov quasiparticles in HFB pairing correlation theory. In any case, \"particles\" distinguishes between bare nucleons and those which are \"dressed\" by the interaction that has already been accounted for by the mean field.{cite:ps}`zelevinsky_physics_2017`\n",
    ":::\n",
    "\n",
    "Hence, the introduction of a particular single-particle potential transforms the problem from a strongly interacting system of nucleons to a weakly interacting system of particles.{cite:ps}`suhonen_nucleons_2007` The residual interaction {math}`\\hat{V'}`, whose matrix elements are much reduced in amplitude with respect to the bare two-nucleon potential, is responsible for configuration mixing between single-particle states, i.e. correlating otherwise independent nucleons.{cite:ps}`rowe_fundamentals_2010`"
   ]
  },
  {
   "cell_type": "markdown",
   "id": "4f615ffa-29ca-4263-94ed-595213250ee7",
   "metadata": {
    "user_expressions": []
   },
   "source": [
    "In the context of the nucleus, the existence of a single-particle potential corresponds to a _mean-field_, whose origin is the motion of the nucleons themselves. The physical justification for introducing a _mean-field_ potential {math}`\\hat{U}` depends upon whether one-body behavior or two-body collisions dominate within the nucleus, i.e. whether the nucleon mean-free path is much greater than, or lesser than the nuclear size.{cite:ps}`negele_mean-field_1982` Despite the strong short-range repulsive nature of the strong nuclear force, through Pauli blocking of states close to the Fermi surface it can be shown that nucleons behave to first approximation as independent particles (IPM).{cite:ps}`fetter_quantum_1972`\n",
    "\n",
    "In occupation representation, a general state {math}`\\ket{\\phi}` is written as\n",
    ":::{math}\n",
    ":label: general-wavefunction\n",
    "\\ket{\\phi} = \\sum_{i_1i_2\\dots i_N}c_{i_1i_2\\dots i_N}\\hat{a}^\\dagger_{i_1}\\hat{a}^\\dagger_{i_2}\\dots \\hat{a}^\\dagger_{i_N}\\ket{0}\\,,\n",
    ":::\n",
    "where {math}`\\ket{0}` is the vacuum state, and the number of combinations of {math}`i_1i_2\\dots i_N` is given by {math}`{N_c \\choose N}`. Clearly, despite the introduction of a single-particle approximation (imposed by the supposition of a mean-field), {eq}`mean-field-single-particle-hamiltonian` remains an intractable problem unless a simplification is used reduce the size of the model space. There are two predominant mechanisms for proceeding: \n",
    "- Restrict the number of active particles and states (constrain {math}`N_c` and {math}`N`)\n",
    "- Choose a restricted many-particle form (constrain {math}`\\ket{\\phi}`).{cite:ps}`rowe_fundamentals_2010`\n",
    "\n",
    "The former approach underpins the shell model, whilst the latter describes the high-level procedure of the Hartree-Fock Approximation.\n",
    "\n",
    "% TODO HF still useful for SM to give a good basis?"
   ]
  },
  {
   "cell_type": "markdown",
   "id": "4e38a76a-76e8-4bec-8adc-e07cdd1b3a67",
   "metadata": {
    "tags": [],
    "user_expressions": []
   },
   "source": [
    "### Hartree Fock\n",
    "\n",
    "The question that follows {eq}`hamiltonian-2q-mean-field` is that of how to determine {math}`\\hat{U}` such that {math}`\\hat{V}'` is minimised. A natural candidate would be one of the phenomenological potentials, such as the Woods-Saxon model, or an analytical potential such as the Harmonic Oscillator. However, these are ultimately simplifications of the nuclear potential. A proper treatment of the mean field must produce a _self-consistent_ solution in which the field generated by the motion of the nucleons agrees with that used to derive the wavefunction of the system.{cite:ps}`zelevinsky_physics_2017` One such treatment is the Hartree-Fock (HF) approximation method. \n",
    "\n",
    "Though a detailed discussion of HF will not be performed here, it suffices to establish the assumptions and conclusions of the method. In order to restrict the model space of the many-particle problem to a tractable subset, the HF method assumes that the ground state of the system is described by a single Slater-determinant of single-particle eigenfunctions. Therefore, instead of {eq}`general-wavefunction`, we have\n",
    ":::{math}\n",
    "\\ket{\\text{HF}} = \\hat{a}^\\dagger_{i_1}\\hat{a}^\\dagger_{i_2}\\dots \\hat{a}^\\dagger_{i_N}\\ket{0}\\,.\n",
    ":::\n",
    "This assumption is most appropriate for doubly-closed nuclei, where there is a large gap between the first unfilled single-particle level and the ground state {math}`\\ket{\\text{HF}}`.{cite:ps}`ring_nuclear_2004-1`\n",
    ":::{note}\n",
    ":class: margin\n",
    "Details on the HF method are given in {cite:ps}`ring_nuclear_2004-1`. Historically calculations have been performed using a suitable, complete basis e.g. the Harmonic Oscillator basis, [truncated to a required accuracy](https://web.ornl.gov/~kentpr/thesis/pkthnode13.html#SECTION00730100000000000000). In recent times, discretised finite-element calculations have been used in atomic physics to directly compute the solution.\n",
    ":::\n",
    "The mean field is ultimately derived through the variational principle, which seeks to determine {math}`\\ket{\\phi}` such that {math}`\\hat{H}^{[1]}` is minimised with respect to small admixtures of Slater determinants:\n",
    ":::{math}\n",
    ":label: variational-principle\n",
    "\\delta\\pqty{\\expval{\\hat{H}}{\\phi} -E\\braket{\\phi}} = \\matrixel{\\delta\\psi}{\\hat{H}}{\\psi} - E\\braket{\\delta\\psi}{\\psi} = 0\\,,\n",
    ":::\n",
    "where {math}`\\ket{\\delta\\psi} = \\varepsilon \\hat{a}^\\dagger_k\\hat{a}_j\\ket{\\psi}` for some arbitrary {math}`\\varepsilon`, and {math}`k>N,j\\leq N`.{cite:ps}`rowe_fundamentals_2010`{cite:ps}`greiner_nuclear_1996` If the {math}`N`-lowest energy single-particle eigenfunctions are taken as the HF ground-state, then these admixtures correspond to single \"particle-hole\" (1p1h) excitations of the closed \"core\" that lies below the sharp Fermi surface (see {numref}`sharp-fermi-surface`).\n",
    ":::{note}\n",
    ":class: margin\n",
    "\n",
    "The single-particle eigenfunctions form a complete basis (subject to truncation), which facilitates the introduction of excited states above the ground state. \n",
    ":::\n",
    "\n",
    ":::{figure} image/placeholder/sharp-fermi-surface.png\n",
    ":name: sharp-fermi-surface\n",
    "\n",
    "Labelling of particle and hole states relative to a sharp Fermi surface, that follows from the restricted Slater determinant form of the HF ground state {math}`\\ket{\\text{HF}}`. Figure taken from {cite:ps}`rowe_nuclear_2010`.\n",
    ":::\n",
    "\n",
    "The process of determining the eigenstates of {math}`\\hat{H}^{[1]}` is given by the following recurrence relation:{cite:ps}`rowe_nuclear_2010`\n",
    ":::{math}\n",
    "\\left\\{\\ket{\\text{HF}_\\pqty{0}}\\right\\} \\rightarrow \\hat{U}^\\pqty{0} \\rightarrow \\left\\{\\ket{\\text{HF}_\\pqty{1}}\\right\\} \\rightarrow \\hat{U}^\\pqty{1} \\rightarrow \\dots\n",
    ":::"
   ]
  },
  {
   "cell_type": "markdown",
   "id": "29caa811-ca50-44f9-b424-3a5bc455a634",
   "metadata": {
    "tags": [],
    "user_expressions": []
   },
   "source": [
    ":::{note}\n",
    ":class: margin\n",
    "The anti-symmetrised form {math}`\\overline{V}_{\\alpha\\gamma\\beta\\gamma}` follows from the variational equation.{cite:ps}`greiner_nuclear_1996` \n",
    "\n",
    "A challenge with the direct application of the HF method is the infinite matrix elements {math}`\\overline{V}_{\\alpha\\gamma\\beta\\gamma}` that follow from the hard-core nature of the bare nucleon-nucleon potential. Extensions to Hartree-Fock, like Brückner-Hartree-Fock (BHF), replace this bare potential with an effective potential e.g. the Brückner {math}`G`-Matrix.{cite:ps}`ring_nuclear_2004-1`\n",
    "\n",
    "% TODO - G matrix vs effective forces in other textbooks like Wong?\n",
    ":::\n",
    "It can ultimately be shown that the HF Hamiltonian is\n",
    ":::{math}\n",
    "\\hat{H} = \n",
    "\\sum_{\\alpha\\beta}\\pqty{T_{\\alpha \\beta} + \\sum_{\\gamma}\\overline{V}_{\\alpha\\gamma\\beta\\gamma}}\\hat{a}^\\dagger_\\alpha\\hat{a}_\\beta\\,,\n",
    ":::\n",
    "where {math}`\\hat{\\overline{V}}` is the anti-symmetrised interaction potential. This implies that the mean field {math}`\\hat{U}` from {eq}`hamiltonian-2q-mean-field` is\n",
    ":::{math}\n",
    "\\hat{U} = \\sum_{\\alpha\\gamma\\beta}\\overline{V}_{\\alpha\\gamma\\beta\\gamma}\\hat{a}^\\dagger_\\alpha\\hat{a}_\\beta\\,,\n",
    ":::\n",
    "i.e. the averaged two-body contributions from the {math}`N-1` remaining nucleons.{cite:ps}`rowe_fundamentals_2010`{cite:ps}`greiner_nuclear_1996`\n",
    "Primitive excited states can then be constructed from one-particle/one-hole (1p1h) and two-particle/two-hole (2p2h) excitations of this ground state.{cite:ps}`rowe_nuclear_2010`\n",
    "\n",
    "% NB for those computing the HF ground state - the expectation value of the GS energy <φ|H|φ> is not the sum of the SP energies - this follows from the fact that the mean-field potential between two nucleons in a two-particle nucleus is the same, so including it for each nucleon leads to double counting. {cite:ps}`suhonen_nucleons_2007`\n",
    "\n",
    "Whether minimum found by the HF procedure is a true global minimum depends upon the initial configuration. If the initial configuration determined by the trial wavefunctions lie close to a shape-isomeric state, it is quite possible for the numerical procedure to settle upon a configuration that is deformed from the ground state.{cite:ps}`greiner_nuclear_1996`\n",
    ":::{figure} image/placeholder/energy-vs-deformation.png\n",
    ":name: energy-vs-deformation\n",
    "\n",
    "Schematic diagram of the convergence of different HF trial wave-functions to distinct local minima. Figure taken from {cite:ps}`greiner_nuclear_1996`.\n",
    ":::"
   ]
  },
  {
   "cell_type": "markdown",
   "id": "6e143551-6fd1-4c21-a666-492905f04a1a",
   "metadata": {
    "tags": [],
    "user_expressions": []
   },
   "source": [
    "Whilst the HF approximation generates a set of self-consistent single-particle states, it does so by explicitly ignoring the residual interaction. The variational principle requires that the single-particle Hamiltonian matrix element satisfies {math}`\\mel{\\delta \\psi}{\\hat{H}}{\\psi} = 0`, where {math}`\\ket{\\delta \\psi} = \\sum_{mi}\\epsilon_{mi} \\hat{a}^\\dagger_m\\hat{a}_i\\ket{\\psi}`. This is equivalent to requiring that the Hamiltonian does not couple one-particle-hole excitations to the ground state (i.e., no residual interaction). A significant component of this interaction is the short-range pairing correlation discussed in {ref}`liquid-drop-model`, that couples like-pairs of nucleons to states of zero angular momentum.{cite:ps}`rowe_fundamentals_2010` This is most evident in nuclei with pairs of protons or neutrons outside of doubly-closed shells.{cite:ps}`rowe_fundamentals_2010`[^ignore-pairing] \n",
    "\n",
    "% TODO: Even for deformed nuclei, where there is no longer degeneracy of different j projections, Kramer's theorem holds that there exists a time-reversed analogue state.{cite:ps}`Wigner1932` \n",
    "% How do these two statements relate?\n",
    "\n",
    "Extensions to the Hartree-Fock method have been developed to consider the pairing interaction: \n",
    "- the Bardeen-Cooper-Schrieffer (BCS) model introduces a generalised pair creation operator for even-even nuclei of the form {math}`A^{+}=\\sum_{k>0} \\frac{v_k}{u_k} a_k^{+} a_k^{+}` to build the BCS ansatz: {math}`\\mathrm{BCS}\\rangle \\propto \\exp \\left(A^{+}\\right)|-\\rangle=\\sum_{r=0}^{\\infty} \\frac{1}{n !}\\left(A^{+}\\right)^r|-\\rangle`. The resulting Hamiltonian is constrained to conserve particle number {math}`N`. Unlike the base HF method, the BCS model is not self-consistent; the pairing field does not change the single-particle wavefunctions,{cite:ps}`zelevinsky_physics_2017` which are generated using traditional Hartree-Fock.{cite:ps}`anguiano_study_2014`\n",
    "- the Hartree-Fock-Bogoliubov (HFB) model generalises HF theory to incorporate the quasi-particle concepts of the BCS model. Importantly, it replaces the single particle-pair operators with generalised Bogoliubov quasi-particle operators of the form {math}`\\sum_\\mu \\hat{a}_\\mu^\\dagger u_{\\mu\\nu} + \\hat{a}_\\mu v_{\\mu\\nu}`.{cite:ps}`rowe_fundamentals_2010`\n",
    "\n",
    "Meanwhile, _excited_ states are primarily modelled in the HF approximation as 1p1h excitations. Experimentally, however, it is clear that for many nuclei these single 1p1h excitations are themselves insufficient to describe low-lying excited states. An example is {math}`{}^{16}\\text{O}`, for which the lowest energy excitations predicted by the harmonic oscillator approximation should be seen at around 11.5 MeV (the difference between the 1p and 2s-1d shells). The spectrum of {math}`{}^{16}\\text{O}`, however, has a {math}`J^\\pi = 3^-` state at 6.13 MeV, indicating additional _coherent_ excitation mechanisms.{cite:ps}`ring_nuclear_2004-1` The observation of these excitation modes directly underpins the use of collective models to describe the nucleus. These collective models usually ignore the single-particle degrees of freedom in favour of collective vibrational or rotational modes.\n",
    "\n",
    "[^ignore-pairing]: Experimentally, it is found that the ground state of spherical nuclei is not degenerate with respect to angular momentum as would be expected for a purely single-particle model. It follows that the residual interaction lowers the zero angular momentum state with respect to the other configurations.{cite:ps}`greiner_nuclear_1996`"
   ]
  },
  {
   "cell_type": "markdown",
   "id": "f280a5bd-388a-4817-b22c-8d5302e8411d",
   "metadata": {
    "tags": [],
    "user_expressions": []
   },
   "source": [
    "In addition to collective models, there are microscopic treatments of collective excitations. The most fundamental of these is the Tamm-Dancoff Approximation (TDA), which treats excited states of the nucleus as a superposition of 1p1h excitations of the ground state, introduced by a creation operator:{cite:ps}`greiner_nuclear_1996`\n",
    ":::{math}\n",
    "\\hat{Q}^\\dagger_\\nu = \n",
    "\\sum_{mi}\n",
    "    c_{mi}^\\nu\\hat{a}_m^\\dagger\\hat{a}_i\n",
    "\\,.\n",
    ":::\n",
    "It can be shown that such an ansatz admits collective behaviour through a coherent excitation of single particles.{cite:ps}`greiner_nuclear_1996` Typically these solutions are  obtained in a restricted model space comprising of several levels above and below the Fermi level.{cite:ps}`ring_nuclear_2004-1` A limitation of the TDA, besides treating only 1p1h excitations, is the use of the unmodified HF ground state; the TDA assumption is that only excited states may have particle-hole excitations above the ground state.{cite:ps}`fetter_quantum_1972` The Random-Phase Approximation (RPA) extends the particle-hold creation operator to \n",
    ":::{math}\n",
    "\\hat{Q}^\\dagger_\\nu = \n",
    "\\sum_{mi}\n",
    "    x_{mi}^\\nu\\hat{a}_m^\\dagger\\hat{a}_i +\n",
    "    y_{mi}^\\nu\\hat{a}_i^\\dagger\\hat{a}_m\n",
    "\\,,\n",
    ":::\n",
    "where {math}`\\left\\{y_{mi}\\right\\}` account for the account for the correlations in the ground state.\n",
    "\n",
    "% Coherent means same energy here I believe.\n",
    "% TODO: what are the subscripts on these operators - \\overline{\\nu} is the time reversed state of \\nu, but where did we introduce this? FONM does in p.517?"
   ]
  },
  {
   "cell_type": "markdown",
   "id": "eeec5845-b633-489e-a9a1-1403033249d9",
   "metadata": {
    "user_expressions": []
   },
   "source": [
    "### Shell Model\n",
    "\n",
    "\n",
    "If the infinite Hilbert space were easily solvable for a many-body system, then this transformation would be at-best a distraction from the underlying physical significance of {eq}`hamiltonian-2q`. However, expansion of nuclear states in a kinetic energy basis equates to a slowly-converging Fourier transform. If {math}`\\hat{U}` is chosen such that the single-particle Hamiltonian eigenstates is stratified into a partially energy-ordered basis, and these states exhibit the bulk properties of corresponding physical states at low energy, then the expansion of nuclear states will be rapidly convergent.{cite:ps}`rowe_fundamentals_2010` This convergence lends itself to truncating the active space\n",
    "% https://arxiv.org/pdf/nucl-th/9306014.pdf about this process"
   ]
  },
  {
   "cell_type": "markdown",
   "id": "03629ce9-b38d-4fb9-868c-2cccb2121fd9",
   "metadata": {
    "user_expressions": []
   },
   "source": [
    "Heyde: Effective interaction and operators `11`\n",
    "\n",
    "P.237 Greiner\n",
    "\n",
    "J=0 even-even: same isospin for nn pp, so antialign spins couple to J=0. For pn/np, isospin already different so can occupy same non-isospin states. Hence no need to couple J=0 (FONM.30) no odd j in even-even? p/30\n",
    "\n",
    "doubly-even all have 0+ GS suggesting pairing to J=0 and excitations seem to preserve pairs, so probably low E excitatio0ns are pair breaking (p.32)\n",
    "\n",
    "TAKIGAW: \n",
    "> In contrast, the pairing correla-\n",
    "tion in nuclei originates partly from the direct attractive interaction between nucleons\n",
    "and partly from the mechanism that the pair of nucleons, which occupy time-reversal\n",
    "states to each other in the vicinity of Fermi surface, form a Cooper pair via surface\n",
    "vibrations (see Ref. [28] for details)."
   ]
  },
  {
   "cell_type": "markdown",
   "id": "29f1b783-4592-4cd1-8dc8-da4f3219d345",
   "metadata": {
    "user_expressions": []
   },
   "source": [
    "#### Deformed Shell Model\n",
    "\n",
    "P.248 Greiner"
   ]
  },
  {
   "cell_type": "markdown",
   "id": "7522a26e-7751-4595-bf92-cb12393b0fcd",
   "metadata": {
    "tags": [],
    "user_expressions": []
   },
   "source": [
    "### Anti-symmetrised Molecular Dynamics\n",
    "\n",
    "Anti-symmetrised Molecular Dynamics (AMD) attempts to model the coexistence of cluster and mean-fields phenomena within the nucleus. Like the HF methods, AMD employs a basis of Slater determinants. Instead of single-particle eigenfunctions, however, AMD uses a basis of Gaussian wave packets:\n",
    ":::{math}\n",
    "\\ket{\\phi_\\text{AMD}(Z)} = \\hat{\\mathcal{A}}\\Bqty{\\ket{\\psi_1} \\otimes \\ket{\\psi_1} \\otimes \\dots \\otimes \\ket{\\psi_N}}\\,,\n",
    ":::\n",
    "where {math}`\\ket{\\psi_i}` is the direct product state of the spatial ({math}`\\phi`), intrinsic spin ({math}`\\chi`), and isospin ({math}`\\tau`) states of nucleus {math}`i`:\n",
    ":::{math}\n",
    "\\ket{\\psi_i} &= \\ket{\\phi_{\\vb{Z}_i}}\\otimes\\ket{\\chi_i}\\ket{\\tau_i}\n",
    "\n",
    "\\braket{\\phi_{\\vb{Z}_i}} &\\propto \\exp(-\\nu\\pqty{\\vb{r}_j - \\frac{\\vb{Z}_i}{\\sqrt{\\nu}}}^2)\n",
    "\n",
    "\\ket{\\chi_i} &= \\left(\\frac{1}{2}+\\xi_i\\right) \\ket{\\chi_{\\uparrow}}+\\left(\\frac{1}{2}-\\xi_i\\right) \\ket{\\chi_{\\downarrow}}\\,.\n",
    ":::"
   ]
  },
  {
   "cell_type": "markdown",
   "id": "9ce9d553-7e26-43f7-a992-92168c5041c4",
   "metadata": {
    "tags": [],
    "user_expressions": []
   },
   "source": [
    "It follows that an AMD many-body basis state can be represented by a set of variational parameters, {math}`\\mathcal{Z} = \\left\\{\\nu, \\vb{Z}_1,\\vb{Z}_2,\\dots,\\vb{Z}_N,\\xi_1,\\xi_2,\\dots\\xi_N\\right\\}`, where the width parameter {math}`\\nu` is optimised for a given system, and {math}`\\vb{z}_i = \\pmqty{\\vb{x} & \\vb{y} & \\vb{z} & \\sigma}` describes the centre, momenta, and width of each localised Gaussian.{cite:ps}`beck_clusters_2010` In the limit that the Gaussian centres converge upon a particular location, then the AMD wave-function becomes equivalent to the harmonic oscillator shell-model wave-function.{cite:ps}`kanada-enyo_antisymmetrized_2012` \n",
    "\n",
    ":::{note}\n",
    "At the surface level, the HF and AMD methods bare a striking resemblence. The fundamental difference between the two, besides the ansatz of a single-particle Gaussian representation (the basis of the AMD wavefunction), is the supposition of a mean-field. The HF equations are solved iteratively to determine the self-consistent solution. The single-particle eigenfunctions are typically expanded in a complete basis, e.g. harmonic oscillator eigenfunctions, or solved numerically. Meanwhile, the AMD method optimises _parameters_ for a fixed model (Gaussian wave-packets), following the gradient of the Hamiltonian. the \"variation\" in the time-independent HF method corresponds to single 1p1h excitation of the trial state, whereas for AMD, variation is introduced through the total derivative of the wavefunction.\n",
    ":::\n",
    "\n",
    "To determine the optimum values for {math}`\\mathcal{Z}`, the time-dependent variational principle (using the principle of least action){cite:ps}`kramer_time-dependent_1981` \n",
    ":::{math}\n",
    ":label: time-dependent-variational-principle\n",
    "\\delta\\matrixel{\\psi}{\\hat{H}-\\mathrm{i} \\hbar \\frac{\\partial}{\\partial t}}{\\psi}=0\n",
    ":::\n",
    "is used to derive the equations of motion of the system:{cite:ps}`feldmeier_fermionic_1997`\n",
    ":::{math}\n",
    ":label: amd-equation-of-motion\n",
    "i \\hbar \\dv{t} u_k = (\\lambda+i \\mu) \n",
    "    \\pdv{u_k^*}  \n",
    "        \\frac{\n",
    "            \\expval{\\hat{H}}{\n",
    "                \\phi^{\\pm}\n",
    "            }\n",
    "         }\n",
    "         {\n",
    "            \\ip{\\phi^{\\pm}}\n",
    "        }\\,,\n",
    ":::\n",
    "where the term {math}`(\\lambda+i \\mu)` is an _artificial_ viscous component designed to dissipate the energy of the system towards a minimum.{cite:ps}`wilets_classical_1977` T"
   ]
  },
  {
   "cell_type": "markdown",
   "id": "7d38ef0a-74c6-4573-bfbd-51e712026728",
   "metadata": {
    "tags": [],
    "user_expressions": []
   },
   "source": [
    "{cite:ps}`horiuchi_neutron-rich_1995` In the language of second quantisation, the AMD Hamiltonian\n",
    ":::{math}\n",
    ":label: amd-hamiltonian\n",
    "\\hat{H} = \n",
    "\\sum_{\\alpha\\beta}T_{\\alpha \\beta}\\hat{a}^\\dagger_\\alpha\\hat{a}_\\beta + \n",
    "\\frac{1}{2}\n",
    "\\sum_{\\alpha\\beta\\gamma\\delta}\n",
    "    \\pqty{\n",
    "        V^{\\mathcal{N}}_{\\alpha\\beta\\gamma\\delta} +\n",
    "        V^{\\mathcal{C}}_{\\alpha\\beta\\gamma\\delta}\n",
    "     }\\hat{a}^\\dagger_\\alpha\\hat{a}^\\dagger_\\beta\\hat{a}_\\delta\\hat{a}_\\gamma\n",
    "- \\hat{T}_\\text{CoM}\n",
    ":::\n",
    "is identical to {eq}`hamiltonian-2q` except for an additional two-body Coulomb interaction (usually ignored in the HFB procedure){cite:ps}`anguiano_coulomb_2001`, and the removal of the centre-of-mass energy via the operator {math}`\\hat{T}_\\text{CoM}`. A range of effective nuclear potentials have been used for {math}`\\hat{V}_\\text{nuc}` including the Volkov, Gogny, or Skyme forces; whilst the Coulomb force is often approximated by a sum of (seven) Gaussians.{cite}`kanada-enyo_antisymmetrized_2012`"
   ]
  },
  {
   "cell_type": "markdown",
   "id": "cb4d187a-4535-4c4d-aaba-22bca9439c4d",
   "metadata": {
    "tags": [],
    "user_expressions": []
   },
   "source": [
    ":::{note}\n",
    "In simpler terms, a sum of two Slater determinants is not itself guaranteed to be a Slater determinant, though it is antisymmetric. Therefore the set of anti-symmetric states is larger than the set of Slater determinants. The inability to represent a state as a Slater is equivalent to the statement that the individual nucleons are not behaving as independent particles.\n",
    ":::\n",
    "The single Slater-determinant representation ensures that the solution to the many-body problem is restricted to a subset of the anti-symmetric Hilbert space, i.e. that given by the mean-field approximation of independent nucleons in single-particle eigenstates moving in an external potential. Complex correlational phenomena, corresponding to configuration mixing, requires a linear superposition of Slater determinants. This can, in part, be introduced through projections onto angular momentum and parity eigenstates that are required by conservation laws governing parity and angular momentum of the system:{cite:ps}`rampho_antisymmetrized_2012`\n",
    ":::{math}\n",
    ":label: parity-angular-projections\n",
    "\\ket{ \\phi_{ \\mathrm { AMD } } ^ { \\pm } } &\\equiv P ^ { \\pm } \\ket{ \\phi _ { \\mathrm { AMD } } ( \\mathcal{Z} ) } = \\frac { 1 \\pm \\hat { P } _ { r } } { 2 } \\ket{ \\phi _ { \\mathrm { AMD } } ( \\mathcal{Z} ) }\n",
    "\n",
    "\\ket{ \\phi _ { M K } ^ { J } } &\\equiv P _ { M K } ^ { J } \\ket{ \\phi _ { \\mathrm { AMD } } ( \\mathcal{Z} ) } = \\int d \\Omega D _ { M K } ^ { J * } ( \\Omega ) \\hat { R } ( \\Omega ) \\ket{ \\phi _ { \\mathrm { AMD } } ( \\mathcal{Z} ) }\n",
    "\\,,\n",
    ":::\n",
    "where {math}`D _ { M K } ^ { J } ( \\Omega )` is the Wigner's {math}`D` function, and {math}`\\hat{R}(\\Omega)` is a rotation operator for some Euler angle {math}` \\Omega `.{cite:ps}`kanada-enyo_antisymmetrized_2012` \n",
    "These projections restore the known symmetries of the Hamiltonian (parity, angular momentum), which are typically lost after minimisation.{cite:ps}`neff_nuclear_2008` \n",
    "\n",
    "In both cases, a superposition of at least two states is introduced. However, for proper treatment of many-body correlations, a larger portion of the many-body space is required than the small, restricted subset mapped onto by singular parity and angular-momentum projections. \n",
    "restore the known symmetries of the Hamiltonian\n",
    "% HOW does this differ to HF? HF w.f. are intrisically not localised to particles like AMD"
   ]
  },
  {
   "cell_type": "markdown",
   "id": "073b144b-b562-425d-83ef-80f8ce759f78",
   "metadata": {
    "tags": [],
    "user_expressions": []
   },
   "source": [
    "### Excited States\n",
    "\n",
    "In the HF approximation, a set of low-lying excited states can be constructed from 1p1h excitations of the ground state {math}`\\ket{HF}`. This approximation is built upon the assumption that these excited states do not significantly deform the mean field. In the extreme case of the correlational structures that emerge in excited states near the cluster-decay threshold, this assumption is unfounded. In some cases, the HF method can be applied subject to a deformation constraint, which can restore the self-consistency of the mean-field \n",
    "\n",
    "% excitations use GCM"
   ]
  },
  {
   "cell_type": "markdown",
   "id": "c8c622e0-1281-4aa7-b006-ba3469eb7492",
   "metadata": {
    "user_expressions": []
   },
   "source": [
    ":::{admonition} To Do\n",
    "\n",
    "- [ ] Compare to FMD\n",
    "- [ ] Clarify that AMD is variational vs time independent.\n",
    "- [ ] What is ADM hamiltonian?\n",
    "- [ ] Beyond MF -> superposition -> GCM\n",
    ":::"
   ]
  },
  {
   "cell_type": "code",
   "execution_count": null,
   "id": "e2d0f7e0-206f-431d-a04f-72b8f8cdd305",
   "metadata": {},
   "outputs": [],
   "source": []
  },
  {
   "cell_type": "markdown",
   "id": "f9502b8a-d3fe-4922-ba00-6e23c0a5443d",
   "metadata": {
    "user_expressions": []
   },
   "source": [
    "NCSM?\n",
    "\n",
    "Ask tzany about even-even: is it spin orbit coupling of same-spin in time reversed. Send to Tzany. Make note of Qs. \n",
    "\n",
    "Ask claire about graduation about Dec grad date. Let Tzany know. One month for external. Deadline for Dec is Nov. Thesis submission."
   ]
  },
  {
   "cell_type": "markdown",
   "id": "0d66846d-b22a-4084-94f3-e89a2f567119",
   "metadata": {
    "tags": [],
    "user_expressions": []
   },
   "source": [
    "### {math}`\\pi` bonds & {math}`\\sigma` bonds"
   ]
  },
  {
   "cell_type": "markdown",
   "id": "9520a14f-6784-48f3-b330-8dfb852d88df",
   "metadata": {
    "tags": [],
    "user_expressions": []
   },
   "source": [
    ":::{math}\n",
    "i \\hbar \\sum_{j \\rho} C_{i \\sigma, j \\rho} \\frac{d Z_{j \\rho}}{d t}=(\\lambda+i \\mu) \\frac{\\partial \\mathcal{H}}{\\partial Z_{i \\sigma}^*} \\text {. }\n",
    ":::"
   ]
  },
  {
   "cell_type": "code",
   "execution_count": null,
   "id": "b56112ad-14f0-445f-8d57-17bba628e3f1",
   "metadata": {},
   "outputs": [],
   "source": []
  },
  {
   "cell_type": "markdown",
   "id": "072c3888-44f0-45c8-914e-1825b547f249",
   "metadata": {
    "tags": [],
    "user_expressions": []
   },
   "source": [
    "Enyo\n",
    "> even if a nucleus has a shell-model-like structure in its ground state, devel-\n",
    "oped cluster structures appear in excited states near the corresponding cluster-decay\n",
    "threshold energy"
   ]
  },
  {
   "cell_type": "markdown",
   "id": "a19aa0ad-08a3-4c5e-9429-71037a09e72a",
   "metadata": {
    "user_expressions": []
   },
   "source": [
    "## Rigid Rotor (rotational bands)\n",
    "## Nuclear Molecules"
   ]
  },
  {
   "cell_type": "markdown",
   "id": "056ae453-215e-4cc8-98d8-20dbc39c7566",
   "metadata": {
    "user_expressions": []
   },
   "source": [
    "## Nilsson Stutinsky"
   ]
  },
  {
   "cell_type": "code",
   "execution_count": null,
   "id": "15987189-9be7-453c-aa2c-d7b1d8749ce5",
   "metadata": {},
   "outputs": [],
   "source": []
  }
 ],
 "metadata": {
  "kernelspec": {
   "display_name": "Python 3 (ipykernel)",
   "language": "python",
   "name": "python3"
  },
  "language_info": {
   "codemirror_mode": {
    "name": "ipython",
    "version": 3
   },
   "file_extension": ".py",
   "mimetype": "text/x-python",
   "name": "python",
   "nbconvert_exporter": "python",
   "pygments_lexer": "ipython3",
   "version": "3.10.5"
  },
  "widgets": {
   "application/vnd.jupyter.widget-state+json": {
    "state": {},
    "version_major": 2,
    "version_minor": 0
   }
  }
 },
 "nbformat": 4,
 "nbformat_minor": 5
}
