{
 "cells": [
  {
   "cell_type": "markdown",
   "id": "a6982102-4246-49ae-b06e-e29576170c92",
   "metadata": {
    "user_expressions": []
   },
   "source": [
    "# Nuclear Models\n",
    "\n",
    "\n",
    "## Rigid Rotor (rotational bands)\n",
    "## Nuclear Molecules\n",
    "## AMD\n",
    "## Nilsson Stutinsky"
   ]
  },
  {
   "cell_type": "code",
   "execution_count": null,
   "id": "c9d6b73f-5686-4c47-be2a-276c6143957f",
   "metadata": {},
   "outputs": [],
   "source": []
  }
 ],
 "metadata": {
  "kernelspec": {
   "display_name": "Python 3 (ipykernel)",
   "language": "python",
   "name": "python3"
  },
  "language_info": {
   "codemirror_mode": {
    "name": "ipython",
    "version": 3
   },
   "file_extension": ".py",
   "mimetype": "text/x-python",
   "name": "python",
   "nbconvert_exporter": "python",
   "pygments_lexer": "ipython3",
   "version": "3.10.5"
  },
  "widgets": {
   "application/vnd.jupyter.widget-state+json": {
    "state": {},
    "version_major": 2,
    "version_minor": 0
   }
  }
 },
 "nbformat": 4,
 "nbformat_minor": 5
}
