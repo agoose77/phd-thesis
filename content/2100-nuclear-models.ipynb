{
 "cells": [
  {
   "cell_type": "markdown",
   "id": "0ec51114-f100-4101-a5c4-75e14ed753b2",
   "metadata": {
    "user_expressions": []
   },
   "source": [
    "# Nuclear Models\n",
    "\n",
    "Understanding the structure of the nucleus can be done in a variety of ways\n",
    "\n",
    "Microscopic models\n",
    ": emergent phenomena from single-nucleon treatment of nucleus\n",
    "\n",
    "Macroscopic models\n",
    ": collective description of nucleus leads to predictions of macroscopic phenomena"
   ]
  },
  {
   "cell_type": "markdown",
   "id": "7aa2d370-731a-44fa-9855-e2e0a04beb94",
   "metadata": {
    "user_expressions": []
   },
   "source": [
    "## Macroscopic Models\n",
    "\n",
    "(liquid-drop-model)=\n",
    "### Liquid Drop Model\n",
    "First described in 1935, the Semi Empirical Mass Formula (SEMF) is an approximation for the ground-state binding energy of a nucleus according to its proton and neutron numbers.{cite:ps}`weizsacker_zur_1935` Inspired by the liquid drop model, which considers the nucleus as a drop of incompressible fluid, it comprises of several theoretically-motivated terms:\n",
    "\n",
    ":::{math}\n",
    ":label: semi-empirical-mass-formula\n",
    "\n",
    "E_B = \\underbrace{a_VA}_{\\text{volume}} - \\underbrace{a_SA^{\\frac{2}{3}}}_{\\text{surface}} - \\underbrace{a_C\\frac{Z(Z-1)}{A^{\\frac{1}{3}}}}_{\\text{coulomb}} - \\underbrace{a_A\\frac{(N-Z)^2}{A}}_{\\text{asymmetry}} + \\underbrace{\\delta(N, Z)}_{\\text{pairing}}\n",
    ":::\n",
    "\n",
    "Volume energy\n",
    ": The attractive-repulsive potential of the strong force. The short effective range of the strong interaction means that it is effectively constrained to a constant number of neighbours.\n",
    "\n",
    "Surface energy\n",
    ": A corrective term to account for nucleons at the surface of the nucleus, which have fewer neighbours than those at the centre of the drop.\n",
    "\n",
    "Coulomb energy\n",
    ": Coulombic repulsion between positively charged protons reduces the binding energy.\n",
    "\n",
    "Asymmetry energy\n",
    ": Given the Paul exclusion principle, nuclei of {math}`N = Z` should have higher binding energies than those for which {math}`N \\neq Z`. \n",
    "\n",
    "Pairing energy\n",
    ": Identical nucleons with anti-aligned spins in the same spatial state have maximal wavefunction overlap, and correspondingly an enhanced binding energy.\n",
    "\n",
    "It will be useful to discuss some of the features of this model in subsequent sections. For now, it suffices to say that the liquid-drop model (or semi-empirical mass formula) produces a reasonable prediction of the binding energy of a wide range of nuclei, particularly for heavier nuclei."
   ]
  },
  {
   "cell_type": "markdown",
   "id": "74410e5c-a86f-4ae6-8492-cd067a43a90a",
   "metadata": {
    "user_expressions": []
   },
   "source": [
    "### Rigid Rotor (rotational bands)"
   ]
  },
  {
   "cell_type": "markdown",
   "id": "8ce693e4-fb3b-4dd5-85fc-d2c6bc47f26c",
   "metadata": {
    "tags": [],
    "user_expressions": []
   },
   "source": [
    "## Microscopic Models\n",
    "% Reference: TIME EVOLUTION IN QUANTUM DOTS, Sigve Bøe Skattum"
   ]
  },
  {
   "cell_type": "markdown",
   "id": "21ba3fe0-83fa-4863-ba9f-bd8014fcf7e8",
   "metadata": {
    "user_expressions": []
   },
   "source": [
    "### Many Body Systems"
   ]
  },
  {
   "cell_type": "markdown",
   "id": "25b5cf6f-7ce6-482e-9656-ed3f73bd83f4",
   "metadata": {
    "tags": [],
    "user_expressions": []
   },
   "source": [
    "For a system of {math}`N` indistinguishable particles, the canonical many-particle basis is given by the direct-product of the single-particle states:\n",
    ":::{math}\n",
    "\\ket{\\lambda_1 \\lambda_2 \\dots \\lambda_N}_{\\text{C}} &= \\ket{\\lambda_1} \\otimes \\ket{\\lambda_2} \\otimes \\dots \\otimes \\ket{\\lambda_N}\n",
    "\n",
    "                        &= \\ket{\\lambda_1}\\ket{\\lambda_2}\\dots\\ket{\\lambda_N}\\,.\n",
    ":::\n",
    "However, an arbitrary state in this basis is not guaranteed to satisfy the anti-symmetry requirements of a fermionic system such as the nucleus (under isospin symmetry). These anti-symmetric states are given by _permutations_ of the canonical basis vectors (via the anti-symmetrisation operator {math}`\\hat{\\mathcal{A}}`)\n",
    ":::{math}\n",
    "\\ket{\\lambda_1 \\lambda_2 \\dots \\lambda_N}_{\\text{AS}} \n",
    "&= \\hat{\\mathcal{A}}\\Bqty{\\ket{\\lambda_1} \\otimes \\ket{\\lambda_2} \\otimes \\dots \\otimes \\ket{\\lambda_N}}\n",
    "\n",
    "&= \\frac{1}{N !} \\sum_{P \\in S_{N}}(-1)^{\\pi} \\hat{P}\\pqty{\\ket{\\lambda_1}\\otimes\\ket{\\lambda_2} \\otimes \\dots \\otimes \\ket{\\lambda_N}} \\,.\n",
    ":::"
   ]
  },
  {
   "cell_type": "markdown",
   "id": "dc31f98a-246a-4d62-b1cd-9157c6e6b796",
   "metadata": {
    "user_expressions": []
   },
   "source": [
    "It is usually more convenient to explore nuclear theory in terms of the language of second quantisation, which intrinsically embodies the anti-symmetrisation requirement through the creation and annihilation operators.{cite:ps}`eisenberg_microscopic_1976` Subsequently, states are most naturally described using occupation number representation\n",
    ":::{math}\n",
    "\\ket{n_1 n_2 \\dots}_{\\text{OR}}\\,,\n",
    ":::\n",
    "where {math}`n_1` indicates the number of particles in the single-particle state {math}`1`."
   ]
  },
  {
   "cell_type": "markdown",
   "id": "fdc6bdd7-34f3-421e-8d2b-839d3c50ba8d",
   "metadata": {
    "tags": [],
    "user_expressions": []
   },
   "source": [
    "The Hamiltonian of a quantum system is the operator {math}`\\hat{H}`, conventionally given as the sum of kinetic and potential energy operators\n",
    ":::{math}\n",
    ":label: hamiltonian\n",
    "\\hat{H} = \\hat{T} + \\hat{V}\\,,\n",
    ":::\n",
    "whose eigenvalues correspond to the set of measurable energies. Considering up-to two-body interactions, we can write {eq}`hamiltonian` in second quantization form as\n",
    "\n",
    ":::{math}\n",
    ":label: hamiltonian-2q\n",
    "\n",
    "\\hat{H} = \n",
    "\\sum_{\\alpha\\beta}T_{\\alpha \\beta}\\underbrace{\\hat{a}^\\dagger_\\alpha\\hat{a}_\\beta}_\\text{one-body} + \n",
    "\\frac{1}{2}\\sum_{\\alpha\\beta\\gamma\\delta}V_{\\alpha\\beta\\gamma\\delta}\\underbrace{\\hat{a}^\\dagger_\\alpha\\hat{a}^\\dagger_\\beta\\hat{a}_\\delta\\hat{a}_\\gamma}_\\text{two-body}\\,,\n",
    ":::\n",
    "where {math}`\\hat{T}` is the kinetic energy operator and {math}`\\hat{V}` is the two-body inter-nucleon interaction.[^representation]\n",
    "\n",
    ":::{note}\n",
    ":class: margin\n",
    "\n",
    "See {cite:ps}`constantinou_natural_2017` for a discussion of alternate representations of \n",
    "{math}`\\frac{1}{2}\\sum_{\\alpha\\beta\\gamma\\delta}V_{\\alpha\\beta\\gamma\\delta}{\\hat{a}^\\dagger_\\alpha\\hat{a}^\\dagger_\\beta\\hat{a}_\\delta\\hat{a}_\\gamma}`, e.g. \n",
    "{math}`\\frac{1}{4}\\sum_{\\alpha\\beta\\gamma\\delta}\\overline{V}_{\\alpha\\beta\\gamma\\delta}{\\hat{a}^\\dagger_\\alpha\\hat{a}^\\dagger_\\beta\\hat{a}_\\delta\\hat{a}_\\gamma}`\n",
    ":::"
   ]
  },
  {
   "cell_type": "markdown",
   "id": "33e833ab-477d-494e-9a34-330925b3dce1",
   "metadata": {
    "tags": [],
    "user_expressions": []
   },
   "source": [
    "### Mean Field Theory\n",
    "{eq}`hamiltonian-2q` could be recast in terms of an artificial single-particle potential {math}`\\hat{U}`\n",
    "\n",
    ":::{math}\n",
    ":label: hamiltonian-2q-mean-field\n",
    "\n",
    "\\hat{H} &= \n",
    "\\underbrace{\\sum_{\\alpha\\beta}\\pqty{T_{\\alpha \\beta} + U_{\\alpha\\beta}}\\hat{a}^\\dagger_\\alpha\\hat{a}_\\beta}_\\text{single particle Hamiltonian} + \n",
    "\\underbrace{\n",
    "    \\frac{1}{2}\n",
    "    \\sum_{\\alpha\\beta\\gamma\\delta}\n",
    "        V_{\\alpha\\beta\\gamma\\delta} \n",
    "            \\hat{a}^\\dagger_\\alpha\\hat{a}^\\dagger_\\beta\\hat{a}_\\delta\\hat{a}_\\gamma - \n",
    "    \\sum_{\\alpha\\beta}\n",
    "        U_{\\alpha\\beta}\n",
    "            \\hat{a}^\\dagger_\\alpha\\hat{a}_\\beta\n",
    "}_\\text{residual interaction}\\,,\n",
    "\n",
    "        &= \\hat{H}^{[1]} + \\hat{V'}\\,,\n",
    ":::\n",
    "where {math}`\\hat{H}^{[1]}` is the single-particle Hamiltonian, and {math}`\\hat{V'}` is a _residual_ interaction between nucleons. In the event that this residual interaction is small, it can be treated as a perturbation of the single-particle Hamiltonian. Under this simplification, the problem of solving the many-body Schrodinger equation is reduced to that of solving the single-particle Schrödinger equation for an external potential\n",
    "\n",
    ":::{math}\n",
    ":label: mean-field-single-particle-hamiltonian\n",
    "\\hat{H}^{[1]}\\ket{\\phi_k} = E_k\\ket{\\phi_k}\\,.\n",
    ":::\n",
    "\n",
    ":::{note}\n",
    ":class: margin\n",
    "Some authors use the term \"quasiparticles\", which conflicts with the same term used to describe Bogoliubov quasiparticles in HFB pairing correlation theory. In any case, \"particles\" distinguishes between bare nucleons and those which are \"dressed\" by the interaction that has already been accounted for by the mean field.{cite:ps}`zelevinsky_physics_2017`\n",
    ":::\n",
    "\n",
    "Hence, the introduction of a particular single-particle potential transforms the problem from a strongly interacting system of nucleons to a weakly interacting system of particles.{cite:ps}`suhonen_nucleons_2007` The residual interaction {math}`\\hat{V'}`, whose matrix elements are much reduced in amplitude with respect to the bare two-nucleon potential, is responsible for configuration mixing between single-particle states, i.e. correlating otherwise independent nucleons.{cite:ps}`rowe_fundamentals_2010`"
   ]
  },
  {
   "cell_type": "markdown",
   "id": "4f615ffa-29ca-4263-94ed-595213250ee7",
   "metadata": {
    "user_expressions": []
   },
   "source": [
    "In the context of the nucleus, the existence of a single-particle potential corresponds to a _mean-field_, whose origin is the motion of the nucleons themselves. The physical justification for introducing a _mean-field_ potential {math}`\\hat{U}` depends upon whether one-body behavior or two-body collisions dominate within the nucleus, i.e. whether the nucleon mean-free path is much greater than, or lesser than the nuclear size.{cite:ps}`negele_mean-field_1982` Despite the strong short-range repulsive nature of the strong nuclear force, through Pauli blocking of states close to the Fermi surface it can be shown that nucleons behave to first approximation as independent particles (IPM).{cite:ps}`fetter_quantum_1972`\n",
    "\n",
    "In occupation representation, a general state {math}`\\ket{\\phi}` is written as\n",
    ":::{math}\n",
    ":label: general-wavefunction\n",
    "\\ket{\\phi} = \\sum_{i_1i_2\\dots i_N}c_{i_1i_2\\dots i_N}\\hat{a}^\\dagger_{i_1}\\hat{a}^\\dagger_{i_2}\\dots \\hat{a}^\\dagger_{i_N}\\ket{0}\\,,\n",
    ":::\n",
    "where {math}`\\ket{0}` is the vacuum state, and the number of combinations of {math}`i_1i_2\\dots i_N` is given by {math}`{N_c \\choose N}`. Clearly, despite the introduction of a single-particle approximation (imposed by the supposition of a mean-field), {eq}`mean-field-single-particle-hamiltonian` remains an intractable problem unless a simplification is used reduce the size of the model space. There are two predominant mechanisms for proceeding: \n",
    "- Restrict the number of active particles and states (constrain {math}`N_c` and {math}`N`)\n",
    "- Choose a restricted many-particle form (constrain {math}`\\ket{\\phi}`).{cite:ps}`rowe_fundamentals_2010`\n",
    "\n",
    "The former approach underpins the shell model, whilst the latter describes the high-level procedure of the Hartree-Fock Approximation.\n",
    "\n",
    "% TODO HF still useful for SM to give a good basis?"
   ]
  },
  {
   "cell_type": "markdown",
   "id": "f2e12ea5-fe78-418d-b8d4-dcc3040b729a",
   "metadata": {
    "tags": [],
    "user_expressions": []
   },
   "source": [
    "### Hartree Fock\n",
    "\n",
    "The question that follows {eq}`hamiltonian-2q-mean-field` is that of how to determine {math}`\\hat{U}` such that {math}`\\hat{V}'` is minimised. A natural candidate would be one of the phenomenological potentials, such as the Woods-Saxon model, or an analytical potential such as the Harmonic Oscillator. However, these are ultimately simplifications of the nuclear potential. A proper treatment of the mean field must produce a _self-consistent_ solution in which the field generated by the motion of the nucleons agrees with that used to derive the wavefunction of the system.{cite:ps}`zelevinsky_physics_2017` One such treatment is the Hartree-Fock (HF) approximation method. \n",
    "\n",
    "Though a detailed discussion of HF will not be performed here, it suffices to establish the assumptions and conclusions of the method. In order to restrict the model space of the many-particle problem to a tractable subset, the HF method assumes that the ground state of the system is described by a single Slater-determinant of single-particle eigenfunctions. Therefore, instead of {eq}`general-wavefunction`, we have\n",
    ":::{math}\n",
    "\\ket{\\text{HF}} = \\hat{a}^\\dagger_{i_1}\\hat{a}^\\dagger_{i_2}\\dots \\hat{a}^\\dagger_{i_N}\\ket{0}\\,.\n",
    ":::\n",
    "This assumption is most appropriate for doubly-closed nuclei, where there is a large energy gap between the first unfilled single-particle level and the ground state {math}`\\ket{\\text{HF}}` such that the gound state is reasonably stable.{cite:ps}`ring_nuclear_2004`{cite:ps}`rowe_nuclear_2010`\n",
    ":::{note}\n",
    ":class: margin\n",
    "Details on the HF method are given in {cite:ps}`ring_nuclear_2004`. Historically calculations have been performed using a suitable, complete basis e.g. the Harmonic Oscillator basis, [truncated to a required accuracy](https://web.ornl.gov/~kentpr/thesis/pkthnode13.html#SECTION00730100000000000000). In recent times, discretised finite-element calculations have been used in atomic physics to directly compute the solution.\n",
    ":::"
   ]
  },
  {
   "cell_type": "markdown",
   "id": "89587939-877a-4cd5-a58c-09e415a422df",
   "metadata": {
    "tags": [],
    "user_expressions": []
   },
   "source": [
    "#### Variational Principle\n",
    "\n",
    "The mean field is ultimately derived through the variational principle, which seeks to determine {math}`\\ket{\\phi}` such that {math}`\\hat{H}^{[1]}` is minimised with respect to small admixtures of Slater determinants:\n",
    ":::{math}\n",
    ":label: variational-principle\n",
    "\\delta\\pqty{\\expval{\\hat{H}}{\\phi} -E\\braket{\\phi}} = \\matrixel{\\delta\\psi}{\\hat{H}}{\\psi} - E\\braket{\\delta\\psi}{\\psi} = 0\\,,\n",
    ":::\n",
    "where {math}`\\ket{\\delta\\psi} = \\varepsilon \\hat{a}^\\dagger_k\\hat{a}_j\\ket{\\psi}` for some arbitrary {math}`\\varepsilon`, and {math}`k>N,j\\leq N`.{cite:ps}`rowe_fundamentals_2010`{cite:ps}`greiner_nuclear_1996` If the {math}`N`-lowest energy single-particle eigenfunctions are taken as the HF ground-state, then these admixtures correspond to single \"particle-hole\" (1p1h) excitations of the closed \"core\" that lies below the sharp Fermi surface (see {numref}`sharp-fermi-surface`).\n",
    ":::{note}\n",
    ":class: margin\n",
    "\n",
    "The single-particle eigenfunctions form a complete basis (subject to truncation), which facilitates the introduction of excited states above the ground state. \n",
    ":::\n",
    "\n",
    ":::{figure} image/placeholder/sharp-fermi-surface.png\n",
    ":width: 384px\n",
    ":name: sharp-fermi-surface\n",
    "\n",
    "Labelling of particle and hole states relative to a sharp Fermi surface, that follows from the restricted Slater determinant form of the HF ground state {math}`\\ket{\\text{HF}}`. Figure taken from {cite:ps}`rowe_nuclear_2010`.\n",
    ":::\n",
    "\n",
    "The process of determining the eigenstates of {math}`\\hat{H}^{[1]}` is given by the following recurrence relation:{cite:ps}`rowe_nuclear_2010`\n",
    ":::{math}\n",
    "\\left\\{\\ket{\\text{HF}_\\pqty{0}}\\right\\} \\rightarrow \\hat{U}^\\pqty{0} \\rightarrow \\left\\{\\ket{\\text{HF}_\\pqty{1}}\\right\\} \\rightarrow \\hat{U}^\\pqty{1} \\rightarrow \\dots\n",
    ":::"
   ]
  },
  {
   "cell_type": "markdown",
   "id": "29caa811-ca50-44f9-b424-3a5bc455a634",
   "metadata": {
    "tags": [],
    "user_expressions": []
   },
   "source": [
    ":::{note}\n",
    ":class: margin\n",
    "The anti-symmetrised form {math}`\\overline{V}_{\\alpha\\gamma\\beta\\gamma}` follows from the variational equation.{cite:ps}`greiner_nuclear_1996` \n",
    "\n",
    "A challenge with the direct application of the HF method is the infinite matrix elements {math}`\\overline{V}_{\\alpha\\gamma\\beta\\gamma}` that follow from the hard-core nature of the bare nucleon-nucleon potential. Extensions to Hartree-Fock, like Brückner-Hartree-Fock (BHF), replace this bare potential with an effective potential e.g. the Brückner {math}`G`-Matrix.{cite:ps}`ring_nuclear_2004`\n",
    "\n",
    "% TODO - G matrix vs effective forces in other textbooks like Wong?\n",
    ":::\n",
    "It can ultimately be shown that the HF Hamiltonian is\n",
    ":::{math}\n",
    "\\hat{H} = \n",
    "\\sum_{\\alpha\\beta}\\pqty{T_{\\alpha \\beta} + \\sum_{\\gamma}\\overline{V}_{\\alpha\\gamma\\beta\\gamma}}\\hat{a}^\\dagger_\\alpha\\hat{a}_\\beta\\,,\n",
    ":::\n",
    "where {math}`\\hat{\\overline{V}}` is the anti-symmetrised interaction potential. This implies that the mean field {math}`\\hat{U}` from {eq}`hamiltonian-2q-mean-field` is\n",
    ":::{math}\n",
    "\\hat{U} = \\sum_{\\alpha\\gamma\\beta}\\overline{V}_{\\alpha\\gamma\\beta\\gamma}\\hat{a}^\\dagger_\\alpha\\hat{a}_\\beta\\,,\n",
    ":::\n",
    "i.e. the averaged two-body contributions from the {math}`N-1` remaining nucleons.{cite:ps}`rowe_fundamentals_2010`{cite:ps}`greiner_nuclear_1996`\n",
    "Primitive excited states can then be constructed from one-particle/one-hole (1p1h) and two-particle/two-hole (2p2h) excitations of this ground state.{cite:ps}`rowe_nuclear_2010`\n",
    "\n",
    "% NB for those computing the HF ground state - the expectation value of the GS energy <φ|H|φ> is not the sum of the SP energies - this follows from the fact that the mean-field potential between two nucleons in a two-particle nucleus is the same, so including it for each nucleon leads to double counting. {cite:ps}`suhonen_nucleons_2007`"
   ]
  },
  {
   "cell_type": "markdown",
   "id": "cdfc1f36-46d9-454e-a497-b0f355ba207f",
   "metadata": {
    "user_expressions": []
   },
   "source": [
    "Whether the minimum found by the HF procedure is a true global minimum depends upon the initial configuration. If the initial configuration determined by the trial wave-functions lie close to a shape-isomeric state, it is quite possible for the numerical procedure to settle upon a configuration that is deformed from the ground state.{cite:ps}`greiner_nuclear_1996` The variational principle outlined in {eq}`variational-principle` can be extended to include a deformation constraint that restricts e.g. the quadrupole moment {math}`Q` of the nucleus (see {numref}`energy-vs-deformation`).\n",
    ":::{figure} image/placeholder/energy-vs-deformation.png\n",
    ":name: energy-vs-deformation\n",
    "\n",
    "Schematic diagram of the convergence of different HF trial wave-functions to local minima with distinct quadrupole moments {math}`Q` corresponding to a deformed isomer and subsequent fissioning of the nucleus. Figure taken from {cite:ps}`greiner_nuclear_1996`. \n",
    ":::\n",
    "\n",
    "%TODO: mention core polarization (greiner_nuclear_1996)"
   ]
  },
  {
   "cell_type": "markdown",
   "id": "68cebf12-4598-4791-bb66-46084e29eccd",
   "metadata": {
    "user_expressions": []
   },
   "source": [
    "#### Residual Interaction"
   ]
  },
  {
   "cell_type": "markdown",
   "id": "391044ce-08e6-4d54-a4c0-a0cc845e11c8",
   "metadata": {
    "tags": [],
    "user_expressions": []
   },
   "source": [
    "Whilst the HF approximation generates a set of self-consistent single-particle states, it does so by explicitly ignoring the residual interaction. The variational principle requires that the single-particle Hamiltonian matrix element satisfies {math}`\\mel{\\delta \\psi}{\\hat{H}}{\\psi} = 0`, where {math}`\\ket{\\delta \\psi} = \\sum_{mi}\\epsilon_{mi} \\hat{a}^\\dagger_m\\hat{a}_i\\ket{\\psi}`. This is equivalent to requiring that the Hamiltonian does not couple one-particle-hole excitations to the ground state (i.e., no residual interaction). A significant component of this interaction is the short-range pairing correlation discussed in {ref}`liquid-drop-model`, that couples like-pairs of nucleons to states of zero angular momentum.{cite:ps}`rowe_fundamentals_2010` This is most evident in nuclei with pairs of protons or neutrons outside of doubly-closed shells.{cite:ps}`rowe_fundamentals_2010`[^ignore-pairing] \n",
    "% NOTE: why isn't pairing taken into account for HF mean field? Can it be seen in the second quantisation form of the HFB /BCS operator vs the mean-field term?\n",
    "% NOTE: Even for deformed nuclei, where there is no longer degeneracy of different j projections, Kramer's theorem holds that there exists a time-reversed analogue state.{cite:ps}`Wigner1932` {cite:ps}`rowe_fundamentals_2010` %p530\n",
    "\n",
    "Extensions to the Hartree-Fock method have been developed to consider the pairing interaction: \n",
    "- the Bardeen-Cooper-Schrieffer (BCS) model introduces a generalised pair creation operator for even-even nuclei of the form {math}`A^{+}=\\sum_{k>0} \\frac{v_k}{u_k} a_k^{+} a_k^{+}` to build the BCS ansatz: {math}`\\mathrm{BCS}\\rangle \\propto \\exp \\left(A^{+}\\right)|-\\rangle=\\sum_{r=0}^{\\infty} \\frac{1}{n !}\\left(A^{+}\\right)^r|-\\rangle`. The resulting Hamiltonian is constrained to conserve particle number {math}`N`. Unlike the base HF method, the BCS model is not self-consistent; the pairing field does not change the single-particle wavefunctions,{cite:ps}`zelevinsky_physics_2017` which are generated using traditional Hartree-Fock.{cite:ps}`anguiano_study_2014`\n",
    "- the Hartree-Fock-Bogoliubov (HFB) model generalises HF theory to incorporate the quasi-particle concepts of the BCS model. Importantly, it replaces the single particle-pair operators with generalised Bogoliubov quasi-particle operators of the form {math}`\\sum_\\mu \\hat{a}_\\mu^\\dagger u_{\\mu\\nu} + \\hat{a}_\\mu v_{\\mu\\nu}`.{cite:ps}`rowe_fundamentals_2010`"
   ]
  },
  {
   "cell_type": "markdown",
   "id": "444f2eba-3ea9-4305-8a79-13b3a659ecf5",
   "metadata": {
    "tags": [],
    "user_expressions": []
   },
   "source": [
    "#### Excited States\n",
    "Meanwhile, _excited_ states are primarily modelled in the HF approximation as 1p1h excitations. Experimentally, however, it is clear that for many nuclei these single 1p1h excitations are themselves insufficient to describe low-lying excited states. An example is {math}`{}^{16}\\text{O}`, for which the lowest energy excitations predicted by the harmonic oscillator approximation should be seen at around 11.5 MeV (the difference between the 1p and 2s-1d shells). The spectrum of {math}`{}^{16}\\text{O}`, however, has a {math}`J^\\pi = 3^-` state at 6.13 MeV, indicating additional _coherent_ excitation mechanisms.{cite:ps}`ring_nuclear_2004` The observation of these excitation modes directly underpins the use of collective models to describe the nucleus. These collective models usually ignore the single-particle degrees of freedom in favour of collective vibrational or rotational modes.\n",
    "\n",
    "[^ignore-pairing]: Experimentally, it is found that the ground state of spherical nuclei is not degenerate with respect to angular momentum as would be expected for a purely single-particle model. It follows that the residual interaction lowers the zero angular momentum state with respect to the other configurations.{cite:ps}`greiner_nuclear_1996`"
   ]
  },
  {
   "cell_type": "markdown",
   "id": "f280a5bd-388a-4817-b22c-8d5302e8411d",
   "metadata": {
    "tags": [],
    "user_expressions": []
   },
   "source": [
    "In addition to collective models, there are microscopic treatments of collective excitations. The most fundamental of these is the Tamm-Dancoff Approximation (TDA), which treats excited states of the nucleus as a superposition of 1p1h excitations of the ground state, introduced by a creation operator:{cite:ps}`greiner_nuclear_1996`\n",
    ":::{math}\n",
    "\\hat{Q}^\\dagger_\\nu = \n",
    "\\sum_{mi}\n",
    "    c_{mi}^\\nu\\hat{a}_m^\\dagger\\hat{a}_i\n",
    "\\,,\n",
    ":::\n",
    "and a correlational potential that acts in the excited particle-hole space. It can be shown that such an ansatz admits collective behaviour through a _coherent_ excitation of single particles.{cite:ps}`greiner_nuclear_1996` Typically these solutions are  obtained in a restricted model space comprising of several levels above and below the Fermi level.{cite:ps}`ring_nuclear_2004` \n",
    "% NOTE - the TDA introduces the residual interaction into the 1p1h excited space- NOT the GS, so there won't be any 1p1h admixtures in the GS. \n",
    "A limitation of the TDA, besides treating only 1p1h excitations, is the use of the unmodified HF ground state; the TDA assumption is that only excited states may have particle-hole excitations above the ground state.{cite:ps}`fetter_quantum_1972` The Random-Phase Approximation (RPA) extends the particle-hole creation operator to \n",
    ":::{math}\n",
    "\\hat{Q}^\\dagger_\\nu = \n",
    "\\sum_{mi}\n",
    "    x_{mi}^\\nu\\hat{a}_m^\\dagger\\hat{a}_i +\n",
    "    y_{mi}^\\nu\\hat{a}_i^\\dagger\\hat{a}_m\n",
    "\\,,\n",
    ":::\n",
    "where {math}`\\left\\{y_{mi}\\right\\}` account for the account for the correlations in the _ground_ state.\n",
    "\n",
    "% Coherent means same energy here I believe.\n",
    "% TODO: what are the subscripts on these operators - \\overline{\\nu} is the time reversed state of \\nu, but where did we introduce this? FONM does in p.517?"
   ]
  },
  {
   "cell_type": "markdown",
   "id": "eeec5845-b633-489e-a9a1-1403033249d9",
   "metadata": {
    "user_expressions": []
   },
   "source": [
    "### Shell Model\n",
    "\n",
    ":::{warning}\n",
    "\n",
    "Work in progress\n",
    ":::\n",
    "\n",
    "If the infinite Hilbert space were easily solvable for a many-body system, then this transformation would be at-best a distraction from the underlying physical significance of {eq}`hamiltonian-2q`. However, expansion of nuclear states in a kinetic energy basis equates to a slowly-converging Fourier transform. If {math}`\\hat{U}` is chosen such that the single-particle Hamiltonian eigenstates is stratified into a partially energy-ordered basis, and these states exhibit the bulk properties of corresponding physical states at low energy, then the expansion of nuclear states will be rapidly convergent.{cite:ps}`rowe_fundamentals_2010` This convergence lends itself to truncating the active space\n",
    "% https://arxiv.org/pdf/nucl-th/9306014.pdf about this process\n",
    "\n",
    "> For the ground state of a closed-shell nucleus, the shell model is\n",
    "simply a first approximation to HF theory. For nuclei with particles\n",
    "outside a closed shell, the conventional shell model is no longer an\n",
    "approximation to HF theory. Its method is to set up a basis of wave\n",
    "functions by putting the valence particles into the various unoccupied\n",
    "levels of the unperturbed closed-shell core. The two-body interaction\n",
    "is then introduced explicitly and diagonalized within this configur-\n",
    "ation space. By eliminating the core in this way, that is by taking it\n",
    "into account only via the exclusion principle and the potential well it\n",
    "generates, the shell model reduces the many-body problem to a few-\n",
    "body problem. For two or three valence particles this works very\n",
    "well. If it is generalized to include core excitations it is potentially\n",
    "exact, although in practice it is very much limited by the volume of\n",
    "configuration space that can be handled by a computer.\n",
    "\n",
    "{cite:ps}`rowe_nuclear_2010`\n",
    "\n",
    "> Thus, the primary use of the shell model is not so much to predict the properties of nuclei from first principles as to provide the language and concepts for the interpretation of observed phenomena, to gain understanding of the circumstances in which particular phenomena arise, and to extrapolate into other mass regions to see if the interpretations are consistent.\n",
    "\n",
    "{cite:ps}`rowe_fundamentals_2010`"
   ]
  },
  {
   "cell_type": "markdown",
   "id": "29f1b783-4592-4cd1-8dc8-da4f3219d345",
   "metadata": {
    "user_expressions": []
   },
   "source": [
    "#### Deformed Shell Model\n",
    "\n",
    "\n",
    ":::{warning}\n",
    "%P.248 Greiner\n",
    "Work in progress. See {cite:ps}`greiner_nuclear_1996` \n",
    ":::\n",
    "\n"
   ]
  },
  {
   "cell_type": "markdown",
   "id": "7522a26e-7751-4595-bf92-cb12393b0fcd",
   "metadata": {
    "tags": [],
    "user_expressions": []
   },
   "source": [
    "### Anti-symmetrised Molecular Dynamics\n",
    "\n",
    "Anti-symmetrised Molecular Dynamics (AMD) attempts to model the coexistence of cluster and mean-fields phenomena within the nucleus. Like the HF methods, AMD employs a basis of Slater determinants. Instead of single-particle eigenfunctions, however, AMD uses a basis of Gaussian wave packets:\n",
    ":::{math}\n",
    "\\ket{\\phi_\\text{AMD}(Z)} = \\hat{\\mathcal{A}}\\Bqty{\\ket{\\psi_1} \\otimes \\ket{\\psi_1} \\otimes \\dots \\otimes \\ket{\\psi_N}}\\,,\n",
    ":::\n",
    "where {math}`\\ket{\\psi_i}` is the direct product state of the spatial ({math}`\\phi`), intrinsic spin ({math}`\\chi`), and isospin ({math}`\\tau`) states of nucleus {math}`i`:\n",
    ":::{math}\n",
    "\\ket{\\psi_i} &= \\ket{\\phi_{\\vb{Z}_i}}\\otimes\\ket{\\chi_i}\\ket{\\tau_i}\n",
    "\n",
    "\\braket{\\phi_{\\vb{Z}_i}} &\\propto \\exp(-\\nu\\pqty{\\vb{r}_j - \\frac{\\vb{Z}_i}{\\sqrt{\\nu}}}^2)\n",
    "\n",
    "\\ket{\\chi_i} &= \\left(\\frac{1}{2}+\\xi_i\\right) \\ket{\\chi_{\\uparrow}}+\\left(\\frac{1}{2}-\\xi_i\\right) \\ket{\\chi_{\\downarrow}}\\,.\n",
    ":::"
   ]
  },
  {
   "cell_type": "markdown",
   "id": "9ce9d553-7e26-43f7-a992-92168c5041c4",
   "metadata": {
    "tags": [],
    "user_expressions": []
   },
   "source": [
    "It follows that an AMD many-body basis state can be represented by a set of variational parameters, {math}`\\mathcal{Z} = \\left\\{\\nu, \\vb{Z}_1,\\vb{Z}_2,\\dots,\\vb{Z}_N,\\xi_1,\\xi_2,\\dots\\xi_N\\right\\}`, where the width parameter {math}`\\nu` is optimised for a given system, and {math}`\\vb{z}_i = \\pmqty{\\vb{x} & \\vb{y} & \\vb{z} & \\sigma}` describes the centre, momenta, and width of each localised Gaussian.{cite:ps}`beck_clusters_2010` In the limit that the Gaussian centres converge upon a particular location, then the AMD wave-function becomes equivalent to the harmonic oscillator shell-model wave-function  (see {numref}`amd-like-shell-model`).{cite:ps}`kanada-enyo_antisymmetrized_2012` \n",
    "\n",
    ":::{figure} image/placeholder/amd-antisymmetrisation-shell-model.png\n",
    ":name: amd-like-shell-model\n",
    ":align: center\n",
    "\n",
    "Schematic representation of the eigenstates resulting from anti-symmetrisation of Gaussian wave-packets in the limit of {math}`\\frac{d}{\\sqrt{a}} \\rightarrow 0`, where {math}`d = 0.75 \\sqrt { a }` is the displacement between each wave-packet, and {math}`a` the real width parameter. Figure taken from {cite:ps}`feldmeier_fermionic_1997`.\n",
    ":::\n",
    "\n",
    "#### Energy minimisation\n",
    "\n",
    ":::{note}\n",
    ":class: margin\n",
    "\n",
    "At the surface level, the HF and AMD methods bare a striking resemblence. The fundamental difference between the two, besides the ansatz of a single-particle Gaussian representation (the basis of the AMD wavefunction), is the supposition of a mean-field. The HF equations are solved iteratively to determine the self-consistent solution. The single-particle eigenfunctions are typically expanded in a complete basis, e.g. harmonic oscillator eigenfunctions, or solved numerically. Meanwhile, the AMD method optimises _parameters_ for a fixed model (Gaussian wave-packets), following the gradient of the Hamiltonian. the \"variation\" in the time-independent HF method corresponds to single 1p1h excitation of the trial state, whereas for AMD, variation is introduced through the total derivative of the wavefunction.\n",
    ":::\n",
    "\n",
    "To determine the optimum values for {math}`\\mathcal{Z}`, the time-dependent variational principle (using the principle of least action){cite:ps}`kramer_time-dependent_1981` \n",
    ":::{math}\n",
    ":label: time-dependent-variational-principle\n",
    "\\delta\\matrixel{\\psi}{\\hat{H}-\\mathrm{i} \\hbar \\frac{\\partial}{\\partial t}}{\\psi}=0\n",
    ":::\n",
    "is used to derive the equations of motion of the system:{cite:ps}`feldmeier_fermionic_1997`\n",
    ":::{math}\n",
    ":label: amd-equation-of-motion\n",
    "i \\hbar \\dv{t} u_k = (\\lambda+i \\mu) \n",
    "    \\pdv{u_k^*}  \n",
    "        \\frac{\n",
    "            \\expval{\\hat{H}}{\n",
    "                \\phi^{\\pm}\n",
    "            }\n",
    "         }\n",
    "         {\n",
    "            \\ip{\\phi^{\\pm}}\n",
    "        }\\,,\n",
    ":::\n",
    "where the term {math}`(\\lambda+i \\mu)` is an _artificial_ viscous component designed to dissipate the energy of the system towards a minimum.{cite:ps}`wilets_classical_1977`"
   ]
  },
  {
   "cell_type": "markdown",
   "id": "7d38ef0a-74c6-4573-bfbd-51e712026728",
   "metadata": {
    "tags": [],
    "user_expressions": []
   },
   "source": [
    "{cite:ps}`horiuchi_neutron-rich_1995` In the language of second quantisation, the AMD Hamiltonian\n",
    ":::{math}\n",
    ":label: amd-hamiltonian\n",
    "\\hat{H} = \n",
    "\\sum_{\\alpha\\beta}T_{\\alpha \\beta}\\hat{a}^\\dagger_\\alpha\\hat{a}_\\beta + \n",
    "\\frac{1}{2}\n",
    "\\sum_{\\alpha\\beta\\gamma\\delta}\n",
    "    \\pqty{\n",
    "        V^{\\mathcal{N}}_{\\alpha\\beta\\gamma\\delta} +\n",
    "        V^{\\mathcal{C}}_{\\alpha\\beta\\gamma\\delta}\n",
    "     }\\hat{a}^\\dagger_\\alpha\\hat{a}^\\dagger_\\beta\\hat{a}_\\delta\\hat{a}_\\gamma\n",
    "- \\hat{T}_\\text{CoM}\n",
    ":::\n",
    "is identical to {eq}`hamiltonian-2q` except for an additional two-body Coulomb interaction (usually ignored in the HFB procedure){cite:ps}`anguiano_coulomb_2001`, and the removal of the centre-of-mass energy via the operator {math}`\\hat{T}_\\text{CoM}`. A range of effective nuclear potentials have been used for {math}`\\hat{V}_\\text{nuc}` including the Volkov, Gogny, or Skyme forces; whilst the Coulomb force is often approximated by a sum of (seven) Gaussians.{cite}`kanada-enyo_antisymmetrized_2012`"
   ]
  },
  {
   "cell_type": "markdown",
   "id": "9bfa2eff-9c21-4da0-9fd5-84d91fac7470",
   "metadata": {
    "user_expressions": []
   },
   "source": [
    "The expectation of this Hamiltonian is then minimised with respect to the wave-function parametrisation {math}`\\mathcal{Z}`\n",
    ":::{math}\n",
    " \\min _ { \\mathcal{Z} } \n",
    " \\frac { \n",
    "     \\expval{ \\widehat { H } - \\widehat { T } _ { \\mathrm { cm } }}{ \\phi _ { \\mathrm { AMD } } }\n",
    " } { \\ip{ \\phi _ { \\mathrm { AMD } } } } \n",
    ":::\n",
    "to determine the lowest energy state {math}`\\ket{\\phi_{\\mathrm{AMD}}}`. "
   ]
  },
  {
   "cell_type": "markdown",
   "id": "c301380b-de47-420d-a8e3-bb2e5b27df93",
   "metadata": {
    "jp-MarkdownHeadingCollapsed": true,
    "tags": [],
    "user_expressions": []
   },
   "source": [
    "#### Variation after Projection, Projection after Variation\n",
    "States obtained by the variation procedure generally no longer demonstrate the symmetries of the Hamiltonian {eq}`amd-hamiltonian` with respect to parity and rotational invariance.{cite:ps}`neff_nuclear_2008` These symmetries can be restored through projection onto angular momentum and parity eigenstates:\n",
    ":::{math}\n",
    ":label: parity-angular-projections\n",
    "\\ket{ \\phi_{ \\mathrm { AMD } } ^ { \\pm } } &\\equiv P ^ { \\pm } \\ket{ \\phi _ { \\mathrm { AMD } } ( \\mathcal{Z} ) } = \\frac { 1 \\pm \\hat { P } _ { r } } { 2 } \\ket{ \\phi _ { \\mathrm { AMD } } ( \\mathcal{Z} ) }\n",
    "\n",
    "\\ket{ \\phi _ { M K } ^ { J } } &\\equiv P _ { M K } ^ { J } \\ket{ \\phi _ { \\mathrm { AMD } } ( \\mathcal{Z} ) } = \\int d \\Omega D _ { M K } ^ { J * } ( \\Omega ) \\hat { R } ( \\Omega ) \\ket{ \\phi _ { \\mathrm { AMD } } ( \\mathcal{Z} ) }\n",
    "\\,,\n",
    ":::\n",
    "where {math}`D _ { M K } ^ { J } ( \\Omega )` is the Wigner's {math}`D` function, and {math}`\\hat{R}(\\Omega)` is a rotation operator for some Euler angle {math}`\\Omega`.{cite:ps}`kanada-enyo_antisymmetrized_2012`{cite:ps}`rampho_antisymmetrized_2012` \n",
    "       \n",
    "Early AMD calculations were performed first by a method known as variation _before_ projection (VBP, or properly {math}`\\text{VaP}^\\pi \\text{bP}^J`).{cite:ps}`horiuchi_neutron-rich_1995` By deferring angular momentum projection until after variation, VBP is numerically the least inexpensive means of obtaining states of good angular momentum. Nevertheless, it is possible to minimise the energy of the _projected state_, i.e.\n",
    ":::{math}\n",
    "\\min_{\\mathcal{Z}}\n",
    "\\frac{\n",
    "    \\expval\n",
    "        {{P_{MK}^{J\\pm}}^\\dagger\\pqty{\\widehat{H}-\\widehat{T}_{\\mathrm{cm}}}P_{MK}^{J\\pm}}\n",
    "        {\\phi_{\\mathrm{AMD}}}\n",
    "}{\n",
    "    \\expval\n",
    "        {{P_{MK}^{J\\pm}}^\\dagger{P_{MK}^{J\\pm}}}\n",
    "        {\\phi_{\\mathrm{AMD}}}\n",
    "}\n",
    ":::\n",
    "for some state with angular momentum <TODO>, a method known as variation _after_ projection (VAP, or properly {math}`\\text{VaP}^\\pi \\text{aP}^J`).{cite:ps}`kanada-enyo_variation_1998` Fundamentally, VAP approach necessitates a minimisation procedure for each eigenstate onto which the AMD state is projected. Although much more costly than VBP, the VAP procedure is necessary to describe states with intrinsic structures that differ from the mean-field state (see {numref}`amd-variation-comparison`).{cite:ps}`feldmeier_nuclear_2017`  \n",
    "    \n",
    ":::{note}\n",
    ":class: margin\n",
    "\n",
    "In simpler terms, a sum of two Slater determinants is not itself guaranteed to be a Slater determinant, though it is antisymmetric. Therefore the set of anti-symmetric states is larger than the set of Slater determinants. The inability to represent a state as a Slater is equivalent to the statement that the individual nucleons are not behaving as independent particles.\n",
    ":::\n",
    "    \n",
    "The single Slater-determinant AMD basis representation ensures that the solution to the many-body problem is restricted to a subset of the anti-symmetric Hilbert space, i.e. that given by the mean-field approximation of independent nucleons in single-particle eigenstates moving in an external potential. Complex correlational phenomena, corresponding to configuration mixing, requires a linear superposition of Slater determinants.  The admixtures of eigenstates yielded by the projection operators leads to the consideration of beyond mean-field phenomena during the variational procedure.\n",
    "    \n",
    ":::{figure} image/placeholder/amd-variation-comparison.png\n",
    ":name: amd-variation-comparison\n",
    ":align: center\n",
    "\n",
    "Density distributions of the AMD wavefunctions for {math}`{}^{9}\\text{Li}` obtained by (a) variation _before_ parity and angular momentum projection, (b) _after_ parity and _before_ angular momentum projection, and (c) _after_ parity and angular momentum projection. It can be seen that only (c) exhibits beyond mean-field structure. The proton ({math}`\\rho_p`), neutron ({math}`\\rho_n`), and total ({math}`\\rho_m`) densities of the AMD wave-function are illustrated. Figure adapted from {cite:ps}`beck_clusters_2010`.\n",
    ":::"
   ]
  },
  {
   "cell_type": "markdown",
   "id": "a39f3f8b-38c0-46dd-958d-ed2192334bb8",
   "metadata": {
    "user_expressions": []
   },
   "source": [
    "#### Excited States\n",
    "\n",
    "% NOTE: greiner 226 (1p1h deform men field)\n",
    "In the HF approximation, a set of low-lying excited states can be constructed from superpositions of 1p1h excitations of the ground state {math}`\\ket{HF}`. This approximation is built upon the assumption that these excited states do not significantly deform the mean field, and that their correlations can be ignored.{cite:ps}`greiner_nuclear_1996` In the extreme case of the structures that emerge in excited states near the cluster-decay threshold, these assumptions are unfounded and the single-particle states must be recalculated in a self-consistent manner. \n",
    "\n",
    "Unlike HF, the AMD method does not readily admit a set of basis states from which to compose excited states. There are two favoured methods for determining such a basis; orthogonal VAP, and constrained variation. In orthogonal VAP, a set of basis functions is established through orthogonalisation to already-obtained lower states {math}` \\phi _ { k } ^ { J \\pm } ( \\{ \\mathcal{Z}_k \\} )` for {math}`k=1,\\dots,n-1`, thus building a set of intrinsic AMD states:\n",
    "\n",
    ":::{math}\n",
    " \\phi _ { n } ^ { J \\pm } (  \\mathcal{Z}  ) = P _ { M K } ^ { J \\pm } \\phi _ { \\mathrm { AMD } } (  \\mathcal{Z}  ) - \n",
    "    \\sum _ { k = 1 } ^ { n - 1 } \\frac {\n",
    "        \\bra{ \\phi _ { k } ^ { J \\pm } \\left(  \\mathcal{Z}  _ { k } ^ { J \\pm } \\right) }\\ket{ P _ { M K } ^ { J \\pm } \\phi _ { \\mathrm { AMD } } (  \\mathcal{Z}  ) } \n",
    "    } { \n",
    "        \\ip{ \\phi _ { k } ^ { J \\pm } \\left(  \\mathcal{Z}  _ { k } ^ { J \\pm } \\right) }\n",
    "    } \\phi _ { k } ^ { J \\pm } \\left(  \\mathcal{Z}  _ { k } ^ { J \\pm } \\right) \n",
    "\\,.\n",
    ":::\n",
    "\n",
    "The eigenstates of the AMD Hamiltonian are constructed from these _intrinsic_ states {math}`\\qty{\\ket{{\\phi _ { \\mathrm { AMD } }}( \\mathcal{Z}_i )}}` by simultaneously diagonalising the Hamiltonian {math}`\\matrixel{P _ { M K ^ { \\prime } } ^ { J \\pm } \\phi _ { \\mathrm { AMD } } ^ { i }}{H}{P _ { M K ^ { \\prime \\prime } } ^ { J \\pm } \\phi _ { \\mathrm { AMD } } ^ { j }}` and normal {math}`\\braket{P _ { M K ^ { \\prime } } ^ { J \\pm  } \\phi _ { \\mathrm { AMD } } ^ i  }{P _ { M K ^ { \\prime \\prime } } ^ { J \\pm } \\phi _ { \\mathrm { AMD } } ^ { j }}` matrices formed from these states.{cite:ps}`kanada-enyo_variation_1998` It follows that these eigenstates are _superpositions_ of intrinsic states.\n",
    "\n",
    "\n",
    "Meanwhile, constrained variation closely resembles the Generator Coordinate Method (GCM) used to include collective phenomena in many-body wave-functions.{cite:ps}`wa_wong_generator-coordinate_1975` First, set of basis functions is established through the imposition of a deformation constraint on the VBP variation equation. This establishes a set of states with a given quadrupole deformation for which the energy is locally minimal. These states are then projected onto states of good angular momentum, and used as a basis for the many-body state. Like orthogonal VAP, the eigenstates of the AMD Hamiltonian are determined through simultaneous diagonalisation of the norm and Hamiltonian matrices.{cite:ps}`beck_clusters_2010`\n",
    "\n",
    ":::{figure} image/placeholder/amd-variation-comparison-2.png\n",
    ":name: amd-variation-comparison-2\n",
    ":align: center\n",
    "\n",
    "Density distributions of a singular AMD wave-function for {math}`{}^{9}\\text{Li}` obtained by variation _after_ parity and _before_ angular momentum projection for a deformation constraint of {math}`\\beta=0.35`. The proton ({math}`\\rho_p`), neutron ({math}`\\rho_n`), and total ({math}`\\rho_m`) densities of the AMD wave-function are illustrated. See {numref}`amd-variation-comparison` for comparison to other variational solutions. Figure adapted from {cite:ps}`beck_clusters_2010`.\n",
    ":::\n",
    "\n",
    "% HOW does this differ to HF? HF w.f. are intrinsically not localised to particles like AMD\n",
    "\n",
    "Constrained solutions are particularly useful in obtaining basis states for loosely bound systems, e.g. those of cluster or halo nature; the solution given by VAP usually corresponds to a compact configuration.{cite:ps}`feldmeier_nuclear_2017`   "
   ]
  },
  {
   "cell_type": "markdown",
   "id": "b18e8f67-02e3-4a74-b7ef-e2809ddc9f58",
   "metadata": {
    "user_expressions": []
   },
   "source": [
    "### Nuclear Molecules\n",
    "\n",
    "The pairing force, which anti-aligns the angular momenta of like-nucleons within the same orbital, is responsible for some of the most exciting phenomena in nuclear physics, e.g. the even-even energy gap between the ground state and lowest single-particle excitation, or the zero angular momentum of even-even ground state nuclei. It is most strikingly seen within the {math}`\\alpha`-particle system, which is comprised to two correlated pairs of protons and neutrons. In combination with the small symmetry energy of the system, the pairing interaction is responsible for the significant binding energy (28 MeV), and first excited state (20 MeV). These two properties suggest that where an {math}`\\alpha`-particle forms in the nucleus, it may remain stable for a considerable period of time.{cite:ps}`freer_clustered_2007-2` Meanwhile, the emission of {math}`\\alpha`-particles from the nucleus implies that such particles might be preformed and exist prior to the decay. Although it is known that such an assumption is overly reductive, the existence of many alpha-clustered structures is postulated by the Ikeda threshold rule, which predicts the emergence of such structures near the alpha breakup threshold.\n",
    "\n",
    ":::{figure} image/placeholder/types-of-nuclear-clustering.png\n",
    ":name: types-of-nuclear-clustering\n",
    ":align: center\n",
    "\n",
    "A myriad of clustering phenomena are seen in light nuclei, varying from small clusters outside of a closed shell to alpha condenstates. Figure taken from {cite:ps}`catford_clustering_2013-1`.\n",
    ":::"
   ]
  },
  {
   "cell_type": "markdown",
   "id": "b242afa9-5d84-4318-bd8e-6e1cadcf4941",
   "metadata": {
    "user_expressions": []
   },
   "source": [
    "A number of examples of \"clustering\" phenomena, including alpha condensates (e.g. {math}`{}^8\\text{Be}`), can be seen in {numref}`types-of-nuclear-clustering`. In recent times, a focus has been placed on neutron-rich nuclei, where the existence of valence neutrons has been shown to stabilise the cluster structure and give rise to exotic structures known as nuclear molecules. In the case of {math}`{}^8\\text{Be}`; the alpha condensate has a half-life of {math}`\\sim 10^{-16}`s, whereas the isotope {math}`{}^9\\text{Be}` is considered stable. The role of the valence neutron can be shown through a separated harmonic oscillator approach to be that of stabilising the nucleus; the superposition of the neutron wavefunctions in the {math}`p^{\\frac{3}{2}-}`orbital leads to the formation of {math}`\\sigma` and {math}`\\pi` bonds. The term \"nuclear molecule\" is well-chosen; in the case of the beryllium isotopes, the effective {math}`\\alpha`-{math}`\\alpha` potential is weakly attractive, yet at smaller distances becomes strongly repulsive. This hard-core, which naturally follows from Pauli blocking, requires one of the clusters to move into the next major shell. Hence, the weak-attraction strong-repulsion interaction closely resembles the Van Der Waals molecular potential, giving rise to the name \"nuclear molecule\".{cite:ps}`von_oertzen_search_2004`\n",
    "\n",
    "% TODO explain pi, sigma bonds"
   ]
  },
  {
   "cell_type": "markdown",
   "id": "0d66846d-b22a-4084-94f3-e89a2f567119",
   "metadata": {
    "tags": [],
    "user_expressions": []
   },
   "source": [
    "#### {math}`\\pi` bonds & {math}`\\sigma` bonds\n",
    "\n",
    ":::{warning}\n",
    "To do!\n",
    ":::"
   ]
  }
 ],
 "metadata": {
  "kernelspec": {
   "display_name": "Python 3 (ipykernel)",
   "language": "python",
   "name": "python3"
  },
  "language_info": {
   "codemirror_mode": {
    "name": "ipython",
    "version": 3
   },
   "file_extension": ".py",
   "mimetype": "text/x-python",
   "name": "python",
   "nbconvert_exporter": "python",
   "pygments_lexer": "ipython3",
   "version": "3.10.5"
  },
  "widgets": {
   "application/vnd.jupyter.widget-state+json": {
    "state": {},
    "version_major": 2,
    "version_minor": 0
   }
  }
 },
 "nbformat": 4,
 "nbformat_minor": 5
}
