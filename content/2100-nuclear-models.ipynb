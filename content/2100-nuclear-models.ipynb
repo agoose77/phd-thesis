{
 "cells": [
  {
   "cell_type": "markdown",
   "id": "0ec51114-f100-4101-a5c4-75e14ed753b2",
   "metadata": {
    "user_expressions": []
   },
   "source": [
    "# Nuclear Models\n",
    "\n",
    "Understanding the structure of the nucleus can be done in a variety of ways\n",
    "\n",
    "Microscopic models\n",
    ": emergent phenomena from single-nucleon treatment of nucleus\n",
    "\n",
    "Macroscopic models\n",
    ": collective description of nucleus leads to predictions of macroscopic phenomena"
   ]
  },
  {
   "cell_type": "markdown",
   "id": "750b4154-00d8-44cb-98a6-24bab24ec956",
   "metadata": {
    "tags": [],
    "user_expressions": []
   },
   "source": [
    "## Shell Model\n",
    "The Hamiltonian of a quantum system is the operator {math}`\\hat{H}`, conventionally given as the sum of kinetic and potential energy operators\n",
    ":::{math}\n",
    "\\hat{H} = \\hat{T} + \\hat{V}\\,,\n",
    ":::\n",
    "whose eigenvalues correspond to the set of measurable energies.\n",
    "\n",
    "For a many-body system of {math}`N` distinguishable particles, the canonical basis is given by the direct-product of the single-particle states:\n",
    ":::{math}\n",
    "\\ket{n_1 n_2 \\dots n_N} &= \\ket{n_1} \\otimes \\ket{n_2} \\otimes \\dots \\otimes \\ket{n_N}\n",
    "\n",
    "                        &= \\ket{n_1}\\ket{n_2}\\dots\\ket{n_N}\\,.\n",
    ":::\n",
    "In this basis, the kinetic energy operator {math}`\\hat{T}` can be taken as a sum of the single-particle operators {math}`\\hat{T}^{[1]}_i`\n",
    ":::{math}\n",
    "\\hat{T} = \\sum_i \\hat{T}_i^{[1]}\\,.\n",
    ":::\n",
    "Meanwhile, the potential operator that describes the interaction potential between distinct nucleons is given by\n",
    ":::{math}\n",
    "\\hat{V} = \\sum_{i\\neq j} TODO\n",
    ":::"
   ]
  },
  {
   "cell_type": "markdown",
   "id": "8f623594-d1cd-4c4b-958c-fa22eb57113a",
   "metadata": {
    "user_expressions": []
   },
   "source": [
    "Define O(1) and O(2) operators w/o Fock space / 2nd quantization. Show that mean field can be introduced by factoring 2-body potential. "
   ]
  },
  {
   "cell_type": "markdown",
   "id": "eccb8856-1091-4723-98cd-937a4181297b",
   "metadata": {
    "tags": [],
    "user_expressions": []
   },
   "source": [
    "the kinetic energy operator {math}`\\hat{T}` can be defined in the canonical (direct-product) basis as a sum of the single-particle operators {math}`\\hat{T}^{[1]}_i`\n",
    ":::{math}\n",
    "\\hat{T} = \\sum_i \\hat{T}_i^{[1]}\\,.\n",
    ":::\n",
    "Where these particles are identical, such as the fermions that comprise a nucleus, we have \n",
    ":::{math}\n",
    "\\hat{T}_1^{[1]} &= \\hat{T}^{[1]} \\otimes \\hat{1} \\otimes \\dots \\otimes \\hat{1}\n",
    "\n",
    "\\hat{T}_2^{[1]} &= \\hat{1} \\otimes \\hat{T}^{[1]} \\otimes \\dots \\otimes \\hat{1}\n",
    "\n",
    "&\\vdots\n",
    "\n",
    "\\hat{T}_N^{[1]} &= \\hat{1} \\otimes \\dots \\otimes  \\hat{1} \\otimes \\hat{T}^{[1]}\\,.\n",
    ":::"
   ]
  },
  {
   "cell_type": "markdown",
   "id": "2b841f38-fc36-467e-9f0b-c26c0e15fa1a",
   "metadata": {},
   "source": [
    "Meanwhile, the potential "
   ]
  },
  {
   "cell_type": "markdown",
   "id": "0ce8de2d-bc40-435f-9c91-183364b0e75d",
   "metadata": {
    "tags": [],
    "user_expressions": []
   },
   "source": [
    "For a many-body system, most naturally defined in a direct-product basis (of single-particle states), these operators are \n",
    ":::{math}\n",
    "\\hat{H} = \\hat{T} + \\hat{V}\\,,\n",
    ":::\n",
    "% Write \\hat{V} = \\sum_i V_i^{(1)} + V_i^{(2)} (Sigve Bøe Skattum)\n",
    "Considering only two-body interactions for the potential, we have\n",
    ":::{math}\n",
    ":label: many-body-hamiltonian-simple\n",
    "\n",
    "\\hat{H} = \\sum_i \\hat{T}^{(i)} + \\sum_{i\\neq j} \\hat{V}^{(i,j)}\\,,\n",
    ":::\n",
    "where the superscript {math}`(i,j)` indicates that the operator acts between the {math}`i,j`-th particles.\n",
    "It is possible to introduce a single-particle potential {math}`\\hat{U}` such that {numref}`many-body-hamiltonian-simple` becomes\n",
    ":::{math}\n",
    ":label: many-body-hamiltonian-simple\n",
    "\n",
    "\\hat{H} = \\sum_i \\hat{T}^{(i)} + \\hat{U}^{(i)} + \\sum_{i\\neq j} \\hat{V}^{(i,j)}\\,.\n",
    ":::"
   ]
  },
  {
   "cell_type": "markdown",
   "id": "d9659ea2-3632-4a8f-837a-b00bac8c737e",
   "metadata": {
    "user_expressions": []
   },
   "source": [
    "- Choose single-particle basis to span {math}`\\mathcal{H}^N`\n",
    "- [Anti]Symmetric states are eigenvectors of diagonal SP Hamiltonian in new basis\n",
    "- Approximate {math}`H = T + V^{(2)}` (ignore higher order terms).\n",
    "- Find {math}`H = (T + U) + (V - U)` \n",
    "- Choose {math}`U` such that {math}`V - U` can use reduced basis?, or negligible to be ignored#"
   ]
  },
  {
   "cell_type": "markdown",
   "id": "8509292c-6471-43b8-974c-16ee846cec34",
   "metadata": {
    "tags": [],
    "user_expressions": []
   },
   "source": [
    "> In the low energy regime of nuclear physics the underlying quantum chromodynamics (QCD) degrees of freedom are not excited. To obtain information about the structure of the atomic nucleus\n",
    "one needs to solve the many-body nuclear Hamiltonian using a method appropriate\n",
    "to the nucleus under study\n",
    "In contrast, in the traditional shell model a phenomenological\n",
    "mean field created by all the nucleons is taken as the potential which confines the\n",
    "nucleons. The model space is constructed by distributing the valence nucleons over\n",
    "single-particle orbitals residing outside the “frozen” single-particle orbitals occupied\n",
    "by the core nucleons (the core is usually a doubly magic nucleus). The core does not\n",
    "explicitly interact with the valence nucleons. To account for configuration mixing a\n",
    "residual interaction is included in the shell model Hamiltonian [5, 6], and the solution\n",
    "is then obtained by diagonalizing the Hamiltonian in the selected model space.\n",
    "internucleon interactions can be derived by fitting an interaction to\n",
    "experimental nucleon-nucleon scattering data and energies of a few bound states of\n",
    "light nuclei\n",
    "\n",
    "\n",
    "https://arxiv.org/pdf/1704.02363.pdf"
   ]
  },
  {
   "cell_type": "markdown",
   "id": "0abf128d-c740-4417-ada9-2f2a76908165",
   "metadata": {
    "user_expressions": []
   },
   "source": [
    "> The fact that a one-body mean field governs the structure and low-energy dynamics of nuclei in spite of the\n",
    "exceedingly strong two-body interactions described by the\n",
    "nucleon-nucleon potential arises primarily from the Pauli\n",
    "exclusion principle. The question of whether one-body\n",
    "behavior or two-body collisions dominate depends essentially on whether the nucleon mean-free path is much\n",
    "longer or shorter than the nuclear size.\n",
    "\n",
    "negele The mean-field theory of nuclear structure and dynamics 1982"
   ]
  },
  {
   "cell_type": "markdown",
   "id": "03aebe31-990e-4365-967a-1e35ed5419a1",
   "metadata": {
    "user_expressions": []
   },
   "source": [
    "Volya:\n",
    "    \n",
    "   \n",
    "Where does tensor force come from? Something about residual interacting IIRC\n",
    "\n",
    "- Residual interaction required to model complex correlational phenomena, inc pauli effect\n",
    "- > In nuclear applications, the natural single-particle basis is provided by the mean ﬁeld.\n",
    "- Mean-field ←→ liquid drop relationship\n",
    "   > We consider the nucleus as a self-sustaining system of identical fermions. The origi-\n",
    "nal (vacuum) nucleon–nucleon interaction is very strong. It creates a many-body object\n",
    "that has some properties of a liquid drop. This certainly shows that the signiﬁcant part of\n",
    "interaction is spent to form a mean ﬁeld. The mean ﬁeld is responsible for nuclear shape\n",
    "and main symmetry features. It accumulates the most smooth “coherent” components\n",
    "of interactio\n",
    "- > However, a signiﬁcant part\n",
    "of the interaction is averaged out due to the fact that the system has many degrees of\n",
    "freedom that interact simultaneously. Another averaging factor comes from the Fermi\n",
    "statistics. The most stable, coherent part of the interaction can be presented as a mean\n",
    "ﬁeld created by all particles and inﬂuencing motion of each of them.\n",
    "- > consider the mean ﬁeld as an external\n",
    "ﬁeld with the properties established by experiment. Such a ﬁeld is not self-consistent as\n",
    "it should be. We do not know how the change in motion of a particle changes the ﬁeld\n",
    "acting onto all other particles\n",
    "- > the ﬁeld is created by many particles and only a synchronous coherent excitation of many\n",
    "of them can change the ﬁeld considerably. After averaging, the incoherent excitations of\n",
    "individual particles and random collision-like processes usually will have little inﬂuence\n",
    "onto the mean ﬁeld.\n",
    "-> the particles and their residual interactions in\n",
    "the mean ﬁeld are not the same as in vacuum. The particles are “dressed” by the part\n",
    "of the interaction that was already taken into account by formation of the mean ﬁeld: a bare particle is accompanied by a\n",
    "cloud of changes in the medium induced by its presence. L. Landau called these objects\n",
    "quasiparticles. This term is used also in a diﬀerent sense (“Bogoliubov quasiparticles”). Therefore, often we call our objects particles,\n",
    "keeping in mind that they are not original nucleons.\n",
    "   - See also suhonen for quasiparticles\n",
    "- > the properties of the quasiparticles have to be\n",
    "taken from experiment. Their number is equal to a number of the original “bare”\n",
    "particles and the dressing keeps unchanged exact quantum numbers – spin, electric\n",
    "charge, isospin – and Fermi statistics, whereas some quantitative characteristics can\n",
    "change. The quasiparticles acquire an eﬀective mass, they have renormalized magnetic\n",
    "moments, and so on. At slow velocities the whole cloud of a quasiparticle is moving\n",
    "together; at sharp excitation we can recover bare particles as a seed inside the cloud.\n",
    "- > there also exist other collective phenomena along with incoherent collision-like pro-\n",
    "cesses, which are averaged out when the mean ﬁeld is extracted. They are responsible\n",
    "for mixing of simple mean-ﬁeld conﬁgurations that becomes more and more strong as\n",
    "excitation energy and level density increase.\n",
    "- > The Hartree–Fock (HF)\n",
    "method is a regular procedure that allows one to ﬁnd the best mean ﬁeld for a given\n",
    "interaction Hamiltonian.\n",
    "- > the solution of the HF equations gives, as a many-body ground state, a\n",
    "Slater determinant constructed of the self-consistent orbitals |𝜆). Moreover, this is the\n",
    "best approximation to the solution of the full original Schrödinger equation that can\n",
    "be represented by a single Slater determinant. Therefore, the variational approach is\n",
    "possible. One can consider the class of trial functions consisting of all Slater deter-\n",
    "minants built of all possible complete sets of single-particle orbitals. Among all these\n",
    "determinants, one can look for the determinant that minimizes the total energy of the\n",
    "system. This turns out to be just the solution of the HF equations\n",
    "-> Pairing inﬂuences nuclear shapes, moments of\n",
    "inertia, mass parameters, transition probabilities, and reaction cross sections. On the\n",
    "other hand, nuclear shape deﬁnes single-particle orbits and conditions for pairing. The\n",
    "energy gap is also a self-consistent quantity that depends on wave functions and ener-\n",
    "gies of particle orbits. This complex interplay of various residual interactions is not\n",
    "accounted for in the HF approach that does not include pairing correlations on equal\n",
    "footing. The pairing added in the BCS model does not change the nuclear ﬁeld that\n",
    "means a lack of self-consistency.\n",
    "A more general approach that produces an advanced version of the self-consistent\n",
    "ﬁeld method is the Hartree–Fock–Bogoliubov (HFB\n",
    "- I recall something about directly computing matrix elements. Is this for the \n",
    "SPSM? Note from Volya:\n",
    "   > Very successful calculations were systematically performed with semiempirical\n",
    "interactions. Here it is possible, for a limited purpose of quantitative description\n",
    "of low-energy spectroscopic information, to make a direct diagonalization in the\n",
    "truncated space of single-particle orbits. \n",
    "If, at excitation energies of interest, there is no nuclear states that require\n",
    "the excitation of the core or the transfer of the valence particles into the next shell,\n",
    "one can ﬁnd an eﬀective two-body Hamiltonian that reproduces, in the many-body\n",
    "diagonalization, the observed levels and matrix elements of simple multipole operators.\n",
    "These 63 matrix elements can be ﬁt to give the best overall description of hundreds\n",
    "known observables\n",
    "- This technique breaks down for heavy nuclei as the valence space grows too large, but\n",
    "   > the direct application of the\n",
    "HF approximation with the realistic nucleon–nucleon forces is not satisfactory. It is\n",
    "impossible to obtain simultaneously a reasonable description of saturation of nuclear\n",
    "forces (nuclei do not collapse in spite of nuclear attraction) and binding energy in heavy\n",
    "nuclei or in the limit of inﬁnite nuclear matter. The HF approximation does not take into\n",
    "account the short-range nucleon–nucleon correlations associated with the repulsive\n",
    "core. Such eﬀects are averaged out in the mean-ﬁeld description, but they are impor-\n",
    "tant for preventing a collapse. They cannot be included by perturbation theory because\n",
    "such a short-range scattering leads formally to inﬁnite matrix elements.\n",
    "Therefore, it is necessary either to include directly short-range correlations and give up\n",
    "the mean ﬁeld approximation or to introduce eﬀective interactions. Except for the light17.11 Skyrme Functionals\n",
    "nuclei, the last option is more attractive from both computational and conceptual points\n",
    "of view.\n",
    "- This leads to DF theory (and AMD?)\n",
    "   > In the same spirit of averaging the random components of dynamics as used for extract-\n",
    "ing the mean ﬁeld [15], one can assume that the result will depend mainly on the local\n",
    "density. This gives rise to the so-called energy density functional method. In general, it\n",
    "is possible to show [QP, II, 19.10] that the ground state density of the particles given as a\n",
    "function of coordinates uniquely determines the ground state many-body wave function\n",
    "of the system"
   ]
  },
  {
   "cell_type": "markdown",
   "id": "367886f5-27e5-4706-8642-5428994dd657",
   "metadata": {
    "tags": [],
    "user_expressions": []
   },
   "source": [
    "- Shell model:\n",
    "   > The major\n",
    "shells are separated by relatively large energy gaps that suppress the probability of the\n",
    "ground state to involve particle excitations into the neighboring major shells.\n",
    "There are also less pronounced but still noticeable eﬀects of the closure of subshells\n",
    "at numbers of protons or neutrons equal to 6, 28, 40, and others. The energy spacings\n",
    "between the subshells within a given major shell are narrower than between the major\n",
    "shells.\n",
    "Nuclei with magic Z have an increased number of stable (in nuclear sense, which\n",
    "means with respect to the spontaneous emission of nucleons but not to the beta-decay)\n",
    "isotopes with diﬀerent N, whereas nuclei with magic N have an increased number of\n",
    "isotones with diﬀerent Z."
   ]
  },
  {
   "cell_type": "markdown",
   "id": "74d9084f-980b-4d80-96d1-59cef42ea41d",
   "metadata": {
    "tags": [],
    "user_expressions": []
   },
   "source": [
    "What is Bogoliubov?\n",
    "> There are lots of physical systems for which a mean-field treatment leads to terms in the\n",
    "Hamiltonian that are bilinear in creation or annihilation operators;\n",
    ":::{math}\n",
    "\\mathcal{H}=\\epsilon_{1} \\hat{c}_{1}^{\\dagger} \\hat{c}_{1}+\\epsilon_{2} \\hat{c}_{2}^{\\dagger} \\hat{c}_{2}+\\lambda \\hat{c}_{1}^{\\dagger} \\hat{c}_{2}^{\\dagger}+\\lambda^{*} \\hat{c}_{1} \\hat{c}_{2}\n",
    ":::\n",
    "> These terms are present in Bose condensates (the subject of the next chapter), superfluids, superconductors and anti-ferromagnets (a topic touched upon in Chapter 4). A\n",
    "Hamiltonian with such terms does not preserve particle number — the groundstate is a\n",
    "superposition of different numbers of particles, which occurs physically by the system exchanging particles with the condensate or environment. A unitary transformation cannot\n",
    "be used to diagonalize these Hamiltonians. Instead, one must use a Bogoliubov transformation\n",
    "\n",
    "I.e. to make hamiltonian preserve the particle number? http://www.homepages.ucl.ac.uk/~ucanfkr/lecturenotes/CMtheory/CMT1.pdf"
   ]
  },
  {
   "cell_type": "markdown",
   "id": "eb2f76ce-5462-4882-8fa3-d33a26c6b874",
   "metadata": {
    "user_expressions": []
   },
   "source": [
    "Tamm Dancoff: treatment of excited states (Fetter)"
   ]
  },
  {
   "cell_type": "markdown",
   "id": "ba3eeb99-4e0b-47da-a5f7-2d197579f41d",
   "metadata": {
    "user_expressions": []
   },
   "source": [
    "Green functions?"
   ]
  },
  {
   "cell_type": "markdown",
   "id": "0b6e6a73-9ff7-488a-83ac-e62af53396ef",
   "metadata": {
    "user_expressions": []
   },
   "source": [
    "AMD?"
   ]
  },
  {
   "cell_type": "markdown",
   "id": "f1433b49-d3cc-4c05-a993-1a31e3aee170",
   "metadata": {
    "user_expressions": []
   },
   "source": [
    "Wong:\n",
    "\n",
    "Three body force:\n",
    "- All the available evidence indicates that such a term, if present, must\n",
    "be very much weaker than the two-body force.\n",
    "\n",
    "One body potential:\n",
    "- one may on occasion introduce\n",
    "an “effective” one-body term in the nuclear potential to approximate the average effect from all the other nucleons in the nucleus. The source of such an effective one-body potential is, however, the two-body interaction between nucleons.\n",
    "\n",
    "\n",
    "READ CHAP 7 + 6\n",
    "\n",
    "> ere f k is the singleparticle energy. We shall see an example of h ( ~ , in\n",
    ") Eq. (7-10)\n",
    "of the next section. In terms of such a single-particle Hamiltonian, the many-body238\n",
    "ChaD. 7\n",
    "Microscooic Models of Nuclear Structure\n",
    "Hamiltonian in Eq. (7-1) may be expressed in the form\n",
    "where v ( r ; ,r , ) is the residual two-body interaction, the original nucleon-nucleon inter-\n",
    "action K, in Eq. (7-2) minus contributions already included in /L(T,), We shall not be\n",
    "concerned here with the technical question of transforming the Hamiltonian from the\n",
    "form given by Eq. (7-2) to that in (7-7). One method is given in '$7-3, and the formal\n",
    "procedure is given in 57-5. On the other hand, it is clear that if we choose h ( r ; )such\n",
    "that a large part of the effect of the two-body interaction in Eq. (7-2) is included, the\n",
    "residual interaction e ( r i , r l )will be sufficiently weak that, in some cases, it may even\n",
    "be adequate to ignore it. This gives us various independent particle models. Alterna-\n",
    "tively, we can make use of the energies ck to reduce the Hilbert space to a manageable\n",
    "size and solve the eigenvalue problem with the residual interaction in the truncated\n",
    "space. An example is the spherical shell model described in 57-5.\n",
    "\n",
    "Takigawa:\n",
    "> The effective mass hitherto discussed within the framework of the Hartree–Fock\n",
    "theory arises from the antisymmetrization of nucleons. In revised theories which go\n",
    "beyond the Hartree–Fock approximation, the single-particle potential has an energy\n",
    "dependent correction term in addition to the potential UHF in the Hartree–Fock theory\n",
    "due to, e.g., the coupling of nucleons to the surface vibration, which is one of the\n",
    "nuclear collective excitations\n",
    "\n",
    "Isacker:\n",
    "> Our understanding of the structure of the atomic nucleus is at\n",
    "present incomplete, based as it is on various models with\n",
    "limited ranges of applicability. Examples are the spherical shell\n",
    "model and the geometric collective model. While the former\n",
    "stresses the single-particle nature of the nucleons in the\n",
    "nucleus, their coherent motion is emphasized by the latter. A\n",
    "recurring question in more than half a century of basic nuclear\n",
    "research has been how to reconcile two such opposing views of\n",
    "the structure of the nucleus. The currently accepted paradigm is\n",
    "that the structural patterns and regularities, as predicted by the\n",
    "geometric collective model, arise as emergent behaviour from\n",
    "the complex many-body problem of nucleonic interactions in\n",
    "the context of the spherical shell model.\n",
    "\n",
    "Suhonen:\n",
    "   > The central mean ﬁeld can emerge from a Hartree–Fock\n",
    "calculation or it can be phenomenological, e.g. of the Woods–Saxon type.\n",
    "   > The A-nucleon Schr¨odinger equation cannot be solved exactly, at least for\n",
    "A > 10. Therefore one has to look for reasonable approximate methods to\n",
    "solve this many-body problem of strongly interacting particles. An elegant\n",
    "approximation is to convert the strongly interacting system of particles into a\n",
    "system of weakly interacting quasiparticles quasiparticles are often referred to\n",
    "as particles approximation the system of quasiparticles can be treated as a set\n",
    "of A non-interacting quasiparticles. The remaining interactions, called residual\n",
    "interactions, can be treated in perturbation theory. The transformation from\n",
    "particles to quasiparticles is not easy, and its success depends on the nuclear\n",
    "system under discussion.\n",
    "\n",
    "PPTX:\n",
    "   > These truncations perturb the spherical shell model Hamiltonian - Effective residual interaction must be added"
   ]
  },
  {
   "cell_type": "markdown",
   "id": "925e2ce2-e3be-4957-a1fa-5a370228d8b2",
   "metadata": {
    "user_expressions": []
   },
   "source": [
    "Donelly:\n",
    "Why does s.l couple? \n",
    "\n",
    "   - discussed. It has been shown, however, to arise naturally, and with the correct\n",
    "   sign, from relativistic effects of the nucleonic notion. It is possible, though, to give plausible arguments for the radialshape of the spin-orbit potential. These\n",
    "   rely again on the notion that, in the interior of the nucleus, a nucleon should\n",
    "   experience no net force. If the spin-orbit force were large in the nuclear\n",
    "   interior there would be a preference for nucleons with spins aligned parallel to\n",
    "   their orbital angular momentum rather than vice versa and therefore such a\n",
    "   nucleon would not be surrounded by an equal number of nucleons with all spin\n",
    "   orientations. This suggests, although it certainly does not prove, that the spin\n",
    "   orbit force is primarily a surface phenomenon.\n",
    "   \n",
    "How stable are unique parity states?\n",
    "\n",
    "   > In some cases, these residual\n",
    "   interactions are diagonal, providing contributions only to the energies of the\n",
    "   various levels. In others, however, they have important nondiagonal effects\n",
    "   that mix different configurations. Whatever mixing does occur, however,\n",
    "   cannot mix levels of different parity. (We neglect here the very weak parity-\n",
    "   nonconserving part of the weak interaction.)\n",
    "   such mixing effects are strongly dependent on the energy separation of the mixed states, so the unique party l+1/2 state in each shell tends to mix weakly (as other levels in same shall have different parity)\n",
    "   \n",
    "How can particles be independent given that ratio of nucleon to nuclear volume is ~1/A:\n",
    "\n",
    "  >  By the Pauli principle, unless the impact of the collision is\n",
    "   sufficiently strong to raise one of these nucleons to an unoccupied orbit (i.e.,\n",
    "   above the Fermi surface), the interaction can have no effect on the motion of\n",
    "   these two nucleons. Therefore only the outermost nucleons are likely to be\n",
    "   affected by such collisions.\n",
    "   \n",
    "Why do closed shells have spin 0?\n",
    "\n",
    "   >  from joint basis, M = \\sum m_i = j + j-1 + j-2 + ... -j = 0\n",
    "    why is J zero?\n",
    "Overlap of closed shells with single particles is angle independent, so radial fn - same effect on magnetic substates.  \n",
    "   - closed shells with high average j lower energies of single particles with high j.\n",
    "    \n",
    "   \n",
    "green func? \n",
    "skyrme force?\n"
   ]
  },
  {
   "cell_type": "markdown",
   "id": "accbfc2f-12da-4952-857f-3c12e57c5ec5",
   "metadata": {
    "user_expressions": []
   },
   "source": [
    "## Rigid Rotor (rotational bands)\n",
    "## Nuclear Molecules\n",
    "## AMD\n",
    "## Nilsson Stutinsky"
   ]
  },
  {
   "cell_type": "code",
   "execution_count": null,
   "id": "c9d6b73f-5686-4c47-be2a-276c6143957f",
   "metadata": {},
   "outputs": [],
   "source": []
  }
 ],
 "metadata": {
  "kernelspec": {
   "display_name": "Python 3 (ipykernel)",
   "language": "python",
   "name": "python3"
  },
  "language_info": {
   "codemirror_mode": {
    "name": "ipython",
    "version": 3
   },
   "file_extension": ".py",
   "mimetype": "text/x-python",
   "name": "python",
   "nbconvert_exporter": "python",
   "pygments_lexer": "ipython3",
   "version": "3.10.5"
  },
  "widgets": {
   "application/vnd.jupyter.widget-state+json": {
    "state": {},
    "version_major": 2,
    "version_minor": 0
   }
  }
 },
 "nbformat": 4,
 "nbformat_minor": 5
}
