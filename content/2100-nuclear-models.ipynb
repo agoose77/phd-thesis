{
 "cells": [
  {
   "cell_type": "markdown",
   "id": "0ec51114-f100-4101-a5c4-75e14ed753b2",
   "metadata": {
    "user_expressions": []
   },
   "source": [
    "# Nuclear Models\n",
    "\n",
    "Understanding the structure of the nucleus can be done in a variety of ways\n",
    "\n",
    "Microscopic models\n",
    ": emergent phenomena from single-nucleon treatment of nucleus\n",
    "\n",
    "Macroscopic models\n",
    ": collective description of nucleus leads to predictions of macroscopic phenomena"
   ]
  },
  {
   "cell_type": "markdown",
   "id": "8ce693e4-fb3b-4dd5-85fc-d2c6bc47f26c",
   "metadata": {
    "tags": [],
    "user_expressions": []
   },
   "source": [
    "## Microscopic Models\n",
    "% Reference: TIME EVOLUTION IN QUANTUM DOTS, Sigve Bøe Skattum"
   ]
  },
  {
   "cell_type": "markdown",
   "id": "21ba3fe0-83fa-4863-ba9f-bd8014fcf7e8",
   "metadata": {
    "user_expressions": []
   },
   "source": [
    "### Many Body Systems"
   ]
  },
  {
   "cell_type": "markdown",
   "id": "25b5cf6f-7ce6-482e-9656-ed3f73bd83f4",
   "metadata": {
    "tags": [],
    "user_expressions": []
   },
   "source": [
    "For a system of {math}`N` indistinguishable particles, the canonical many-particle basis is given by the direct-product of the single-particle states:\n",
    ":::{math}\n",
    "\\ket{\\lambda_1 \\lambda_2 \\dots \\lambda_N}_{\\text{C}} &= \\ket{\\lambda_1} \\otimes \\ket{\\lambda_2} \\otimes \\dots \\otimes \\ket{\\lambda_N}\n",
    "\n",
    "                        &= \\ket{\\lambda_1}\\ket{\\lambda_2}\\dots\\ket{\\lambda_N}\\,.\n",
    ":::\n",
    "However, an arbitrary state in the canonical basis is not guaranteed to satisfy the anti-symmetry requirements of a fermionic system such as the nucleus (under isospin symmetry). These anti-symmetric states are given by permutations of the canonical (direct-product) basis vectors (via the anti-symmetrisation operator {math}`\\hat{\\mathcal{A}}`)\n",
    ":::{math}\n",
    "\\ket{\\lambda_1 \\lambda_2 \\dots \\lambda_N}_{\\text{AS}} \n",
    "&= \\hat{\\mathcal{A}}\\pqty{\\ket{\\lambda_1} \\otimes \\ket{\\lambda_2} \\otimes \\dots \\otimes \\ket{\\lambda_N}}\n",
    "\n",
    "&= \\frac{1}{N !} \\sum_{P \\in S_{N}}(-1)^{\\pi} \\hat{P}\\pqty{\\ket{\\lambda_1}\\otimes\\ket{\\lambda_2} \\otimes \\dots \\otimes \\ket{\\lambda_N}} \\,.\n",
    ":::"
   ]
  },
  {
   "cell_type": "markdown",
   "id": "dc31f98a-246a-4d62-b1cd-9157c6e6b796",
   "metadata": {
    "user_expressions": []
   },
   "source": [
    "It is usually more convenient to explore nuclear theory in terms of the language of second quantisation, which intrinsically embodies the anti-symmetrisation requirement through the creation and annihilation operators.{cite:ps}`eisenberg_microscopic_1976` Subsequently, states are most naturally defined in occupation number representation\n",
    ":::{math}\n",
    "\\ket{n_1 n_2 \\dots}_{\\text{OR}}\\,,\n",
    ":::\n",
    "where {math}`n_1` indicates the number of particles in the single-particle state {math}`1`."
   ]
  },
  {
   "cell_type": "markdown",
   "id": "e4dab9ae-e1d8-4d1e-b601-2929ce53e327",
   "metadata": {
    "tags": [],
    "user_expressions": []
   },
   "source": [
    "The Hamiltonian of a quantum system is the operator {math}`\\hat{H}`, conventionally given as the sum of kinetic and potential energy operators\n",
    ":::{math}\n",
    ":label: hamiltonian\n",
    "\\hat{H} = \\hat{T} + \\hat{V}\\,,\n",
    ":::\n",
    "whose eigenvalues correspond to the set of measurable energies. Considering up-to two-body interactions, we can write {eq}`hamiltonian` in second quantization form as\n",
    "\n",
    ":::{math}\n",
    ":label: hamiltonian-2q\n",
    "\n",
    "\\hat{H} = \n",
    "\\sum_{\\alpha\\beta}T_{\\alpha \\beta}\\underbrace{\\hat{a}^\\dagger_\\alpha\\hat{a}_\\beta}_\\text{one-body} + \n",
    "\\frac{1}{2}\\sum_{\\alpha\\beta\\gamma\\delta}V_{\\alpha\\beta\\gamma\\delta}\\underbrace{\\hat{a}^\\dagger_\\alpha\\hat{a}^\\dagger_\\beta\\hat{a}_\\delta\\hat{a}_\\gamma}_\\text{two-body}\\,,\n",
    ":::\n",
    "where {math}`\\hat{T}` is the kinetic energy operator and {math}`\\hat{V}` is the two-body inter-nucleon interaction. \n",
    "\n",
    "### Mean Field Theory\n",
    "{eq}`hamiltonian-2q` could be recast in terms of an additional single-particle potential {math}`\\hat{U}`\n",
    "\n",
    ":::{math}\n",
    ":label: hamiltonian-2q-mean-field\n",
    "\n",
    "\\hat{H} &= \n",
    "\\underbrace{\\sum_{\\alpha\\beta}\\pqty{T_{\\alpha \\beta} + U_{\\alpha\\beta}}\\hat{a}^\\dagger_\\alpha\\hat{a}_\\beta}_\\text{single particle Hamiltonian} + \n",
    "\\underbrace{\\frac{1}{2}\\sum_{\\alpha\\beta\\gamma\\delta}V_{\\alpha\\beta\\gamma\\delta}\\hat{a}^\\dagger_\\alpha\\hat{a}^\\dagger_\\beta\\hat{a}_\\delta\\hat{a}_\\gamma - \\sum_{\\alpha\\beta}U_{\\alpha\\beta}\\hat{a}^\\dagger_\\alpha\\hat{a}_\\beta}_\\text{residual interaction}\\,,\n",
    "\n",
    "        &= \\hat{H}^{[1]} + \\hat{V'}\\,,\n",
    ":::\n",
    "where {math}`\\hat{H}^{[1]}` is the single-particle Hamiltonian, and {math}`\\hat{V'}` the _residual_ interaction between nucleons. "
   ]
  },
  {
   "cell_type": "markdown",
   "id": "e6a5ead3-73f2-4627-b2ff-7220cf836ffa",
   "metadata": {
    "tags": [],
    "user_expressions": []
   },
   "source": [
    "If the infinite Hilbert space were easily solvable for a many-body system, then this transformation would be at-best a distraction from the underlying physical significance of {eq}`hamiltonian-2q`. However, given that it is not practical to attempt such a calculation, one must first _truncate_ the model space to a tractable number of states, and subsequently introduce an effective operator within the new basis.\n",
    "\n",
    "% https://arxiv.org/pdf/nucl-th/9306014.pdf about this process\n",
    ":::{note}\n",
    "The kinetic energy operator is most naturally represented in momentum space (given that the linear momentum and the kinetic energy operators commute). Meanwhile, the _potential_ is diagonalised in the coordinate representation. To move between these two representations, one must employ the Fourier transform, which converges slowly.{cite:ps}`rowe_fundamentals_2010` A better set of basis states would allow for the low-lying nuclear states to be written in terms of a rapidly convergent sequence of partially ordered (bar degeneracy) shell states. These states, at low energy, should have the observed bulk properties of the corresponding physical states.\n",
    ":::\n",
    "\n",
    "The physical justification for introducing a _mean-field_ potential {math}`\\hat{U}` depends upon whether one-body behavior or two-body collisions dominate within the nucleus, i.e. whether the nucleon mean-free path is much greater than, or lesser than the nuclear size.{cite:ps}`negele_mean-field_1982` Despite the strong short-range repulsive nature of the strong nuclear force, through Pauli blocking of states close to the Fermi surface it can be shown that nucleons behave to first approximation as independent particles (IPM).{cite:ps}`fetter_quantum_1972`"
   ]
  },
  {
   "cell_type": "markdown",
   "id": "24259f61-20b9-4828-b4e4-424ea9be9665",
   "metadata": {
    "tags": [],
    "user_expressions": []
   },
   "source": [
    ":::{admonition} To Do\n",
    "Thus, the introduction of the mean-field is both justified and necessary in order to make many-body calculations tractable. It provides a means of introducing a single-article basis that can be energy-ordered in order to build a truncated basis. \n",
    "\n",
    "Truncation:\n",
    "- https://link.springer.com/chapter/10.1007/978-3-031-10751-1_3\n",
    "- https://arxiv.org/pdf/1003.1452.pdf\n",
    ":::"
   ]
  },
  {
   "cell_type": "markdown",
   "id": "d73e83cd-cc8d-4243-9599-87dcb64d28c5",
   "metadata": {
    "tags": [],
    "user_expressions": []
   },
   "source": [
    "{eq}`hamiltonian-2q-mean-field` yields a _residual_ interaction {math}`\\hat{V'}` whose matrix elements are much reduced in amplitude with respect to the bare two-nucleon potential.{cite:ps}`barrett_minimizing_1993` This residual interaction is responsible for configuration mixing between single-particle states, and "
   ]
  },
  {
   "cell_type": "markdown",
   "id": "9c65106b-3416-4f3a-99dd-e699685d35bf",
   "metadata": {
    "user_expressions": []
   },
   "source": [
    ":::{admonition} To Do\n",
    "Mention HF for determining self-consistent field (define self consistent)\n",
    "Explain HF method vs SM (Wong both chapters), explain effective and self consistent. Explain how residual interaction is restored\n",
    "HF fails for pairing (168, greiner) 224 NM Greiner\n",
    "\n",
    "Why does HF not include residual? (FONM Rowe 528)\n",
    ":::"
   ]
  },
  {
   "cell_type": "markdown",
   "id": "c2c164f1-b006-4509-aab6-e91d48f79fb4",
   "metadata": {
    "user_expressions": []
   },
   "source": [
    ":::{admonition} To Do\n",
    "- This wording is messy. It's not the need to truncate that makes this useful transformation? Want to have a basis roughly informed by expt so that we can energy order and therefore truncate (see wong 328) See also ROWE FONM 234\n",
    "- Rowe talks about HF vs non-formal shell model with expt-derived matrix elements in p154. Show that SM is first-order HF approximation (Rowe & ?)\n",
    "   - Wong does this too\n",
    "- Motivate mean field given pauli, but note can't ignore residual entirely (Greiner)\n",
    ":::"
   ]
  },
  {
   "cell_type": "markdown",
   "id": "7f89666f-acd6-47e7-99e8-e846a190e05e",
   "metadata": {
    "user_expressions": []
   },
   "source": [
    "<hr>"
   ]
  },
  {
   "cell_type": "markdown",
   "id": "6f69564b-8eb8-4a17-a599-08fa7b6a9fb0",
   "metadata": {
    "user_expressions": []
   },
   "source": [
    "> Within the shell model the complexity of nuclear manybody problem is simplified by considering the nucleus as\n",
    "composed of an inert core, made up of completely filled\n",
    "neutron and proton shells, plus the remaining nucleons -\n",
    "valence nucleons - that interact in a truncated model space\n",
    "spanned in general by a single major proton shell and/or\n",
    "a single major neutron shell above the inert core. All the\n",
    "shells above the model space are empty and constitute the\n",
    "external space.\n",
    "The shell-model Hamiltonian is written as\n",
    "Heff = H0 + V . (1)\n",
    "where H0 is the one-body component, which describes the\n",
    "independent motion of the nucleons, while V represents\n",
    "the two-body residual interaction between the valence nucleons in the chosen model space.\n",
    "The shell-model Hamiltonian should account in an effective way for the neglected degrees of freedom, namely\n",
    "for the excitations of core particles into the model and external spaces as well as for the excitations of valence particles in the external space. In the large majority of shellmodel calculations performed until the beginning of the\n",
    "2000s, empirical Hamiltonians have been employed, by\n",
    "considering the single-particle (SP) energies of the onebody term and the two-body matrix elements of the residual interaction as free parameters, or by taking an analytical expression with adjustable parameters for the residual\n",
    "interaction. In both\n",
    "\n",
    "https://www.epj-conferences.org/articles/epjconf/pdf/2020/08/epjconf_hias2019_04006.pdf"
   ]
  },
  {
   "cell_type": "markdown",
   "id": "01195e77-a795-4a3e-bf6e-a2b8372b7aa4",
   "metadata": {
    "user_expressions": []
   },
   "source": [
    ">  If the Schr¨odinger equation\n",
    "HΨi(1, 2, . . . , A) = EiΨi(1, 2, . . . , A) (3)\n",
    "could be solved in the infinite Hilbert space for a many-body system, the\n",
    "results would not depend on the choice of the one-body potential u, or,\n",
    "equivalently, the single-particle basis. In practice, in order to solve Eq.(3),\n",
    "one must truncate the infinite Hilbert space to a finite model space and\n",
    "introduce an effective interaction (Veff) to be used in the truncated model\n",
    "space. F\n",
    "\n",
    "https://arxiv.org/pdf/nucl-th/9306014.pdf"
   ]
  },
  {
   "cell_type": "markdown",
   "id": "1f68f8b9-c23d-49ad-8d40-345cb5c80a9b",
   "metadata": {},
   "source": [
    "HF finds U as two body V (Heyde)"
   ]
  },
  {
   "cell_type": "markdown",
   "id": "73676aad-fe2f-4699-bc0d-acad9fafceeb",
   "metadata": {},
   "source": [
    "- what is an effective interaction (see WONG p258)\n",
    "- why do small matrix elements mean we can truncate model space? seems like greiner is saying that's separate\n",
    "- How does wick's theorem relate to bringing in residual interaction  (D. Rowe Collective Motion?)\n",
    "  - is residual absent from HF?\n",
    "  "
   ]
  },
  {
   "cell_type": "markdown",
   "id": "dbdc8a1f-0f57-4aa5-9afa-46401bce959c",
   "metadata": {
    "user_expressions": []
   },
   "source": [
    "> model space(a subspace of M dimensions of the N-dimensional space under consideration) and to display and investigate some of its properties. Most important among these was the convergence of the expansion for W in powers of the bare interaction I/ (or, in actual nuclei, in powers of the Brueckner-Bethe G-matrix). It was shown in [l] that this\n"
   ]
  },
  {
   "cell_type": "markdown",
   "id": "6abd418d-c65a-4422-a335-7c83a923f18f",
   "metadata": {},
   "source": [
    "The bare two-nucleon interaction strong, such that it is difficult to truncate "
   ]
  },
  {
   "cell_type": "markdown",
   "id": "4bd8133f-effb-47b4-860b-11b153c5e64f",
   "metadata": {},
   "source": [
    "This single-particle potential"
   ]
  },
  {
   "cell_type": "markdown",
   "id": "5173d9ca-f40a-431a-b365-bc1f774140bb",
   "metadata": {
    "user_expressions": []
   },
   "source": [
    "If we consider up-to two body interactions, the Hamiltonian for a nucleus of {math}`N` nucleons is\n",
    "\n",
    ":::{math}\n",
    "\\hat{H} = \\hat{T} + \\hat{V}\\,,\n",
    ":::"
   ]
  },
  {
   "cell_type": "markdown",
   "id": "eccd886d-f898-49e2-b761-d0145690ef91",
   "metadata": {
    "tags": [],
    "user_expressions": []
   },
   "source": [
    "For an isolated system of {math}`N`-particles, the kinetic operator {math}`\\hat{T}` can be written as \n",
    ":::{math}\n",
    "\\hat{T} = \\sum_i^N \\hat{t}_i\\,,\n",
    ":::\n",
    "where {math}`\\hat{t}_i` is the one-body kinetic operator acting on particle {math}`i`."
   ]
  },
  {
   "cell_type": "markdown",
   "id": "f269b211-7b25-4333-a457-1accd858bb4a",
   "metadata": {},
   "source": [
    "In a many-body system, the potential term {math}`\\hat{V}` is more complex; it operates on "
   ]
  },
  {
   "cell_type": "markdown",
   "id": "3eb20662-0b70-4f94-accf-cf0fb92a6348",
   "metadata": {
    "tags": [],
    "user_expressions": []
   },
   "source": [
    "In a fermionic system, such as the nucleus, anti-symmetry requirements restrict the set of valid states to those which  \n",
    "In this basis, the kinetic energy operator {math}`\\hat{T}` can be taken as a sum of the single-particle operators {math}`\\hat{T}^{[1]}_i`\n",
    ":::{math}\n",
    "\\hat{T} = \\sum_i \\hat{T}_i^{[1]}\\,.\n",
    ":::\n",
    "Meanwhile, the potential operator that describes the interaction potential between distinct nucleons is given by\n",
    ":::{math}\n",
    "\\hat{V} = \\sum_{i\\neq j} TODO\n",
    ":::"
   ]
  },
  {
   "cell_type": "markdown",
   "id": "ade77e93-7fd6-41f9-8f70-436d6d2561ae",
   "metadata": {},
   "source": [
    " "
   ]
  },
  {
   "cell_type": "markdown",
   "id": "8f623594-d1cd-4c4b-958c-fa22eb57113a",
   "metadata": {
    "user_expressions": []
   },
   "source": [
    "Define O(1) and O(2) operators w/o Fock space / 2nd quantization. Show that mean field can be introduced by factoring 2-body potential. "
   ]
  },
  {
   "cell_type": "markdown",
   "id": "eccb8856-1091-4723-98cd-937a4181297b",
   "metadata": {
    "tags": [],
    "user_expressions": []
   },
   "source": [
    "the kinetic energy operator {math}`\\hat{T}` can be defined in the canonical (direct-product) basis as a sum of the single-particle operators {math}`\\hat{T}^{[1]}_i`\n",
    ":::{math}\n",
    "\\hat{T} = \\sum_i \\hat{T}_i^{[1]}\\,.\n",
    ":::\n",
    "Where these particles are identical, such as the fermions that comprise a nucleus, we have \n",
    ":::{math}\n",
    "\\hat{T}_1^{[1]} &= \\hat{T}^{[1]} \\otimes \\hat{1} \\otimes \\dots \\otimes \\hat{1}\n",
    "\n",
    "\\hat{T}_2^{[1]} &= \\hat{1} \\otimes \\hat{T}^{[1]} \\otimes \\dots \\otimes \\hat{1}\n",
    "\n",
    "&\\vdots\n",
    "\n",
    "\\hat{T}_N^{[1]} &= \\hat{1} \\otimes \\dots \\otimes  \\hat{1} \\otimes \\hat{T}^{[1]}\\,.\n",
    ":::"
   ]
  },
  {
   "cell_type": "markdown",
   "id": "2b841f38-fc36-467e-9f0b-c26c0e15fa1a",
   "metadata": {},
   "source": [
    "Meanwhile, the potential "
   ]
  },
  {
   "cell_type": "markdown",
   "id": "0ce8de2d-bc40-435f-9c91-183364b0e75d",
   "metadata": {
    "tags": [],
    "user_expressions": []
   },
   "source": [
    "For a many-body system, most naturally defined in a direct-product basis (of single-particle states), these operators are \n",
    ":::{math}\n",
    "\\hat{H} = \\hat{T} + \\hat{V}\\,,\n",
    ":::\n",
    "% Write \\hat{V} = \\sum_i V_i^{(1)} + V_i^{(2)} (Sigve Bøe Skattum)\n",
    "Considering only two-body interactions for the potential, we have\n",
    ":::{math}\n",
    ":label: many-body-hamiltonian-simple\n",
    "\n",
    "\\hat{H} = \\sum_i \\hat{T}^{(i)} + \\sum_{i\\neq j} \\hat{V}^{(i,j)}\\,,\n",
    ":::\n",
    "where the superscript {math}`(i,j)` indicates that the operator acts between the {math}`i,j`-th particles.\n",
    "It is possible to introduce a single-particle potential {math}`\\hat{U}` such that {numref}`many-body-hamiltonian-simple` becomes\n",
    ":::{math}\n",
    ":label: many-body-hamiltonian-simple\n",
    "\n",
    "\\hat{H} = \\sum_i \\hat{T}^{(i)} + \\hat{U}^{(i)} + \\sum_{i\\neq j} \\hat{V}^{(i,j)}\\,.\n",
    ":::"
   ]
  },
  {
   "cell_type": "markdown",
   "id": "5078e07b-1607-4110-ad7c-5b99e5b46d20",
   "metadata": {
    "user_expressions": []
   },
   "source": [
    "Fromm the mean field calculation, the single particle energies are obtained. However, the residual interaction is still there that the actual state could be affected. Because the residual interaction produces the off-diagonal terms in the total Hamiltonian, and that mixed the single particle state.\n",
    "\n",
    "https://nukephysik101.wordpress.com/tag/model-space/"
   ]
  },
  {
   "cell_type": "markdown",
   "id": "3d005fc1-7d21-4a45-b58a-8c09ca7b32ab",
   "metadata": {
    "user_expressions": []
   },
   "source": [
    "> The role of the residual\n",
    "interaction may be viewed as introducing configuration mixing among such states so\n",
    "that the wave functions, now made of linear combinations of these “basis” states, give\n",
    "a better description of the actual physical situation. \n",
    "> \n",
    "> Furthermore, we saw earlier in $7-2 that single-particle orbits are separated into\n",
    "“shells” because of the large energy gaps between groups of orbits. This provides us\n",
    "with a natural way to select the active space\n",
    "> \n",
    "> There are three steps that must be carried out before we can perform the calculations: the choice of a single-particle basis, the selection of an active space, and the\n",
    "derivation of an effective interaction. These three steps are intimately related to each\n",
    "other, as we shall see from the discussion following.\n",
    ">\n",
    "> In most nuclear structure investigations, we are primarily interested in a few low-\n",
    "lying states. As a result, only nucleons in single-particle states near the Fermi surface\n",
    "are directly involved. The rest of the nucleons are in low-lying single-particle states\n",
    "and they are seldom excited. For all practical purposes, they can be assumed t o form\n",
    "an inert core. Their contributions t o the Hamiltonian may be separated into two parts.\n",
    "The first is a constant term in energy, made of single-particle energies and mutual\n",
    "interaction between nucleons in the core. Such a constant can usually be absorbed into\n",
    "the definition of the zero point of the energy scale for the A-nucleon system and may\n",
    "be ignored. The only exception occurs in calculations such as those involving the total\n",
    "binding energy of the nucleus. The second is the binding energies of the active nucleons\n",
    "provided by the core.\n",
    "\n",
    "Wong"
   ]
  },
  {
   "cell_type": "markdown",
   "id": "d9659ea2-3632-4a8f-837a-b00bac8c737e",
   "metadata": {
    "user_expressions": []
   },
   "source": [
    "- Choose single-particle basis to span {math}`\\mathcal{H}^N`\n",
    "- [Anti]Symmetric states are eigenvectors of diagonal SP Hamiltonian in new basis\n",
    "- Approximate {math}`H = T + V^{(2)}` (ignore higher order terms).\n",
    "- Find {math}`H = (T + U) + (V - U)` \n",
    "- Choose {math}`U` such that {math}`V - U` can use reduced basis?, or negligible to be ignored#"
   ]
  },
  {
   "cell_type": "markdown",
   "id": "8509292c-6471-43b8-974c-16ee846cec34",
   "metadata": {
    "tags": [],
    "user_expressions": []
   },
   "source": [
    "> In the low energy regime of nuclear physics the underlying quantum chromodynamics (QCD) degrees of freedom are not excited. To obtain information about the structure of the atomic nucleus\n",
    "one needs to solve the many-body nuclear Hamiltonian using a method appropriate\n",
    "to the nucleus under study\n",
    "In contrast, in the traditional shell model a phenomenological\n",
    "mean field created by all the nucleons is taken as the potential which confines the\n",
    "nucleons. The model space is constructed by distributing the valence nucleons over\n",
    "single-particle orbitals residing outside the “frozen” single-particle orbitals occupied\n",
    "by the core nucleons (the core is usually a doubly magic nucleus). The core does not\n",
    "explicitly interact with the valence nucleons. To account for configuration mixing a\n",
    "residual interaction is included in the shell model Hamiltonian [5, 6], and the solution\n",
    "is then obtained by diagonalizing the Hamiltonian in the selected model space.\n",
    "internucleon interactions can be derived by fitting an interaction to\n",
    "experimental nucleon-nucleon scattering data and energies of a few bound states of\n",
    "light nuclei\n",
    "\n",
    "\n",
    "https://arxiv.org/pdf/1704.02363.pdf"
   ]
  },
  {
   "cell_type": "markdown",
   "id": "0abf128d-c740-4417-ada9-2f2a76908165",
   "metadata": {
    "user_expressions": []
   },
   "source": [
    "> The fact that a one-body mean field governs the structure and low-energy dynamics of nuclei in spite of the\n",
    "exceedingly strong two-body interactions described by the\n",
    "nucleon-nucleon potential arises primarily from the Pauli\n",
    "exclusion principle. The question of whether one-body\n",
    "behavior or two-body collisions dominate depends essentially on whether the nucleon mean-free path is much\n",
    "longer or shorter than the nuclear size.\n",
    "\n",
    "negele The mean-field theory of nuclear structure and dynamics 1982"
   ]
  },
  {
   "cell_type": "markdown",
   "id": "03aebe31-990e-4365-967a-1e35ed5419a1",
   "metadata": {
    "user_expressions": []
   },
   "source": [
    "Volya:\n",
    "    \n",
    "   \n",
    "Where does tensor force come from? Something about residual interacting IIRC\n",
    "\n",
    "- Residual interaction required to model complex correlational phenomena, inc pauli effect\n",
    "- > In nuclear applications, the natural single-particle basis is provided by the mean ﬁeld.\n",
    "- Mean-field ←→ liquid drop relationship\n",
    "   > We consider the nucleus as a self-sustaining system of identical fermions. The origi-\n",
    "nal (vacuum) nucleon–nucleon interaction is very strong. It creates a many-body object\n",
    "that has some properties of a liquid drop. This certainly shows that the signiﬁcant part of\n",
    "interaction is spent to form a mean ﬁeld. The mean ﬁeld is responsible for nuclear shape\n",
    "and main symmetry features. It accumulates the most smooth “coherent” components\n",
    "of interactio\n",
    "- > However, a signiﬁcant part\n",
    "of the interaction is averaged out due to the fact that the system has many degrees of\n",
    "freedom that interact simultaneously. Another averaging factor comes from the Fermi\n",
    "statistics. The most stable, coherent part of the interaction can be presented as a mean\n",
    "ﬁeld created by all particles and inﬂuencing motion of each of them.\n",
    "- > consider the mean ﬁeld as an external\n",
    "ﬁeld with the properties established by experiment. Such a ﬁeld is not self-consistent as\n",
    "it should be. We do not know how the change in motion of a particle changes the ﬁeld\n",
    "acting onto all other particles\n",
    "- > the ﬁeld is created by many particles and only a synchronous coherent excitation of many\n",
    "of them can change the ﬁeld considerably. After averaging, the incoherent excitations of\n",
    "individual particles and random collision-like processes usually will have little inﬂuence\n",
    "onto the mean ﬁeld.\n",
    "-> the particles and their residual interactions in\n",
    "the mean ﬁeld are not the same as in vacuum. The particles are “dressed” by the part\n",
    "of the interaction that was already taken into account by formation of the mean ﬁeld: a bare particle is accompanied by a\n",
    "cloud of changes in the medium induced by its presence. L. Landau called these objects\n",
    "quasiparticles. This term is used also in a diﬀerent sense (“Bogoliubov quasiparticles”). Therefore, often we call our objects particles,\n",
    "keeping in mind that they are not original nucleons.\n",
    "   - See also suhonen for quasiparticles\n",
    "- > the properties of the quasiparticles have to be\n",
    "taken from experiment. Their number is equal to a number of the original “bare”\n",
    "particles and the dressing keeps unchanged exact quantum numbers – spin, electric\n",
    "charge, isospin – and Fermi statistics, whereas some quantitative characteristics can\n",
    "change. The quasiparticles acquire an eﬀective mass, they have renormalized magnetic\n",
    "moments, and so on. At slow velocities the whole cloud of a quasiparticle is moving\n",
    "together; at sharp excitation we can recover bare particles as a seed inside the cloud.\n",
    "- > there also exist other collective phenomena along with incoherent collision-like pro-\n",
    "cesses, which are averaged out when the mean ﬁeld is extracted. They are responsible\n",
    "for mixing of simple mean-ﬁeld conﬁgurations that becomes more and more strong as\n",
    "excitation energy and level density increase.\n",
    "- > The Hartree–Fock (HF)\n",
    "method is a regular procedure that allows one to ﬁnd the best mean ﬁeld for a given\n",
    "interaction Hamiltonian.\n",
    "- > the solution of the HF equations gives, as a many-body ground state, a\n",
    "Slater determinant constructed of the self-consistent orbitals |𝜆). Moreover, this is the\n",
    "best approximation to the solution of the full original Schrödinger equation that can\n",
    "be represented by a single Slater determinant. Therefore, the variational approach is\n",
    "possible. One can consider the class of trial functions consisting of all Slater deter-\n",
    "minants built of all possible complete sets of single-particle orbitals. Among all these\n",
    "determinants, one can look for the determinant that minimizes the total energy of the\n",
    "system. This turns out to be just the solution of the HF equations\n",
    "-> Pairing inﬂuences nuclear shapes, moments of\n",
    "inertia, mass parameters, transition probabilities, and reaction cross sections. On the\n",
    "other hand, nuclear shape deﬁnes single-particle orbits and conditions for pairing. The\n",
    "energy gap is also a self-consistent quantity that depends on wave functions and ener-\n",
    "gies of particle orbits. This complex interplay of various residual interactions is not\n",
    "accounted for in the HF approach that does not include pairing correlations on equal\n",
    "footing. The pairing added in the BCS model does not change the nuclear ﬁeld that\n",
    "means a lack of self-consistency.\n",
    "A more general approach that produces an advanced version of the self-consistent\n",
    "ﬁeld method is the Hartree–Fock–Bogoliubov (HFB\n",
    "- I recall something about directly computing matrix elements. Is this for the \n",
    "SPSM? Note from Volya:\n",
    "   > Very successful calculations were systematically performed with semiempirical\n",
    "interactions. Here it is possible, for a limited purpose of quantitative description\n",
    "of low-energy spectroscopic information, to make a direct diagonalization in the\n",
    "truncated space of single-particle orbits. \n",
    "If, at excitation energies of interest, there is no nuclear states that require\n",
    "the excitation of the core or the transfer of the valence particles into the next shell,\n",
    "one can ﬁnd an eﬀective two-body Hamiltonian that reproduces, in the many-body\n",
    "diagonalization, the observed levels and matrix elements of simple multipole operators.\n",
    "These 63 matrix elements can be ﬁt to give the best overall description of hundreds\n",
    "known observables\n",
    "- This technique breaks down for heavy nuclei as the valence space grows too large, but\n",
    "   > the direct application of the\n",
    "HF approximation with the realistic nucleon–nucleon forces is not satisfactory. It is\n",
    "impossible to obtain simultaneously a reasonable description of saturation of nuclear\n",
    "forces (nuclei do not collapse in spite of nuclear attraction) and binding energy in heavy\n",
    "nuclei or in the limit of inﬁnite nuclear matter. The HF approximation does not take into\n",
    "account the short-range nucleon–nucleon correlations associated with the repulsive\n",
    "core. Such eﬀects are averaged out in the mean-ﬁeld description, but they are impor-\n",
    "tant for preventing a collapse. They cannot be included by perturbation theory because\n",
    "such a short-range scattering leads formally to inﬁnite matrix elements.\n",
    "Therefore, it is necessary either to include directly short-range correlations and give up\n",
    "the mean ﬁeld approximation or to introduce eﬀective interactions. Except for the light17.11 Skyrme Functionals\n",
    "nuclei, the last option is more attractive from both computational and conceptual points\n",
    "of view.\n",
    "- This leads to DF theory (and AMD?)\n",
    "   > In the same spirit of averaging the random components of dynamics as used for extract-\n",
    "ing the mean ﬁeld [15], one can assume that the result will depend mainly on the local\n",
    "density. This gives rise to the so-called energy density functional method. In general, it\n",
    "is possible to show [QP, II, 19.10] that the ground state density of the particles given as a\n",
    "function of coordinates uniquely determines the ground state many-body wave function\n",
    "of the system"
   ]
  },
  {
   "cell_type": "markdown",
   "id": "367886f5-27e5-4706-8642-5428994dd657",
   "metadata": {
    "tags": [],
    "user_expressions": []
   },
   "source": [
    "- Shell model:\n",
    "   > The major\n",
    "shells are separated by relatively large energy gaps that suppress the probability of the\n",
    "ground state to involve particle excitations into the neighboring major shells.\n",
    "There are also less pronounced but still noticeable eﬀects of the closure of subshells\n",
    "at numbers of protons or neutrons equal to 6, 28, 40, and others. The energy spacings\n",
    "between the subshells within a given major shell are narrower than between the major\n",
    "shells.\n",
    "Nuclei with magic Z have an increased number of stable (in nuclear sense, which\n",
    "means with respect to the spontaneous emission of nucleons but not to the beta-decay)\n",
    "isotopes with diﬀerent N, whereas nuclei with magic N have an increased number of\n",
    "isotones with diﬀerent Z."
   ]
  },
  {
   "cell_type": "markdown",
   "id": "74d9084f-980b-4d80-96d1-59cef42ea41d",
   "metadata": {
    "tags": [],
    "user_expressions": []
   },
   "source": [
    "What is Bogoliubov?\n",
    "> There are lots of physical systems for which a mean-field treatment leads to terms in the\n",
    "Hamiltonian that are bilinear in creation or annihilation operators;\n",
    ":::{math}\n",
    "\\mathcal{H}=\\epsilon_{1} \\hat{c}_{1}^{\\dagger} \\hat{c}_{1}+\\epsilon_{2} \\hat{c}_{2}^{\\dagger} \\hat{c}_{2}+\\lambda \\hat{c}_{1}^{\\dagger} \\hat{c}_{2}^{\\dagger}+\\lambda^{*} \\hat{c}_{1} \\hat{c}_{2}\n",
    ":::\n",
    "> These terms are present in Bose condensates (the subject of the next chapter), superfluids, superconductors and anti-ferromagnets (a topic touched upon in Chapter 4). A\n",
    "Hamiltonian with such terms does not preserve particle number — the groundstate is a\n",
    "superposition of different numbers of particles, which occurs physically by the system exchanging particles with the condensate or environment. A unitary transformation cannot\n",
    "be used to diagonalize these Hamiltonians. Instead, one must use a Bogoliubov transformation\n",
    "\n",
    "I.e. to make hamiltonian preserve the particle number? http://www.homepages.ucl.ac.uk/~ucanfkr/lecturenotes/CMtheory/CMT1.pdf"
   ]
  },
  {
   "cell_type": "markdown",
   "id": "eb2f76ce-5462-4882-8fa3-d33a26c6b874",
   "metadata": {
    "user_expressions": []
   },
   "source": [
    "Tamm Dancoff: treatment of excited states (Fetter)"
   ]
  },
  {
   "cell_type": "markdown",
   "id": "ba3eeb99-4e0b-47da-a5f7-2d197579f41d",
   "metadata": {
    "user_expressions": []
   },
   "source": [
    "Green functions?"
   ]
  },
  {
   "cell_type": "markdown",
   "id": "0b6e6a73-9ff7-488a-83ac-e62af53396ef",
   "metadata": {
    "user_expressions": []
   },
   "source": [
    "AMD?"
   ]
  },
  {
   "cell_type": "markdown",
   "id": "f1433b49-d3cc-4c05-a993-1a31e3aee170",
   "metadata": {
    "user_expressions": []
   },
   "source": [
    "Wong:\n",
    "\n",
    "Three body force:\n",
    "- All the available evidence indicates that such a term, if present, must\n",
    "be very much weaker than the two-body force.\n",
    "\n",
    "One body potential:\n",
    "- one may on occasion introduce\n",
    "an “effective” one-body term in the nuclear potential to approximate the average effect from all the other nucleons in the nucleus. The source of such an effective one-body potential is, however, the two-body interaction between nucleons.\n",
    "\n",
    "\n",
    "READ CHAP 7 + 6\n",
    "\n",
    "> ere f k is the singleparticle energy. We shall see an example of h ( ~ , in\n",
    ") Eq. (7-10)\n",
    "of the next section. In terms of such a single-particle Hamiltonian, the many-body238\n",
    "ChaD. 7\n",
    "Microscooic Models of Nuclear Structure\n",
    "Hamiltonian in Eq. (7-1) may be expressed in the form\n",
    "where v ( r ; ,r , ) is the residual two-body interaction, the original nucleon-nucleon inter-\n",
    "action K, in Eq. (7-2) minus contributions already included in /L(T,), We shall not be\n",
    "concerned here with the technical question of transforming the Hamiltonian from the\n",
    "form given by Eq. (7-2) to that in (7-7). One method is given in '$7-3, and the formal\n",
    "procedure is given in 57-5. On the other hand, it is clear that if we choose h ( r ; )such\n",
    "that a large part of the effect of the two-body interaction in Eq. (7-2) is included, the\n",
    "residual interaction e ( r i , r l )will be sufficiently weak that, in some cases, it may even\n",
    "be adequate to ignore it. This gives us various independent particle models. Alterna-\n",
    "tively, we can make use of the energies ck to reduce the Hilbert space to a manageable\n",
    "size and solve the eigenvalue problem with the residual interaction in the truncated\n",
    "space. An example is the spherical shell model described in 57-5.\n",
    "\n",
    "Takigawa:\n",
    "> The effective mass hitherto discussed within the framework of the Hartree–Fock\n",
    "theory arises from the antisymmetrization of nucleons. In revised theories which go\n",
    "beyond the Hartree–Fock approximation, the single-particle potential has an energy\n",
    "dependent correction term in addition to the potential UHF in the Hartree–Fock theory\n",
    "due to, e.g., the coupling of nucleons to the surface vibration, which is one of the\n",
    "nuclear collective excitations\n",
    "\n",
    "Isacker:\n",
    "> Our understanding of the structure of the atomic nucleus is at\n",
    "present incomplete, based as it is on various models with\n",
    "limited ranges of applicability. Examples are the spherical shell\n",
    "model and the geometric collective model. While the former\n",
    "stresses the single-particle nature of the nucleons in the\n",
    "nucleus, their coherent motion is emphasized by the latter. A\n",
    "recurring question in more than half a century of basic nuclear\n",
    "research has been how to reconcile two such opposing views of\n",
    "the structure of the nucleus. The currently accepted paradigm is\n",
    "that the structural patterns and regularities, as predicted by the\n",
    "geometric collective model, arise as emergent behaviour from\n",
    "the complex many-body problem of nucleonic interactions in\n",
    "the context of the spherical shell model.\n",
    "\n",
    "Suhonen:\n",
    "   > The central mean ﬁeld can emerge from a Hartree–Fock\n",
    "calculation or it can be phenomenological, e.g. of the Woods–Saxon type.\n",
    "   > The A-nucleon Schr¨odinger equation cannot be solved exactly, at least for\n",
    "A > 10. Therefore one has to look for reasonable approximate methods to\n",
    "solve this many-body problem of strongly interacting particles. An elegant\n",
    "approximation is to convert the strongly interacting system of particles into a\n",
    "system of weakly interacting quasiparticles quasiparticles are often referred to\n",
    "as particles approximation the system of quasiparticles can be treated as a set\n",
    "of A non-interacting quasiparticles. The remaining interactions, called residual\n",
    "interactions, can be treated in perturbation theory. The transformation from\n",
    "particles to quasiparticles is not easy, and its success depends on the nuclear\n",
    "system under discussion.\n",
    "\n",
    "PPTX:\n",
    "   > These truncations perturb the spherical shell model Hamiltonian - Effective residual interaction must be added"
   ]
  },
  {
   "cell_type": "markdown",
   "id": "925e2ce2-e3be-4957-a1fa-5a370228d8b2",
   "metadata": {
    "user_expressions": []
   },
   "source": [
    "Donelly:\n",
    "Why does s.l couple? \n",
    "\n",
    "   - discussed. It has been shown, however, to arise naturally, and with the correct\n",
    "   sign, from relativistic effects of the nucleonic notion. It is possible, though, to give plausible arguments for the radialshape of the spin-orbit potential. These\n",
    "   rely again on the notion that, in the interior of the nucleus, a nucleon should\n",
    "   experience no net force. If the spin-orbit force were large in the nuclear\n",
    "   interior there would be a preference for nucleons with spins aligned parallel to\n",
    "   their orbital angular momentum rather than vice versa and therefore such a\n",
    "   nucleon would not be surrounded by an equal number of nucleons with all spin\n",
    "   orientations. This suggests, although it certainly does not prove, that the spin\n",
    "   orbit force is primarily a surface phenomenon.\n",
    "   \n",
    "How stable are unique parity states?\n",
    "\n",
    "   > In some cases, these residual\n",
    "   interactions are diagonal, providing contributions only to the energies of the\n",
    "   various levels. In others, however, they have important nondiagonal effects\n",
    "   that mix different configurations. Whatever mixing does occur, however,\n",
    "   cannot mix levels of different parity. (We neglect here the very weak parity-\n",
    "   nonconserving part of the weak interaction.)\n",
    "   such mixing effects are strongly dependent on the energy separation of the mixed states, so the unique party l+1/2 state in each shell tends to mix weakly (as other levels in same shall have different parity)\n",
    "   \n",
    "How can particles be independent given that ratio of nucleon to nuclear volume is ~1/A:\n",
    "\n",
    "  >  By the Pauli principle, unless the impact of the collision is\n",
    "   sufficiently strong to raise one of these nucleons to an unoccupied orbit (i.e.,\n",
    "   above the Fermi surface), the interaction can have no effect on the motion of\n",
    "   these two nucleons. Therefore only the outermost nucleons are likely to be\n",
    "   affected by such collisions.\n",
    "   \n",
    "Why do closed shells have spin 0?\n",
    "\n",
    "   >  from joint basis, M = \\sum m_i = j + j-1 + j-2 + ... -j = 0\n",
    "    why is J zero?\n",
    "Overlap of closed shells with single particles is angle independent, so radial fn - same effect on magnetic substates.  \n",
    "   - closed shells with high average j lower energies of single particles with high j.\n",
    "    \n",
    "   \n",
    "green func? \n",
    "skyrme force?\n"
   ]
  },
  {
   "cell_type": "markdown",
   "id": "1e728c23-1631-4a39-8499-f364861aba0a",
   "metadata": {
    "user_expressions": []
   },
   "source": [
    "Nuclear Models, Greiner\n",
    "- IPM\n",
    "   > This type of model of noninteracting particles in a mean potential is often called the independent particle model.\n",
    "- HF / Mean Field\n",
    "    > \\begin{equation}\n",
    "    \\mathcal{H}=\\epsilon_{1} \\hat{c}_{1}^{\\dagger} \\hat{c}_{1}+\\epsilon_{2} \\hat{c}_{2}^{\\dagger} \\hat{c}_{2}+\\lambda \\hat{c}_{1}^{\\dagger} \\hat{c}_{2}^{\\dagger}+\\lambda^{*} \\hat{c}_{1} \\hat{c}_{2}\n",
    "    \\end{equation}\n",
    "    >\n",
    "    >The number of states in the sum of (7.39) is staggering. Even if we take into account the fact that the ordering of the indices is unimportant, the number of terms in the sum will be given by how many ways there are to choose $A$ occupied single-particle states from $N_{\\mathrm{c}}$ available ones, which is clearly\n",
    "    > \n",
    "    > $$\n",
    "    \\left(\\begin{array}{c}\n",
    "    N_{\\mathrm{c}} \\\\\n",
    "    A\n",
    "    \\end{array}\\right),\n",
    "    $$\n",
    "    > \n",
    "    > if the number of available states is cut off to $N_{\\mathrm{c}}$. Obviously the problem is not tractable in general. There are two alternatives for proceeding: either restrict the number of particles and states, or replace the general wave function of (7.39) by a much simpler approximate one. The first approach is used in the shell model, which assumes that only a small number of nucleons outside a closed shell and confined to few states determine the nuclear properties. The most prominent case of the second approach is the Hartree-Fock approximation, which we will now develop. In essence the sum over all the different occupations is replaced by a single term; then the single-particle wave functions cannot be chosen arbitrarily but are prescribed by the method.\n",
    "    > \n",
    "    > The Hartree-Fock equations show a mechanism by which the nucleons themselves can produce a strong central field in a nucleus in analogy to the central Coulomb field in the atom, which is not produced by the electrons. What makes this possible? Clearly the assumption of the Hartree-Fock approximation was the neglection of correlations, arising from direct particle-particle scattering not mediated by the mean field. This is reasonable if the scattering is prohibited by the Pauli principle, so that an inordinately large amount of energy is needed for the process. The correlations are, however, important for the excited states and this will be the topic in Sect. 8.2.\n",
    "    > \n",
    "    > The full two-body interaction to the extent that it is not included in the mean field is called the residual interaction. One important part of it is taken into account by the pairing force (Sect. 7.5) and other contributions lead to correlated excitations as mentioned.\n",
    "    > \n",
    "    > The Hartree-Fock equations form a self-consistent problem in the sense that the wave functions determine the mean field, while the mean field in turn determines the wave functions. In practice this leads to iterative solutions in which one starts\n"
   ]
  },
  {
   "cell_type": "markdown",
   "id": "0d5708a7-5423-430f-9ae0-b3abccedb04d",
   "metadata": {
    "user_expressions": []
   },
   "source": [
    "## Effective Operator\n",
    "## NCSM"
   ]
  },
  {
   "cell_type": "markdown",
   "id": "accbfc2f-12da-4952-857f-3c12e57c5ec5",
   "metadata": {
    "user_expressions": []
   },
   "source": [
    "## Rigid Rotor (rotational bands)\n",
    "## Nuclear Molecules\n",
    "## AMD\n",
    "## Nilsson Stutinsky"
   ]
  },
  {
   "cell_type": "code",
   "execution_count": null,
   "id": "c9d6b73f-5686-4c47-be2a-276c6143957f",
   "metadata": {},
   "outputs": [],
   "source": []
  }
 ],
 "metadata": {
  "kernelspec": {
   "display_name": "Python 3 (ipykernel)",
   "language": "python",
   "name": "python3"
  },
  "language_info": {
   "codemirror_mode": {
    "name": "ipython",
    "version": 3
   },
   "file_extension": ".py",
   "mimetype": "text/x-python",
   "name": "python",
   "nbconvert_exporter": "python",
   "pygments_lexer": "ipython3",
   "version": "3.10.5"
  },
  "widgets": {
   "application/vnd.jupyter.widget-state+json": {
    "state": {},
    "version_major": 2,
    "version_minor": 0
   }
  }
 },
 "nbformat": 4,
 "nbformat_minor": 5
}
