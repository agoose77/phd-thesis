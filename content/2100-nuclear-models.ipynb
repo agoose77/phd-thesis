{
 "cells": [
  {
   "cell_type": "markdown",
   "id": "0ec51114-f100-4101-a5c4-75e14ed753b2",
   "metadata": {
    "user_expressions": []
   },
   "source": [
    "# Nuclear Models\n",
    "\n",
    "Understanding the structure of the nucleus can be done in a variety of ways\n",
    "\n",
    "Microscopic models\n",
    ": emergent phenomena from single-nucleon treatment of nucleus\n",
    "\n",
    "Macroscopic models\n",
    ": collective description of nucleus leads to predictions of macroscopic phenomena"
   ]
  },
  {
   "cell_type": "markdown",
   "id": "9cac82aa-b455-42ec-8371-b9ed0a48afa7",
   "metadata": {
    "tags": [],
    "user_expressions": []
   },
   "source": [
    "## Shell Model\n",
    "Fundamentally, the Hamiltonian of a many-body system consists of potential and kinetic terms\n",
    ":::{math}\n",
    "\\hat{H} = \\hat{T} + \\hat{V}\\,.\n",
    ":::\n",
    "Considering only two-body interactions for the potential, we have\n",
    ":::{math}\n",
    ":label: many-body-hamiltonian-simple\n",
    "\n",
    "\\hat{H} = \\sum_i \\hat{T}^{(i)} + \\sum_{i\\neq j} \\hat{V}^{(i,j)}\\,,\n",
    ":::\n",
    "where the superscript {math}`(i,j)` indicates that the operator acts between the {math}`i,j`-th particles.\n",
    "It is possible to introduce a single-particle potential {math}`\\hat{U}` such that {numref}`many-body-hamiltonian-simple` becomes\n",
    ":::{math}\n",
    ":label: many-body-hamiltonian-simple\n",
    "\n",
    "\\hat{H} = \\sum_i \\hat{T}^{(i)} + \\hat{U}^{(i)} + \\sum_{i\\neq j} \\hat{V}^{(i,j)}\\,.\n",
    ":::"
   ]
  },
  {
   "cell_type": "markdown",
   "id": "d9659ea2-3632-4a8f-837a-b00bac8c737e",
   "metadata": {
    "user_expressions": []
   },
   "source": [
    "- Choose single-particle basis to span {math}`\\mathcal{H}^N`\n",
    "- [Anti]Symmetric states are eigenvectors of diagonal SP Hamiltonian in new basis\n",
    "- Approximate {math}`H = T + V^{(2)}` (ignore higher order terms).\n",
    "- Find {math}`H = (T + U) + (V - U)` \n",
    "- Choose {math}`U` such that {math}`V - U` can use reduced basis?, or negligible to be ignored#"
   ]
  },
  {
   "cell_type": "markdown",
   "id": "03aebe31-990e-4365-967a-1e35ed5419a1",
   "metadata": {
    "user_expressions": []
   },
   "source": [
    "Volya:\n",
    "    \n",
    "   \n",
    "Where does tensor force come from? Something about residual interacting IIRC\n",
    "\n",
    "- Residual interaction required to model complex correlational phenomena, inc pauli effect\n",
    "- > In nuclear applications, the natural single-particle basis is provided by the mean ﬁeld.\n",
    "- Mean-field ←→ liquid drop relationship\n",
    "   > We consider the nucleus as a self-sustaining system of identical fermions. The origi-\n",
    "nal (vacuum) nucleon–nucleon interaction is very strong. It creates a many-body object\n",
    "that has some properties of a liquid drop. This certainly shows that the signiﬁcant part of\n",
    "interaction is spent to form a mean ﬁeld. The mean ﬁeld is responsible for nuclear shape\n",
    "and main symmetry features. It accumulates the most smooth “coherent” components\n",
    "of interactio\n",
    "- > there also exist other collective phenomena along with incoherent collision-like pro-\n",
    "cesses, which are averaged out when the mean ﬁeld is extracted. They are responsible\n",
    "for mixing of simple mean-ﬁeld conﬁgurations that becomes more and more strong as\n",
    "excitation energy and level density increase.\n",
    "- > The Hartree–Fock (HF)\n",
    "method is a regular procedure that allows one to ﬁnd the best mean ﬁeld for a given\n",
    "interaction Hamiltonian.\n",
    "- > the solution of the HF equations gives, as a many-body ground state, a\n",
    "Slater determinant constructed of the self-consistent orbitals |𝜆). Moreover, this is the\n",
    "best approximation to the solution of the full original Schrödinger equation that can\n",
    "be represented by a single Slater determinant. Therefore, the variational approach is\n",
    "possible. One can consider the class of trial functions consisting of all Slater deter-\n",
    "minants built of all possible complete sets of single-particle orbitals. Among all these\n",
    "determinants, one can look for the determinant that minimizes the total energy of the\n",
    "system. This turns out to be just the solution of the HF equations\n",
    "-> Pairing inﬂuences nuclear shapes, moments of\n",
    "inertia, mass parameters, transition probabilities, and reaction cross sections. On the\n",
    "other hand, nuclear shape deﬁnes single-particle orbits and conditions for pairing. The\n",
    "energy gap is also a self-consistent quantity that depends on wave functions and ener-\n",
    "gies of particle orbits. This complex interplay of various residual interactions is not\n",
    "accounted for in the HF approach that does not include pairing correlations on equal\n",
    "footing. The pairing added in the BCS model does not change the nuclear ﬁeld that\n",
    "means a lack of self-consistency.\n",
    "A more general approach that produces an advanced version of the self-consistent\n",
    "ﬁeld method is the Hartree–Fock–Bogoliubov (HFB\n",
    "- I recall something about directly computing matrix elements. Is this for the \n",
    "SPSM? Note from Volya:\n",
    "   > Very successful calculations were systematically performed with semiempirical\n",
    "interactions. Here it is possible, for a limited purpose of quantitative description\n",
    "of low-energy spectroscopic information, to make a direct diagonalization in the\n",
    "truncated space of single-particle orbits. \n",
    "If, at excitation energies of interest, there is no nuclear states that require\n",
    "the excitation of the core or the transfer of the valence particles into the next shell,\n",
    "one can ﬁnd an eﬀective two-body Hamiltonian that reproduces, in the many-body\n",
    "diagonalization, the observed levels and matrix elements of simple multipole operators.\n",
    "These 63 matrix elements can be ﬁt to give the best overall description of hundreds\n",
    "known observables\n",
    "- This technique breaks down for heavy nuclei as the valence space grows too large, but\n",
    "   > the direct application of the\n",
    "HF approximation with the realistic nucleon–nucleon forces is not satisfactory. It is\n",
    "impossible to obtain simultaneously a reasonable description of saturation of nuclear\n",
    "forces (nuclei do not collapse in spite of nuclear attraction) and binding energy in heavy\n",
    "nuclei or in the limit of inﬁnite nuclear matter. The HF approximation does not take into\n",
    "account the short-range nucleon–nucleon correlations associated with the repulsive\n",
    "core. Such eﬀects are averaged out in the mean-ﬁeld description, but they are impor-\n",
    "tant for preventing a collapse. They cannot be included by perturbation theory because\n",
    "such a short-range scattering leads formally to inﬁnite matrix elements.\n",
    "Therefore, it is necessary either to include directly short-range correlations and give up\n",
    "the mean ﬁeld approximation or to introduce eﬀective interactions. Except for the light17.11 Skyrme Functionals\n",
    "nuclei, the last option is more attractive from both computational and conceptual points\n",
    "of view.\n",
    "- This leads to DF theory (and AMD?)\n",
    "   > In the same spirit of averaging the random components of dynamics as used for extract-\n",
    "ing the mean ﬁeld [15], one can assume that the result will depend mainly on the local\n",
    "density. This gives rise to the so-called energy density functional method. In general, it\n",
    "is possible to show [QP, II, 19.10] that the ground state density of the particles given as a\n",
    "function of coordinates uniquely determines the ground state many-body wave function\n",
    "of the system"
   ]
  },
  {
   "cell_type": "markdown",
   "id": "f1433b49-d3cc-4c05-a993-1a31e3aee170",
   "metadata": {
    "user_expressions": []
   },
   "source": [
    "Wong:\n",
    "\n",
    "Three body force:\n",
    "- All the available evidence indicates that such a term, if present, must\n",
    "be very much weaker than the two-body force.\n",
    "\n",
    "One body potential:\n",
    "- one may on occasion introduce\n",
    "an “effective” one-body term in the nuclear potential to approximate the average effect from all the other nucleons in the nucleus. The source of such an effective one-body potential is, however, the two-body interaction between nucleons.\n",
    "\n",
    "\n",
    "READ CHAP 7 + 6\n",
    "\n",
    "> ere f k is the singleparticle energy. We shall see an example of h ( ~ , in\n",
    ") Eq. (7-10)\n",
    "of the next section. In terms of such a single-particle Hamiltonian, the many-body238\n",
    "ChaD. 7\n",
    "Microscooic Models of Nuclear Structure\n",
    "Hamiltonian in Eq. (7-1) may be expressed in the form\n",
    "where v ( r ; ,r , ) is the residual two-body interaction, the original nucleon-nucleon inter-\n",
    "action K, in Eq. (7-2) minus contributions already included in /L(T,), We shall not be\n",
    "concerned here with the technical question of transforming the Hamiltonian from the\n",
    "form given by Eq. (7-2) to that in (7-7). One method is given in '$7-3, and the formal\n",
    "procedure is given in 57-5. On the other hand, it is clear that if we choose h ( r ; )such\n",
    "that a large part of the effect of the two-body interaction in Eq. (7-2) is included, the\n",
    "residual interaction e ( r i , r l )will be sufficiently weak that, in some cases, it may even\n",
    "be adequate to ignore it. This gives us various independent particle models. Alterna-\n",
    "tively, we can make use of the energies ck to reduce the Hilbert space to a manageable\n",
    "size and solve the eigenvalue problem with the residual interaction in the truncated\n",
    "space. An example is the spherical shell model described in 57-5.\n",
    "\n",
    "Takigawa:\n",
    "> The effective mass hitherto discussed within the framework of the Hartree–Fock\n",
    "theory arises from the antisymmetrization of nucleons. In revised theories which go\n",
    "beyond the Hartree–Fock approximation, the single-particle potential has an energy\n",
    "dependent correction term in addition to the potential UHF in the Hartree–Fock theory\n",
    "due to, e.g., the coupling of nucleons to the surface vibration, which is one of the\n",
    "nuclear collective excitations\n",
    "\n",
    "Isacker:\n",
    "> Our understanding of the structure of the atomic nucleus is at\n",
    "present incomplete, based as it is on various models with\n",
    "limited ranges of applicability. Examples are the spherical shell\n",
    "model and the geometric collective model. While the former\n",
    "stresses the single-particle nature of the nucleons in the\n",
    "nucleus, their coherent motion is emphasized by the latter. A\n",
    "recurring question in more than half a century of basic nuclear\n",
    "research has been how to reconcile two such opposing views of\n",
    "the structure of the nucleus. The currently accepted paradigm is\n",
    "that the structural patterns and regularities, as predicted by the\n",
    "geometric collective model, arise as emergent behaviour from\n",
    "the complex many-body problem of nucleonic interactions in\n",
    "the context of the spherical shell model."
   ]
  },
  {
   "cell_type": "markdown",
   "id": "925e2ce2-e3be-4957-a1fa-5a370228d8b2",
   "metadata": {
    "user_expressions": []
   },
   "source": [
    "Donelly:\n",
    "Why does s.l couple? \n",
    "\n",
    "   - discussed. It has been shown, however, to arise naturally, and with the correct\n",
    "   sign, from relativistic effects of the nucleonic notion. It is possible, though, to give plausible arguments for the radialshape of the spin-orbit potential. These\n",
    "   rely again on the notion that, in the interior of the nucleus, a nucleon should\n",
    "   experience no net force. If the spin-orbit force were large in the nuclear\n",
    "   interior there would be a preference for nucleons with spins aligned parallel to\n",
    "   their orbital angular momentum rather than vice versa and therefore such a\n",
    "   nucleon would not be surrounded by an equal number of nucleons with all spin\n",
    "   orientations. This suggests, although it certainly does not prove, that the spin\n",
    "   orbit force is primarily a surface phenomenon.\n",
    "   \n",
    "How stable are unique parity states?\n",
    "\n",
    "   > In some cases, these residual\n",
    "   interactions are diagonal, providing contributions only to the energies of the\n",
    "   various levels. In others, however, they have important nondiagonal effects\n",
    "   that mix different configurations. Whatever mixing does occur, however,\n",
    "   cannot mix levels of different parity. (We neglect here the very weak parity-\n",
    "   nonconserving part of the weak interaction.)\n",
    "   such mixing effects are strongly dependent on the energy separation of the mixed states, so the unique party l+1/2 state in each shell tends to mix weakly (as other levels in same shall have different parity)\n",
    "   \n",
    "How can particles be independent given that ratio of nucleon to nuclear volume is ~1/A:\n",
    "\n",
    "  >  By the Pauli principle, unless the impact of the collision is\n",
    "   sufficiently strong to raise one of these nucleons to an unoccupied orbit (i.e.,\n",
    "   above the Fermi surface), the interaction can have no effect on the motion of\n",
    "   these two nucleons. Therefore only the outermost nucleons are likely to be\n",
    "   affected by such collisions.\n",
    "   \n",
    "Why do closed shells have spin 0?\n",
    "\n",
    "   >  from joint basis, M = \\sum m_i = j + j-1 + j-2 + ... -j = 0\n",
    "    why is J zero?\n",
    "Overlap of closed shells with single particles is angle independent, so radial fn - same effect on magnetic substates.  \n",
    "   - closed shells with high average j lower energies of single particles with high j.\n",
    "    \n",
    "   \n",
    "green func? \n",
    "skyrme force?\n"
   ]
  },
  {
   "cell_type": "markdown",
   "id": "accbfc2f-12da-4952-857f-3c12e57c5ec5",
   "metadata": {
    "user_expressions": []
   },
   "source": [
    "## Rigid Rotor (rotational bands)\n",
    "## Nuclear Molecules\n",
    "## AMD\n",
    "## Nilsson Stutinsky"
   ]
  },
  {
   "cell_type": "code",
   "execution_count": null,
   "id": "c9d6b73f-5686-4c47-be2a-276c6143957f",
   "metadata": {},
   "outputs": [],
   "source": []
  }
 ],
 "metadata": {
  "kernelspec": {
   "display_name": "Python 3 (ipykernel)",
   "language": "python",
   "name": "python3"
  },
  "language_info": {
   "codemirror_mode": {
    "name": "ipython",
    "version": 3
   },
   "file_extension": ".py",
   "mimetype": "text/x-python",
   "name": "python",
   "nbconvert_exporter": "python",
   "pygments_lexer": "ipython3",
   "version": "3.10.5"
  },
  "widgets": {
   "application/vnd.jupyter.widget-state+json": {
    "state": {},
    "version_major": 2,
    "version_minor": 0
   }
  }
 },
 "nbformat": 4,
 "nbformat_minor": 5
}
