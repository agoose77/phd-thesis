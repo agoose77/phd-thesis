{
 "cells": [
  {
   "cell_type": "markdown",
   "id": "0b992787-f5f6-40a6-933e-32dfc64e4764",
   "metadata": {
    "user_expressions": []
   },
   "source": [
    "# The TexAT Detector"
   ]
  },
  {
   "cell_type": "code",
   "execution_count": 1,
   "id": "a16e612d-ee29-44bd-8507-f60a5fb726d9",
   "metadata": {
    "tags": [
     "hide-cell"
    ]
   },
   "outputs": [],
   "source": [
    "import awkward as ak\n",
    "import k3d\n",
    "import numpy as np\n",
    "from matplotlib.cm import viridis"
   ]
  },
  {
   "cell_type": "markdown",
   "id": "e5d5cfec-ed46-4b29-9d2c-f06c93a3cbc3",
   "metadata": {
    "user_expressions": []
   },
   "source": [
    "TexAT (Texas Active Target) is a general-purpose detector developed by the Cyclotron Institute at Texas A&M University for low energy nuclear physics experiments.{cite:ps}`koshchiy_texat_2019` As an active-target detector, the fill gas serves as both the detection medium and the target, such that TexAT is well suited to conducting scattering and implantation experiments with rare isotope beams. \n",
    "\n",
    "TexAT has been upgraded over several experiments. In this section, the intial design of the detector will be outlined, followed by an exploration of the modifications relevant to the experiment discussed later in the chapter."
   ]
  },
  {
   "cell_type": "markdown",
   "id": "0e8c8024-5721-417a-9428-29fea9cbdfdd",
   "metadata": {
    "user_expressions": []
   },
   "source": [
    "## Detector Overview"
   ]
  },
  {
   "cell_type": "markdown",
   "id": "50eeaec3-d81b-48b8-a248-f6e9377a05d9",
   "metadata": {
    "user_expressions": []
   },
   "source": [
    "TexAT is comprised of a gas-filled TPC and MicroMeGaS (Micro-Mesh Gaseous Structure) particle detector, surrounded by an array of telescopes for particle identification and total energy measurement of ions that escape the active volume. A 3D model of these detectors is shown in {numref}`texat-detector-3d`."
   ]
  },
  {
   "cell_type": "markdown",
   "id": "060afbf8-cd51-4395-8768-bed743a983e0",
   "metadata": {
    "user_expressions": []
   },
   "source": [
    ":::{admonition} To Do\n",
    "Fix this rendering vs the isographic\n",
    ":::"
   ]
  },
  {
   "cell_type": "code",
   "execution_count": 3,
   "id": "19d4ec3b-4156-4763-944f-afd5d0a1b374",
   "metadata": {
    "mystnb": {
     "figure": {
      "caption": "A 3D model of the TexAT components, comprised of <span style=\"color:#440154\">silicon</span>, <span style=\"color:#21918b\">thallium doped cesium iodide</span>, and <span style=\"color:#fde725\">MicroMEGAS</span> detectors.",
      "name": "texat-detector-3d"
     },
     "image": {
      "align": "center",
      "alt": "A time-projection-chamber detector with a Micromegas anode and array of silicon detectors surrounding the exterior of the active volume.",
      "width": "512px"
     }
    },
    "tags": [
     "hide-input"
    ]
   },
   "outputs": [
    {
     "data": {
      "application/vnd.jupyter.widget-view+json": {
       "model_id": "4cc98ecc5a914278a8f395adc6aa04c7",
       "version_major": 2,
       "version_minor": 0
      },
      "text/plain": [
       "Output()"
      ]
     },
     "metadata": {},
     "output_type": "display_data"
    }
   ],
   "source": [
    "with open(\"../content/model/silicon.json\", \"r\") as f:\n",
    "    silicon = ak.from_json(f.read())\n",
    "with open(\"../content/model/cesium.json\", \"r\") as f:\n",
    "    cesium = ak.from_json(f.read())\n",
    "with open(\"../content/model/micromegas.json\", \"r\") as f:\n",
    "    micromegas = ak.from_json(f.read())\n",
    "\n",
    "\n",
    "def rgb_to_packed(rgb):\n",
    "    col = (np.clip(rgb, 0, 1) * 255).astype(np.uint8)\n",
    "    return int(col[0] << 16 | col[1] << 8 | col[2])\n",
    "\n",
    "\n",
    "col = viridis(np.linspace(0, 1, 3))\n",
    "\n",
    "plot = k3d.plot()\n",
    "\n",
    "plot += k3d.mesh(silicon.vertex, silicon.index, color=rgb_to_packed(col[0]), name=\"Si\")\n",
    "plot += k3d.mesh(\n",
    "    cesium.vertex, cesium.index, color=rgb_to_packed(col[1]), name=\"CsI(Tl)\"\n",
    ")\n",
    "plot += k3d.mesh(\n",
    "    micromegas.vertex * [[1, 1, -1]],\n",
    "    micromegas.index,\n",
    "    color=rgb_to_packed(col[2]),\n",
    "    name=\"MicroMeGaS\",\n",
    ")\n",
    "plot.display();"
   ]
  },
  {
   "cell_type": "markdown",
   "id": "17b234e7-4231-41cb-9466-1b5083b8dbb3",
   "metadata": {
    "user_expressions": []
   },
   "source": [
    "To establish a uniform electric field within the ionisation region, a wire field-cage surrounds the active volume. \n",
    "An isographic 3D rendering of the combined detector with the field-cage and MicroMeGaS visible is shown in {numref}`texat-detector-2d`."
   ]
  },
  {
   "cell_type": "raw",
   "id": "8ead9f23-3d7e-4fa0-849a-96a3c7210c2c",
   "metadata": {},
   "source": []
  },
  {
   "cell_type": "markdown",
   "id": "4f5d9ed7-90ce-4938-a57d-a187f56302d2",
   "metadata": {
    "tags": [],
    "user_expressions": []
   },
   "source": [
    ":::{figure} image/placeholder/texat-detector.png\n",
    ":name: texat-detector-2d\n",
    ":align: center\n",
    ":alt: A time-projection-chamber detector with a MicroMeGaS anode and array of silicon detectors surrounding the exterior of the active volume.\n",
    ":width: 400px\n",
    "\n",
    "The TexAT detector configuration. The red arrow indicates the direction of the beam. The segmented anode is visible in green and red at the top of the detector, whilst the wire cage and the array of CsI(Tl) + Si detectors are visible around the outside of the TPC volume.\n",
    ":::"
   ]
  },
  {
   "cell_type": "markdown",
   "id": "0c74e2cb-15c6-4216-9493-3a51bf960e26",
   "metadata": {
    "user_expressions": []
   },
   "source": [
    "(content:micromegas)=\n",
    "### MicroMeGaS\n",
    "\n",
    "The MicroMeGaS is a parallel-plate gas particle detector. It comprises of a micro-pattern anode, with a thin metallic mesh suspended at a height of 128 $\\mu{m}$ above the surface (see {numref}`micromegas-schematic`). This _micro_-mesh partitions the gas into two juxtaposed volumes of differing potentials, forming a large drift region above the mesh, and a small amplification region between the mesh and the anode "
   ]
  },
  {
   "cell_type": "markdown",
   "id": "afa07b08-c3db-487a-972c-9a9ac7ca38a1",
   "metadata": {
    "user_expressions": []
   },
   "source": [
    ":::{figure} image/placeholder/drift-micromegas.png\n",
    ":name: micromegas-schematic\n",
    ":alt: A charged particle ionises the detector gas along its path, producing charge clusters which drift towards the anode. These clusters pass through a micromegas into the high-field amplification region, whose avalanches are detected on the anode.\n",
    ":width: 400px\n",
    ":align: center\n",
    "\n",
    "Charge signal formation from charged particle ionisation. The small amplification region can be seen between the mesh and the anode strips, with a much higher electric field than that of the drift region, of the order $\\sim\\frac{\\text{kV}}{\\text{cm}}$. \n",
    ":::"
   ]
  },
  {
   "cell_type": "markdown",
   "id": "17098aee-512b-46ce-9678-3d5bc8817adb",
   "metadata": {
    "user_expressions": []
   },
   "source": [
    "In this manner, the detector behaves like an ideal parallel plate detector; the signals formed on the anode readout are predominantly determined by the electron mobility of the gas rather than that of the ions. The irregular pixellation of the anode facilitates high position resolution measurement of these signals. The bias for the mesh is constant across the detector geometry; individual region biasing is performed by applying different potentials to the corresponding elements of the anode."
   ]
  },
  {
   "cell_type": "markdown",
   "id": "9bb6990a-0618-4a27-8abd-fd9d571d0bee",
   "metadata": {
    "user_expressions": []
   },
   "source": [
    ":::{admonition} To Do\n",
    "TODO: Get permission to reproduce figure\n",
    ":::"
   ]
  },
  {
   "cell_type": "markdown",
   "id": "adac1536-c713-4fad-a6be-0a144020035b",
   "metadata": {
    "user_expressions": []
   },
   "source": [
    "The MicroMeGaS anode has an active area of $245\\times224\\,\\text{mm}^2$, which is composed of three distinct conductive elements:\n",
    "- single electrode rows ($112\\times1.75\\,\\text{mm}^2$)\n",
    "- chained electrode columns ($1.75\\times224\\,\\text{mm}^2$) \n",
    "- single electrode pads ($3.5\\times1.75\\,\\text{mm}^2$)\n",
    "\n",
    "These elements are arranged into a three-region configuration: the two side regions are formed by interleaving strips and chains, and the central columnar region is composed from a regular grid of pads (see {numref}`micromegas-anode`). "
   ]
  },
  {
   "cell_type": "markdown",
   "id": "c90dfb25-e37e-46dc-961f-d9a0bd7359e8",
   "metadata": {
    "tags": [],
    "user_expressions": []
   },
   "source": [
    ":::{admonition} To Do\n",
    "TODO: Why don't these numbers add up\n",
    ":::"
   ]
  },
  {
   "cell_type": "markdown",
   "id": "4b602110-e032-4b4c-b690-11decafe9d48",
   "metadata": {
    "user_expressions": []
   },
   "source": [
    ":::{figure} image/placeholder/micromegas-anode.png\n",
    ":name: micromegas-anode\n",
    ":alt: A schematic diagram showing the different regions within the MicroMeGaS anode. A central pixellated column is visible, between two side regions formed from stagged strips and contiguous chains.\n",
    ":width: 400px\n",
    ":align: center\n",
    "\n",
    "The segmentation plan of the MicroMeGaS anode. There are three distinct regions: a central column of $6\\times 128$ pads, and two side regions with 64 interleaved rows (strips) and columns (chains). The strips are formed from single electrodes, whilst the chains are formed from staggered readout pads that are electrically connected together.\n",
    ":::"
   ]
  },
  {
   "cell_type": "markdown",
   "id": "c7701e23-eb2d-4fcb-8328-06e7cb03821c",
   "metadata": {
    "user_expressions": []
   },
   "source": [
    "The multiplexing scheme present in the side regions is used to reduce the number of channels from $64\\times128$ to $64+64$, at a cost of lower resolution, sensitivity, and reconstruction ambiguity (see {ref}`strip-chain-reconstruction`). The readout is mapped such that individual zones within the MicroMeGaS can be biased in order to create areas with different gas gains.\n",
    "\n",
    ":::{admonition} To Do\n",
    "TODO: Ensure reference is valid here\n",
    ":::"
   ]
  },
  {
   "cell_type": "markdown",
   "id": "9e66dccc-7849-4003-ae9b-d5ff658f9e83",
   "metadata": {
    "user_expressions": []
   },
   "source": [
    ":::{admonition} To Do\n",
    "TODO: add signal formation figure?\n",
    ":::"
   ]
  },
  {
   "cell_type": "markdown",
   "id": "f0ac062c-ba25-43b3-b217-87cdb948d43a",
   "metadata": {
    "user_expressions": []
   },
   "source": [
    "### Silicon\n",
    "\n",
    "In the TexAT configuration used in the experiment described in this chapter, only the silicon quadrant detectors were present. Without the thallium-doped cesium iodide detectors, only partial energy can be measured for escaping ions that punch through the silicon detectors. In these cases, particle identification must be performed by alternate means.\n",
    "\n",
    ":::{admonition} To Do\n",
    "TODO: cite these detectors\n",
    ":::\n",
    "\n",
    "Two families of silicon detector are used in the TexAT detector:\n",
    "- MSQ25-1000 (Micron Semiconductor)\n",
    "- KDP-1K (JSC, “Institute in Physical-Technical Problems”, Dubna, Russia)\n",
    "\n",
    "Both of these detectors are configured with four ($25\\times25\\,\\text{mm}^2$) quadrants, as shown in {numref}`silicon-schematic`. Although the MSQ25-1000 includes an additional rear quadrant ($50\\times50\\,\\text{mm}^2$}), it was not read-out for this experiment.\n",
    "\n",
    ":::{admonition} To Do\n",
    "TODO: which detectors did we use? - Show 3D?\n",
    ":::"
   ]
  },
  {
   "cell_type": "markdown",
   "id": "8e660e15-07b5-4f1c-a7b8-b6246af82053",
   "metadata": {
    "tags": [],
    "user_expressions": []
   },
   "source": [
    ":::{figure} image/placeholder/silicon-schematic.png\n",
    ":name: silicon-schematic\n",
    ":alt: Schematic views of the four different telescope configurations within the TexAT detector. All show a semi-regular grid of quadrant detectors, with one configuration showing a cutout for the beam.\n",
    ":width: 400px\n",
    ":align: center\n",
    "\n",
    "A 3D rendering of the solid-state detector telescopes that surround the TPC: downstream array (top left); upstream array (bottom left); side array (rop right); bottom array (bottom right).\n",
    ":::"
   ]
  },
  {
   "cell_type": "markdown",
   "id": "23deae74-6f9b-4a76-8ada-f35a4d78417e",
   "metadata": {
    "user_expressions": []
   },
   "source": [
    "### Ion Counter\n",
    "For this experiment, a planar windowless ionisation chamber was placed immediately after the entrance window to the gas volume to detect the beam current. This can be used to help eliminate pile-up within the TPC, and trigger the acquisition system in coincidence with the other detectors."
   ]
  },
  {
   "cell_type": "markdown",
   "id": "60e31950-b82a-42e5-825d-7672888db0ad",
   "metadata": {
    "user_expressions": []
   },
   "source": [
    "## Readout Electronics\n",
    "\n",
    "(content:get-architecture)=\n",
    "### GET Architecture\n",
    "TexAT uses the General Electronics for TPCs (GET) system for readout of the detectors.{cite:ps}`pollacco_get_2018` GET comprises of a heirarchy of electronic components, starting at the lowest level with the AGET (Asic for GET) chip to amplify, shape, and store the signals from each detector (see {numref}`get-schematic`). \n",
    "\n",
    ":::{admonition} To Do\n",
    "TODO: cite this figure\n",
    ":::"
   ]
  },
  {
   "cell_type": "markdown",
   "id": "1d094223-3ad4-441f-9329-7f86733376b9",
   "metadata": {
    "user_expressions": []
   },
   "source": [
    ":::{figure} image/placeholder/get-schematic.png\n",
    ":name: get-schematic\n",
    ":alt: Schematic diagram of the GET electronics system. A series of channels is read by each AGET chip. There are four AGET chips for each AsAd board, and there are four AsAd boards for each CoBo.\n",
    ":width: 400px\n",
    ":align: center\n",
    "\n",
    "A 3D rendering of the solid-state detector telescopes that surround the TPC: downstream array (top left); upstream array (bottom left); side array (rop right); bottom array (bottom right).\n",
    ":::"
   ]
  },
  {
   "cell_type": "markdown",
   "id": "7ac1c972-aa2c-48a7-bcc6-0e099057ab68",
   "metadata": {
    "tags": [],
    "user_expressions": []
   },
   "source": [
    "Each channel possesses an independent trigger and continuously samples the filtered analogue signal from the shaper, with a sampling frequency between 1 and 100 MHz, using a 512-cell switch-capacitor circular buffer.{cite:ps}`pollacco_get_2018` A single AGET chip has 64 independent channels in addition to 4 floating channels that provide a measure of the electronic noise, known as fixed-pattern noise (FPN) channels. These FPN channels are distributed across the AGET chip in order to place one FPN channel at the edge of each chip.{cite:ps}`pollacco_get_2018` \n",
    "\n",
    "To read out all of the channels in a TexAT detector requires 24 AGET chips. There are 4 AGET chips on each AsAd (ASic and Analog to Digital converter) board, which digitises the signals from the SCA memory of the AGET chips using a 12-bit ADC.{cite:ps}`pollacco_get_2018`. The data from these ASAD boards are collected by a series of CoBo's (Concentration Boards), which timestamp the information and transmit it to the storage infrastructure. \n",
    "\n",
    "In order to synchronize the CoBos and generate a global trigger, an additional board called the MuTAnT (MUltiplicity Trigger ANd Time) is used."
   ]
  },
  {
   "cell_type": "markdown",
   "id": "19dadc29-8b54-4c46-8190-de19db2af38b",
   "metadata": {
    "user_expressions": []
   },
   "source": [
    "### Signal Shaping"
   ]
  },
  {
   "cell_type": "markdown",
   "id": "272bc2e3-3821-4720-9898-ac1326a1777b",
   "metadata": {
    "user_expressions": []
   },
   "source": [
    ":::{admonition} To Do\n",
    "TODO: cite MESYTEC\n",
    ":::\n",
    "\n",
    "The internal pre-amplification stage (CSA) in each AGET chip can be bypassed in cases where exernal pre-amplifiers need to be read-out by the GET electronics.{cite:ps}`pollacco_get_2018` Instead of using the internal GET pre-amplifier, the IC is connected to an external MESYTEC shaper (MSCF-16), whose signals are fed back into the Gain-2 stage of AGET chip, as discussed in {cite:ps}`koshchiy_texat_2019`."
   ]
  },
  {
   "cell_type": "markdown",
   "id": "7ddb51d0-bb48-49e7-a598-08b199ce8d52",
   "metadata": {
    "user_expressions": []
   },
   "source": [
    ":::{admonition} To Do\n",
    "TODO: better figure for IC\n",
    ":::\n"
   ]
  },
  {
   "cell_type": "markdown",
   "id": "048e3cc0-952f-4bc0-aa81-407d5de91ef2",
   "metadata": {
    "user_expressions": []
   },
   "source": [
    ":::{figure} image/placeholder/external-shaper.png\n",
    ":name: external-shaper\n",
    ":alt: Schematic diagram of the bypass mechanism for the AGET chip.\n",
    ":width: 400px\n",
    ":align: center\n",
    "\n",
    "A schematic diagram of the shaper bypass facility of AGET chips.\n",
    ":::"
   ]
  }
 ],
 "metadata": {
  "kernelspec": {
   "display_name": "Python 3 (ipykernel)",
   "language": "python",
   "name": "python3"
  },
  "language_info": {
   "codemirror_mode": {
    "name": "ipython",
    "version": 3
   },
   "file_extension": ".py",
   "mimetype": "text/x-python",
   "name": "python",
   "nbconvert_exporter": "python",
   "pygments_lexer": "ipython3",
   "version": "3.10.5"
  },
  "widgets": {
   "application/vnd.jupyter.widget-state+json": {
    "state": {},
    "version_major": 2,
    "version_minor": 0
   }
  }
 },
 "nbformat": 4,
 "nbformat_minor": 5
}
