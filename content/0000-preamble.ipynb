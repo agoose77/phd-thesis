{
 "cells": [
  {
   "cell_type": "markdown",
   "id": "53b7744b-48bc-468a-9582-7e79839e8462",
   "metadata": {
    "tags": [],
    "user_expressions": []
   },
   "source": [
    "# Abstract"
   ]
  },
  {
   "cell_type": "markdown",
   "id": "5d08fe9e-785c-4f34-a286-663ef5fa906d",
   "metadata": {
    "user_expressions": []
   },
   "source": [
    "This thesis comprises two superficially distinct branches of academia; the pursuit of new understanding through experimental research, and the dissemination of established theory through the development and subsequent exploration of an education tool. Weaving together these efforts is the remarkable importance of computational narratives, and the foundations upon which they are built; the tools that underpin my research into the substructure of the nucleus are the same tools upon which a digital, remote laboratory experience was built. \n",
    "\n",
    "The development of ab-initio (beyond-shell-model) theory is fundamentally constrained by both the intractability of the many-body nuclear potential, and the limitations of non-effective potentials. At the frontier of these descriptions is the no-core shell model (NCSM) which treats the problem directly within the (truncated) Hilbert space of the {math}`N` body system. In practice, it has only recently become feasible to attempt such calculations for light nuclei, and such models are typically unable to probe coherent excitations such as the Hoyle state.{cite:ps}`neff_nuclear_2008` It follows that there exists a desideratum for a class of testable and interpretable models of the nucleus that capture the complex correlational and coherent phenomena that escape the classic shell model. These models are of vital importance in contextualising the ongoing research into the structure of light nuclei.\n",
    "\n",
    "% TODO CITE 14C\n",
    "\n",
    "It has long been postulated that light nuclei may exhibit molecular and clustered structures. Clustering in non-alpha conjugate nuclei is of particular interest in demonstrating the role of valence nucleons in stabilising the nucleus. One such example is the stability of the Borromean nucleus {math}`{}^{9}\\mathrm{Be}` over its alpha-conjugate sibling {math}`{}^{8}\\mathrm{Be}`.{cite:ps}`von_oertzen_nuclear_2006` Given the existing works investigating these structures in {math}`{}^{14}C`, it is the object of this thesis to explore the symmetries of the mirror nucleus {math}`{}^{14}O` and investigate the existence of low-lying clustered states, and their respective properties.\n",
    "\n",
    "It would be remiss to omit reference to the COVID-19 pandemic, by which few people have been left unperturbed. Shortly following its onset in early 2022, a concerted effort in the School of Physics and Astronomy at the University of Birmingham arose to establish novel solutions for distance learning provision. In particular, the challenge of providing robust, flexible teaching of undergraduate laboratory skills was identified as a key limitation in responding to the exigent challenges posed by public health interventions during 2020 and 2021. In this thesis, the development and deployment of a virtual nuclear physics laboratory, to meet this need, is discussed. An exploration of the early student engagement, and future directions of the project is subsequently made."
   ]
  },
  {
   "cell_type": "markdown",
   "id": "088d9a7a-60f6-4204-9901-1257252cf6bf",
   "metadata": {
    "tags": [
     "no-latex"
    ],
    "user_expressions": []
   },
   "source": [
    "::::{grid} 1 1 2 2\n",
    ":gutter: 4 4 2 2\n",
    "\n",
    ":::{grid-item-card}\n",
    ":img-top: image/uob-logo.svg\n",
    ":columns: 12\n",
    "\n",
    "A thesis submitted to the University of Birmingham for the degree of Doctor of Philosophy \n",
    "\n",
    "+++\n",
    "Nuclear Physics Group  \n",
    "School of Physics and Astronomy  \n",
    "College of Engineering and Physical Sciences  \n",
    "University of Birmingham  \n",
    "September 22, 2023\n",
    ":::\n",
    "\n",
    ":::{grid-item-card} A search for molecular structure in oxygen-14\n",
    ":link: 2100-nuclear-models\n",
    ":link-type: doc\n",
    ":img-bottom: image/placeholder/texat-detector.png\n",
    ":::\n",
    "\n",
    ":::{grid-item-card} Interactive computing for nuclear laboratories\n",
    ":link: 3000-olab-online-laboratory\n",
    ":link-type: doc\n",
    ":img-bottom: image/olab-logo.png\n",
    ":::\n",
    "::::"
   ]
  }
 ],
 "metadata": {
  "kernelspec": {
   "display_name": "Python 3 (ipykernel)",
   "language": "python",
   "name": "python3"
  },
  "language_info": {
   "codemirror_mode": {
    "name": "ipython",
    "version": 3
   },
   "file_extension": ".py",
   "mimetype": "text/x-python",
   "name": "python",
   "nbconvert_exporter": "python",
   "pygments_lexer": "ipython3",
   "version": "3.10.6"
  }
 },
 "nbformat": 4,
 "nbformat_minor": 5
}
