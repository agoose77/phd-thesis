{
 "cells": [
  {
   "cell_type": "markdown",
   "id": "2affa946-c284-47f1-9b78-bcbdc89e5988",
   "metadata": {},
   "source": [
    "# Nuclear Structure & Interactive Computing\n"
   ]
  }
 ],
 "metadata": {
  "kernelspec": {
   "display_name": "",
   "name": ""
  },
  "language_info": {
   "name": ""
  }
 },
 "nbformat": 4,
 "nbformat_minor": 5
}
