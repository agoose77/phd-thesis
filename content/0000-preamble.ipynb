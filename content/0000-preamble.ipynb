{
 "cells": [
  {
   "cell_type": "markdown",
   "id": "2affa946-c284-47f1-9b78-bcbdc89e5988",
   "metadata": {},
   "source": [
    "# Nuclear Structure & Interactive Computing\n",
    "\n",
    "This is a small sample book to give you a feel for how book content is\n",
    "structured.\n",
    "\n",
    ":::{note}\n",
    "This is a WIP.\n",
    ":::\n"
   ]
  },
  {
   "cell_type": "code",
   "execution_count": null,
   "id": "a059da60-bf86-4afe-8031-e56670ddde32",
   "metadata": {},
   "outputs": [],
   "source": []
  }
 ],
 "metadata": {
  "kernelspec": {
   "display_name": "",
   "name": ""
  },
  "language_info": {
   "name": ""
  }
 },
 "nbformat": 4,
 "nbformat_minor": 5
}
