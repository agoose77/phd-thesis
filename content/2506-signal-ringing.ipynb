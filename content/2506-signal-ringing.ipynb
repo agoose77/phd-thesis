{
 "cells": [
  {
   "cell_type": "markdown",
   "id": "a18a2b3e-2aab-4a8e-8192-4d836f2876be",
   "metadata": {
    "tags": [],
    "user_expressions": []
   },
   "source": [
    "# Signal Ringing\n",
    "\n",
    "In the presence of shaped signals whose amplitudes exceed the dynamic range of the ADC, spurious waveforms are observed in the other channels of the acquisition system. This phenomenon, known as \"ringing\", presents a challenge to the reconstruction of particle trajectories within the TPC. An example waveform is shown in {numref}`ringing-waveform`."
   ]
  },
  {
   "cell_type": "markdown",
   "id": "e0fd73ac-c418-46dc-aca8-1c41a620b4e5",
   "metadata": {
    "tags": [],
    "user_expressions": []
   },
   "source": [
    ":::{figure} image/placeholder/ringing-waveform.png\n",
    "---\n",
    "name: ringing-waveform\n",
    "alt: A waveform containing two distinct regions, one comprises a \"ringing\" waveform which exhibits multiple peaks with a poor shape, another with a single, well-defined, GET-shaped peak.\n",
    "width: 400px\n",
    "align: center\n",
    "---\n",
    "A waveform with the ringing phenomenon visible at $t\\sim 320$. A distinct non-ringing component is also visible at $t\\sim 410$.\n",
    ":::"
   ]
  },
  {
   "cell_type": "markdown",
   "id": "432e691e-7dd4-471b-97c2-78da1ce8cf79",
   "metadata": {
    "user_expressions": []
   },
   "source": [
    "## Pulse Width Identification"
   ]
  },
  {
   "cell_type": "markdown",
   "id": "e013ae26-ac88-47b3-89cc-096a9e897e7e",
   "metadata": {
    "user_expressions": []
   },
   "source": [
    "In order to identify and eliminate these spurious signals, one approach might be to consider the narrow width of the primary peaks. On average, it can be seen that ringing waveforms posses sharper peaks than true waveforms (see {numref}`ringing-width-distribution`)"
   ]
  },
  {
   "cell_type": "markdown",
   "id": "ce4ad155-0e1f-4fa5-934d-f73fe8ba3fb8",
   "metadata": {
    "user_expressions": []
   },
   "source": [
    ":::{figure} image/placeholder/ringing-width-distribution.png\n",
    "---\n",
    "name: ringing-width-distribution\n",
    "alt: A projection showing the distribution of the peak width for events with ringing and events without ringing.\n",
    "width: 400px\n",
    "align: center\n",
    "---\n",
    "The distribution of peak widths for ringing and non-ringing events.\n",
    ":::"
   ]
  },
  {
   "cell_type": "markdown",
   "id": "24afc416-408d-454e-a2e6-e8f2cb8ca80e",
   "metadata": {
    "user_expressions": []
   },
   "source": [
    "However, given that the shape of these ringing waveforms is not that of a typical GET waveform (see {numref}`ringing-waveform`), it follows that we cannot rely on the fit as a robust description of the ringing peak. In order to identify and remove these waveforms, a different approach must be taken."
   ]
  },
  {
   "cell_type": "markdown",
   "id": "d68bc8a9-f449-4faf-8f23-b791d1618f90",
   "metadata": {
    "user_expressions": []
   },
   "source": [
    "## Pulse Height Identification"
   ]
  },
  {
   "cell_type": "markdown",
   "id": "d36ab7fe-2b48-43c9-8f92-573b0b428560",
   "metadata": {
    "user_expressions": []
   },
   "source": [
    "As outlined above, the appearance of ringing waveforms in the sampled GET waveforms follows from the presence of saturated channels. Predictably, these ringing waveforms also occur at a similar time to that of these saturated signals (see {numref}`ringing-width-distribution`)"
   ]
  },
  {
   "cell_type": "markdown",
   "id": "666748c9-d5a2-4f3e-9aff-2bcf2658d638",
   "metadata": {
    "tags": [],
    "user_expressions": []
   },
   "source": [
    ":::{figure} image/placeholder/saturated-waveform.png\n",
    "---\n",
    "name: saturated-waveform\n",
    "alt: A waveform containing a single peak with a saturated maximum.\n",
    "width: 400px\n",
    "align: center\n",
    "---\n",
    "A waveform from the same event as {numref}`ringing-waveform` in which the signal is saturated at $t\\sim 320$\n",
    ":::"
   ]
  },
  {
   "cell_type": "markdown",
   "id": "eb1acdb3-4a36-4ef3-acfb-ce5a9ce52c83",
   "metadata": {
    "user_expressions": []
   },
   "source": [
    "Consequently, the loci of peaks fit to saturated waveforms can be used to define a set of time intervals in which ringing signals may be anticipated. Given that one cannot use the GET fit to perform a robust classification between a measurement and a ringing signal, the amplitude of the signal may be used instead. It is observed that the majority of ringing signals have amplitudes well below that of the saturated signal, on the order of $y \\lt 750$. By taking the logical AND of these two conditions, a better classification of ringing signals can be performed."
   ]
  },
  {
   "cell_type": "markdown",
   "id": "742210a7-99b9-46f0-84ba-776bbec84071",
   "metadata": {
    "user_expressions": []
   },
   "source": [
    ":::{figure} image/placeholder/ringing-event-hit.png\n",
    "---\n",
    "name: ringing-event-hit\n",
    "alt: A 2D hitmap of the MicroMeGaS anode for a random event. A large number of strips and chains in the left region have been activated, but do not appear to agree with the precursor track in the pads region.\n",
    "width: 400px\n",
    "align: center\n",
    "---\n",
    "A 2D hitmap of the MicroMeGaS anode for a random event. Note that the majority of the elements in the left side region have been activated. The linear track formed in the central pads region does not suggest such a pattern will be observed in the side region.\n",
    ":::"
   ]
  },
  {
   "cell_type": "markdown",
   "id": "53d06fd4-ce58-4f55-9ab7-9f12ee03b789",
   "metadata": {
    "user_expressions": []
   },
   "source": [
    ":::{figure} image/placeholder/ringing-event-clean.png\n",
    "---\n",
    "name: ringing-event-clean\n",
    "alt: A refined 2D hitmap of the MicroMeGaS anode for a random event. Fewer elements have been activated following ringing signal cleanup.\n",
    "width: 400px\n",
    "align: center\n",
    "---\n",
    "A refined hitmap for the data shown in {numref}`ringing-event-hit` after removing invalid fits and ringing signals. The resulting hitmap more closely agrees with the predicted track yielded by the central pads region.\n",
    ":::"
   ]
  }
 ],
 "metadata": {
  "kernelspec": {
   "display_name": "Python 3 (ipykernel)",
   "language": "python",
   "name": "python3"
  },
  "language_info": {
   "codemirror_mode": {
    "name": "ipython",
    "version": 3
   },
   "file_extension": ".py",
   "mimetype": "text/x-python",
   "name": "python",
   "nbconvert_exporter": "python",
   "pygments_lexer": "ipython3",
   "version": "3.10.4"
  }
 },
 "nbformat": 4,
 "nbformat_minor": 5
}
