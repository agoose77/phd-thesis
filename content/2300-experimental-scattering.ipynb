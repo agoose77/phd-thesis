{
 "cells": [
  {
   "cell_type": "markdown",
   "id": "6685366f-8a09-4eef-a4be-62c9d74d0dd9",
   "metadata": {},
   "source": [
    "# Thick Target Experiments"
   ]
  },
  {
   "cell_type": "markdown",
   "id": "3808e8f4-ee3f-4f44-bf71-f0d84c4f7dc3",
   "metadata": {},
   "source": [
    "## Resonant Scattering"
   ]
  },
  {
   "cell_type": "markdown",
   "id": "8492459d-e5af-47d6-8d6e-c5f01e755925",
   "metadata": {
    "user_expressions": []
   },
   "source": [
    "Nuclear reactions can be classified in terms of two extremes; coelescence into a highly excited _compound_ system, and _direct_ interactions that involve typically only the surface nucleons (see {numref}`nuclear-reaction-extremes`). As these latter reactions transition directly between initial and final states, the entrance and exit channels are strongly correlated. Meanwhile, the evaporative cooling (decay channel) of the liquid-drop formed by the coalescence of the target and projectile is considered to be reasonably independent of the entrance channel, and the reaction cross-section is typically modelled as two separable terms.{cite:ps}`satchler_introduction_1990` \n",
    "\n",
    ":::{figure} image/placeholder/nuclear-reaction-extremes.png\n",
    ":align: center\n",
    ":name: nuclear-reaction-extremes\n",
    ":width: 512px\n",
    "\n",
    "Semi-classical illustration of the limiting extremes to nuclear reactions: formation of a transitory compound nucleus, and direct reactions. Figure taken from {cite:ps}`satchler_introduction_1990`.\n",
    ":::"
   ]
  },
  {
   "cell_type": "markdown",
   "id": "a9529628-9f43-4a3c-b3d8-555f14c11c4e",
   "metadata": {
    "user_expressions": []
   },
   "source": [
    "At low energies, the compound nucleus may exhibit discrete states, despite being unstable against particle emission. In these states, energy is typically partitioned among several nucleons each of which is below the emission threshold. It follows that the compound nucleus may exhibit a lifetime much greater than the orbital period of a nucleon ({math}`\\sim 10^{-22}\\,\\mathrm{s}`) i.e. the duration of a direct interaction.{cite:ps}`satchler_introduction_1990` The relatively long lifetime of the system ensures that energy is partitioned between the nucleons, unlike direct reactions for which there is insufficient time for this to occur. Given that this state is unstable, it possesses an imprecise energy. From the uncertainty principle, the long lifetime of the state implies a width that is smaller than 1 MeV. Where the energy of the entrance channel is sufficiently matched with that of the quasi-bound state there will marked enhancement in the cross section of the reaction, a phenomenon known as a _resonance_. Typically this has the form of the Breit-Wigner resonance\n",
    ":::{math}\n",
    ":label: breit-wigner\n",
    "\n",
    "\\sigma_\\text{res}(E) =\\sigma_0 \\frac{\\frac{1}{4} \\Gamma^2}{\\left(E-E_{\\mathrm{r}}\\right)^2+\\frac{1}{4} \\Gamma^2}\\,,\n",
    ":::\n",
    "where {math}`\\Gamma` is the full-width at half-maximum (FWHM) of the resonance. These resonant states are only visible at sufficiently low energies; as the excitation energy increases, the separation between levels decreases until the density is such that individual states can no-longer be resolved and the levels form a continuum of unbound states."
   ]
  },
  {
   "cell_type": "markdown",
   "id": "81d42d62-ef55-4375-896f-d02612cc07ed",
   "metadata": {
    "user_expressions": []
   },
   "source": [
    "Among the exit channels of the compound nucleus is an elastic channel, i.e. that which corresponds to the {math}`A(a,a)A` reaction. When the elastic scattering cross section is measured, however, it typically does not exhibit the predicted Breit-Wigner shape. In addition to forming a resonant quasi-bound state in the compound nucleus, the incident particle may simply scatter directly off the target nucleus. These leads to an additional shape-elastic potential contribution to the elastic scattering cross-section (see {numref}`resonance-shape`).\n",
    "\n",
    "% Should this be a subfig?\n",
    "\n",
    ":::{figure} image/placeholder/resonance-shape.png\n",
    ":align: center\n",
    ":name: resonance-shape\n",
    ":width: 512px\n",
    "\n",
    "Comparison between (a) the Breit-Wigner distribution and the (b) elastic scattering cross section. (b) includes interference between the shape-elastic and resonance-elastic interactions. Subfigures taken from {cite:ps}`satchler_introduction_1990`.\n",
    ":::"
   ]
  },
  {
   "cell_type": "markdown",
   "id": "b40d2214-39d4-4891-8491-db311fbf4a76",
   "metadata": {},
   "source": [
    "## Thick-Target Inverse Kinematics\n",
    "\n",
    "### Bragg Peak / Stopping Power"
   ]
  },
  {
   "cell_type": "markdown",
   "id": "2ccb072d-e00f-4dc0-9bda-5da651352423",
   "metadata": {},
   "source": [
    "## Time-Projection Chambers"
   ]
  },
  {
   "cell_type": "markdown",
   "id": "38a5fbff-353d-4a66-a3d7-4e32aba2467d",
   "metadata": {},
   "source": [
    ":::{note}\n",
    "Cite {cite:p}`hilke_time_2010` for primary clusters, \n",
    ":::"
   ]
  },
  {
   "cell_type": "markdown",
   "id": "325bda57-5e48-4574-8d28-e095c36e7a71",
   "metadata": {},
   "source": [
    ":::{note}\n",
    "(In?)Elasic Scattering\n",
    ":::"
   ]
  },
  {
   "cell_type": "code",
   "execution_count": null,
   "id": "80b18360-b762-414c-9345-78ffe4a8da96",
   "metadata": {},
   "outputs": [],
   "source": []
  }
 ],
 "metadata": {
  "kernelspec": {
   "display_name": "Python 3 (ipykernel)",
   "language": "python",
   "name": "python3"
  },
  "language_info": {
   "codemirror_mode": {
    "name": "ipython",
    "version": 3
   },
   "file_extension": ".py",
   "mimetype": "text/x-python",
   "name": "python",
   "nbconvert_exporter": "python",
   "pygments_lexer": "ipython3",
   "version": "3.10.5"
  },
  "widgets": {
   "application/vnd.jupyter.widget-state+json": {
    "state": {},
    "version_major": 2,
    "version_minor": 0
   }
  }
 },
 "nbformat": 4,
 "nbformat_minor": 5
}
