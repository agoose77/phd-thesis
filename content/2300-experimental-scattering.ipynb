{
 "cells": [
  {
   "cell_type": "markdown",
   "id": "6685366f-8a09-4eef-a4be-62c9d74d0dd9",
   "metadata": {},
   "source": [
    "# Thick Target Experiments"
   ]
  },
  {
   "cell_type": "markdown",
   "id": "3808e8f4-ee3f-4f44-bf71-f0d84c4f7dc3",
   "metadata": {},
   "source": [
    "## Resonant Scattering"
   ]
  },
  {
   "cell_type": "markdown",
   "id": "8492459d-e5af-47d6-8d6e-c5f01e755925",
   "metadata": {
    "user_expressions": []
   },
   "source": [
    "Nuclear reactions may be classified with respect to two extremes modes; _compound_ reactions in which the reactants fuse into a highly excited compound nucleus, and _direct_ interactions that involve typically only the surface nucleons of the target (see {numref}`nuclear-reaction-extremes`). As these latter reactions transition directly between initial and final states, the entrance and exit channels are strongly correlated. Meanwhile, the decay channel of the liquid-drop formed by coalescence of the target and projectile is considered to be reasonably independent of the entrance channel.{cite:ps}`bohr_neutron_1936` Consequently, the reaction cross-section is typically modelled as two separable terms.{cite:ps}`satchler_introduction_1990` \n",
    "\n",
    ":::{figure} image/placeholder/nuclear-reaction-extremes.png\n",
    ":align: center\n",
    ":name: nuclear-reaction-extremes\n",
    ":width: 512px\n",
    "\n",
    "Semi-classical illustration of the limiting extremes to nuclear reactions: formation of a transitory compound nucleus, and direct reactions. Figure taken from {cite:ps}`satchler_introduction_1990`.\n",
    ":::"
   ]
  },
  {
   "cell_type": "markdown",
   "id": "a9529628-9f43-4a3c-b3d8-555f14c11c4e",
   "metadata": {
    "tags": [],
    "user_expressions": []
   },
   "source": [
    "At low incident energies, the compound nucleus may exhibit discrete states, despite being unstable against particle emission. Although there is sufficient energy for ejection of a particle(s), this energy is typically partitioned among several nucleons. Decay of this compound state occurs only once the excitation energy localises itself sufficiently for a particle(s) to escape. It follows that the compound nucleus may demonstrate a lifetime much greater than the orbital period of a single nucleon ({math}`\\sim 10^{-22}\\,\\mathrm{s}`) i.e. the duration of a direct interaction.{cite:ps}`satchler_introduction_1990` In the low-energy region at which resonances are found, there are usually only two decay modes available to the liquid drop; rejection of the incident particle (scattering), or {math}`\\gamma`-emission.{cite:ps}`krane_introductory_1987` Given that a quasi-bound state is unstable, it possesses an imprecise energy; from the Mandelstam-Tamm uncertainty principle{cite:ps}`mandelstam_uncertainty_1991`\n",
    ":::{math}\n",
    ":label: energy-uncertainty\n",
    "\\Delta{H} \\Delta{T} \\geq \\frac{\\hbar}{2}\\,,\n",
    ":::\n",
    "one might assume that the long lifetime {math}`\\tau=\\Delta{T}` of the state implies that the width of this distribution {math}`\\Gamma=\\Delta{H}` is smaller than 1 MeV. \n",
    "Where the energy of the entrance channel is sufficiently matched with that of the quasi-bound state, there will be a marked enhancement in the cross section of the reaction, a phenomenon known as a _resonance_. Typically this has the form of the Breit-Wigner distribution\n",
    ":::{math}\n",
    ":label: breit-wigner\n",
    "\n",
    "\\sigma_\\text{res}(E) =\\sigma_0 \\frac{\\frac{1}{4} \\Gamma^2}{\\left(E-E_{\\mathrm{r}}\\right)^2+\\frac{1}{4} \\Gamma^2}\\,,\n",
    ":::\n",
    "where {math}`\\Gamma` is the full-width at half-maximum (FWHM) of the resonance (see {numref}`resonance-shape`), {math}`E_r` the centroid of the distribution, and {math}`\\sigma_0` the amplitude of the resonance.{cite:ps}`satchler_introduction_1990` These resonant states are only visible at sufficiently low energies; as the excitation energy increases, the separation between levels decreases until the density is such that individual states can no-longer be resolved and form a continuum of unbound states. It transpires that in practical terms the energy relation in {eq}`energy-uncertainty` is inapplicable to the Breit-Wigner curve, yet it can be shown that the lifetime of the state {math}`\\tau` is related to its width by {eq}`breit-wigner-width`.{cite:ps}`bransden_quantum_2000`{cite:ps}`uffink_rate_1993-3`\n",
    ":::{math}\n",
    ":label: breit-wigner-width\n",
    "\n",
    "\\Gamma = \\frac{\\hbar}{\\tau}\\,.\n",
    ":::"
   ]
  },
  {
   "cell_type": "markdown",
   "id": "81d42d62-ef55-4375-896f-d02612cc07ed",
   "metadata": {
    "user_expressions": []
   },
   "source": [
    "Among the exit channels of the compound nucleus is an elastic channel, i.e. that which corresponds to the {math}`A(a,a)A` reaction. When the elastic scattering cross section is measured, however, it typically does not exhibit the predicted Breit-Wigner shape. In addition to forming a resonant quasi-bound state in the compound nucleus, the incident particle may simply scatter directly off the target. These leads to an additional shape-elastic potential contribution to the elastic scattering cross-section (see {numref}`resonance-shape`).\n",
    "\n",
    "% Should this be a subfig?\n",
    "\n",
    ":::{figure} image/placeholder/resonance-shape.png\n",
    ":align: center\n",
    ":name: resonance-shape\n",
    ":width: 512px\n",
    "\n",
    "Comparison between (a) the Breit-Wigner distribution and the (b) elastic scattering cross section. (b) includes interference between the shape-elastic and resonance-elastic interactions. Subfigures taken from {cite:ps}`satchler_introduction_1990`.\n",
    ":::"
   ]
  },
  {
   "cell_type": "markdown",
   "id": "4f8b8223-8e1f-4f19-a8d4-28b70a05f138",
   "metadata": {
    "tags": [],
    "user_expressions": []
   },
   "source": [
    "## Energy Conservation\n",
    "\n",
    "As a closed physical system, the normal conservation rules still apply to a scattering reaction between two nuclei. We require that the total energy of the system be conserved through the reaction. Assuming a resonance reaction of the form {math}`A(a,b)B`, we have\n",
    ":::{math}\n",
    ":label: reaction-energy-balance\n",
    "T_A + m_Ac^2 + T_a + m_ac^2 = T_B + m_Bc^2 + T_b + m_bc^2\\,\\,\n",
    ":::\n",
    "where {math}`m_X` is the _rest mass_ of {math}`X`, which may be excited, and {math}`T_X` is the kinetic energy of {math}`X` in the current frame. With the following definition of the reaction Q-value with respect to the ground-state masses (e.g. {math}`m_X^\\mathrm{gs}`) \n",
    ":::{math}\n",
    "Q = \\pqty{m_A^\\mathrm{gs}+m_a^\\mathrm{gs}-m_B^\\mathrm{gs}-m_b^\\mathrm{gs}}\\,,\n",
    ":::\n",
    "{eq}`reaction-energy-balance` simplifies to\n",
    ":::{math}\n",
    "T_A + T_a + Q = T_B + T_b + E_\\mathrm{ex} \\,,\n",
    ":::\n",
    "where {math}`E_\\mathrm{ex}` is the total excitation energy shared between B and b. For resonant reactions involving a compound nucleus, we must consider the intermediate state. If both the reactants and the products of the total reaction remain in their ground states, then we have\n",
    ":::{math}\n",
    "T_A + T_a + Q = T_X + E_\\mathrm{ex} = T_B+ T_b\\,,\n",
    ":::\n",
    "i.e. measurement of the reactant and product kinetic energies is sufficient to determine the excitation energy for a known {math}`Q`-value.\n"
   ]
  },
  {
   "cell_type": "markdown",
   "id": "dac34578-b209-4540-875a-926b5f8ee826",
   "metadata": {
    "tags": [],
    "user_expressions": []
   },
   "source": [
    "% Is this frame dependent? (L) No - is a property of the frame, and most simply defined in the body-fixed frame of heavy nucleus\n",
    "In addition to conservation of energy, we must also consider the angular momentum of the system. For {math}`J=0` reactants, the angular momentum of the compound nucleus is entirely determined by the orbital angular momentum of the beam\n",
    ":::{math}\n",
    "\\vb{\\hat{J}_X} &= \\vb{\\hat{J}_A} + \\vb{\\hat{J}_a}\n",
    "\n",
    "\\vb{\\hat{J}_X} &= \\vb{\\hat{L}_A} + \\vb{\\hat{I}_A} +  \\vb{\\hat{L}_a} + \\vb{\\hat{I}_a}\n",
    "\n",
    "\\vb{\\hat{J}_X} &= \\vb{\\hat{L}_a}\\,,\n",
    ":::\n",
    "where {math}`\\vb{\\hat{J}_X}` is the total angular momentum of {math}`X`, the compound nucleus; {math}`\\vb{\\hat{I}_X}` the intrinsic spin angular momentum of {math}`X`; {math}`A`, the target; and {math}`a`, the beam.\n",
    "This vector is _by definition_ perpendicular to the momentum vector of the beam, in the event of a two-body scatter. In combination with conservation of parity, the conservation of angular momentum implies that one can only populate either natural-parity ({math}`\\Pi=(-1)^l`) or unnatural parity ({math}`\\Pi=(-1)^{l+1}`) states for spin-0 reactants. The same holds for the subsequent decay of the resonant states; if the products are both spin-0, then the orbital angular momentum of the products is defined entirely by the parity of the populated state. \n",
    "\n",
    "Where the compound nucleus (X) and its heavy decay product (A) both satisfy {math}`J\\neq 0`, the angular momentum of the light decay product (a) is not uniquely defined for a particular energy. If the light decay product has a {math}`J=0` ground state, and has a first-excited state with large energy e.g. an alpha particle, then the angular momentum of the light product is determined by its orbital angular momentum. Therefore, by polarising the spins of X, the angular distribution of this decay product (which arises from the orbital wavefunction {math}`Y_{l}^m`) can be used to identify the particular {math}`J` value of the transition.\n"
   ]
  },
  {
   "cell_type": "markdown",
   "id": "e03e0c28-ac96-48d1-97ed-3023a122c86c",
   "metadata": {
    "user_expressions": []
   },
   "source": [
    "### Thick-Target Inverse Kinematics\n",
    "\n",
    "Nuclear reactions are typically performed in one of two configurations. In thin-target experiments, a beam of known energy is trained upon a target whose geometry is sufficiently thin that the majority of interactions occur at a similar beam energy. Thick-target experiments dispense with this constraint; the thickness of the target is employed as a degree of freedom. Whilst thin-target experiments pose a much reduced analysis challenge, to perform a measurement that spans a range of energies requires varying the energy of the beam, a slow process that is both costly in time and limited in the number of \"stops\" (energies) that can be observed. Meanwhile, thick-target experiments circumvent this restriction by using the target itself as both the reaction domain and a means of varying the reaction energy. In this configuration, the energy of each interaction is given as a function of the interaction location, i.e. the distance travelled within the target by the projectile.\n",
    "\n",
    "<!-- TODO mention stopping power -->\n",
    "\n",
    "In a system consisting of two different-mass nuclei, thick-target resonant scattering can be performed either in forward kinematics, or in _inverse_ kinematics. In forward kinematics, the beam consists of the lighter nucleus, whilst the heavier nucleus serves as the target. In _inverse kinematics_, the reverse is true: the heavier ion serves as the beam, which is used to bombard a target consisting of the lighter isotope. This approach provides several advantages over forward kinematics: from the conservation of momentum, two-body reactions are forward projected (see {numref}`inverse-forward-kinematics`), which improves the geometrical efficiency of the detector for a particular solid-angle coverage. Furthermore, for short-lived isotopes, it is possible to use a particle accelerator to produce ions on-line to circumvent challenges of target production.\n",
    "\n",
    "::::{subfigure} AB\n",
    ":layout-sm: A|B\n",
    ":gap: 8px\n",
    ":subcaptions: below\n",
    ":name: inverse-forward-kinematics\n",
    "\n",
    ":::{image} image/forward-kinematics.svg\n",
    ":alt: (a)\n",
    "\n",
    ":::\n",
    "\n",
    ":::{image} image/inverse-kinematics.svg\n",
    ":alt: (b)\n",
    ":::\n",
    "\n",
    "Schematic illustration of a non-relativistic elastic scattering reaction (lab frame) in (a) forward kinematics, in which the lighter nucleus _a_ is used as the projectile; and (b) inverse kinematics, whereby the heavy nucleus _A_ impinges upon the light target. \n",
    "\n",
    "In each panel, the upper region indicates a potential post-scattering configuration. In the inverse regime, due to conservation of momentum and energy, the reaction is _forward projected_; both nuclei continue travelling forward in the lab frame. Meanwhile, in forward kinematics it is possible for the beam to achieve a (smaller) negative velocity in the lab frame.\n",
    "::::"
   ]
  },
  {
   "cell_type": "markdown",
   "id": "ec1bd01d-2bd7-4cd6-9eaf-19d9b5eb9845",
   "metadata": {
    "user_expressions": []
   },
   "source": [
    "### Bragg Peak / Stopping Power"
   ]
  },
  {
   "cell_type": "markdown",
   "id": "2ccb072d-e00f-4dc0-9bda-5da651352423",
   "metadata": {
    "user_expressions": []
   },
   "source": [
    "## Time-Projection Chambers"
   ]
  },
  {
   "cell_type": "markdown",
   "id": "38a5fbff-353d-4a66-a3d7-4e32aba2467d",
   "metadata": {},
   "source": [
    ":::{note}\n",
    "Cite {cite:p}`hilke_time_2010` for primary clusters, \n",
    ":::"
   ]
  },
  {
   "cell_type": "markdown",
   "id": "325bda57-5e48-4574-8d28-e095c36e7a71",
   "metadata": {},
   "source": [
    ":::{note}\n",
    "(In?)Elasic Scattering\n",
    ":::"
   ]
  },
  {
   "cell_type": "markdown",
   "id": "7bc2568f-9737-4dc2-8318-328e27b0e119",
   "metadata": {
    "user_expressions": []
   },
   "source": [
    "Reactions\n",
    "=========\n",
    "\n",
    "Nuclear reactions are typically written in the form $X(a,b)Y$, which is effectively shorthand for $a+X\\rightarrow Y+b$, where $a$ is the projectile, $X$ the target, and $b,Y$ the products.\n",
    "\n",
    "Q Value\n",
    "-------\n",
    "In any reaction, the total energy is conserved, i.e.\n",
    "$$\n",
    "T_a + m_ac^2 + T_X + m_Xc^2 = T_b + m_bc^2 + T_Y + m_Yc^2\\,,\n",
    "$$\n",
    "where $m_X$ is the _rest mass_ of $X$, which may be excited. The *Q value* of the reaction is simply the change in mass energy\n",
    "$$\n",
    "Q &= \\pqty{m_a+m_X-m_b-m_Y}c^2\\\\\n",
    "&= T_b+T_Y - T_a-T_X\\,.\n",
    "$$\n",
    "\n",
    "Excitation Energy\n",
    "-----------------\n",
    "<!-- this is a simplified case of the X(a,b)Y case i.e. X(Y, Z*)-->\n",
    "Consider a simple two particle collision of $a$ and $X$, which leads to the formation of an (excited) compound nucleus $Z^*$. \n",
    "\n",
    "```bob\n",
    "                   .-----.                    |\n",
    "                   | Lab |                    |\n",
    "                   '-----'                    |\n",
    "     _____                       _____        |            _____    \n",
    "   ,'     `.                   ,'     `.      |          ,'     `.  \n",
    "  /         \\     u1      u2  /         \\     |         /         \\    u(cm)\n",
    " (     a     ) --------> <-- (     X     )    |        (     Z*    )  ----->\n",
    "  \\         /                 \\         /     |         \\         / \n",
    "   `._____,'                   `._____,'      |          `._____,'  \n",
    "                                                       \n",
    "```\n",
    "\n",
    "*In the centre of mass frame*, from **(a)** we have\n",
    "$$\n",
    "    m_{Z^*}c^2 = m_ac^2 + T_a + m_Xc^2 + T_X\\,.\n",
    "$$ \n",
    "<!-- If it's not immediately clear below, E = γmc^2 = mc^2 + T where T = (γ-1)mc^2 -->\n",
    "This also follows from the definition of the invariant mass :\n",
    "$$m_{Z^*}c^2 = \\sqrt{E_{Z^*}^2 - (p_{Z^*}c)^2}\\,.$$\n",
    "With $\\norm{\\vb{p_{Z^*}}}=0$ in a centre of mass frame, this expression simplifies to $m_{Z^*}c^2 = E_{Z^*} = E_a+E_X$.\n",
    "\n",
    "From **(b)**, the Q value for this reaction is simply \n",
    "$$\n",
    "    Q = \\pqty{m_a + m_X - m_Z^*}c^2=-\\pqty{T_a+T_X}\\,,\n",
    "$$\n",
    "More frequently we are interested in the *excitation* $E_\\text{ex} = \\pqty{m_{Z^*}-m_Z}c^2$ above the ground state energy $m_Zc^2$. In this case, it is more convenient to define the Q value in terms of the (known) ground-state value:\n",
    "$$\n",
    "   Q &= \\pqty{m_a + m_X - m_{Z^*}}c^2\\\\\n",
    "    &= \\pqty{m_a + m_X - \\pqty{m_Z + \\Delta m_{Z^*}}}c^2\\\\\n",
    "    &= \\pqty{m_a + m_X - m_Z}c^2 - \\Delta m_{Z^*}c^2\\\\\n",
    "    &= Q_\\text{gs}-E_\\text{ex}\\,,\n",
    "$$\n",
    "where $\\Delta m_{Z^*}$ is the additional mass due to excitation. \n",
    "With $Q$ given by **(d)**, it follows from **(e)** that $E_\\text{ex} = Q_\\text{gs} + T_a+T_X$.m"
   ]
  },
  {
   "cell_type": "code",
   "execution_count": null,
   "id": "fb7a706f-c891-46a4-962e-ebeb3b635c5a",
   "metadata": {},
   "outputs": [],
   "source": []
  }
 ],
 "metadata": {
  "kernelspec": {
   "display_name": "Python 3 (ipykernel)",
   "language": "python",
   "name": "python3"
  },
  "language_info": {
   "codemirror_mode": {
    "name": "ipython",
    "version": 3
   },
   "file_extension": ".py",
   "mimetype": "text/x-python",
   "name": "python",
   "nbconvert_exporter": "python",
   "pygments_lexer": "ipython3",
   "version": "3.10.6"
  },
  "widgets": {
   "application/vnd.jupyter.widget-state+json": {
    "state": {},
    "version_major": 2,
    "version_minor": 0
   }
  }
 },
 "nbformat": 4,
 "nbformat_minor": 5
}
