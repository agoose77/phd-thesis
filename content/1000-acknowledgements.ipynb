{
 "cells": [
  {
   "cell_type": "markdown",
   "id": "4e33b742-0c60-4c98-be22-ce27d251d226",
   "metadata": {
    "tags": [],
    "user_expressions": []
   },
   "source": [
    "# Acknowledgements\n",
    "\n",
    "PhDs are often referred to as journeys. Though it is tempting, therefore, to begin these acknowledgements with a quote, or reference to an epic voyage, to do so would feel foolish; I have not achieved a super-human feat, and there were no supernatural beings or powers at play. Yet, to ensure that the screenwriters of \"2023: A Space-less Odyssey\" are not made aware of this work and left without sufficient material, I will indulge such an interpretation (and commit to the full mustard-gogo-boots-level imagery).\n",
    "\n",
    "With reflection upon the great epics such as Homer's Odyssey, Beowulf, or the IMAX screening of Interstellar, it suffices to start with a guiding force. To my supervisors, Tzany Wheldon and Carl Wheldon: thank you for your direction and counsel. Tzany, my painting from our stateside art class will serve as constant, slightly wonky testament to the role that creativity and perspective must play in one's life, and emphasise the enduring importance of getting paint on the canvas. Carl, I have reviewed my Grammarly statistics and the data shows that I've never before been so focused on my punctuation and grammar. Whilst I joke about this, and the pluarality of data, you have instilled in me the importance of the little details. \n",
    "\n",
    "In every epic, one cannot fail to identify those characters whose contributions to the narrative before some pivotal chapter have hitherto gone unrecognised. It is my hope that Jack Bishop should land one of these leading roles, and that his salary be excessive and obscene (Jack, I've done all I can, I hope you can give a good audition). I sincerely wish to express my gratitude to Jack, Marina, and the wider team at the cyclotron institute for their knowledge and patience. \n",
    "\n",
    "No expedition ever starts or finishes without friends or family.  To my _companions_, (I shall call you Argos, Wiglaf, TARS, and Jupyter), you know who you are (but I don't, so _please_, get in touch). To embrace the melodramatic, I wouldn't be where I am now without you. Which is to say that I'd be somewhere else, and I suspect that where _that_ world is, it does not have wind turbines or ABBA.\n",
    "\n",
    "To my parents, I forgive you for not having any Physics qualifications that might have been of use to me. What you have imparted was far more important, and sown long before I started this journey. You have given me a work ethic, a belief in myself, and most importantly, safe and happy homes that I have always been able to return to. To Meg _MD_, I hereby note in formal academic literature, that you were the first twin to become a doctor. Though, should the call go out, in the spirt of equality we shall both assist any mid-flight emergency. Thank you for taking the pressure off by ensuring that mum and dad would have at least one successful offspring. To my brother Sam, thank you for the welcome interludes helping you recover your email passwords provided, for teaching me to hate speed-chess, and for your excellent taste in memes. To the extensive Hollands and Fitzgerald clans: support comes in many different guises. Your never ending encouragement has meant more than you will ever know. Finally, to my additional family (the Rowe’s), thank you for always offering me both the first and the last potato. \n",
    "\n",
    "Like all good models of reality, the metaphorical lens that I have used to describe the last four years is imperfect; there is one person yet still to be to acknowledged yet there are no illustrations, cursive or monospaced, sufficient to recognise her contributions. Ellie, this was an expedition in which you stood beside me each step of the way. Thank you for the unswerving kindness, interminable patience, and the immeasurable time and energy that you have demonstrated unfalteringly over the years (and also for the thesaurus). Like most epics, this main character has been exceedingly lucky.\n",
    "\n",
    "Along this journey, I count myself lucky not to have made any mortal enemies. At least, should they exist, I am unaware of them. Then again, isn't the greatest enemy of all: time?[^1] Thus, as I come to the end of this first Epic journey, I am filled with nothing but gratitude. I am thankful for those I met along the way and hope you will be enduring characters in my next chapters, and I in yours. For those already in my life, thank you for your patience. I have no excuse not to do the dishes any more.\n",
    "\n",
    "[^1]: This, too, I am attestedly unaware of."
   ]
  },
  {
   "cell_type": "markdown",
   "id": "4bef8eea-fa48-4ddb-87b1-a5572f2e26ef",
   "metadata": {
    "user_expressions": []
   },
   "source": [
    "> The atmosphere was dominated by a feeling of mutual respect . . . There existed in those days a true camaraderie in our profession, whatever the small differences in our approach.  \n",
    "\n",
    "_The Remains of the Day_, Kazuo Ishiguro."
   ]
  }
 ],
 "metadata": {
  "kernelspec": {
   "display_name": "Python 3 (ipykernel)",
   "language": "python",
   "name": "python3"
  },
  "language_info": {
   "codemirror_mode": {
    "name": "ipython",
    "version": 3
   },
   "file_extension": ".py",
   "mimetype": "text/x-python",
   "name": "python",
   "nbconvert_exporter": "python",
   "pygments_lexer": "ipython3",
   "version": "3.10.6"
  },
  "widgets": {
   "application/vnd.jupyter.widget-state+json": {
    "state": {},
    "version_major": 2,
    "version_minor": 0
   }
  }
 },
 "nbformat": 4,
 "nbformat_minor": 5
}
