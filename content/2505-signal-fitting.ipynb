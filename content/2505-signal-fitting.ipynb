{
 "cells": [
  {
   "cell_type": "markdown",
   "id": "4a712c74-97b0-42c3-9f83-9b43dedb6dd9",
   "metadata": {
    "tags": [],
    "user_expressions": []
   },
   "source": [
    "(signal-fitting)=\n",
    "# Signal Fitting\n",
    "\n",
    "In the above sections, it was established that the sampled GET waveforms are effectively convolutions of an original source signal and the intrinsic GET shaper response function. Having determined an approximation for this response function, the source signals can then be recovered by deconvolutional methods. \n",
    "\n",
    "For each preprocessed sample, a convolutional Gaussian fit is performed that solves $y = F * \\mathcal{N}(\\boldsymbol{\\phi})$ for $\\boldsymbol{\\phi}$. This is preferred over computing the Gaussian fit of the deconvolved signal; although repeated convolution is computationally expensive, it is less vulnerable to artefacts produced by the deconvolution technique. For samples which do not exceed the dynamic range of the acquisition system, the peak multiplicity is estimated using the GOLD deconvolution algorithm with boosting, which collapses broad peaks into smooth, sharp peaks. These peaks are then identified using a simple turning-point localiser, which is used to seed the initial fit parameters (see {numref}`turning-point-localiser`). \n",
    "\n",
    ":::{figure} image/placeholder/placeholder.png\n",
    ":name: turning-point-localiser\n",
    ":::\n",
    "\n",
    ":::{warning}\n",
    "Figure show turning point localiser\n",
    ":::\n",
    "\n",
    "In some cases, the measured sample exceeds the maximum value that can be measured. This saturation introduces a discontinuity in the derivative of the sample, which renders it un-amenable to deconvolution (see {numref}`signal-saturation-discontinuity`).\n",
    ":::{figure} image/placeholder/placeholder.png\n",
    ":name: signal-saturation-discontinuity\n",
    ":::\n",
    "\n",
    ":::{warning}\n",
    "Figure show signal-saturation-discontinuity\n",
    ":::\n",
    "\n",
    "In such instances, one cannot easily determine the peak multiplicity of the sample. It is therefore assumed that the measured sample contains only one peak, which is fit as described above using an additional mask that forces the fit algorithm to reject the saturated regions.\n",
    "\n",
    "\n",
    ":::{warning}\n",
    "TODO: \n",
    "- [ ] discuss current vs voltage here of preamplifier\n",
    "- [ ] check whether drift of charges is significant to signal formation in presence of micromesh?\n",
    "- [ ] consider meaning of non linear least squares\n",
    ":::"
   ]
  },
  {
   "cell_type": "code",
   "execution_count": null,
   "id": "0405a9d6-848f-4ccb-aefd-fc116494ab76",
   "metadata": {},
   "outputs": [],
   "source": []
  }
 ],
 "metadata": {
  "kernelspec": {
   "display_name": "Python 3 (ipykernel)",
   "language": "python",
   "name": "python3"
  },
  "language_info": {
   "codemirror_mode": {
    "name": "ipython",
    "version": 3
   },
   "file_extension": ".py",
   "mimetype": "text/x-python",
   "name": "python",
   "nbconvert_exporter": "python",
   "pygments_lexer": "ipython3",
   "version": "3.10.4"
  }
 },
 "nbformat": 4,
 "nbformat_minor": 5
}
