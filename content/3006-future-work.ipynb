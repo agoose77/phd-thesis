{
 "cells": [
  {
   "cell_type": "markdown",
   "id": "daf46c0d-550e-49e1-8479-6b3b97e67dc6",
   "metadata": {
    "user_expressions": []
   },
   "source": [
    "# Future Work"
   ]
  },
  {
   "cell_type": "markdown",
   "id": "549d71df-13f9-4a3a-972b-3ca57a106c02",
   "metadata": {
    "user_expressions": []
   },
   "source": [
    "- Jitsi integration\n",
    "- JupyterLab breakout"
   ]
  },
  {
   "cell_type": "code",
   "execution_count": null,
   "id": "e3af8d05-d29a-407d-a8c7-1de88fd8b86a",
   "metadata": {},
   "outputs": [],
   "source": []
  }
 ],
 "metadata": {
  "kernelspec": {
   "display_name": "Python 3 (ipykernel)",
   "language": "python",
   "name": "python3"
  },
  "language_info": {
   "codemirror_mode": {
    "name": "ipython",
    "version": 3
   },
   "file_extension": ".py",
   "mimetype": "text/x-python",
   "name": "python",
   "nbconvert_exporter": "python",
   "pygments_lexer": "ipython3",
   "version": "3.10.6"
  },
  "mystnb": {
   "execution_mode": "inline"
  },
  "widgets": {
   "application/vnd.jupyter.widget-state+json": {
    "state": {},
    "version_major": 2,
    "version_minor": 0
   }
  }
 },
 "nbformat": 4,
 "nbformat_minor": 5
}
