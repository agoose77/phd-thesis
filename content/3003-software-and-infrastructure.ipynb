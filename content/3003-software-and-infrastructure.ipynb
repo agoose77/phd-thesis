{
 "cells": [
  {
   "cell_type": "code",
   "execution_count": 34,
   "id": "219d2f12-0734-4348-91d2-45137bc7ad21",
   "metadata": {
    "tags": [
     "hide-cell"
    ]
   },
   "outputs": [],
   "source": [
    "import ipywidgets as w\n",
    "import k3d\n",
    "import numpy as np\n",
    "from IPython.display import Code\n",
    "from k3d import matplotlib_color_maps\n",
    "from matplotlib import cm as mpl_cm\n",
    "from matplotlib import colors as mpl_colors\n",
    "from scipy import integrate"
   ]
  },
  {
   "cell_type": "markdown",
   "id": "760b80d3-a90f-40a3-8522-1e61bcbf7f70",
   "metadata": {
    "user_expressions": []
   },
   "source": [
    "# Software and Infrastructure"
   ]
  },
  {
   "cell_type": "markdown",
   "id": "804f5a90-5496-487b-b6f2-0f3f843d1b1a",
   "metadata": {
    "user_expressions": []
   },
   "source": [
    "The objectives outlined in {ref}`olab:motivations` can be partitioned into development-focused priorities and product-focused outcomes. Though members of the development team had varying degrees of experience in writing Physics analyses, the landscape of modern software development spans a significant number of software packages, programming languages, and domain-specific knowledge. In order to deliver a usable, extensible platform which could be used to facilitate remote learning within the constrained time frame, a content-first, iterative approach to developing OLAB would be imperative. From these constraints, the following technological decisions were made:\n",
    ":::{list-table}\n",
    ":header-rows: 1\n",
    ":name: software-choices\n",
    ":widths: 1 4\n",
    "\n",
    "* - Software / Tool\n",
    "  - Motivation\n",
    "* - Python\n",
    "  - Python is the fastest growing programming language as measured by the TIOBE index, and is frequently used in data analytics and dashboarding contexts.{cite:ps}`noauthor_tiobe_nodate` The development group already had varying experience with the language, which is renowned for its quick time-to-first-result.\n",
    "* - Jupyter Notebook\n",
    "  - Jupyter Notebooks are widely used in academic research. There are already a significant number of software packages that add interactive widgets, and the notebook format serves as a standard across the Jupyter ecosystem.\n",
    "* - JupyterHub\n",
    "  - JupyterHub provides a battle-tested multi-tenant platform around which to serve customised computing environments to individual users. It provides hooks to integrate with LTI authentication systems such as those used by the Canvas LMS.\n",
    "* - ROOT\n",
    "  - ROOT is a standard tool used in the particle physics domain for all stages of the analysis lifecycle. \n",
    "* - ipywidgets\n",
    "  - ipywidgets provides a well-tested suite of interactive widgets, which can easily be composed to build complex layouts.\n",
    "* - Voilà\n",
    "  - The Voilà server was used alongside jupyter-flex to present linear notebook documents as a customised user-friendly dashboard.\n",
    "* - Kubernetes on GCP\n",
    "  - To orchestrate the multi-tenant JupyterHub containers, Kubernetes was deployed on Google Cloud Platform.\n",
    ":::\n",
    "\n",
    "Further discussion of the merits and motivations behind this set of software packages is given later in this chapter."
   ]
  },
  {
   "cell_type": "markdown",
   "id": "af880ef4-cce4-4d9d-bcf5-ce7d91b9ff2f",
   "metadata": {
    "user_expressions": []
   },
   "source": [
    "## Jupyter & Interactive Dashboarding"
   ]
  },
  {
   "cell_type": "markdown",
   "id": "6d603c36-0930-4619-ad57-f0ab344a1e22",
   "metadata": {
    "user_expressions": []
   },
   "source": [
    "The Jupyter (a loose acronoym meaning Julia-Python-R) project is a \n",
    "> non-profit, open-source project, born out of the IPython Project in 2014 as it evolved to support interactive data science and scientific computing across all programming languages. Jupyter will always be 100% open-source software, free for all to use and released under the liberal terms of the modified BSD license.{cite:ps}`noauthor_project_nodate`\n",
    "\n",
    "It encompasses a range of open source protocols and repositories around which a collaborative, interoperable ecosystem has been established. Through these common protocols and standards, a project building a particular Jupyter project is able to integrate with a range of other Jupyter-aware applications and software libraries. The Jupyter kernel standard, and the Jupyter notebook format are of particular relevance to this project; around these two standards, a strong separation between code, evaluation, and presentation has been established. This separation facilitates specialised workflows in which content authorship can use different tools to those used for the final presentation. {numref}`jupyter-lab-ide` shows an example notebook of the Lorenz attractor open in the JupyterLab IDE. It can be seen that both narrative and computational components are present in the same editor workflow.{cite:ps}`stewart_lorenz_2000` The same notebook can be served via the Voila server, which presents end-users with pre-rendered interactive representations of Jupyter notebooks. {numref}`voila-lorenz` shows a screenshot of Voila serving the Lorenz attractor notebook. It can be seen that the editable code cell has been hidden (removed) from the end user."
   ]
  },
  {
   "cell_type": "markdown",
   "id": "0178ffe2-1554-491e-b073-7bc37d73f2dc",
   "metadata": {
    "tags": [],
    "user_expressions": []
   },
   "source": [
    ":::{figure} image/jupyter-lab-ide.png\n",
    ":name: jupyter-lab-ide\n",
    ":width: 512px\n",
    ":align: center\n",
    "\n",
    "Screenshot of the `Lorenz` demonstration notebook within the JupyterLab next-generation IDE. Rich computational narratives can easily be constructed by interweaving code and markup (Markdown) cells. Rich outputs, such as interactive widgets and rendered plots, can be embedded to support exploratory analyses.\n",
    ":::"
   ]
  },
  {
   "cell_type": "markdown",
   "id": "dfcbb3f5-ed49-407c-b586-9eb680ac2908",
   "metadata": {
    "tags": [],
    "user_expressions": []
   },
   "source": [
    ":::{figure} image/voila-lorenz.png\n",
    ":name: voila-lorenz\n",
    ":width: 512px\n",
    ":align: center\n",
    "\n",
    "Screenshot of the `Lorenz` demonstration notebook presented using Voila. Voila templates can be customised and configured: from re-arranging content or changing the formatting, to building entire applications.\n",
    ":::"
   ]
  },
  {
   "cell_type": "code",
   "execution_count": 54,
   "id": "cbc589c0-a452-4851-8998-01e6d38dc7af",
   "metadata": {
    "mystnb": {
     "figure": {
      "align": "left",
      "caption": "A 3D interactive plot of a particular solution to the Lorentz attractor. This particular example does not include any parameterisation; full interactivity is frequently is provided by a running \"server\" (kernel) that executes computations and returns the results. This plot was generated with a Jupyter notebook; this _thesis_ is written in Jupyter Book, which itself can be driven by these documents.",
      "name": "lorenz-attractor-widget"
     }
    },
    "tags": [
     "hide-input",
     "no-latex"
    ]
   },
   "outputs": [
    {
     "data": {
      "application/vnd.jupyter.widget-view+json": {
       "model_id": "53829f21405d43f4a04a531e4040e5d4",
       "version_major": 2,
       "version_minor": 0
      },
      "text/plain": [
       "Output()"
      ]
     },
     "metadata": {},
     "output_type": "display_data"
    }
   ],
   "source": [
    "N = 10\n",
    "angle = 0.0\n",
    "max_time = 4.0\n",
    "sigma = 10.0\n",
    "beta = 8.0 / 3\n",
    "rho = 28.0\n",
    "\n",
    "\n",
    "def lorenz_deriv(x_y_z, t0, sigma=sigma, beta=beta, rho=rho):\n",
    "    \"\"\"Compute the time-derivative of a Lorenz system.\"\"\"\n",
    "    x, y, z = x_y_z\n",
    "    return [sigma * (y - x), x * (rho - z) - y, x * y - beta * z]\n",
    "\n",
    "\n",
    "# Choose random starting points, uniformly distributed from -15 to 15\n",
    "np.random.seed(1)\n",
    "x0 = -15 + 30 * np.random.random((N, 3))\n",
    "\n",
    "# Solve for the trajectories\n",
    "t = np.linspace(0, max_time, int(250 * max_time))\n",
    "x_t = np.asarray([integrate.odeint(lorenz_deriv, x0i, t) for x0i in x0])\n",
    "\n",
    "# choose a different color for each trajectory\n",
    "colors = mpl_cm.viridis(np.linspace(0, 1, N))\n",
    "\n",
    "plot = k3d.plot(camera_rotate_speed=4, grid_visible=False)\n",
    "\n",
    "for i in range(N):\n",
    "    plot += k3d.line(\n",
    "        x_t[i, :, :].astype(np.float32),\n",
    "        width=0.6,\n",
    "        color=int(mpl_colors.rgb2hex(colors[i]).replace(\"#\", \"0x\"), base=16),\n",
    "    )\n",
    "plot.display()"
   ]
  },
  {
   "cell_type": "markdown",
   "id": "c6316fe3-6f2b-427d-a2c7-8b5e8a6eb79c",
   "metadata": {
    "user_expressions": []
   },
   "source": [
    "Jupyter Notebook (or Lab) is already an established tool for aiding research within the academic sphere. It is used across a range of disciplines, and is particularly popular in the science and engineering fields. It follows that the OLab development team were already partially familiar with parts of the Jupyter ecosystem, and the choice to commit to the Jupyter software stack provided a low barrier to entry for authoring virtual laboratory content. "
   ]
  },
  {
   "cell_type": "markdown",
   "id": "c1c0d774-ce6f-4553-9f4e-e9a06f72d0bc",
   "metadata": {
    "user_expressions": []
   },
   "source": [
    "As discussed in {ref}`olab:learning-tools`, a prospective benefit of virtual laboratories is the ability to unify and maintain the software and content deployment process. A key component of this within the Jupyter project is JupyterHub.\n",
    "> JupyterHub brings the power of notebooks to groups of users. It gives users access to computational environments and resources without burdening the users with installation and maintenance tasks. Users - including students, researchers, and data scientists - can get their work done in their own workspaces on shared resources which can be managed efficiently by system administrators.{cite:ps}`noauthor_project_nodate-1`\n",
    "\n",
    "Within institutions, JupyterHub is increasingly popular, with a number of universities building MOOCs upon the platform such as Berkley's Data8 course.{cite:ps}`adhikari_issue_2021` Though these institutions predominantly utilise JupyterHub to provision JupyterLab instances, i.e. to provide a partially homogeneous computing environment, there are an increasing number of groups using JupyterHub to serve third-party software such as RStudio. JupyterHub is built from a series of composable resources that facilitate integration of a multi-tenant compute platform with existing virtual learning systems and compute resources. Users can be authenticated using OAuth or LTI solutions. User environments (containers) can easily be configured by platform maintainers, and can be run on a range of cloud providers e.g. via Kubernetes, or using on-prem infrastructure via SLURM, Torque, or even Docker spawners.  It was for these reasons that the Jupyter technologies listed in {numref}`software-choices` were employed to build O-Lab. "
   ]
  },
  {
   "cell_type": "markdown",
   "id": "0317c01e-dd1e-442a-8e87-7a30c935e931",
   "metadata": {
    "user_expressions": []
   },
   "source": [
    "## Containerisation"
   ]
  },
  {
   "cell_type": "markdown",
   "id": "bf0b86ab-0adf-4238-b139-b1958fc0953f",
   "metadata": {
    "user_expressions": []
   },
   "source": [
    "Just as there exists a challenge in supporting students with installation and management of software packages, the same concerns are present when working with a team of developers to build software. Modern software development typically involves the usage of solutions that guarantee the reproducibility of an environment, such as `conda`, or Node JS's `npm`.{cite:ps}`gruning_practical_2018` These package managers make use of a \"lockfile\" to solve a set of software dependencies ahead-of-time for a known set of architectures (in the later case, exclusively Node). In doing so, it is guaranteed that users of these lockfiles can reproduce the same environment, avoiding the often seen \"this works on my machine\" complaint. Of these two examples, Conda is the more general; it provides binary packages for multiple platforms, fulfilling the role of a general-purpose package manager. \n",
    "\n",
    "Despite this, there are times when even an equivalent set of packages insufficient to guarantee a working environment; existing software installed on the host operating system can sometimes \"bleed\" into the Conda environment, e.g. through environment variables, or additional constraints may be required, such as a particular file-system layout, or port availability. It follows that reproducibility of packages alone is not sufficient to fully reproduce a software environment. Containers are a tool which provide this abstraction by not only \"locking\" the application state (installed packages), but also the filesystem. They support mechanisms for remapping ports, binding external files, and can be deployed as immutable artefacts, avoiding problems of state corruption. For this reason, they can be a powerful tool in distributing the same development environment to a team of software developers. Indeed, tools such as Visual Studio Code and IntelliJ IDEA now provide remote development workflows that are powered by containers. \n",
    "\n",
    "The container concept has undergone many iterations and realisations in the last decade, with recent popularity driven by Docker, which has seen vast adoption since its introduction in 2013.{cite:ps}`zhu_if_2018` Since that time, industry-wide efforts have focused upon standardisation, with the Open Container Initiative developing standards for container images (that contain the container filesystem) and container runtimes (that extract the container image and setup the relevant namespaces for execution). JupyterHub supports a number of spawners which work with user-defined container images, including `KubeSpawner` and `DockerSpawner`. The benefit of using containers in this context is predominantly to reduce development time; user containers can be tested locally on a local JupyterHub instance, and subsequently deployed with high confidence to remote / cloud-based Hubs. The ease of local development conserves developer time that would otherwise be spent on administering the remote deployment. At the time of O-Lab development, Docker was still a popular choice of image builder and container runtime, and was used to implement both the reproducible development environment, and the final production user image (see {numref}`olab-dockerfile`). "
   ]
  },
  {
   "cell_type": "markdown",
   "id": "71700b56-f234-476c-aa19-2cf3424969ad",
   "metadata": {
    "user_expressions": []
   },
   "source": [
    "## Cloud Deployment & Provisioning\n",
    "\n",
    "An impediment to deploying a JupyterHub within an academic institution is the lack of appropriate compute resources. Whilst universities often maintain on-prem compute facilities, these are usually designed to tackle conventional (homogeneous) HPC workloads, rather than the heterogeneous demands of general-purpose user containers. Whilst these systems can be leveraged to host a JupyterHub instance, e.g. using the aforementioned SLURM spawner, in practice the limitations of these systems are encountered fairly immediately. On an administrative level, HPC resources are typically earmarked for research purposes; deployment of teaching resources usually requires a separate treatment. Nonetheless, a trial deployment using the SLURM spawner was trialed to evaluate the viability of the HPC platform as a compute layer. There were several notable drawbacks identified during this trial period: users required VPN access in order to access the Hub from outside the University network, and the startup times were considerable; in some instances, on the order of tens of minutes. In general, this is a drawback of HPC-oriented schedulers; users are rewarded for short-running jobs. Meanwhile, JupyterHub jobs are unknown in duration, and therefore we must ask the schedule for long runtimes on the order of many hours, which leads to low job priorities. \n",
    "\n",
    "It follows that a more versatile deployment solution was needed. Without dedicated on-prem compute to power O-Lab, a cloud solution was sought after. In this space, the dominant approach is to use Kubernetes as the lingua-franca of cloud compute providers. Kubernetes defines an abstract set of primitives that collectively facilitate large-scale container orchestration and deployment (see {numref}`kubernetes-diagram`). It is supported by the majority of cloud providers, meaning that an investment in a particular cloud provider is not fraught with the perils of vendor lock-in, as is common with bespoke cloud platforms. \n",
    "\n",
    ":::{figure} https://upload.wikimedia.org/wikipedia/commons/b/be/Kubernetes.png\n",
    ":name: kubernetes-diagram\n",
    ":width: 512px\n",
    ":align: center\n",
    "\n",
    "Architecture diagram of a Kubernetes deployment. Several black-box containers are run within Kubernetes \"pods\", and communicate with one another over a shared network. Through horizontal and vertical autoscaling, Kubernetes can ensure that available resources are optimally distributed across the running pods. Healthy deployments are ensured through monitoring and subsequent redeployment, providing a mechanism for failure tolerance.\n",
    "Figure by Khtan66, distributed under a [CC BY-SA 4.0](https://creativecommons.org/licenses/by-sa/4.0/deed.en) license.\n",
    ":::\n",
    "\n",
    "These building blocks are configured through declarative YAML templates, which can be parameterised by user values to easily customise the deployment through centralised configuration files. See {numref}`kubernetes-certificate` for an example of such a template. Kubernetes is a \"lingua franca\" for cloud providers because it abstracts over the details of how these platforms expose e.g. routing, disk allocation, etc. Instead, Kubernetes provides a standard interface with which tools like JupyterHub's `KubeSpawner` can communicate, allowing a write-once use-everywhere design. This flexibility was employed during the O-Lab trials; an initial deployment was made onto Microsoft Azure, before subsequent migration to Google Kubernetes Engine (GKE)."
   ]
  },
  {
   "cell_type": "markdown",
   "id": "6c5a5f29-a39c-4a7b-8516-d8bd00059b04",
   "metadata": {
    "user_expressions": []
   },
   "source": [
    ":::{code-block} yaml\n",
    "---\n",
    "name: kubernetes-certificate\n",
    "caption: |\n",
    "    YAML template for a Kubernetes resource configuring the HTTPS certificates of the ingress node.\n",
    "---\n",
    "\n",
    "apiVersion: networking.gke.io/v1\n",
    "kind: ManagedCertificate\n",
    "metadata:\n",
    "  name: ingress-certificate\n",
    "spec:\n",
    "  domains:\n",
    "    {{- range $.Values.domains }}\n",
    "    - {{ . }}\n",
    "    {{- end }}    \n",
    ":::"
   ]
  },
  {
   "cell_type": "markdown",
   "id": "dc1eb08d-e464-4cbd-88c9-3f8ac7dfa425",
   "metadata": {
    "user_expressions": []
   },
   "source": [
    "Whilst Kubernetes is a powerful tool for managing deployments of scalable applications in the cloud, it does not address the challenge of setting up the infrastructure upon which it runs. For this, Terraform (after investigations with Ansible) was used. Like Kubernetes, a fundamental advantage of Terraform is its declarative configuration files; infrastructure state is expressed through intent (infrastructure as code), rather than imperative procedures. Although a unique Terraform configuration is required for each cloud provider, the building blocks provided by Terraform significantly reduce the maintenance burden. When building cloud-hosted distributed applications, the ability to automate the provisioning and deployment of infrastructure is invaluable."
   ]
  },
  {
   "cell_type": "markdown",
   "id": "be02b61c-168a-4958-a9fb-8fbc54e261d4",
   "metadata": {
    "tags": [],
    "user_expressions": []
   },
   "source": [
    ":::{code-block} terraform\n",
    "---\n",
    "name: terraform-gke\n",
    "caption: |\n",
    "    Example Terraform Resource configuration file, provisioning a node pool of three compute nodes on Google Kubernetes Engine (GKE).\n",
    "---\n",
    "\n",
    "resource \"google_container_node_pool\" \"user_nodes\" {\n",
    "  name       = \"user\"\n",
    "  cluster    = google_container_cluster.primary.name\n",
    "  node_count = 3\n",
    "\n",
    "  node_config {\n",
    "    preemptible  = false\n",
    "    machine_type = \"e2-standard-2\"\n",
    "\n",
    "    # Google recommends custom service accounts that have \n",
    "    # cloud-platform scope and permissions granted via IAM Roles.\n",
    "    service_account = google_service_account.default.email\n",
    "\n",
    "    oauth_scopes = [\n",
    "      ...\n",
    "    ]\n",
    "\n",
    "    # To prevent non-user nodes being scheduled here\n",
    "    labels = {\n",
    "      \"hub.jupyter.org/node-purpose\" = \"user\"\n",
    "    }\n",
    "\n",
    "    taint = [\n",
    "      {\n",
    "        effect = \"NO_SCHEDULE\"\n",
    "        key    = \"hub.jupyter.org_dedicated\"\n",
    "        value  = \"user\"\n",
    "      }\n",
    "    ]\n",
    "  }\n",
    "\n",
    "  autoscaling {\n",
    "    min_node_count = 0\n",
    "    max_node_count = 3\n",
    "  }\n",
    "}\n",
    ":::"
   ]
  },
  {
   "cell_type": "markdown",
   "id": "1d0822f8-c51c-458a-a81d-bb14893e312f",
   "metadata": {
    "tags": [],
    "user_expressions": []
   },
   "source": [
    "A significant drawback of using cloud infrastructure is the runtime costs. Whilst these services take responsibility for managing the infrastructure upon which they operate, this comes with an associated penalty with respect to usage tariffs; users are typically charged according to the number of nodes (and their respective configurations) required to run the cluster. Cloud operators increasingly offer managed Kubernetes deployments, such as Google Kubernetes Engine's Autopilot, in which the baseline runtime cost is governed by the number of _pods_ running, rather than the nodes upon which they run. In this model, even more of the work associated with deploying an application on Kubernetes is managed by the cloud provider, simplifying the task of deploying an application. In general, the tradeoffs and benefits of using a managed service over a self-managed deployment yield an inflection point in the baseline load below which it is more affordable to manage the deployment one's self. Furthermore, managed Kubernetes services often do not benefit from the same \"free tier\" benefits that providers such as Google Cloud make available. As such, this self-managed scheme was used in the O-Lab. For this reason, infrastructure-as-code was of particular importance; the ability to programmatically tear down and subsequently re-establish the cluster infrastructure enabled the implementation cost-saving shutdowns during quiet period (e.g. weekends)."
   ]
  },
  {
   "cell_type": "markdown",
   "id": "4af771c7-c3a1-4cff-b12a-c59c9068a34e",
   "metadata": {
    "user_expressions": []
   },
   "source": [
    "JuypterHub has several distributions according to the needs of the user. For small deployments _The Littlest JupyterHub_ (TLJH) runs on a single machine, without containerisation. For larger deployments in which scaling is important, and containers are required, there is _Zero to JupyterHub with Kubernetes_. It is this distribution that was chosen for O-Lab. In this distribution, JupyterHub employs two primary Kubernetes pods: a proxy pod, and a Hub pod, that together comprise \"JupyterHub\". The proxy is used to route network traffic between different endpoints according to a cookie that is associated with each user request. If a user already exists, the proxy pod routes their traffic to the appropriate user pod. Otherwise, the request is instead sent to he Hub pod, which creates the user container. The Hub pod, meanwhile, is responsible for administrative tasks, such as authentication (is the user logged in?), container spawning (provisioning an environment for new users), and an administrative panel for maintenance and deployment information (e.g. who is logged in) (see {numref}`jupyterhub-admin`)."
   ]
  },
  {
   "cell_type": "markdown",
   "id": "0fda6d4b-118e-4cd4-a10a-24dad917a3fa",
   "metadata": {
    "tags": [],
    "user_expressions": []
   },
   "source": [
    ":::{figure} image/jupyterhub-admin.png\n",
    ":name: jupyterhub-admin\n",
    ":width: 512px\n",
    ":align: center\n",
    "\n",
    "Screenshot of the JupyterHub administrator panel, showing a list of previously seen users, and their server status. Individual user servers can be stopped and started by the administrator; enabling remote troubleshooting in the event of a problem.\n",
    ":::"
   ]
  },
  {
   "cell_type": "markdown",
   "id": "cd112d19-ffed-471d-89db-202ef8cfd4fb",
   "metadata": {
    "tags": [],
    "user_expressions": []
   },
   "source": [
    ":::{admonition} To Do\n",
    "`ipywidgets`?\n",
    "`xeus-python`?\n",
    "modular configuration - how modules connect?\n",
    ":::"
   ]
  }
 ],
 "metadata": {
  "kernelspec": {
   "display_name": "Python 3 (ipykernel)",
   "language": "python",
   "name": "python3"
  },
  "language_info": {
   "codemirror_mode": {
    "name": "ipython",
    "version": 3
   },
   "file_extension": ".py",
   "mimetype": "text/x-python",
   "name": "python",
   "nbconvert_exporter": "python",
   "pygments_lexer": "ipython3",
   "version": "3.10.6"
  },
  "widgets": {
   "application/vnd.jupyter.widget-state+json": {
    "state": {},
    "version_major": 2,
    "version_minor": 0
   }
  }
 },
 "nbformat": 4,
 "nbformat_minor": 5
}
