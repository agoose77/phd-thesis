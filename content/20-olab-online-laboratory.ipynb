{
 "cells": [
  {
   "cell_type": "markdown",
   "id": "daf46c0d-550e-49e1-8479-6b3b97e67dc6",
   "metadata": {},
   "source": [
    "# O-Lab Online Nuclear Laboratory"
   ]
  },
  {
   "cell_type": "markdown",
   "id": "83526f8e-ef83-4a7e-a20e-7a7dea0e1315",
   "metadata": {},
   "source": [
    "## Flexible and Reproducible Learning\n",
    "\n",
    ":::{note}\n",
    "\n",
    "- Experiments are well controlled:\n",
    "   - Better focus on learning-objectives (can introduce error, but at well localised points)\n",
    "   - Easier to assist students with anticipated problems\n",
    "   - More powerful - nudge towards _interesting_ failure modes / phenomena \n",
    ":::"
   ]
  },
  {
   "cell_type": "markdown",
   "id": "d39f15b2-acdd-4208-9832-fae980bbd11a",
   "metadata": {},
   "source": [
    "## Versatile and Accessible Education\n",
    "\n",
    ":::{note}\n",
    "\n",
    "- Can make laboratory learning more accessible (both during pandemic, and subsequently), accomodate students with particular learning needs\n",
    "- Does not require trained staff with access to sources\n",
    "- Students can revisit experiments to better understand causes of failure\n",
    "- Minimise constraints around facility capacity (e.g. Graphite Stack)\n",
    ":::"
   ]
  },
  {
   "cell_type": "markdown",
   "id": "29806d55-131d-4b7d-aa29-d24436af1eec",
   "metadata": {},
   "source": [
    "## Powerful Learning Tools\n",
    ":::{note}\n",
    "- Interweave learning material with experimental content\n",
    "- Provide _interactive_ learning resources alongside experiment\n",
    "- Can integrate modern research tools like programming with data acquired from expt\n",
    "   - Reduces time-to-results\n",
    "   - Can specialise software environment\n",
    "   - Can progressively opt-in to analysis tools\n",
    "   - Integrate with modern report generation e.g. Jupyter Notebooks\n",
    ":::"
   ]
  },
  {
   "cell_type": "code",
   "execution_count": null,
   "id": "98d84fea-af97-445c-845b-2c710f551f50",
   "metadata": {},
   "outputs": [],
   "source": []
  }
 ],
 "metadata": {
  "kernelspec": {
   "display_name": "Python 3 (ipykernel)",
   "language": "python",
   "name": "python3"
  },
  "language_info": {
   "codemirror_mode": {
    "name": "ipython",
    "version": 3
   },
   "file_extension": ".py",
   "mimetype": "text/x-python",
   "name": "python",
   "nbconvert_exporter": "python",
   "pygments_lexer": "ipython3",
   "version": "3.9.9"
  },
  "widgets": {
   "application/vnd.jupyter.widget-state+json": {
    "state": {},
    "version_major": 2,
    "version_minor": 0
   }
  }
 },
 "nbformat": 4,
 "nbformat_minor": 5
}
