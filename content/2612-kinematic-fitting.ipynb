{
 "cells": [
  {
   "cell_type": "markdown",
   "id": "4a712c74-97b0-42c3-9f83-9b43dedb6dd9",
   "metadata": {
    "tags": [],
    "user_expressions": []
   },
   "source": [
    "# Kinematic Fitting"
   ]
  },
  {
   "cell_type": "markdown",
   "id": "7abe7a66-7d8d-4c9f-94cc-72f6494978c8",
   "metadata": {
    "user_expressions": []
   },
   "source": [
    ":::{warning}\n",
    "Depends upon analysis work\n",
    ":::"
   ]
  },
  {
   "cell_type": "code",
   "execution_count": null,
   "id": "2cd81fcd-3492-43e5-a682-fa5990ea65a1",
   "metadata": {},
   "outputs": [],
   "source": []
  }
 ],
 "metadata": {
  "kernelspec": {
   "display_name": "Python 3 (ipykernel)",
   "language": "python",
   "name": "python3"
  },
  "language_info": {
   "codemirror_mode": {
    "name": "ipython",
    "version": 3
   },
   "file_extension": ".py",
   "mimetype": "text/x-python",
   "name": "python",
   "nbconvert_exporter": "python",
   "pygments_lexer": "ipython3",
   "version": "3.10.6"
  }
 },
 "nbformat": 4,
 "nbformat_minor": 5
}
