{
 "cells": [
  {
   "cell_type": "markdown",
   "id": "0b992787-f5f6-40a6-933e-32dfc64e4764",
   "metadata": {
    "user_expressions": []
   },
   "source": [
    "# Resonance Elastic Scattering of $\\alpha$-particles with ${}^{10}\\text{C}$"
   ]
  },
  {
   "cell_type": "markdown",
   "id": "b705ae99-0f5c-4e56-845f-83b45094d5f6",
   "metadata": {
    "tags": [],
    "user_expressions": []
   },
   "source": [
    "## Gain Matching"
   ]
  },
  {
   "cell_type": "markdown",
   "id": "fe981da7-8980-4730-800f-506a52c0c946",
   "metadata": {
    "user_expressions": []
   },
   "source": [
    "The Micromegas anode is subdivided into a set of distinct zones that can be held at different potentials in order to spatially vary the gain. In this experiment, both the strip-chain (side) regions and final block of pads in the central region were held at a high gain in order to better resolve light particle tracks with low stopping powers. Following position reconstruction, these gains must be accounted for if the collected charge is to be used for particle identification.\n",
    "\n",
    "Given that the strips, chains, and final central pads were held at the same potential, the relative gain of these regions can be determined solely by looking at the relative gain of the final central pad region. This was experimentally measured by observing the change in charge collected by the rows of pads either side of the high-low gain boundary.\n",
    "\n",
    ":::{note}\n",
    "TODO: add an image of MM gain boundary\n",
    ":::"
   ]
  },
  {
   "cell_type": "markdown",
   "id": "2cd771f3-5171-48cd-bee1-3b54be0203c2",
   "metadata": {
    "tags": [],
    "user_expressions": []
   },
   "source": [
    "```{code-cell} python\n",
    "def compute_gain_thick_hist(chan):\n",
    "    # Compute the max of the sample waveform\n",
    "    charge = np.max(chan.sample, axis=-1)\n",
    "\n",
    "    # Identify which events have a cross-boundary track\n",
    "    is_before = (chan.addr.index.chan >= 448) & (chan.addr.index.chan <= 451)\n",
    "    is_after = (chan.addr.index.chan >= 252) & (chan.addr.index.chan <= 255)\n",
    "    crosses_boundary = np.any(is_before, axis=-1) & np.any(is_after, axis=-1)\n",
    "    \n",
    "    # Compute ratio of collected charges\n",
    "    factor = (\n",
    "        np.sum(\n",
    "            charge[crosses_boundary & is_before], axis=-1\n",
    "        ) / \n",
    "        np.sum(\n",
    "            charge[crosses_boundary & is_after], axis=-1\n",
    "        )\n",
    "\n",
    "    return Hist.new.Reg(128, 0, 1).Int64().fill(np.ravel(factor))\n",
    "```"
   ]
  },
  {
   "cell_type": "markdown",
   "id": "4099671f-7e1f-443e-a05d-d6fb6f81a45b",
   "metadata": {
    "user_expressions": []
   },
   "source": [
    "```{figure} image/gain-high-dark.png\n",
    "---\n",
    "alt: Ratio of low gain and high gain mean charge at the gain boundary.\n",
    "class: only-dark\n",
    "figclass: margin\n",
    "width: 400px\n",
    "align: center\n",
    "---\n",
    "Ratio of the mean collected charge between the low gain and high gain region boundary in the Micromegas pads.\n",
    "```"
   ]
  },
  {
   "cell_type": "markdown",
   "id": "1e72d955-c965-4c14-9f15-6fc437623bf1",
   "metadata": {
    "jp-MarkdownHeadingCollapsed": true,
    "tags": []
   },
   "source": [
    "## Silicon Calibration"
   ]
  },
  {
   "cell_type": "markdown",
   "id": "2e712f17-d2b8-4f97-829c-5257c49ad951",
   "metadata": {
    "jp-MarkdownHeadingCollapsed": true,
    "tags": []
   },
   "source": [
    "## Response Estimation"
   ]
  },
  {
   "cell_type": "markdown",
   "id": "0882b2fb-9b43-4564-89f5-f3a1968683ea",
   "metadata": {
    "tags": []
   },
   "source": [
    "## Garfield++ Simulation"
   ]
  }
 ],
 "metadata": {
  "kernelspec": {
   "display_name": "Python 3 (ipykernel)",
   "language": "python",
   "name": "python3"
  },
  "language_info": {
   "codemirror_mode": {
    "name": "ipython",
    "version": 3
   },
   "file_extension": ".py",
   "mimetype": "text/x-python",
   "name": "python",
   "nbconvert_exporter": "python",
   "pygments_lexer": "ipython3",
   "version": "3.9.9"
  },
  "mystnb": {
   "execution_mode": "inline"
  },
  "widgets": {
   "application/vnd.jupyter.widget-state+json": {
    "state": {},
    "version_major": 2,
    "version_minor": 0
   }
  }
 },
 "nbformat": 4,
 "nbformat_minor": 5
}
