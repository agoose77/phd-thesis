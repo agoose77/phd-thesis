{
 "cells": [
  {
   "cell_type": "markdown",
   "id": "0b992787-f5f6-40a6-933e-32dfc64e4764",
   "metadata": {
    "user_expressions": []
   },
   "source": [
    "# Resonance Elastic Scattering of $\\alpha$-particles with ${}^{10}\\text{C}$"
   ]
  },
  {
   "cell_type": "code",
   "execution_count": 2,
   "id": "1ba0f008-f00c-4cb8-9520-af9587928f08",
   "metadata": {
    "tags": [
     "remove-input",
     "remove-output"
    ]
   },
   "outputs": [],
   "source": [
    "from pathlib import Path\n",
    "import json"
   ]
  },
  {
   "cell_type": "markdown",
   "id": "973acada-9c87-4a0a-96f7-fd34e6f119ac",
   "metadata": {
    "user_expressions": []
   },
   "source": [
    "The GET acquisition system serialises data using the MultiFrame Metaformat (MFM)\n",
    "> a binary format for data acquisition and serialization that are self-contained, layered, adapted to network transfers[,] and evolving. {cite:ps}`anvar_multiframe_nodate`\n",
    "\n",
    "This file format is more suitable for disk storage than in-memory representation of data, as it is a heirarchical format in which each _frame_ must be read, regardless of whether it is needed. The use of separate header and data sections means that the cost of skipping a frame is limited to parsing the header, but MFM is still a struct-based format. In many cases, columnar processing is both more performant and more expressive than an equivalent event-loop based approach.{cite:ps}`smith_case_2019` \n",
    "\n",
    "The analysis process was performed in a series of discrete stages (see {numref}`analysis-flowchart`)."
   ]
  },
  {
   "cell_type": "markdown",
   "id": "4b36c710-5df7-4871-8b1d-0d672433439a",
   "metadata": {
    "user_expressions": []
   },
   "source": [
    "<!-- :::{figure-md} analysis-flowchart -->\n",
    "\n",
    ":::{mermaid}\n",
    "flowchart LR\n",
    "\n",
    "signal --> calibrate[Silicon Calibration*]\n",
    "baseline_removal --> gain_matching[Gain Matching*]\n",
    "baseline_removal --> response[Response Estimation*]\n",
    "gain_matching --> signal\n",
    "calibrate --> kinematic_fitting\n",
    "response --> signal\n",
    "\n",
    "get[/GET MFM/] --> mfm2root[ROOT Conversion] --> partitioning[Partitioning] --> noise_removal[Noise Removal] --> baseline_removal[Baseline Removal] --> signal[Signal Fitting] --> event[Cluster Reconstruction] --> fit[Track Fitting] --> kinematic_fitting[Kinematic Fitting] --> kinematics[/Kinematics/]\n",
    "\n",
    "gas_parameters[/Gas Parameters/] --> gas_simulation[Garfield++ Simulation] --> event\n",
    "\n",
    ":::\n",
    "\n",
    "<!-- The asterisk \\* indicates processes which were aggregated over the entire dataset ahead of reconstruction -->\n",
    "<!-- ::: -->\n",
    "\n",
    "```{warning}\n",
    "TODO: \n",
    "- [ ] make this wrap nicely\n",
    "- [ ] support hyperlinks to sections in this figure\n",
    "```"
   ]
  },
  {
   "cell_type": "markdown",
   "id": "f2790f00-c040-460a-8df1-4bff44d33efc",
   "metadata": {
    "user_expressions": []
   },
   "source": [
    "## Partitioning\n",
    "At the earliest stages of the reconstruction pipeline, performance is primarily bounded by available memory, and therefore it is sensible to partition the data by event multiplicity. This process constitutes the first two stages of this analysis, seen in {numref}`analysis-flowchart`. In the ROOT dataset, the `mmMul` branch contains the per-event multiplicity. To regularise the dataset according to this multiplicity, it was partitioned into approximate chunks of a given aggregate multiplicity. Given that the memory of an MFM event is primarily determined by the number of waveforms that it contains, this effectively balances the memory footprint of each partition.\n",
    "\n",
    "In subsequent stages, the memory bound gives way to compute costs, and so the partition size is refined to balance naive parallelisation against parallisation overhead. Where data is written to disk, the Hierarchical Data Format version 5 (HDF5) format is used as a consequence of its good language support, high compression ratios (with GZip), and columnar representation.{cite:ps}`the_hdf5_group_hierarchical_1997` The Parquet format is another strong format for columnar representation but, due to some library constraints, HDF5 was preferred."
   ]
  },
  {
   "cell_type": "markdown",
   "id": "776988e8-ba4f-41a8-baf8-21ea9c7611ad",
   "metadata": {
    "tags": [],
    "user_expressions": []
   },
   "source": [
    "## Noise and Baseline Removal\n",
    "\n",
    "As discussed in {ref}`content:get-architecture`, the AGET chip provides four additional channels for measuring the electronic noise. These channels can be used to eliminate some of the electronic noise inherent within the system. A number of noise removal strategies are discussed in {cite:ps}`giovinazzo_get_2016-1`, and establishes that an average over the set of FPN channels per-chip is optimal. It was this strategy that was employed to for noise removal (see {numref}`fpn-removal-micromegas`).\n",
    "\n",
    "\n",
    ":::{figure} todo\n",
    ":name: fpn-removal-micromegas\n",
    ":width: 400px\n",
    ":align: center\n",
    "\n",
    "```{warning}\n",
    "Todo: add example of FPN channel & FPN removal\n",
    "```\n",
    ":::\n",
    "\n",
    "In addition to a low frequency component of the electronic noise, a separate baseline offset was observed in the MicroMeGAS and silicon detector channels. This component was removed using two separate methods:\n",
    "\n",
    "### MicroMeGaS Baseline Estimation\n",
    "\n",
    "Given that time in the MicroMeGaS is primarly determined by the drift time of the liberated electrons in the gas volume, the baseline observed in the MicroMeGaS detector was not seen to occur at specific times. Therefore, in order to identify the region of baseline that would be linearly subtracted from the recorded signal, a local variance was computed for the channel samples, with a window of 96 cells (see {numref}`baseline-estimate-micromegas`).\n",
    "\n",
    ":::{figure} todo\n",
    ":name: baseline-estimate-micromegas\n",
    ":width: 400px\n",
    ":align: center\n",
    "\n",
    "```{warning}\n",
    "Todo: add example of baseline estimation\n",
    "```\n",
    ":::\n",
    "\n",
    "\n",
    "The value of the baseline was given by the locus of the minimum computed variance.\n",
    "\n",
    "### Silicon Baseline Estimation\n",
    "\n",
    "Unlike the MicroMeGaS channels, the silicon quadrant detectors have a well defined boundary between the baseline and the interaction signals. This boundary occurs at a similar time for each detector, as it is the silicon detectors upon which the GET system was configured to trigger. To determine the baseline value, the mean of the sample values for the preceeding ten cells was used (see {numref}`baseline-estimate-silicon`).\n",
    "\n",
    ":::{figure} todo\n",
    ":name: baseline-estimate-silicon\n",
    ":width: 400px\n",
    ":align: center\n",
    "\n",
    "```{warning}\n",
    "Todo: add example of baseline estimation\n",
    "```\n",
    ":::"
   ]
  },
  {
   "cell_type": "markdown",
   "id": "6871986b-4347-4a13-9c60-7a4816cdfe69",
   "metadata": {
    "jp-MarkdownHeadingCollapsed": true,
    "tags": [],
    "user_expressions": []
   },
   "source": [
    "## Response Estimation\n",
    "\n",
    "Channels which employ the AGET shaper require deconvolution in order to recover the underlying signal. This process requires a good knowledge of the underlying response function of the system. An approximate analytical solution is given in {cite:ps}`giovinazzo_get_2016-1`, but the authors note that it is insufficiently accurate to be used with deconvolutional methods. It is noted that the electronics can be configured such that the response function can be directly measured, but this required secondary access to the detector which resides at the Cyclotron Institute, Texas A&M University.{cite:ps}`giovinazzo_get_2016-1` \n",
    "\n",
    "### Iterative Estimation\n",
    "In order to determine a better approximation for the response function, an iterative deconvolve-fit process can be applied to a set of MicroMeGaS waveforms. These waveforms should be taken from a random spanning sample of the recorded MicroMeGaS waveforms. \n",
    "\n",
    ":::{figure} todo\n",
    ":name: mm-random-sample\n",
    ":::\n",
    "\n",
    ":::{warning}\n",
    "Figure showing random MM sample\n",
    ":::\n",
    "\n",
    "Given such a sample, an initial estimate of the response function $F^{(1)}$ can be used to fit each waveform with the convolution of a Gaussian function \n",
    "\n",
    ":::{math}\n",
    ":label: iterative-estimate\n",
    "Y^{(1)} = F^{(1)} * \\mathcal{N}^{(1)}\\,.\n",
    ":::\n",
    "\n",
    "The resulting fit $\\mathcal{N}^{(1)}$ can then be _deconvolved_ from the original sample $Y$ to produce of $F^{(2)}$. This process can be repeated until the solution becomes stable, and the solutions for a set of random waveforms may be averaged to produce a singular response function $F$ (see {numref}`mm-response-vs-get`).\n",
    "\n",
    ":::{figure} todo\n",
    ":name: mm-response-vs-get\n",
    ":::\n",
    "\n",
    ":::{warning}\n",
    "Figure showing MM response vs GET\n",
    ":::\n",
    "\n",
    "\n",
    "Given that the convolution of any two Gaussians is also Gaussian, the solution from {eq}`iterative-estimate` is not guaranteed to be unique, i.e. the resulting response function may include some Gaussian component. This can be seen when the estimated response function is compared with any one silicon sample: the silicon sample is on average slightly narrower than that of the estimated response function.\n",
    "\n",
    "\n",
    ":::{figure} todo\n",
    ":name: mm-vs-si-sample\n",
    ":::\n",
    "\n",
    ":::{warning}\n",
    "Figure showing comparing MM and si widths\n",
    ":::\n",
    "\n",
    "### Sample Averaging\n",
    "\n",
    "It follows that the silicon waveforms may provide a more robust mechanism for estimating the response function. If one assumes that that the shape of the current signal produced by interactions with the silicon detector is predominantly determined by the shaper, then the measured signal is to first approximation simply a convolution of the intrinsic response function and some normal component $F' * \\mathcal{N}$. \n",
    "\n",
    "To build a response function estimate, a random sample of silicon waveforms spanning a range of amplitudes is taken. The binwise mean of this set of waveforms is taken to produce an average waveform. This waveform is an approximate response function, which can then be time-shifted such that the peak coincides with $t=0$.\n",
    "\n",
    "\n",
    ":::{figure} todo\n",
    ":name: si-average-sample\n",
    ":::\n",
    "\n",
    ":::{warning}\n",
    "Figure showing random si mean sample\n",
    ":::"
   ]
  },
  {
   "cell_type": "markdown",
   "id": "949e780f-fc49-4f8d-a8fd-7bd9353b1308",
   "metadata": {
    "tags": [],
    "user_expressions": []
   },
   "source": [
    "## Gain Matching"
   ]
  },
  {
   "cell_type": "markdown",
   "id": "879e335d-892b-40d1-b4d5-d0762ec0d791",
   "metadata": {
    "user_expressions": []
   },
   "source": [
    "In {ref}`content:micromegas`, it was noted that the MicroMeGaS anode is subdivided into a set of distinct zones that can be held at different potentials in order to spatially vary the gain. In this experiment, both the strip-chain (side) regions and final block of pads in the central region were held at a high gain in order to better resolve light particle tracks with low stopping powers (see {numref}`micromegas-anode-gain-region`). \n",
    "\n",
    ":::{figure} todo\n",
    ":name: micromegas-anode-gain-region\n",
    ":::\n",
    "\n",
    ":::{note}\n",
    "TODO: add an image of micromegas-anode-gain-region\n",
    ":::\n",
    "\n",
    "Following position reconstruction, these gains must be accounted for if the collected charge is to be used for particle identification. Given that the strips, chains, and final central pads were held at the same potential, the relative gain of these regions can be determined solely by looking at the relative gain of the final central pad region. This was experimentally measured by observing the change in charge collected by the rows of pads either side of the high-low gain boundary.\n",
    "\n",
    "\n",
    ":::{figure} image/placeholder/gain-high-dark.png\n",
    "---\n",
    "alt: Ratio of low gain and high gain mean charge at the gain boundary.\n",
    "width: 400px\n",
    "align: center\n",
    "---\n",
    "Ratio of the mean collected charge between the low gain and high gain region boundary in the Micromegas pads.\n",
    ":::"
   ]
  },
  {
   "cell_type": "code",
   "execution_count": 6,
   "id": "c2dd9e5d-ae3d-4cad-8064-84c85e29d513",
   "metadata": {
    "tags": [
     "remove-input",
     "remove-output"
    ]
   },
   "outputs": [],
   "source": [
    "# Load the relative gain\n",
    "relative_gain = json.loads((Path(\"data\") / \"relative-gain.json\").read_text())\n",
    "relative_gain_3f = f\"{relative_gain:.3f}\""
   ]
  },
  {
   "cell_type": "markdown",
   "id": "032ac44f-fa50-4037-9d57-d17c1660d6ca",
   "metadata": {
    "user_expressions": [
     {
      "expression": "relative_gain_3f",
      "result": {
       "data": {
        "text/plain": "'9.574'"
       },
       "metadata": {},
       "status": "ok"
      }
     }
    ]
   },
   "source": [
    "After fitting this distribution with a binned likelihood estimator, the relative gain between the high and low gain regions was found to be {eval}`relative_gain_3f`."
   ]
  },
  {
   "cell_type": "markdown",
   "id": "2a4ff036-2183-4fab-be6d-cbc530f79cab",
   "metadata": {
    "user_expressions": []
   },
   "source": [
    "## Signal Fitting\n",
    "\n",
    "In the above sections, it was established that the sampled GET waveforms are effectively convolutions of an original source signal and the intrinsic GET shaper response function. Having determined an approximation for this response function, the source signals can then be recovered by deconvolutional methods. \n",
    "\n",
    "For each preprocessed sample, a convolutional Gaussian fit is performed that solves $y = F * \\mathcal{N}(\\boldsymbol{\\phi})$ for $\\boldsymbol{\\phi}$. This is preferred over computing the Gaussian fit of the deconvolved signal; although repeated convolution is computationally expensive, it is less vulnerable to artifacts produced by the deconvolution technique. For samples which do not exceed the dynamic range of the acquisition system, the peak multiplicity is estimated using the GOLD deconvolution algorithm with boosting, which collapses broad peaks into smooth, sharp peaks. These peaks are then identified using a simple turning-point localiser, which is used to seed the intial fit parameters (see {numref}`turning-point-localiser`). \n",
    "\n",
    ":::{figure} todo\n",
    ":name: turning-point-localiser\n",
    ":::\n",
    "\n",
    ":::{warning}\n",
    "Figure show turning point localiser\n",
    ":::\n",
    "\n",
    "In some cases, the measured sample exceeds the maximum value that can be measured. This saturation introduces a discontinuity in the derivative of the sample, which renders it unamenable to deconvolution (see {numref}`signal-saturation-discontinuity`).\n",
    ":::{figure} todo\n",
    ":name: signal-saturation-discontinuity\n",
    ":::\n",
    "\n",
    ":::{warning}\n",
    "Figure show signal-saturation-discontinuity\n",
    ":::\n",
    "\n",
    "In such instances, one cannot easily determine the peak multiplicity of the sample. It is therefore assumed that the measured sample contains only one peak, which is fit as described above using an additional mask that forces the fit algorithm to reject the saturated regions.\n",
    "\n",
    "\n",
    ":::{warning}\n",
    "TODO: \n",
    "- [ ] discuss current vs voltage here of preamplifier\n",
    "- [ ] check whether drift of charges is signficant to signal formation in presence of micromesh?\n",
    "- [ ] consider meaning of non linear least squares\n",
    ":::"
   ]
  },
  {
   "cell_type": "markdown",
   "id": "1e72d955-c965-4c14-9f15-6fc437623bf1",
   "metadata": {
    "tags": []
   },
   "source": [
    "## Silicon Calibration\n",
    "\n",
    "- $n$ alpha source with energies ...\n",
    "- found resolution\n",
    "- use of mass to resolve broad peaks for bad dets"
   ]
  },
  {
   "cell_type": "markdown",
   "id": "0882b2fb-9b43-4564-89f5-f3a1968683ea",
   "metadata": {
    "tags": []
   },
   "source": [
    "## Garfield++ Simulation"
   ]
  },
  {
   "cell_type": "markdown",
   "id": "96d21e1e-5566-4162-9b6c-a1b34f4b23c4",
   "metadata": {},
   "source": [
    "## Cluster Reconstruction"
   ]
  },
  {
   "cell_type": "markdown",
   "id": "24e1254a-929f-4a2c-8fc0-a490788d41d2",
   "metadata": {
    "user_expressions": []
   },
   "source": [
    "## Track Fitting"
   ]
  },
  {
   "cell_type": "markdown",
   "id": "43a6384f-c7ca-4133-8cad-208f1885cb94",
   "metadata": {
    "user_expressions": []
   },
   "source": [
    "## Kinematic Fitting"
   ]
  },
  {
   "cell_type": "markdown",
   "id": "c86109a4-5c4b-4067-be44-68d7c9fef119",
   "metadata": {
    "user_expressions": []
   },
   "source": [
    "## Beam"
   ]
  }
 ],
 "metadata": {
  "kernelspec": {
   "display_name": "Python 3 (ipykernel)",
   "language": "python",
   "name": "python3"
  },
  "language_info": {
   "codemirror_mode": {
    "name": "ipython",
    "version": 3
   },
   "file_extension": ".py",
   "mimetype": "text/x-python",
   "name": "python",
   "nbconvert_exporter": "python",
   "pygments_lexer": "ipython3",
   "version": "3.10.4"
  },
  "mystnb": {
   "execution_mode": "inline"
  },
  "widgets": {
   "application/vnd.jupyter.widget-state+json": {
    "state": {},
    "version_major": 2,
    "version_minor": 0
   }
  }
 },
 "nbformat": 4,
 "nbformat_minor": 5
}
