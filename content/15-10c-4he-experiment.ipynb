{
 "cells": [
  {
   "cell_type": "markdown",
   "id": "0b992787-f5f6-40a6-933e-32dfc64e4764",
   "metadata": {
    "user_expressions": []
   },
   "source": [
    "# Resonance Elastic Scattering of $\\alpha$-particles with ${}^{10}\\text{C}$"
   ]
  },
  {
   "cell_type": "markdown",
   "id": "973acada-9c87-4a0a-96f7-fd34e6f119ac",
   "metadata": {
    "user_expressions": []
   },
   "source": [
    "The GET acquisition system serialises data using the MultiFrame Metaformat (MFM)\n",
    "> a binary format for data acquisition and serialization that are self-contained, layered, adapted to network transfers[,] and evolving. {cite:ps}`anvar_multiframe_nodate`\n",
    "\n",
    "This file format is more suitable for disk storage than in-memory representation of data, as it is a heirarchical format in which each _frame_ must be read, regardless of whether it is needed. The use of separate header and data sections means that the cost of skipping a frame is limited to parsing the header, but MFM is still a struct-based format. In many cases, columnar processing is both more performant and more expressive than an equivalent event-loop based approach.{cite:ps}`smith_case_2019` \n",
    "\n",
    "The analysis process was performed in a series of discrete stages (see {numref}`analysis-flowchart`)."
   ]
  },
  {
   "cell_type": "markdown",
   "id": "4b36c710-5df7-4871-8b1d-0d672433439a",
   "metadata": {
    "user_expressions": []
   },
   "source": [
    "<!-- :::{figure-md} analysis-flowchart -->\n",
    "```mermaid\n",
    "flowchart LR\n",
    "\n",
    "signal --> calibrate[Silicon Calibration*]\n",
    "signal --> gain_matching[Gain Matching*]\n",
    "gain_matching --> event\n",
    "baseline_removal --> response[Response Estimation*]\n",
    "calibrate --> kinematic_fitting\n",
    "response --> signal\n",
    "\n",
    "get[/GET MFM/] --> mfm2root[ROOT Conversion] --> partitioning[Partitioning] --> noise_removal[Noise Removal] --> baseline_removal[Baseline Removal] --> signal[Signal Fitting] --> event[Cluster Reconstruction] --> fit[Track Fitting] --> kinematic_fitting[Kinematic Fitting] --> kinematics[/Kinematics/]\n",
    "\n",
    "```\n",
    "\n",
    "<!-- The asterisk \\* indicates processes which were aggregated over the entire dataset ahead of reconstruction -->\n",
    "<!-- ::: -->"
   ]
  },
  {
   "cell_type": "markdown",
   "id": "f2790f00-c040-460a-8df1-4bff44d33efc",
   "metadata": {
    "user_expressions": []
   },
   "source": [
    "## Partitioning\n",
    "At the earliest stages of the reconstruction pipeline, performance is primarily bounded by available memory, and therefore it is sensible to partition the data by event multiplicity. This process constitutes the first two stages of this analysis, seen in {numref}`analysis-flowchart`. In the ROOT dataset, the `mmMul` branch contains the per-event multiplicity. To regularise the dataset according to this multiplicity, it was partitioned into approximate chunks of a given aggregate multiplicity. Given that the memory of an MFM event is primarily determined by the number of waveforms that it contains, this effectively balances the memory footprint of each partition.\n",
    "\n",
    "In subsequent stages, the memory bound gives way to compute costs, and so the partition size is refined to balance naive parallelisation against parallisation overhead. Where data is written to disk, the Hierarchical Data Format version 5 (HDF5) format is used as a consequence of its good language support, high compression ratios (with GZip), and columnar representation. The Parquet format is another strong format for columnar representation but, due to some library constraints, HDF5 was preferred."
   ]
  },
  {
   "cell_type": "markdown",
   "id": "776988e8-ba4f-41a8-baf8-21ea9c7611ad",
   "metadata": {
    "tags": [],
    "user_expressions": []
   },
   "source": [
    "## Noise and Baseline Removal\n",
    "\n",
    "As discussed in {ref}`content:get-architecture`, the AGET chip provides four additional channels for measuring the electronic noise. These channels can be used to eliminate some of the electronic noise inherent within the system. A number of noise removal strategies are discussed in {cite:ps}`giovinazzo_get_2016-1`, and establishes that an average over the set of FPN channels per-chip is optimal. It was this strategy that was employed to for noise removal (see {numref}`fpn-removal-micromegas`).\n",
    "\n",
    "\n",
    ":::{figure} todo\n",
    ":name: fpn-removal-micromegas\n",
    ":width: 400px\n",
    ":align: center\n",
    "\n",
    "```{warning}\n",
    "Todo: add example of FPN channel & FPN removal\n",
    "```\n",
    ":::\n",
    "\n",
    "In addition to a low frequency component of the electronic noise, a separate baseline offset was observed in the MicroMeGAS and silicon detector channels. This component ws removed using two separate methods.\n",
    "\n",
    "### MicroMeGaS Baseline Estimation\n",
    "\n",
    "Given that time in the MicroMeGaS is primarly determined by the drift time of the liberated electrons in the gas volume, the baseline observed in the MicroMeGaS detector was not seen to occur at specific times. Therefore, in order to identify the region of baseline that would be linearly subtracted from the recorded signal, a local variance was computed for the channel samples, with a window of 96 cells (see {numref}`baseline-estimate-micromegas`).\n",
    "\n",
    ":::{figure} todo\n",
    ":name: baseline-estimate-micromegas\n",
    ":width: 400px\n",
    ":align: center\n",
    "\n",
    "```{warning}\n",
    "Todo: add example of baseline estimation\n",
    "```\n",
    ":::\n",
    "\n",
    "\n",
    "The value of the baseline was given by the locus of the minimum computed variance.\n",
    "\n",
    "### Silicon Baseline Estimation\n",
    "\n",
    "Unlike the MicroMeGaS channels, the silicon quadrant detectors have a well defined boundary between the baseline and the interaction signals. This boundary occurs at a similar time for each detector, as it is the silicon detectors upon which the GET system was configured to trigger. To determine the baseline value, the mean of the sample values for the preceeding ten cells was used (see {numref}`baseline-estimate-silicon`).\n",
    "\n",
    ":::{figure} todo\n",
    ":name: baseline-estimate-silicon\n",
    ":width: 400px\n",
    ":align: center\n",
    "\n",
    "```{warning}\n",
    "Todo: add example of baseline estimation\n",
    "```\n",
    ":::"
   ]
  },
  {
   "cell_type": "markdown",
   "id": "6871986b-4347-4a13-9c60-7a4816cdfe69",
   "metadata": {
    "jp-MarkdownHeadingCollapsed": true,
    "tags": [],
    "user_expressions": []
   },
   "source": [
    "## Response Estimation\n",
    "\n",
    "Channels which employ the AGET shaper require deconvolution in order to recover the underlying signal. This process requires a good knowledge of the underlying response function of the system. An approximate analytical solution is given in {cite:ps}`giovinazzo_get_2016-1`, but the authors note that it is insufficiently accurate to be used with deconvolutional methods. It is noted that the electronics can be configured such that the response function can be directly measured, but this required secondary access to the detector which resides at the Cyclotron Institute, Texas A&M University.{cite:ps}`giovinazzo_get_2016-1` \n",
    "\n",
    "In order to determine a better approximation for the response function, the silicon waveforms recorded by the electronics can be used. In particular, it must be assumed that the shape of the current signal produced by interactions with the silicon detector is predominantly determined by the shaper. With this assumption, the silicon-derived response function can be used to deconvolve MicroMeGaS signals, whose widths are determined by the ionisation within the gas volume. \n",
    "\n",
    ":::{warning}\n",
    "Figure comparing widths of MM and Si detectors\n",
    ":::\n",
    "\n",
    "To build a response function estimate, a random sample of silicon waveforms is taken "
   ]
  },
  {
   "cell_type": "markdown",
   "id": "2a4ff036-2183-4fab-be6d-cbc530f79cab",
   "metadata": {
    "user_expressions": []
   },
   "source": [
    "## Signal Fitting"
   ]
  },
  {
   "cell_type": "markdown",
   "id": "b705ae99-0f5c-4e56-845f-83b45094d5f6",
   "metadata": {
    "tags": [],
    "user_expressions": []
   },
   "source": [
    "## Gain Matching"
   ]
  },
  {
   "cell_type": "markdown",
   "id": "fe981da7-8980-4730-800f-506a52c0c946",
   "metadata": {
    "user_expressions": []
   },
   "source": [
    "The Micromegas anode is subdivided into a set of distinct zones that can be held at different potentials in order to spatially vary the gain. In this experiment, both the strip-chain (side) regions and final block of pads in the central region were held at a high gain in order to better resolve light particle tracks with low stopping powers. Following position reconstruction, these gains must be accounted for if the collected charge is to be used for particle identification.\n",
    "\n",
    "Given that the strips, chains, and final central pads were held at the same potential, the relative gain of these regions can be determined solely by looking at the relative gain of the final central pad region. This was experimentally measured by observing the change in charge collected by the rows of pads either side of the high-low gain boundary.\n",
    "\n",
    ":::{note}\n",
    "TODO: add an image of MM gain boundary\n",
    ":::"
   ]
  },
  {
   "cell_type": "markdown",
   "id": "2cd771f3-5171-48cd-bee1-3b54be0203c2",
   "metadata": {
    "tags": [],
    "user_expressions": []
   },
   "source": [
    "```{code-cell} python\n",
    "def compute_gain_thick_hist(chan):\n",
    "    # Compute the max of the sample waveform\n",
    "    charge = np.max(chan.sample, axis=-1)\n",
    "\n",
    "    # Identify which events have a cross-boundary track\n",
    "    is_before = (chan.addr.index.chan >= 448) & (chan.addr.index.chan <= 451)\n",
    "    is_after = (chan.addr.index.chan >= 252) & (chan.addr.index.chan <= 255)\n",
    "    crosses_boundary = np.any(is_before, axis=-1) & np.any(is_after, axis=-1)\n",
    "    \n",
    "    # Compute ratio of collected charges\n",
    "    factor = (\n",
    "        np.sum(\n",
    "            charge[crosses_boundary & is_before], axis=-1\n",
    "        ) / \n",
    "        np.sum(\n",
    "            charge[crosses_boundary & is_after], axis=-1\n",
    "        )\n",
    "\n",
    "    return Hist.new.Reg(128, 0, 1).Int64().fill(np.ravel(factor))\n",
    "```"
   ]
  },
  {
   "cell_type": "markdown",
   "id": "4099671f-7e1f-443e-a05d-d6fb6f81a45b",
   "metadata": {
    "user_expressions": []
   },
   "source": [
    "```{figure} image/gain-high-dark.png\n",
    "---\n",
    "alt: Ratio of low gain and high gain mean charge at the gain boundary.\n",
    "class: only-dark\n",
    "figclass: margin\n",
    "width: 400px\n",
    "align: center\n",
    "---\n",
    "Ratio of the mean collected charge between the low gain and high gain region boundary in the Micromegas pads.\n",
    "```"
   ]
  },
  {
   "cell_type": "markdown",
   "id": "1e72d955-c965-4c14-9f15-6fc437623bf1",
   "metadata": {
    "jp-MarkdownHeadingCollapsed": true,
    "tags": []
   },
   "source": [
    "## Silicon Calibration"
   ]
  },
  {
   "cell_type": "markdown",
   "id": "c86109a4-5c4b-4067-be44-68d7c9fef119",
   "metadata": {
    "user_expressions": []
   },
   "source": [
    "## Beam"
   ]
  },
  {
   "cell_type": "markdown",
   "id": "0882b2fb-9b43-4564-89f5-f3a1968683ea",
   "metadata": {
    "tags": []
   },
   "source": [
    "## Garfield++ Simulation"
   ]
  }
 ],
 "metadata": {
  "kernelspec": {
   "display_name": "Python 3 (ipykernel)",
   "language": "python",
   "name": "python3"
  },
  "language_info": {
   "codemirror_mode": {
    "name": "ipython",
    "version": 3
   },
   "file_extension": ".py",
   "mimetype": "text/x-python",
   "name": "python",
   "nbconvert_exporter": "python",
   "pygments_lexer": "ipython3",
   "version": "3.10.4"
  },
  "mystnb": {
   "execution_mode": "inline"
  },
  "widgets": {
   "application/vnd.jupyter.widget-state+json": {
    "state": {},
    "version_major": 2,
    "version_minor": 0
   }
  }
 },
 "nbformat": 4,
 "nbformat_minor": 5
}
