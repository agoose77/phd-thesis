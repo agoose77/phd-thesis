{
 "cells": [
  {
   "cell_type": "code",
   "execution_count": 65,
   "id": "b819eaf7-1d63-4765-97c9-995c0591eac4",
   "metadata": {},
   "outputs": [],
   "source": [
    "from base64 import decodebytes\n",
    "from functools import lru_cache\n",
    "from typing import Tuple\n",
    "\n",
    "import k3d\n",
    "import numpy as np\n",
    "from pygltflib import (\n",
    "    FLOAT,\n",
    "    GLTF2,\n",
    "    UNSIGNED_BYTE,\n",
    "    UNSIGNED_INT,\n",
    "    UNSIGNED_SHORT,\n",
    "    Buffer,\n",
    "    BufferFormat,\n",
    ")\n",
    "\n",
    "import awkward as ak\n",
    "\n",
    "from matplotlib.cm import viridis"
   ]
  },
  {
   "cell_type": "code",
   "execution_count": 66,
   "id": "d894d42c-bbb5-44ad-8e82-c0179c46a980",
   "metadata": {},
   "outputs": [],
   "source": [
    "type_map = {UNSIGNED_BYTE: \"B\", UNSIGNED_SHORT: \"u2\", UNSIGNED_INT: \"u4\", FLOAT: \"f4\"}\n",
    "\n",
    "component_map = {\n",
    "    \"SCALAR\": 1,\n",
    "    \"VEC2\": 2,\n",
    "    \"VEC3\": 3,\n",
    "    \"VEC4\": 4,\n",
    "    \"MAT2\": 4,\n",
    "    \"MAT3\": 9,\n",
    "    \"MAT4\": 16,\n",
    "}\n",
    "\n",
    "\n",
    "def _gltf_uri_to_array(uri: str) -> np.ndarray:\n",
    "    buffer_encoded = uri.split(\",\", 1)[1]\n",
    "    buffer_string = decodebytes(buffer_encoded.encode())\n",
    "    return np.frombuffer(buffer_string, dtype=np.uint8)\n",
    "\n",
    "\n",
    "@lru_cache(512)\n",
    "def _load_buffer_from_uri(uri: str) -> np.ndarray:\n",
    "    return _gltf_uri_to_array(uri)\n",
    "\n",
    "\n",
    "def load_file_as_embedded(filepath) -> GLTF2:\n",
    "    gltf = GLTF2.load(filepath)\n",
    "    gltf.convert_buffers(BufferFormat.DATAURI)\n",
    "    return gltf\n",
    "\n",
    "\n",
    "def _load_accessor(gltf: GLTF2, accessor) -> np.ndarray:\n",
    "    view = gltf.bufferViews[accessor.bufferView]\n",
    "    buffer = _load_buffer_from_uri(gltf.buffers[view.buffer].uri)\n",
    "    data = buffer[view.byteOffset : view.byteOffset + view.byteLength]\n",
    "    components = component_map[accessor.type]\n",
    "    array = np.frombuffer(data, dtype=type_map[accessor.componentType])\n",
    "    if components > 1:\n",
    "        return array.reshape(-1, components)\n",
    "    return array\n",
    "\n",
    "\n",
    "def load_mesh(gltf, mesh) -> Tuple[np.ndarray, np.ndarray]:\n",
    "    prim = mesh.primitives[0]\n",
    "    positions = _load_accessor(gltf, gltf.accessors[prim.attributes.POSITION])\n",
    "    indices = _load_accessor(gltf, gltf.accessors[prim.indices]).reshape(-1, 3)\n",
    "    return positions, indices"
   ]
  },
  {
   "cell_type": "code",
   "execution_count": 67,
   "id": "cc357db2-6ecd-48ce-be9b-3dbd56c46f10",
   "metadata": {},
   "outputs": [],
   "source": [
    "gltf = load_file_as_embedded(\"/home/angus/Downloads/detector.gltf\")"
   ]
  },
  {
   "cell_type": "code",
   "execution_count": 68,
   "id": "f3a8f398-05de-4360-bc4a-598d964385b2",
   "metadata": {},
   "outputs": [],
   "source": [
    "loaded = {mesh.name: load_mesh(gltf, mesh) for mesh in gltf.meshes}"
   ]
  },
  {
   "cell_type": "code",
   "execution_count": 69,
   "id": "0a786805-558f-47c3-86f6-36c5d2870fbc",
   "metadata": {},
   "outputs": [],
   "source": [
    "good = [m for n, m in loaded.items() if not np.all(m[0][:, 2] < -200)]"
   ]
  },
  {
   "cell_type": "code",
   "execution_count": 70,
   "id": "4cd9b3e6-a906-491f-aa8c-9dba42dd3567",
   "metadata": {},
   "outputs": [],
   "source": [
    "v, i = zip(*good)"
   ]
  },
  {
   "cell_type": "code",
   "execution_count": 71,
   "id": "1f0dd11c-5f79-44a5-89a0-30d27b0eb6af",
   "metadata": {},
   "outputs": [],
   "source": [
    "data = ak.zip({\"vertex\": v, \"index\": i}, depth_limit=1)"
   ]
  },
  {
   "cell_type": "code",
   "execution_count": 72,
   "id": "7771a157-9862-49ed-a85f-12ac1e28e807",
   "metadata": {},
   "outputs": [],
   "source": [
    "# si 1 (1, 17+4*6)\n",
    "# cs 1 (41, 51)\n",
    "# si 2 (51, 51+8*4)\n",
    "# cs 2 (83,83+8)\n",
    "# si 3 (91, 91+4*8)\n",
    "# cs 3 (123, 123+8)\n",
    "# si 4 (131, 131+8*4)\n",
    "# cs 4 (163, 171)\n",
    "# si 5 (171,171+4*8)\n",
    "# si 6 (203, 203+8*4)\n",
    "# cs 5 (235, 243)\n",
    "# cs 6 (243, 251)"
   ]
  },
  {
   "cell_type": "code",
   "execution_count": 73,
   "id": "275b0f0b-9111-4d53-a3e4-b935b5e0c01e",
   "metadata": {},
   "outputs": [],
   "source": [
    "s_si = [np.s_[1:41], np.s_[51:83], np.s_[91:123], np.s_[131:163], np.s_[171:235]]\n",
    "data_si = np.concatenate([data[s] for s in s_si])"
   ]
  },
  {
   "cell_type": "code",
   "execution_count": 74,
   "id": "3799acaf-c634-49ab-a545-f61b04a0763f",
   "metadata": {},
   "outputs": [],
   "source": [
    "offset_si = np.zeros(len(data_si.vertex))\n",
    "offset_si[1:] = np.cumsum(ak.num(data_si.vertex, axis=1)[:-1])\n",
    "\n",
    "silicon = ak.zip(\n",
    "    {\"vertex\": data_si.vertex, \"index\": data_si.index + offset_si}, depth_limit=1\n",
    ")"
   ]
  },
  {
   "cell_type": "code",
   "execution_count": 75,
   "id": "4d14497e-84d2-4a17-bf97-a7c3ef131fb1",
   "metadata": {},
   "outputs": [],
   "source": [
    "s_cs = [np.s_[41:51], np.s_[83:91], np.s_[121:131], np.s_[163:171], np.s_[235:251]]\n",
    "data_cs = np.concatenate([data[s] for s in s_cs])\n",
    "\n",
    "offset_cs = np.zeros(len(data_cs.vertex))\n",
    "offset_cs[1:] = np.cumsum(ak.num(data_cs.vertex, axis=1)[:-1])\n",
    "\n",
    "cesium = ak.zip(\n",
    "    {\"vertex\": data_cs.vertex, \"index\": data_cs.index + offset_cs}, depth_limit=1\n",
    ")"
   ]
  },
  {
   "cell_type": "code",
   "execution_count": 76,
   "id": "38f50460-d0e0-410b-9f41-07c95a33c8cf",
   "metadata": {},
   "outputs": [],
   "source": [
    "def rgb_to_packed(rgb):\n",
    "    col = (np.clip(rgb, 0, 1) * 255).astype(np.uint8)\n",
    "    return int(col[0] << 16 | col[1] << 8 | col[2])"
   ]
  },
  {
   "cell_type": "code",
   "execution_count": null,
   "id": "5fa2488a-6e6f-4d38-a902-df3aa9a461b8",
   "metadata": {},
   "outputs": [],
   "source": [
    "micromegas = ak.zip(\n",
    "    {\"vertex\": data_cs.vertex, \"index\": data_cs.index + offset_cs}, depth_limit=1\n",
    ")"
   ]
  },
  {
   "cell_type": "code",
   "execution_count": 77,
   "id": "aea13213-5f61-496b-a0d7-5bcbdefbb0fb",
   "metadata": {},
   "outputs": [],
   "source": [
    "col = viridis(np.linspace(0, 1, 3))"
   ]
  },
  {
   "cell_type": "code",
   "execution_count": 62,
   "id": "aa02f8d2-7104-49f7-accd-578e22feaf5f",
   "metadata": {},
   "outputs": [
    {
     "data": {
      "application/vnd.jupyter.widget-view+json": {
       "model_id": "e87a364bc1414012a744112606bf7f4e",
       "version_major": 2,
       "version_minor": 0
      },
      "text/plain": [
       "Output()"
      ]
     },
     "metadata": {},
     "output_type": "display_data"
    }
   ],
   "source": [
    "plot = k3d.plot()\n",
    "\n",
    "plot += k3d.mesh(silicon.vertex, silicon.index, color=rgb_to_packed(col[0]), name=\"Si\")\n",
    "plot += k3d.mesh(cesium.vertex, cesium.index, color=rgb_to_packed(col[1]), name=\"CsI(Tl)\")\n",
    "plot += k3d.mesh(data[0].vertex * [[1, 1, -1]], data[0].index, color=rgb_to_packed(col[2]), name=\"MicroMegas\")\n",
    "plot.display()"
   ]
  },
  {
   "cell_type": "code",
   "execution_count": 48,
   "id": "1eee90a0-41ef-4a06-8ba5-808aea4a82c3",
   "metadata": {},
   "outputs": [
    {
     "data": {
      "text/plain": [
       "36"
      ]
     },
     "execution_count": 48,
     "metadata": {},
     "output_type": "execute_result"
    }
   ],
   "source": [
    "ak.count(data[0].index)"
   ]
  },
  {
   "cell_type": "code",
   "execution_count": 73,
   "id": "94cb1e69-c39e-46fd-a3c5-943e6a21cdaf",
   "metadata": {},
   "outputs": [
    {
     "data": {
      "text/plain": [
       "32"
      ]
     },
     "execution_count": 73,
     "metadata": {},
     "output_type": "execute_result"
    }
   ],
   "source": [
    "len(v[51:83])"
   ]
  },
  {
   "cell_type": "code",
   "execution_count": null,
   "id": "63bb405c-02ca-49bf-a677-6ecc940705da",
   "metadata": {},
   "outputs": [],
   "source": [
    "v_si = ak.flatten"
   ]
  },
  {
   "cell_type": "code",
   "execution_count": 52,
   "id": "8e318bcd-8670-4c03-ad44-7ed82bd94169",
   "metadata": {},
   "outputs": [
    {
     "data": {
      "application/vnd.jupyter.widget-view+json": {
       "model_id": "439fb0e93a0d42ddaf76f58bbbe35c0f",
       "version_major": 2,
       "version_minor": 0
      },
      "text/plain": [
       "Output()"
      ]
     },
     "metadata": {},
     "output_type": "display_data"
    }
   ],
   "source": [
    "plot = k3d.plot()\n",
    "\n",
    "for j, (v, i) in enumerate(good.values()):\n",
    "    if j not in range(251, 260):\n",
    "        continue\n",
    "    plot += k3d.mesh(v, i)\n",
    "plot.display()"
   ]
  },
  {
   "cell_type": "code",
   "execution_count": null,
   "id": "9e0073d6-7a8e-45c6-b51c-faf9c5a4df7d",
   "metadata": {},
   "outputs": [],
   "source": []
  }
 ],
 "metadata": {
  "kernelspec": {
   "display_name": "Python 3 (ipykernel)",
   "language": "python",
   "name": "python3"
  },
  "language_info": {
   "codemirror_mode": {
    "name": "ipython",
    "version": 3
   },
   "file_extension": ".py",
   "mimetype": "text/x-python",
   "name": "python",
   "nbconvert_exporter": "python",
   "pygments_lexer": "ipython3",
   "version": "3.9.9"
  },
  "widgets": {
   "application/vnd.jupyter.widget-state+json": {
    "state": {},
    "version_major": 2,
    "version_minor": 0
   }
  }
 },
 "nbformat": 4,
 "nbformat_minor": 5
}
