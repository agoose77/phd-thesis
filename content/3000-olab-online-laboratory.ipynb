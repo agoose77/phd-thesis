{
 "cells": [
  {
   "cell_type": "markdown",
   "id": "daf46c0d-550e-49e1-8479-6b3b97e67dc6",
   "metadata": {},
   "source": [
    "# O-Lab Online Nuclear Laboratory"
   ]
  },
  {
   "cell_type": "markdown",
   "id": "8249501e-bf9f-40ad-977b-29681cae23a4",
   "metadata": {
    "user_expressions": []
   },
   "source": [
    "(olab:motivations)=\n",
    "## Motivations"
   ]
  },
  {
   "cell_type": "markdown",
   "id": "a4bb827e-f03b-49c9-8e6c-d3d91ae0673f",
   "metadata": {
    "user_expressions": []
   },
   "source": [
    "The identification of the SARS-COV-2 virus in 2019 marked the onset of an unprecedented period of social and economic disruption across the global community. Its impact has been felt in the majority of countries around the world, both in terms of the real-terms consequences of wide-spread infection, and the subsequent public health interventions in pursuit of elimination or suppression. Within the domain of Higher Education, which places a particular importance upon in-person learning and interaction, the complex ongoing challenges associated with the COVID-19 pandemic have placed significant burden upon educators and their institutions.{cite:ps}`watermeyer_covid-19_2021`"
   ]
  },
  {
   "cell_type": "markdown",
   "id": "1011410c-4a60-44a8-b738-605206f636a0",
   "metadata": {
    "user_expressions": []
   },
   "source": [
    "At the University of Birmingham, a central aspect of the Nuclear Physics teaching provision is the availability of undergraduate laboratories. Over the course of the teaching semester, students enrolled in the appropriate modules are given the opportunity to learn the fundamentals of practical nuclear physics, including\n",
    "- the principles which underpin the measurement of radiation, \n",
    "- the process of building and testing radiation experiments,\n",
    "- practices and procedures involved in working with radioactive sources,\n",
    "- the analytical techniques required to extract physics from laboratory measurements."
   ]
  },
  {
   "cell_type": "markdown",
   "id": "9cf9bee7-1101-40f4-84aa-e800861dfb14",
   "metadata": {
    "tags": [],
    "user_expressions": []
   },
   "source": [
    "The specialised nature of the laboratory sessions in which these skills are taught imposes rigid constraints on the kinds of accommodations that can be made in light of University  public health measures e.g. occupancy limits, staffing availability, and ventilation requirements. Several experiments that undergraduates are expected to undertake include fundamentally immovable apparatus, such as a {math}`8\\,\\text{m}^3` graphite stack for neutron moderation, or a 150 L water bath used for XXX\n",
    ":::{admonition} To Do\n",
    "\n",
    "Water bath experiment?\n",
    ":::\n",
    "Meanwhile, the detector equipment used to observe and measure incident radiation is typically fragile, bulky, and extremely expensive, such that undergraduates are not expected to move such equipment within the laboratory. The radioactive sources used within the various experiments are also controlled substances; requiring significant care during handling, preparatory safety training, and diligent monitoring to ensure that the sources are properly accounted for at all times. These factors conspire together such that conventional approaches to mitigating COVID-19 risks during the pandemic, such as the introduction of a \"two meter rule\", or reducing teaching group sizes, represent impractical solutions in the context of the nuclear laboratory.{cite:ps}`jones_two_2020`"
   ]
  },
  {
   "cell_type": "markdown",
   "id": "dbf32117-a372-4965-aca8-13a935da3ca4",
   "metadata": {
    "tags": [],
    "user_expressions": []
   },
   "source": [
    "Unlike other areas of the taught programmes such as taught lectures, in which provisions for distance learning (such as Panopto) were already in-use within the undergraduate teaching programs before the pandemic, no such solutions could be found to facilitate the development of practical laboratory skills in the domain of Nuclear Physics.{cite:ps}`jandric_teaching_2021` To address this challenge for the new and existing students impacted by the COVID-19 pandemic, an Online nuclear LABoratory (OLAB) was developed by a team of postgraduate nuclear physics students at the University of Birmingham. The objectives of this project were to implement an online learning resource which \n",
    "   - minimises the impact of digital inequality\n",
    "   - scales to meet the demand of the existing and future student cohorts\n",
    "   - provides an extensible platform upon which to develop new course material\n",
    "   - integrates with the University E-Learning platform(s)\n",
    "   - leverages existing, open-source technologies and\n",
    "   - facilitates content-first development"
   ]
  },
  {
   "cell_type": "markdown",
   "id": "ef3fe6fd-dd89-42bf-9d52-4546c3eaa3af",
   "metadata": {
    "user_expressions": []
   },
   "source": [
    "## Virtual Laboratories"
   ]
  },
  {
   "cell_type": "markdown",
   "id": "eccb66eb-b8ed-4fad-9ffe-06501ac47df2",
   "metadata": {
    "user_expressions": []
   },
   "source": [
    "### Flexible, reproducible learning"
   ]
  },
  {
   "cell_type": "markdown",
   "id": "685a55ec-cf73-4cd2-9d88-8bba5e55b025",
   "metadata": {
    "user_expressions": []
   },
   "source": [
    "The provision of an online teaching resource for practical laboratory experience transcends the immediate problem of supporting distance-learning students during a public health emergency. Through a carefully defined environment, experiment designers can guide students towards successful application of learned theory, but also towards \"interesting\" or educational failure modes.{cite:ps}`de_jong_physical_2013-1` Due to the curated nature of the virtual environment, these failure modes can be introduced in accordance with the objectives of the laboratory; educators can _teach_ through failure in a controlled manner. Furthermore, by designing failure into an experiment, educators are given the ability to prepare in advance for adverse outcomes, and guide students through the experience. This is particular relevant in the event that experiment failures are irrecoverable, e.g. loss of experimental data, or damage to the electronics of a high-voltage power supply. Through the careful selection of a basis of representative failure modes, students can be better prepared for failures in a real-world experiment, which are often multifactorial and represent poor educational experiences.\n",
    "\n",
    "Given the removal of the physical constraints associated with on-premise in-person teaching, online laboratory experiences are free to explore experiment designs that are infeasible or indeed impossible to realise in a conventional setting. Experiments can be simplified to eliminate confusing details such as cumbrous software, or simplify characteristics of the model such that the results are easier or more convenient to interpret e.g. increasing the rate of a decay process.{cite:ps}`de_jong_physical_2013-1` Furthermore, it is possible to treat physical invariants as model parameters that students can interact with e.g. the material properties of a radiation absorber. \n",
    "\n",
    "In addition to providing educators with greater freedoms over experimental outcomes and narrative towards deeper understanding of fundamental concepts, a significant benefit of virtual experiments is the improved efficiency associated with reduced setup time, and time-to-results. Nuclear physics experiments are typically constrained by the time required to configure the necessary detection equipment, and the subsequent interval over which the measurement must be gathered. In some cases, the time investment required to perform a measurement may serve as a lens through which to develop planning and reflection skills.{cite:ps}`de_jong_physical_2013-1` In the virtual laboratory, educators can choose whether to impose these restrictions. Where hybrid learning is possible, it may be favourable to distinguish between virtual and practical experiments through these real-world constraints in order to prioritise different learning outcomes. It has been shown that hybrid approaches that combine in-person and virtual laboratories can improve learning outcomes with respect to either method in isolation.{cite:ps}`de_jong_physical_2013-1` \n",
    "\n",
    "Undergraduate laboratories typically imposes significant constraints on the teaching schedule due to the long sessions required to setup, measure, and restore the experimental equipment. This, in turn, places a higher cost on mistakes during these sessions, and prevents the students from repeating an experiment with the knowledge learned through failure. The ability to revisit experiments has been recognised by students as a positive aspect of virtual laboratories. Some students have also reported that the ability to work alone was a preferential mode of learning that was not possible in the physical laboratory due to equipment constraints.{cite:ps}`aayiksoy_impact_2017` Alongside this, research has shown that communication opportunities within virtual laboratories are highly correlated with student learning achievement; care must be taken by educators to ensure that these opportunities are established within the virtual space.{cite}`klein_studying_2021-1`"
   ]
  },
  {
   "cell_type": "markdown",
   "id": "13a35a69-8abf-48b6-b5a8-3f98efc78ebe",
   "metadata": {
    "user_expressions": []
   },
   "source": [
    "### Versatile and Accessible Education\n",
    "As noted in the introduction to this chapter, a significant motivation for the development of OLAB was provided by the need to support students engaging with distance learning as a consequence of University, domestic, or foreign policy. In such cases, there was historically little provision for learning the practical skills taught in the laboratory sessions. With the sudden move to online teaching across many institutions at several periods during the pandemic, a need was identified for a virtual laboratory that could ensure that students developed a practical understanding of the field. Outside of the pandemic control measures, the opportunity for students to revisit practical experiments in order to aid retention and understanding has been identified by students as a welcome consequence.{cite:ps}`aayiksoy_impact_2017` Remote labs can be used to extend the window of availability of an experiment outside the limits of contact time, which provides tangible benefits to part-time learners, or students who wish to revisit material at a later date in order to consolidate their learning. It is also noted that the flexibility to arrange their own learning process can give students a sense of ownership that correlates with increased motivation.{cite:ps}`post_effects_2019` \n",
    "\n",
    "For educators, this flexibility can also be beneficial; supervision of multiple groups of students is made more feasible by the elimination of spatial constraints associated with in-person demonstration.{cite:ps}`post_effects_2019` In the event that physical/spatial resources are limited, such as equipment confined to particular laboratories with a finite capacity, virtual experiments can be used to increase the number of concurrent students that may engage with the session. Furthermore, demonstrators of virtual laboratories would not be required to undergo the same kinds of safety training that in-person demonstration necessitates. This follows from the improved health and safety risk-profile that follows from distance learning.\n",
    "\n",
    "It should also be noted that the flexibility associated with distance learning can be used to improve the accessibility of laboratory sessions, particularly in such cases where buildings or experiments cannot be readily made accessible. Hybrid virtual-practical laboratories offer the opportunity to increase accessibility and equity of learning provision whilst covering the comprehensive scope of a course."
   ]
  },
  {
   "cell_type": "markdown",
   "id": "99f7d760-0255-4795-8fae-2f5991eed03d",
   "metadata": {
    "user_expressions": []
   },
   "source": [
    "### Powerful Learning Tools\n",
    "Associated with practical experiments is the need to perform measurements and analyse the corresponding data. In many institutions, the challenge of maintaining the software that is required by the students to perform an analysis is daunting. The provision of a virtual laboratory offers the opportunity for educators to directly influence the kinds of software available to students on a per-course or even per-experiment basis. In particular, unlike practical laboratories in which the hardware often has a lifespan of many years (with the associated software lifespan), virtual laboratories may not be so far constrained in the software that students are required to use, and are better positioned to modify the tools that students are presented with on a needs basis. This is particularly relevant in the context of nuclear laboratories, in which the lifespan of the apparatus can span decades.\n",
    "\n",
    "Virtual laboratories are also well positioned to eliminate the kinds of \"data transfer\" issues that are commonplace with real-world experiments. Educators may provide interfaces that make it easy for students to analyse data acquired in the laboratory, and enable students to focus on the educational task at hand. Whilst there is a recognisable place for teaching students the skills that are required to operate real hardware, digital laboratory experiences permit educators to determine when these skills are taught in order to better suit the learning experience. The elimination of the boundary between measurement and analysis is a contributing factor to reducing the \"time to result\" that distracts from learning outcomes.\n",
    "\n",
    "The promise of virtual laboratories includes the ability to interleave hands-on experimental tasks with curated learning material. Outside of the virtual laboratory space, Massive Online Only Courses (MOOCs) are increasingly built around interactive notebooks, which employ the principles of computational narratives and interactive computing to build expressive and communicative resources that permit students to employ an explorative approach to their learning.{cite:ps}`granger_jupyter_2021` These tools show similar promise in the context of university education, where they are often already used to facilitate undergraduate programming classes. Developments in these tools offer the prospect for educators to interact with multiple remote students, providing a foundation for remote-first teaching. Students in virtual laboratories would arguably benefit from reusing the same tools that they are familiar with outside of the laboratory to reduce inertia.\n"
   ]
  },
  {
   "cell_type": "markdown",
   "id": "760b80d3-a90f-40a3-8522-1e61bcbf7f70",
   "metadata": {
    "user_expressions": []
   },
   "source": [
    "## Design"
   ]
  },
  {
   "cell_type": "markdown",
   "id": "804f5a90-5496-487b-b6f2-0f3f843d1b1a",
   "metadata": {
    "user_expressions": []
   },
   "source": [
    "The objectives outlined in {ref}`olab:motivations` can be partitioned into development-focused priorities and product-focused outcomes. Though members of the development team had varying degrees of experience in writing Physics analyses, the landscape of modern software development spans a significant number of software packages, programming languages, and domain-specific knowledge; a content-first, iterative approach to developing OLAB would be imperative. From these constraints, the following technological decisions were made:\n",
    ":::{list-table}\n",
    ":header-rows: 1\n",
    "\n",
    "* - Software / Tool\n",
    "  - Motivation\n",
    "* - Python\n",
    "  - Python is the fastest growing language in the physics research space, and is frequently used in data analytics and dashboarding contexts. The development group already had varying experience with the language, which is renowned for its quick time-to-first-result.\n",
    "* - Jupyter Notebook\n",
    "  - Jupyter Notebooks are widely used in academic research. There are already a significant number of software packages that add interactive widgets, and the notebook format serves as a standard across the Jupyter ecosystem.\n",
    "* - JupyterHub\n",
    "  - JupyterHub provides a battle-tested multi-tenant platform around which to serve customised computing environments to individual users. It provides hooks to integrate with LTI authentication systems such as those used by the Canvas LMS.\n",
    "* - ROOT\n",
    "  - ROOT is a standard tool used in the particle physics domain for all stages of the analysis lifecycle. \n",
    "* - ipywidgets\n",
    "  - ipywidgets provides a well-tested suite of interactive widgets, which can easily be composed to build complex layouts.\n",
    "* - Voilà\n",
    "  - The Voilà server was used alongside jupyter-flex to present linear notebook documents as a customised user-friendly dashboard.\n",
    "* - Kubernetes on GCP\n",
    "  - To orchestrate the multi-tenant JupyterHub containers, Kubernetes was deployed on Google Cloud Platform.\n",
    ":::\n",
    "\n",
    "Further discussion of the merits and motivations behind this set of software packages is given later in this chapter."
   ]
  },
  {
   "cell_type": "markdown",
   "id": "c21556b5-855c-41ba-b1ec-22a93b146b5f",
   "metadata": {
    "user_expressions": []
   },
   "source": [
    "As a first iteration of the online laboratory concept, a series of experiments were designed with close resemblance to their real-world counterparts. In addition to reducing the scope of the laboratory design, replicating on-premise experiments also offers the opportunity for students to prepare for practical in-situ experimentation, with an understanding of the real-world constraints. From this initial set of experiment proposals, a single candidate was chosen for a proof-of-concept: _characterisation of a NaI(Tl) scintillation detector_. "
   ]
  },
  {
   "cell_type": "code",
   "execution_count": null,
   "id": "68d6bf0d-11e6-4b26-a28a-0e551b4d1c69",
   "metadata": {},
   "outputs": [],
   "source": []
  }
 ],
 "metadata": {
  "kernelspec": {
   "display_name": "Python 3 (ipykernel)",
   "language": "python",
   "name": "python3"
  },
  "language_info": {
   "codemirror_mode": {
    "name": "ipython",
    "version": 3
   },
   "file_extension": ".py",
   "mimetype": "text/x-python",
   "name": "python",
   "nbconvert_exporter": "python",
   "pygments_lexer": "ipython3",
   "version": "3.10.5"
  },
  "widgets": {
   "application/vnd.jupyter.widget-state+json": {
    "state": {},
    "version_major": 2,
    "version_minor": 0
   }
  }
 },
 "nbformat": 4,
 "nbformat_minor": 5
}
