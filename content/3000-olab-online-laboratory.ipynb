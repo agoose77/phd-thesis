{
 "cells": [
  {
   "cell_type": "markdown",
   "id": "daf46c0d-550e-49e1-8479-6b3b97e67dc6",
   "metadata": {
    "user_expressions": []
   },
   "source": [
    "# O-Lab Online Nuclear Laboratory"
   ]
  },
  {
   "cell_type": "markdown",
   "id": "237c98cd-79bd-4d6f-a126-bd12a195de7c",
   "metadata": {
    "user_expressions": []
   },
   "source": [
    "> And now for something completely different\n",
    "\n",
    "_Monty Python's Flying Circus_"
   ]
  },
  {
   "cell_type": "markdown",
   "id": "09af0e10-2d86-46e0-ba42-5380824b1c8f",
   "metadata": {
    "user_expressions": []
   },
   "source": [
    "A foundational theme running through this thesis is the use of interactive computing and modern software development practices to support research and communication. In this chapter, an application of these principles is outlined in response to the COVID-19 pandemic, and the unique, time-sensitive challenges that it posed for teaching provision within the School of Physics and Astronomy at the University of Birmingham.\n",
    "\n",
    "It is my hope that this work helps to shape the learning of future student cohorts, from both a technical and cultural perspective, and serves as a testament to the versatility of interactive, virtual learning. "
   ]
  }
 ],
 "metadata": {
  "kernelspec": {
   "display_name": "Python 3 (ipykernel)",
   "language": "python",
   "name": "python3"
  },
  "language_info": {
   "codemirror_mode": {
    "name": "ipython",
    "version": 3
   },
   "file_extension": ".py",
   "mimetype": "text/x-python",
   "name": "python",
   "nbconvert_exporter": "python",
   "pygments_lexer": "ipython3",
   "version": "3.10.6"
  },
  "widgets": {
   "application/vnd.jupyter.widget-state+json": {
    "state": {},
    "version_major": 2,
    "version_minor": 0
   }
  }
 },
 "nbformat": 4,
 "nbformat_minor": 5
}
