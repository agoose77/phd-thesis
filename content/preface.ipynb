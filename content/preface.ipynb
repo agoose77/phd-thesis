{
 "cells": [
  {
   "cell_type": "markdown",
   "id": "bbb823cd-10d8-4096-84d3-146a2f11a1e7",
   "metadata": {
    "tags": [
     "no-latex"
    ],
    "user_expressions": []
   },
   "source": [
    "::::{grid} 1 1 2 2\n",
    ":gutter: 4 4 2 2\n",
    "\n",
    ":::{grid-item-card}\n",
    ":img-top: image/uob-logo.svg\n",
    ":columns: 12\n",
    "\n",
    "A thesis submitted to the University of Birmingham for the degree of Doctor of Philosophy \n",
    "\n",
    "+++\n",
    "Nuclear Physics Group  \n",
    "School of Physics and Astronomy  \n",
    "College of Engineering and Physical Sciences  \n",
    "University of Birmingham  \n",
    "September 22, 2023\n",
    ":::\n",
    "\n",
    ":::{grid-item-card} A search for molecular structure in oxygen-14\n",
    ":link: 2100-nuclear-models\n",
    ":link-type: doc\n",
    ":img-bottom: image/placeholder/texat-detector.png\n",
    ":::\n",
    "\n",
    ":::{grid-item-card} Interactive computing for nuclear laboratories\n",
    ":link: 3000-olab-online-laboratory\n",
    ":link-type: doc\n",
    ":img-bottom: image/olab-logo.png\n",
    ":::\n",
    "::::"
   ]
  }
 ],
 "metadata": {
  "kernelspec": {
   "display_name": "Python 3 (ipykernel)",
   "language": "python",
   "name": "python3"
  },
  "language_info": {
   "codemirror_mode": {
    "name": "ipython",
    "version": 3
   },
   "file_extension": ".py",
   "mimetype": "text/x-python",
   "name": "python",
   "nbconvert_exporter": "python",
   "pygments_lexer": "ipython3",
   "version": "3.10.6"
  }
 },
 "nbformat": 4,
 "nbformat_minor": 5
}
