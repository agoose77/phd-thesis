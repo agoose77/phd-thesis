{
 "cells": [
  {
   "cell_type": "markdown",
   "id": "4a712c74-97b0-42c3-9f83-9b43dedb6dd9",
   "metadata": {
    "tags": [],
    "user_expressions": []
   },
   "source": [
    "(content:kinematics)=\n",
    "# Kinematics"
   ]
  },
  {
   "cell_type": "markdown",
   "id": "346f3d4c-1d8b-4c6f-b2fd-e973f395a594",
   "metadata": {
    "user_expressions": []
   },
   "source": [
    "## Angular Scattering"
   ]
  },
  {
   "cell_type": "markdown",
   "id": "ef773ed7-788d-47c2-b2de-2a535a852fa0",
   "metadata": {
    "user_expressions": []
   },
   "source": [
    "Fundamentally, in the sub-relativistic regime, the following conservation laws typically form the basis of any kinematic reconstruction\n",
    ":::{math}\n",
    ":label: non-relativistic-kinematics\n",
    "\n",
    "\\sum_j \\vb{p^{j}_i} &= \\sum_j \\vb{p^{j}_f}\n",
    "\n",
    "\\sum_j E^{j}_i &= \\sum_j E^{j}_f\\,.\n",
    ":::"
   ]
  },
  {
   "cell_type": "markdown",
   "id": "7537a848-e4f1-4cc0-8ee9-901603f77dae",
   "metadata": {
    "user_expressions": []
   },
   "source": [
    "In the context of a scattering reaction between an incident heavy (larger A, Z) ion and a stationary light (smaller A, Z) target (gas), the reaction will be forward projected and the range of the scattered light ion will be significantly greater than that of the recoiling heavy ion. As such, the tracks left by light ions moving through the TPC are much more easily identified, and may be fit with greater precision than fits performed using the heavy recoil. "
   ]
  },
  {
   "cell_type": "markdown",
   "id": "eb44449f-5ad6-47b7-b627-65377af552a3",
   "metadata": {
    "user_expressions": []
   },
   "source": [
    "Given the energy and angular straggling of the beam following interactions with the window, it is also evident that indirect measurements of the beam energy will be less accurate than those of the light ion after it interacts with the silicon detector array. As such, the most accurate measurements of the reaction kinematics are given by the track scattering angles and known energy of the light product. In such a configuration, the beam and recoil momentum vectors are initially unknown. We can define a beam-centric coordinate system with the {math}`\\hat{1}` vector given by the beam direction, the {math}`\\hat{3}` vector given by the normalised cross product of the beam and scatter tracks, and the {math}`\\hat{2}` vector taken to be perpendicular to {math}`\\hat{1}` and {math}`\\hat{3}`."
   ]
  },
  {
   "cell_type": "markdown",
   "id": "d446a267-1692-43da-8cd1-b58b60d32206",
   "metadata": {
    "user_expressions": []
   },
   "source": [
    "From {eq}`non-relativistic-kinematics`, conservation of momentum can be applied separately to each axis such that we have\n",
    ":::{math}\n",
    "p_1 &= p_2^\\pqty{1} + p_3^\\pqty{1}\n",
    "\n",
    "0 &= p_2^\\pqty{2} + p_3^\\pqty{2}\\,.\n",
    ":::\n",
    "An application of energy conservation yields\n",
    ":::{math}\n",
    "\\frac{\n",
    "    \\pqty{p_1}\n",
    "^2}{2m_1} =\n",
    "\\frac{\n",
    "    \\pqty{p_2}\n",
    "^2}{2m_2} +\n",
    "\\frac{\n",
    "    \\pqty{p_3}\n",
    "^2}{2m_3}\\,.\n",
    ":::\n",
    "\n",
    "\n",
    "It can be shown that the recoil momentum is uniquely determined by\n",
    ":::{math}\n",
    ":label: angular-kinematics-recoil\n",
    "p_3^\\pqty{1} &= \\frac{\\pqty{\\pqty{p_2^\\pqty{2}}^2 + \\pqty{p_2^\\pqty{1}}^2}\\frac{m_1}{m_2} + \\pqty{p_2^\\pqty{2}}^2 - \\pqty{p_2^\\pqty{1}}^2}{2 p_2^\\pqty{1} }\\\\\n",
    "&= \\frac{\\pqty{p_2^\\pqty{2}}^2\\pqty{m_1+m_2} + \\pqty{p_2^\\pqty{1}}^2\\pqty{m_1-m_2}}{2 p_2^\\pqty{1} m_2 }\\\\\n",
    ":::\n",
    "\n",
    "\n",
    "::::{tip}\n",
    ":class: dropdown no-latex\n",
    "\n",
    ":::{math}\n",
    "\\frac{\\pqty{p_1}^2}{2m_1} &= \\frac{\\pqty{p_2}^2}{2m_2} + \\frac{\\pqty{p_3}^2}{2m_1}\\\\\n",
    "p_1^\\pqty{1} &= p_2^\\pqty{1} + p_3^\\pqty{1} \\\\\n",
    "0 &= p_2^\\pqty{2} + p_3^\\pqty{2} \\\\\n",
    "\\frac{\\left(p_2^\\pqty{1} + p_3^\\pqty{1}\\right)^2}{2m_1} &= \\frac{\\pqty{p_2^\\pqty{2}}^2 + \\pqty{p_2^\\pqty{1}}^2}{2m_2} + \\frac{\\pqty{p_3^\\pqty{2}}^2 + \\pqty{p_3^\\pqty{1}}^2}{2m_1}\\\\\n",
    "\\frac{\\left(p_2^\\pqty{1} + p_3^\\pqty{1}\\right)^2}{2m_1} &= \\frac{\\pqty{p_2^\\pqty{2}}^2 + \\pqty{p_2^\\pqty{1}}^2}{2m_2} + \\frac{\\pqty{p_2^\\pqty{2}}^2 + \\pqty{p_3^\\pqty{1}}^2}{2m_1}\\\\\n",
    "\\frac{\\pqty{p_2^\\pqty{1}}^2 + 2p_2^\\pqty{1}p_3^\\pqty{1}}{2m_1} &= \\frac{\\pqty{p_2^\\pqty{2}}^2 + \\pqty{p_2^\\pqty{1}}^2}{2m_2} + \\frac{\\pqty{p_2^\\pqty{2}}^2}{2m_1}\\\\\n",
    "{\\pqty{p_2^\\pqty{1}}^2 + 2p_2^\\pqty{1}p_3^\\pqty{1}} &= \\left(\\pqty{p_2^\\pqty{2}}^2 + \\pqty{p_2^\\pqty{1}}^2\\right)\\frac{m_1}{m_2} + \\pqty{p_2^\\pqty{2}}^2\\\\\n",
    "p_3^\\pqty{1}&= \\frac{\\pqty{p_2^\\pqty{2}}^2\\pqty{m_1+m_2} + \\pqty{p_2^\\pqty{1}}^2\\pqty{m_1-m_2}}{2 p_2^\\pqty{1} m_2 }\\\\\n",
    ":::\n",
    "\n",
    "::::"
   ]
  },
  {
   "cell_type": "markdown",
   "id": "9b4fa967-a569-44d9-af37-2e86ab104061",
   "metadata": {
    "user_expressions": []
   },
   "source": [
    "This approach necessarily requires the knowledge of the interaction vertex (to identify the light particle energy) and the relative angle of the beam to the scattered ion track. If both of these cannot be determined, then there is insufficient knowledge of the system to find a solution. In the zero-degree regime, in which the light product track is close to zero degrees, it is possible to leverage the assumption of a linear reaction in order to once-again determine the beam energy (see {ref}`content:zero-degree-scattering`)."
   ]
  },
  {
   "cell_type": "markdown",
   "id": "84be9f88-7ed5-4944-b249-a800cff0dedb",
   "metadata": {
    "tags": [],
    "user_expressions": []
   },
   "source": [
    "(content:zero-degree-scattering)=\n",
    "## Zero-degree Scattering"
   ]
  },
  {
   "cell_type": "markdown",
   "id": "981cb416-8bc8-456e-ba78-01137ee664fe",
   "metadata": {
    "user_expressions": []
   },
   "source": [
    "In the zero-degree approximation, {eq}`angular-kinematics-recoil` simplifies to\n",
    ":::{math}\n",
    "p_3 = \\frac{p_2\\pqty{m_1 - m_2}}{2 m_2}\\,.\n",
    ":::\n",
    "This in turn admits a relationship between the beam and scatter energies\n",
    ":::{math}\n",
    "\\frac{E_2}{E_1} = \\frac{4 m_1 m_2}{\\pqty{m_1+m_2}^2}\\,.\n",
    ":::\n",
    "\n",
    "\n",
    "::::{tip}\n",
    ":class: dropdown no-latex\n",
    "\n",
    ":::{math}\n",
    "E_1 &= \\frac{\\pqty{p_3}^2}{2m_1} + \\frac{\\pqty{p_2}^2}{2m_2}\n",
    "\n",
    "&= \\frac{\\pqty{p_2}^2 \\pqty{\\frac{m_1}{m_2}-1}^2}{4\\cdot 2m_1} + \\frac{\\pqty{p_2}^2}{2m_2}\n",
    "\n",
    "&= \\frac{\\pqty{p_2}^2}{2}\\bqty{\\frac{\\pqty{\\frac{m_1}{m_2}-1}^2}{4\\cdot m_1}+\\frac{1}{m_2}}\n",
    "\n",
    "&= \\frac{\\pqty{p_2}^2}{2}\\frac{\\bqty{m_2\\pqty{\\frac{m_1}{m_2}-1}^2+4m_1}}{4m_1 m_2}\n",
    "\n",
    "&= \\frac{\\pqty{p_2}^2}{2}\\frac{\\bqty{\\pqty{m_2-m_1}^2+4m_1m_2}}{4m_1 m_2^2}\n",
    "\n",
    "&= \\frac{\\pqty{p_2}^2}{2m_2}\\frac{\\pqty{m_2+m_1}^2}{4m_1 m_2}\n",
    "\n",
    "&= E_2\\frac{\\pqty{m_2+m_1}^2}{4m_1 m_2}\n",
    ":::\n",
    "\n",
    "::::"
   ]
  },
  {
   "cell_type": "code",
   "execution_count": null,
   "id": "d0cf8a3d-a6ea-4b04-9ad2-1fc018a1dd43",
   "metadata": {},
   "outputs": [],
   "source": []
  }
 ],
 "metadata": {
  "kernelspec": {
   "display_name": "Python 3 (ipykernel)",
   "language": "python",
   "name": "python3"
  },
  "language_info": {
   "codemirror_mode": {
    "name": "ipython",
    "version": 3
   },
   "file_extension": ".py",
   "mimetype": "text/x-python",
   "name": "python",
   "nbconvert_exporter": "python",
   "pygments_lexer": "ipython3",
   "version": "3.10.6"
  },
  "widgets": {
   "application/vnd.jupyter.widget-state+json": {
    "state": {},
    "version_major": 2,
    "version_minor": 0
   }
  }
 },
 "nbformat": 4,
 "nbformat_minor": 5
}
