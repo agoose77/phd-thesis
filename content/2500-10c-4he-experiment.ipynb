{
 "cells": [
  {
   "cell_type": "markdown",
   "id": "0b992787-f5f6-40a6-933e-32dfc64e4764",
   "metadata": {
    "user_expressions": []
   },
   "source": [
    "# Resonance Elastic Scattering of $\\alpha$-particles with ${}^{10}\\text{C}$"
   ]
  },
  {
   "cell_type": "code",
   "execution_count": 38,
   "id": "1ba0f008-f00c-4cb8-9520-af9587928f08",
   "metadata": {
    "tags": [
     "remove-input",
     "remove-output"
    ]
   },
   "outputs": [],
   "source": [
    "import json\n",
    "import pickle\n",
    "from pathlib import Path\n",
    "\n",
    "import awkward as ak\n",
    "import hist\n",
    "import numpy as np\n",
    "from matplotlib import pyplot as plt"
   ]
  },
  {
   "cell_type": "markdown",
   "id": "973acada-9c87-4a0a-96f7-fd34e6f119ac",
   "metadata": {
    "user_expressions": []
   },
   "source": [
    "The GET acquisition system serialises data using the MultiFrame Metaformat (MFM)\n",
    "> a binary format for data acquisition and serialization that are self-contained, layered, adapted to network transfers[,] and evolving. {cite:ps}`anvar_multiframe_nodate`\n",
    "\n",
    "This file format is more suitable for disk storage than in-memory representation of data, as it is a heirarchical format in which each _frame_ must be read, regardless of whether it is needed. The use of separate header and data sections means that the cost of skipping a frame is limited to parsing the header, but MFM is still a struct-based format. In many cases, columnar processing is both more performant and more expressive than an equivalent event-loop based approach.{cite:ps}`smith_case_2019` \n",
    "\n",
    "The analysis process was performed in a series of discrete stages (see {numref}`analysis-flowchart`)."
   ]
  },
  {
   "cell_type": "markdown",
   "id": "4b36c710-5df7-4871-8b1d-0d672433439a",
   "metadata": {
    "user_expressions": []
   },
   "source": [
    "<!-- :::{figure-md} analysis-flowchart -->\n",
    "\n",
    ":::{mermaid}\n",
    "flowchart LR\n",
    "\n",
    "signal --> calibrate[Silicon Calibration*]\n",
    "baseline_removal --> gain_matching[Gain Matching*]\n",
    "baseline_removal --> response[Response Estimation*]\n",
    "gain_matching --> signal\n",
    "calibrate --> kinematic_fitting\n",
    "response --> signal\n",
    "\n",
    "get[/GET MFM/] --> mfm2root[ROOT Conversion] --> partitioning[Partitioning] --> noise_removal[Noise Removal] --> baseline_removal[Baseline Removal] --> signal[Signal Fitting] --> event[Cluster Reconstruction] --> fit[Track Fitting] --> kinematic_fitting[Kinematic Fitting] --> kinematics[/Kinematics/]\n",
    "\n",
    "gas_parameters[/Gas Parameters/] --> gas_simulation[Garfield++ Simulation] --> event\n",
    "\n",
    ":::\n",
    "\n",
    "<!-- The asterisk \\* indicates processes which were aggregated over the entire dataset ahead of reconstruction -->\n",
    "<!-- ::: -->\n",
    "\n",
    "```{warning}\n",
    "TODO: \n",
    "- [ ] make this wrap nicely\n",
    "- [ ] support hyperlinks to sections in this figure\n",
    "```"
   ]
  },
  {
   "cell_type": "markdown",
   "id": "b566a198-084d-4f98-af6e-034a8657505a",
   "metadata": {
    "user_expressions": []
   },
   "source": [
    "<!-- ## Garfield++ Simulation\n",
    "\n",
    "## Cluster Reconstruction\n",
    "\n",
    "## Track Fitting\n",
    "\n",
    "## Kinematic Fitting\n",
    "\n",
    "## Beam -->"
   ]
  }
 ],
 "metadata": {
  "kernelspec": {
   "display_name": "Python 3 (ipykernel)",
   "language": "python",
   "name": "python3"
  },
  "language_info": {
   "codemirror_mode": {
    "name": "ipython",
    "version": 3
   },
   "file_extension": ".py",
   "mimetype": "text/x-python",
   "name": "python",
   "nbconvert_exporter": "python",
   "pygments_lexer": "ipython3",
   "version": "3.10.4"
  },
  "mystnb": {
   "execution_mode": "inline"
  },
  "widgets": {
   "application/vnd.jupyter.widget-state+json": {
    "state": {},
    "version_major": 2,
    "version_minor": 0
   }
  }
 },
 "nbformat": 4,
 "nbformat_minor": 5
}
