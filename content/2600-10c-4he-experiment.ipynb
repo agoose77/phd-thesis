{
 "cells": [
  {
   "cell_type": "markdown",
   "id": "0b992787-f5f6-40a6-933e-32dfc64e4764",
   "metadata": {
    "user_expressions": []
   },
   "source": [
    "(experiment)=\n",
    "# Resonance Elastic Scattering of $\\alpha$-particles with ${}^{10}\\text{C}$"
   ]
  },
  {
   "cell_type": "markdown",
   "id": "4b36c710-5df7-4871-8b1d-0d672433439a",
   "metadata": {
    "tags": [],
    "user_expressions": []
   },
   "source": [
    "The analysis process was performed in a series of discrete stages (see {numref}`analysis-flowchart`).\n",
    "\n",
    ":::{mermaid}\n",
    ":caption: Process diagram of the TexAT analysis\n",
    ":name: analysis-flowchart\n",
    "\n",
    "flowchart TD\n",
    "\n",
    "baseline_removal --> response[Response Estimation*]\n",
    "baseline_removal --> gain_matching[Gain Matching*]\n",
    "signal --> calibrate[Silicon Calibration*]\n",
    "gain_matching --> signal\n",
    "calibrate --> kinematic_fitting\n",
    "response --> signal\n",
    "get[/GET MFM/] --> mfm2root[ROOT Conversion]\n",
    "mfm2root --> partitioning[Partitioning] \n",
    "partitioning--> noise_removal[Noise Removal] \n",
    "noise_removal--> baseline_removal[Baseline Removal] \n",
    "baseline_removal--> signal[Signal Fitting] \n",
    "signal--> event[Cluster Reconstruction] \n",
    "event--> fit[Track Fitting] \n",
    "fit--> kinematic_fitting[Kinematic Fitting] \n",
    "kinematic_fitting--> kinematics[/Kinematics/]\n",
    "gas_parameters[/Gas Parameters/] --> gas_simulation[Gas Simulation] \n",
    "gas_simulation--> event\n",
    "\n",
    "click get \"#\" \"The raw event binary messages from GET\"\n",
    "click mfm2root \"#\" \"Conversion from MFM format to ROOT TTrees\"\n",
    "click response \"2603-response-estimation.html\" \"Estimation of the GET response function. Aggregated over the entire dataset prior to reconstruction\"\n",
    "click calibrate \"2607-silicon-calibration.html\" \"Energy calibration of the silicon detectors. Aggregated over the entire dataset prior to reconstruction\"\n",
    "click gain_matching \"2604-gain-matching.html\" \"Relative gain matching between MicroMeGaS regions. Aggregated over the entire dataset prior to reconstruction\"\n",
    "click baseline_removal \"2602-noise-and-baseline-removal.html\" \"Removal of electronic noise from the GET waveforms\"\n",
    "click signal \"2605-signal-fitting.html\" \"Energy-time fitting of the GET waveforms\"\n",
    "click fit \"2610-track-fitting.html\" \"Fitting particle tracks to charge clusters\"\n",
    "click kinematic_fitting \"2611-kinematic-fitting.html\" \"Fitting kinematics to particle tracks using physical constraints\"\n",
    "click event \"2609-cluster-reconstruction.html\" \"Charge cluster and silicon hit reconstruction from fit waveforms\"\n",
    "click noise_removal \"2609-cluster-reconstruction.html\" \"Removal of constant baseline signal components\"\n",
    "click partitioning \"2601-partitioning.html\" \"Partitioning of the GET events into memory-balanced chunks\"\n",
    "click gas_parameters \"#\" \"The known parameters for the active-target gas (96% He, 4% CO2)\"\n",
    "click gas_simulation \"2608-gas-simulation.html\" \"Simulation of the gas properties using Garfield++ / Magboltz\"\n",
    ":::\n",
    "\n",
    "\n",
    ":::{container} mermaidTooltip\n",
    "% Tooltip \n",
    ":::\n"
   ]
  }
 ],
 "metadata": {
  "kernelspec": {
   "display_name": "Python 3 (ipykernel)",
   "language": "python",
   "name": "python3"
  },
  "language_info": {
   "codemirror_mode": {
    "name": "ipython",
    "version": 3
   },
   "file_extension": ".py",
   "mimetype": "text/x-python",
   "name": "python",
   "nbconvert_exporter": "python",
   "pygments_lexer": "ipython3",
   "version": "3.10.5"
  },
  "widgets": {
   "application/vnd.jupyter.widget-state+json": {
    "state": {},
    "version_major": 2,
    "version_minor": 0
   }
  }
 },
 "nbformat": 4,
 "nbformat_minor": 5
}
