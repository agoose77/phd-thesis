{
 "cells": [
  {
   "cell_type": "markdown",
   "id": "673ce025-b1aa-4f45-8e7e-739735693398",
   "metadata": {
    "user_expressions": []
   },
   "source": [
    "# Partitioning\n",
    "At the earliest stages of the reconstruction pipeline, performance is primarily bounded by available memory, and therefore it is sensible to partition the data by event multiplicity. This process constitutes the first two stages of this analysis, seen in {numref}`analysis-flowchart`. In the ROOT dataset, the `mmMul` branch contains the per-event multiplicity. To regularise the dataset according to this multiplicity, it was partitioned into approximate chunks of a given aggregate multiplicity. Given that the memory of an MFM event is primarily determined by the number of waveforms that it contains, this effectively balances the memory footprint of each partition.\n",
    "\n",
    "In subsequent stages, the memory bound gives way to compute costs, and so the partition size is refined to balance naive parallelisation against parallisation overhead. Where data is written to disk, the Hierarchical Data Format version 5 (HDF5) format is used as a consequence of its good language support, high compression ratios (with GZip), and columnar representation.{cite:ps}`the_hdf5_group_hierarchical_1997` The Parquet format is another strong format for columnar representation but, due to some library constraints, HDF5 was preferred."
   ]
  },
  {
   "cell_type": "code",
   "execution_count": null,
   "id": "a9f4e42a-8ebf-4d38-be6d-bf1a9d3418a5",
   "metadata": {},
   "outputs": [],
   "source": []
  }
 ],
 "metadata": {
  "kernelspec": {
   "display_name": "Python 3 (ipykernel)",
   "language": "python",
   "name": "python3"
  },
  "language_info": {
   "codemirror_mode": {
    "name": "ipython",
    "version": 3
   },
   "file_extension": ".py",
   "mimetype": "text/x-python",
   "name": "python",
   "nbconvert_exporter": "python",
   "pygments_lexer": "ipython3",
   "version": "3.10.4"
  }
 },
 "nbformat": 4,
 "nbformat_minor": 5
}
