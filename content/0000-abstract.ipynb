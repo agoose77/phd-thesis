{
 "cells": [
  {
   "cell_type": "markdown",
   "id": "53b7744b-48bc-468a-9582-7e79839e8462",
   "metadata": {
    "tags": [],
    "user_expressions": []
   },
   "source": [
    "# Abstract"
   ]
  },
  {
   "cell_type": "markdown",
   "id": "5d08fe9e-785c-4f34-a286-663ef5fa906d",
   "metadata": {
    "user_expressions": []
   },
   "source": [
    "It has long been postulated that light nuclei may exhibit molecular and clustered structures. Clustering in non-alpha conjugate nuclei is of particular interest in demonstrating the role of valence nucleons in stabilising the nucleus. \n",
    "One such example is the stability of the Borromean nucleus {math}`{}^{9}\\mathrm{Be}` over its alpha-conjugate sibling {math}`{}^{8}\\mathrm{Be}`.{cite:ps}`von_oertzen_nuclear_2006`  Given the existing works investigating these structures in {math}`{}^{14}C`, it is the object of this thesis to explore the symmetries of the mirror nucleus {math}`{}^{14}O` and investigate the existence of low-lying clustered states, and their respective properties.\n",
    "\n",
    "It would be remiss to omit reference to the COVID-19 pandemic, by which few people have been left unperturbed. Shortly following its onset in early 2022, a concerted effort in the School of Physics and Astronomy at the University of Birmingham arose to establish novel solutions for distance learning provision. In particular, the challenge of providing robust, flexible teaching of undergraduate laboratory skills was identified as a key limitation in responding to the exigent challenges posed by public health interventions during 2020 and 2021. In this thesis, the development and deployment of a virtual nuclear physics laboratory, to meet this need, is discussed. An exploration of the early student engagement, and future directions of the project is subsequently made."
   ]
  }
 ],
 "metadata": {
  "kernelspec": {
   "display_name": "Python 3 (ipykernel)",
   "language": "python",
   "name": "python3"
  },
  "language_info": {
   "codemirror_mode": {
    "name": "ipython",
    "version": 3
   },
   "file_extension": ".py",
   "mimetype": "text/x-python",
   "name": "python",
   "nbconvert_exporter": "python",
   "pygments_lexer": "ipython3",
   "version": "3.10.6"
  }
 },
 "nbformat": 4,
 "nbformat_minor": 5
}
