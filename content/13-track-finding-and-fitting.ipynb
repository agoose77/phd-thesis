{
 "cells": [
  {
   "cell_type": "markdown",
   "id": "ad15e657-047d-4cea-b668-79c8f40cc1fd",
   "metadata": {},
   "source": [
    "# Track Finding and Fitting"
   ]
  },
  {
   "cell_type": "markdown",
   "id": "9ffa2f9b-5f29-4ea1-8cb9-2990d9d20286",
   "metadata": {},
   "source": [
    "## Tracking in TPCs"
   ]
  },
  {
   "cell_type": "markdown",
   "id": "d6decc37-921a-4b11-876a-83c38be93f46",
   "metadata": {},
   "source": [
    "### Hough Transform"
   ]
  },
  {
   "cell_type": "markdown",
   "id": "17036e6b-b7c8-4caf-b296-1d7a61dfa9d3",
   "metadata": {},
   "source": [
    "### RANSAC"
   ]
  },
  {
   "cell_type": "markdown",
   "id": "a695f6ed-d828-4f8a-b3bb-a44340257a5d",
   "metadata": {},
   "source": [
    "## Facility Location Problem"
   ]
  },
  {
   "cell_type": "markdown",
   "id": "6c9ad478-5f24-4077-a08e-d26be561d126",
   "metadata": {},
   "source": [
    "### Graph Cut Optimization"
   ]
  },
  {
   "cell_type": "markdown",
   "id": "fc9effd8-6849-49bb-8aea-63f13a2a5744",
   "metadata": {},
   "source": [
    "### PeARL"
   ]
  },
  {
   "cell_type": "markdown",
   "id": "29184786-29e8-4536-8e37-715c0e77514f",
   "metadata": {},
   "source": [
    "## Kinematic Fitting"
   ]
  },
  {
   "cell_type": "markdown",
   "id": "2d3c75d2-cd76-413b-be48-d71f6a9701d9",
   "metadata": {},
   "source": [
    ":::{note}\n",
    "Should we look at GNN / CA methods here?\n",
    ":::"
   ]
  }
 ],
 "metadata": {
  "kernelspec": {
   "display_name": "Python 3 (ipykernel)",
   "language": "python",
   "name": "python3"
  },
  "language_info": {
   "codemirror_mode": {
    "name": "ipython",
    "version": 3
   },
   "file_extension": ".py",
   "mimetype": "text/x-python",
   "name": "python",
   "nbconvert_exporter": "python",
   "pygments_lexer": "ipython3",
   "version": "3.9.9"
  },
  "toc-autonumbering": true,
  "widgets": {
   "application/vnd.jupyter.widget-state+json": {
    "state": {},
    "version_major": 2,
    "version_minor": 0
   }
  }
 },
 "nbformat": 4,
 "nbformat_minor": 5
}
