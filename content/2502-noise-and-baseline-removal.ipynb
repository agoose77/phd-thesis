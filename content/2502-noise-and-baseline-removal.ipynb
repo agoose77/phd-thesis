{
 "cells": [
  {
   "cell_type": "markdown",
   "id": "5affd129-5289-46c7-867c-351b026bb69b",
   "metadata": {
    "tags": [],
    "user_expressions": []
   },
   "source": [
    "# Noise and Baseline Removal\n",
    "\n",
    "As discussed in {ref}`content:get-architecture`, the AGET chip provides four additional channels for measuring the electronic noise. These channels can be used to eliminate some of the electronic noise inherent within the system. A number of noise removal strategies are discussed in {cite:ps}`giovinazzo_get_2016-1`, and establishes that an average over the set of FPN channels per-chip is optimal. It was this strategy that was employed to for noise removal (see {numref}`fpn-removal-micromegas`)."
   ]
  },
  {
   "cell_type": "markdown",
   "id": "c2f4902a-3554-4d07-bea4-49cf5cf9e419",
   "metadata": {
    "tags": [],
    "user_expressions": []
   },
   "source": [
    ":::{figure} image/placeholder/placeholder.png\n",
    ":name: fpn-removal-micromegas\n",
    ":width: 400px\n",
    ":align: center\n",
    "\n",
    "```{warning}\n",
    "Todo: add example of FPN channel & FPN removal\n",
    "```\n",
    ":::"
   ]
  },
  {
   "cell_type": "markdown",
   "id": "0371cd56-fc27-453d-a860-3853db4e8ecd",
   "metadata": {
    "tags": [],
    "user_expressions": []
   },
   "source": [
    "In addition to a low frequency component of the electronic noise, a separate baseline offset was observed in the MicroMeGAS and silicon detector channels. This component was removed using two separate methods:"
   ]
  },
  {
   "cell_type": "markdown",
   "id": "20de3e56-36ed-4d2a-a95e-0670b6e7237a",
   "metadata": {
    "tags": [],
    "user_expressions": []
   },
   "source": [
    "## MicroMeGaS Baseline Estimation\n",
    "\n",
    "Given that time in the MicroMeGaS is primarly determined by the drift time of the liberated electrons in the gas volume, the baseline observed in the MicroMeGaS detector was not seen to occur at specific times. Therefore, in order to identify the region of baseline that would be linearly subtracted from the recorded signal, a local variance was computed for the channel samples, with a window of 96 cells (see {numref}`baseline-estimate-micromegas`)."
   ]
  },
  {
   "cell_type": "markdown",
   "id": "e84e56d2-0e8f-49c8-88d3-798e13024574",
   "metadata": {
    "tags": [],
    "user_expressions": []
   },
   "source": [
    ":::{figure} image/placeholder/placeholder.png\n",
    ":name: baseline-estimate-micromegas\n",
    ":width: 400px\n",
    ":align: center\n",
    "\n",
    "```{warning}\n",
    "Todo: add example of baseline estimation\n",
    "```\n",
    ":::"
   ]
  },
  {
   "cell_type": "markdown",
   "id": "5505e143-cd7a-46b1-bdd1-815fafe62513",
   "metadata": {
    "tags": [],
    "user_expressions": []
   },
   "source": [
    "The value of the baseline was given by the locus of the minimum computed variance."
   ]
  },
  {
   "cell_type": "markdown",
   "id": "98977d7d-e8c6-4017-8edb-2994c830f851",
   "metadata": {
    "tags": [],
    "user_expressions": []
   },
   "source": [
    "## Silicon Baseline Estimation\n",
    "\n",
    "Unlike the MicroMeGaS channels, the silicon quadrant detectors have a well defined boundary between the baseline and the interaction signals. This boundary occurs at a similar time for each detector, as it is the silicon detectors upon which the GET system was configured to trigger. To determine the baseline value, the mean of the sample values for the preceeding ten cells was used (see {numref}`baseline-estimate-silicon`)."
   ]
  },
  {
   "cell_type": "markdown",
   "id": "e7630826-c785-40c0-adcc-14e25cb50fad",
   "metadata": {
    "tags": [],
    "user_expressions": []
   },
   "source": [
    ":::{figure} image/placeholder/placeholder.png\n",
    ":name: baseline-estimate-silicon\n",
    ":width: 400px\n",
    ":align: center\n",
    "\n",
    "```{warning}\n",
    "Todo: add example of baseline estimation\n",
    "```\n",
    ":::"
   ]
  },
  {
   "cell_type": "code",
   "execution_count": null,
   "id": "e478d1dd-7495-4d81-949a-6480a554c118",
   "metadata": {},
   "outputs": [],
   "source": []
  }
 ],
 "metadata": {
  "kernelspec": {
   "display_name": "Python 3 (ipykernel)",
   "language": "python",
   "name": "python3"
  },
  "language_info": {
   "codemirror_mode": {
    "name": "ipython",
    "version": 3
   },
   "file_extension": ".py",
   "mimetype": "text/x-python",
   "name": "python",
   "nbconvert_exporter": "python",
   "pygments_lexer": "ipython3",
   "version": "3.10.4"
  }
 },
 "nbformat": 4,
 "nbformat_minor": 5
}
