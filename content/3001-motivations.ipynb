{
 "cells": [
  {
   "cell_type": "markdown",
   "id": "8249501e-bf9f-40ad-977b-29681cae23a4",
   "metadata": {
    "user_expressions": []
   },
   "source": [
    "(olab:motivations)=\n",
    "\n",
    "# Motivations"
   ]
  },
  {
   "cell_type": "markdown",
   "id": "a4bb827e-f03b-49c9-8e6c-d3d91ae0673f",
   "metadata": {
    "user_expressions": []
   },
   "source": [
    "The identification of the SARS-COV-2 virus in 2019 marked the onset of an unprecedented period of social and economic disruption across the global community. Its impact has been felt in the majority of countries around the world, both in terms of the real-terms consequences of wide-spread infection, and the subsequent public health interventions in pursuit of elimination or suppression. Within the domain of Higher Education, which has placed a particular importance upon in-person learning and interaction, the complex ongoing challenges associated with the COVID-19 pandemic have placed significant burden upon educators and their institutions.{cite:ps}`watermeyer_covid-19_2021`"
   ]
  },
  {
   "cell_type": "markdown",
   "id": "1011410c-4a60-44a8-b738-605206f636a0",
   "metadata": {
    "user_expressions": []
   },
   "source": [
    "At the University of Birmingham, a central aspect of the Nuclear Physics teaching provision is the availability of undergraduate laboratories. Over the course of the teaching semester, students enrolled in the appropriate modules are given the opportunity to learn the fundamentals of practical nuclear physics, including\n",
    "- the principles which underpin the measurement of radiation, \n",
    "- the process of building and testing radiation experiments,\n",
    "- practices and procedures involved in working with radioactive sources,\n",
    "- the analytical techniques required to extract physics from laboratory measurements."
   ]
  },
  {
   "cell_type": "markdown",
   "id": "9cf9bee7-1101-40f4-84aa-e800861dfb14",
   "metadata": {
    "tags": [],
    "user_expressions": []
   },
   "source": [
    "The specialised nature of the laboratory sessions in which these skills are taught imposes rigid constraints on the kinds of accommodations that can be made in light of University  public health measures e.g. occupancy limits, staffing availability, and ventilation requirements. Several experiments that undergraduates are expected to undertake include fundamentally immovable apparatus, such as a {math}`8\\,\\text{m}^3` graphite stack for neutron moderation, or a 150 L water bath used for neutron activation experiments.\n",
    "\n",
    "The detector equipment used to observe and measure incident radiation is typically fragile, bulky, and extremely expensive, such that undergraduates are not expected to move such equipment within the laboratory. The radioactive sources used within the various experiments are also controlled substances; requiring significant care during handling, preparatory safety training, and diligent monitoring to ensure that the sources are properly accounted for at all times. These factors conspire together such that conventional approaches to mitigating COVID-19 risks during the pandemic, such as the introduction of a \"two meter rule\", or reducing teaching group sizes, represent impractical solutions in the context of the nuclear laboratory.{cite:ps}`jones_two_2020`"
   ]
  },
  {
   "cell_type": "markdown",
   "id": "dbf32117-a372-4965-aca8-13a935da3ca4",
   "metadata": {
    "tags": [],
    "user_expressions": []
   },
   "source": [
    "Unlike other areas of the taught programmes such as lectures, in which provisions for distance learning (such as Panopto) were already in-use within the undergraduate teaching programs before the pandemic, no such solutions could be found to facilitate the development of practical laboratory skills in the domain of Nuclear Physics.{cite:ps}`jandric_teaching_2021` To address this challenge for the new and existing students impacted by the COVID-19 pandemic, an Online nuclear LABoratory (OLAB) was developed by a team of postgraduate nuclear physics students at the University of Birmingham. The objectives of this project were to implement an online learning resource which \n",
    "   - minimises the impact of digital inequality\n",
    "   - scales to meet the demand of the existing and future student cohorts\n",
    "   - provides an extensible platform upon which to develop new course material\n",
    "   - integrates with the University E-Learning platform(s)\n",
    "   - leverages existing, open-source technologies and\n",
    "   - facilitates content-first development"
   ]
  }
 ],
 "metadata": {
  "kernelspec": {
   "display_name": "Python 3 (ipykernel)",
   "language": "python",
   "name": "python3"
  },
  "language_info": {
   "codemirror_mode": {
    "name": "ipython",
    "version": 3
   },
   "file_extension": ".py",
   "mimetype": "text/x-python",
   "name": "python",
   "nbconvert_exporter": "python",
   "pygments_lexer": "ipython3",
   "version": "3.10.6"
  },
  "widgets": {
   "application/vnd.jupyter.widget-state+json": {
    "state": {},
    "version_major": 2,
    "version_minor": 0
   }
  }
 },
 "nbformat": 4,
 "nbformat_minor": 5
}
