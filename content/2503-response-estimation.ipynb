{
 "cells": [
  {
   "cell_type": "markdown",
   "id": "b6e24504-3260-45b3-bf51-0ce7825961f1",
   "metadata": {
    "tags": [],
    "user_expressions": []
   },
   "source": [
    "# Response Estimation\n",
    "\n",
    "Channels which employ the AGET shaper require deconvolution in order to recover the underlying signal. This process requires a good knowledge of the underlying response function of the system. An approximate analytical solution is given in {cite:ps}`giovinazzo_get_2016-1`, but the authors note that it is insufficiently accurate to be used with deconvolutional methods. It is noted that the electronics can be configured such that the response function can be directly measured, but this required secondary access to the detector which resides at the Cyclotron Institute, Texas A&M University.{cite:ps}`giovinazzo_get_2016-1` "
   ]
  },
  {
   "cell_type": "markdown",
   "id": "14d417ce-d347-41dd-8abc-6a8e98028c4c",
   "metadata": {
    "tags": [],
    "user_expressions": []
   },
   "source": [
    "### Iterative Estimation\n",
    "In order to determine a better approximation for the response function, an iterative deconvolve-fit process can be applied to a set of MicroMeGaS waveforms. These waveforms should be taken from a random spanning sample of the recorded MicroMeGaS waveforms (see {numref}`mm-random-sample`). "
   ]
  },
  {
   "cell_type": "markdown",
   "id": "24e0eb34-66f1-4933-abdd-f5da6abb1f05",
   "metadata": {
    "tags": [],
    "user_expressions": []
   },
   "source": [
    ":::{figure} image/placeholder/mm-response-precursor.png\n",
    "---\n",
    "name: mm-random-sample\n",
    "alt: A plot of the waveforms that are used by the fitting process to derive an estimated response function.\n",
    "width: 512px\n",
    "align: center\n",
    "---\n",
    "A plot of the waveforms that are employed by the fitting process to derive an estimated response function.\n",
    ":::"
   ]
  },
  {
   "cell_type": "markdown",
   "id": "2b384403-f546-46d3-ac7a-96e9c3dabdb4",
   "metadata": {
    "tags": [],
    "user_expressions": []
   },
   "source": [
    "Given such a sample, an initial estimate of the response function $F^{(1)}$ can be used to fit each waveform with the convolution of a Gaussian function \n",
    "\n",
    ":::{math}\n",
    ":label: iterative-estimate\n",
    "Y^{(1)} = F^{(1)} * \\mathcal{N}^{(1)}\\,.\n",
    ":::\n",
    "\n",
    "The resulting fit $\\mathcal{N}^{(1)}$ can then be _deconvolved_ from the original sample $Y$ to produce of $F^{(2)}$. This process can be repeated until the solution becomes stable, and the solutions for a set of random waveforms may be averaged to produce a singular response function $F$ (see {numref}`mm-response-vs-get`)."
   ]
  },
  {
   "cell_type": "markdown",
   "id": "fc3f22f7-7436-46e5-bacf-b7ecc7271b6d",
   "metadata": {
    "tags": [],
    "user_expressions": []
   },
   "source": [
    ":::{figure} image/placeholder/mm-response-iteration.png\n",
    "---\n",
    "name: mm-response-vs-get\n",
    "alt: A plot of the estimated response function over several iterations. The response function becomes broader with each iteration.\n",
    "width: 512px\n",
    "align: center\n",
    "---\n",
    "A plot of the estimated response function over several iterations. It can be seen that the estimated response function becomes broader with each iteration.\n",
    ":::"
   ]
  },
  {
   "cell_type": "markdown",
   "id": "c1cedc85-76d9-47aa-8bb6-b65016ec8a7a",
   "metadata": {
    "tags": [],
    "user_expressions": []
   },
   "source": [
    "Given that the convolution of any two Gaussians is also Gaussian, the solution from {eq}`iterative-estimate` is not guaranteed to be unique, i.e. the resulting response function may include some Gaussian component. This can be seen when the estimated response function is compared with any one silicon sample: the silicon sample is on average slightly narrower than that of the estimated response function (see {numref}`mm-vs-si-sample`)."
   ]
  },
  {
   "cell_type": "markdown",
   "id": "d8f22d44-9b99-4ec6-8fa7-45d36778aa55",
   "metadata": {
    "tags": [],
    "user_expressions": []
   },
   "source": [
    ":::{figure} image/placeholder/response-si-vs-mm.png\n",
    "---\n",
    "name: mm-vs-si-sample\n",
    "alt: A comparison of the response functions estimated with MicroMeGaS waveforms and silicon waveforms. Both waveforms look similar, though the MicroMeGaS waveform is noticeably broader. \n",
    "width: 512px\n",
    "align: center\n",
    "---\n",
    "A comparison of the response functions estimated with MicroMeGaS waveforms and silicon waveforms.\n",
    ":::\n",
    "\n",
    "Applying a convolution to the silicon response function with a fixed-with Gaussian brings the two estimates into closer agreement (see {numref}`mm-vs-si-sample-broad`)\n",
    ":::{figure} image/placeholder/response-si-vs-mm-broad.png\n",
    "---\n",
    "name: mm-vs-si-sample-broad\n",
    "alt: A comparison of the response functions estimated with MicroMeGaS waveforms and silicon waveforms, following broadening. Both waveforms look similar, with only minor disagreement at the edges of the two samples.\n",
    "width: 512px\n",
    "align: center\n",
    "---\n",
    "A comparison of the response functions estimated with MicroMeGaS waveforms and silicon waveforms, following Gaussian broadening of the silicon response.\n",
    ":::"
   ]
  },
  {
   "cell_type": "markdown",
   "id": "e56e9c99-3658-4bf0-b76a-cde05418597e",
   "metadata": {
    "jp-MarkdownHeadingCollapsed": true,
    "tags": [],
    "user_expressions": []
   },
   "source": [
    "### Sample Averaging\n",
    "\n",
    "It follows that the silicon waveforms may provide a more robust mechanism for estimating the response function. If one assumes that that the shape of the current signal produced by interactions with the silicon detector is predominantly determined by the shaper, then the measured signal is to first approximation simply a convolution of the intrinsic response function and some normal component $F' * \\mathcal{N}$. \n",
    "\n",
    "To build a response function estimate, a random sample of silicon waveforms spanning a range of amplitudes is taken. The binwise mean of this set of waveforms is taken to produce an average waveform (see {numref}`si-response-average`). This waveform is an approximate response function, which can then be time-shifted such that the peak coincides with $t=0$.\n",
    "\n",
    "\n",
    ":::{figure} image/placeholder/si-response-average.png\n",
    "---\n",
    "name: si-response-average\n",
    "alt: A plot of the waveforms that are averaged to compute the silicon response function.\n",
    "width: 512px\n",
    "align: center\n",
    "---\n",
    "A plot of the silicon waveforms prior to averaging.\n",
    ":::\n"
   ]
  }
 ],
 "metadata": {
  "kernelspec": {
   "display_name": "Python 3 (ipykernel)",
   "language": "python",
   "name": "python3"
  },
  "language_info": {
   "codemirror_mode": {
    "name": "ipython",
    "version": 3
   },
   "file_extension": ".py",
   "mimetype": "text/x-python",
   "name": "python",
   "nbconvert_exporter": "python",
   "pygments_lexer": "ipython3",
   "version": "3.10.5"
  },
  "widgets": {
   "application/vnd.jupyter.widget-state+json": {
    "state": {},
    "version_major": 2,
    "version_minor": 0
   }
  }
 },
 "nbformat": 4,
 "nbformat_minor": 5
}
