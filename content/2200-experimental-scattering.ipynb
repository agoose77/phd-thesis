{
 "cells": [
  {
   "cell_type": "markdown",
   "id": "6685366f-8a09-4eef-a4be-62c9d74d0dd9",
   "metadata": {},
   "source": [
    "# Thick Target Experiments"
   ]
  },
  {
   "cell_type": "markdown",
   "id": "b40d2214-39d4-4891-8491-db311fbf4a76",
   "metadata": {},
   "source": [
    "## Thick-Target Inverse Kinematics\n",
    "\n",
    "### Bragg Peak / Stopping Power"
   ]
  },
  {
   "cell_type": "markdown",
   "id": "3808e8f4-ee3f-4f44-bf71-f0d84c4f7dc3",
   "metadata": {},
   "source": [
    "## Resonant Scattering"
   ]
  },
  {
   "cell_type": "markdown",
   "id": "2ccb072d-e00f-4dc0-9bda-5da651352423",
   "metadata": {},
   "source": [
    "## Time-Projection Chambers"
   ]
  },
  {
   "cell_type": "markdown",
   "id": "38a5fbff-353d-4a66-a3d7-4e32aba2467d",
   "metadata": {},
   "source": [
    ":::{note}\n",
    "Cite {cite:p}`hilke_time_2010` for primary clusters, \n",
    ":::"
   ]
  },
  {
   "cell_type": "markdown",
   "id": "325bda57-5e48-4574-8d28-e095c36e7a71",
   "metadata": {},
   "source": [
    ":::{note}\n",
    "(In?)Elasic Scattering\n",
    ":::"
   ]
  },
  {
   "cell_type": "code",
   "execution_count": null,
   "id": "80b18360-b762-414c-9345-78ffe4a8da96",
   "metadata": {},
   "outputs": [],
   "source": []
  }
 ],
 "metadata": {
  "kernelspec": {
   "display_name": "Python 3 (ipykernel)",
   "language": "python",
   "name": "python3"
  },
  "language_info": {
   "codemirror_mode": {
    "name": "ipython",
    "version": 3
   },
   "file_extension": ".py",
   "mimetype": "text/x-python",
   "name": "python",
   "nbconvert_exporter": "python",
   "pygments_lexer": "ipython3",
   "version": "3.9.9"
  },
  "widgets": {
   "application/vnd.jupyter.widget-state+json": {
    "state": {},
    "version_major": 2,
    "version_minor": 0
   }
  }
 },
 "nbformat": 4,
 "nbformat_minor": 5
}
