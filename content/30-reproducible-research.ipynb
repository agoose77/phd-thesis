{
 "cells": [
  {
   "cell_type": "markdown",
   "id": "084f99d7-fbe7-41e5-ac36-8df897a1b639",
   "metadata": {},
   "source": [
    "# Reproducible Research"
   ]
  },
  {
   "cell_type": "markdown",
   "id": "dff380dc-6751-451c-895b-485db467fc79",
   "metadata": {},
   "source": [
    ":::{note}\n",
    "`MIDAS-tape` → Awkward Array\n",
    ":::"
   ]
  },
  {
   "cell_type": "code",
   "execution_count": null,
   "id": "5e5bf39f-68f5-48c7-8df6-ef1d7528fd2d",
   "metadata": {},
   "outputs": [],
   "source": []
  }
 ],
 "metadata": {
  "kernelspec": {
   "display_name": "Python 3 (ipykernel)",
   "language": "python",
   "name": "python3"
  },
  "language_info": {
   "codemirror_mode": {
    "name": "ipython",
    "version": 3
   },
   "file_extension": ".py",
   "mimetype": "text/x-python",
   "name": "python",
   "nbconvert_exporter": "python",
   "pygments_lexer": "ipython3",
   "version": "3.9.9"
  },
  "widgets": {
   "application/vnd.jupyter.widget-state+json": {
    "state": {},
    "version_major": 2,
    "version_minor": 0
   }
  }
 },
 "nbformat": 4,
 "nbformat_minor": 5
}
