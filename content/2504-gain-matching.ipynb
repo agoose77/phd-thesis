{
 "cells": [
  {
   "cell_type": "markdown",
   "id": "e43fe859-25a6-4dc0-ae69-79da06428b55",
   "metadata": {
    "tags": [],
    "user_expressions": []
   },
   "source": [
    "# Gain Matching"
   ]
  },
  {
   "cell_type": "code",
   "execution_count": 1,
   "id": "27c8d12c-be08-4152-b693-6a075048128b",
   "metadata": {
    "tags": [
     "remove-input",
     "remove-output"
    ]
   },
   "outputs": [],
   "source": [
    "import json\n",
    "from pathlib import Path"
   ]
  },
  {
   "cell_type": "markdown",
   "id": "dafec5ee-0631-4e4d-b195-ab8d8f000863",
   "metadata": {
    "tags": [],
    "user_expressions": []
   },
   "source": [
    "In {ref}`content:micromegas`, it was noted that the MicroMeGaS anode is subdivided into a set of distinct zones that can be held at different potentials in order to spatially vary the gain. In this experiment, both the strip-chain (side) regions and final block of pads in the central region were held at a high gain in order to better resolve light particle tracks with low stopping powers (see {numref}`micromegas-anode-gain-region`). \n",
    "\n",
    ":::{figure} image/placeholder/placeholder.png\n",
    ":name: micromegas-anode-gain-region\n",
    ":::\n",
    "\n",
    ":::{note}\n",
    "TODO: add an image of micromegas-anode-gain-region\n",
    ":::\n",
    "\n",
    "Following position reconstruction, these gains must be accounted for if the collected charge is to be used for particle identification. Given that the strips, chains, and final central pads were held at the same potential, the relative gain of these regions can be determined solely by looking at the relative gain of the final central pad region. This was experimentally measured by observing the change in charge collected by the rows of pads either side of the high-low gain boundary.\n",
    "\n",
    "\n",
    ":::{figure} image/placeholder/gain-high-dark.png\n",
    "---\n",
    "alt: Ratio of low gain and high gain mean charge at the gain boundary.\n",
    "width: 400px\n",
    "align: center\n",
    "---\n",
    "Ratio of the mean collected charge between the low gain and high gain region boundary in the Micromegas pads.\n",
    ":::"
   ]
  },
  {
   "cell_type": "code",
   "execution_count": null,
   "id": "d5916a06-5833-403e-a38e-1177c3a1f904",
   "metadata": {
    "tags": [
     "remove-input",
     "remove-output"
    ]
   },
   "outputs": [],
   "source": [
    "# Load the relative gain\n",
    "relative_gain = json.loads((Path(\"data\") / \"relative-gain.json\").read_text())\n",
    "relative_gain_3f = f\"{relative_gain:.3f}\""
   ]
  },
  {
   "cell_type": "markdown",
   "id": "d874a0cb-2d57-445c-95fe-f3eee84ae974",
   "metadata": {
    "user_expressions": [
     {
      "expression": "relative_gain_3f",
      "result": {
       "data": {
        "text/plain": "'9.574'"
       },
       "metadata": {},
       "status": "ok"
      }
     }
    ]
   },
   "source": [
    "After fitting this distribution with a binned likelihood estimator, the relative gain between the high and low gain regions was found to be {eval}`relative_gain_3f`."
   ]
  }
 ],
 "metadata": {
  "kernelspec": {
   "display_name": "Python 3 (ipykernel)",
   "language": "python",
   "name": "python3"
  },
  "language_info": {
   "codemirror_mode": {
    "name": "ipython",
    "version": 3
   },
   "file_extension": ".py",
   "mimetype": "text/x-python",
   "name": "python",
   "nbconvert_exporter": "python",
   "pygments_lexer": "ipython3",
   "version": "3.10.4"
  },
  "mystnb": {
   "execution_mode": "inline"
  }
 },
 "nbformat": 4,
 "nbformat_minor": 5
}
