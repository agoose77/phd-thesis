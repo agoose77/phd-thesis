{
 "cells": [
  {
   "cell_type": "markdown",
   "id": "4a712c74-97b0-42c3-9f83-9b43dedb6dd9",
   "metadata": {
    "tags": [],
    "user_expressions": []
   },
   "source": [
    "# Garfield Simulation"
   ]
  }
 ],
 "metadata": {
  "kernelspec": {
   "display_name": "Python 3 (ipykernel)",
   "language": "python",
   "name": "python3"
  },
  "language_info": {
   "codemirror_mode": {
    "name": "ipython",
    "version": 3
   },
   "file_extension": ".py",
   "mimetype": "text/x-python",
   "name": "python",
   "nbconvert_exporter": "python",
   "pygments_lexer": "ipython3",
   "version": "3.10.4"
  }
 },
 "nbformat": 4,
 "nbformat_minor": 5
}
