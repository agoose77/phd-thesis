{
 "cells": [
  {
   "cell_type": "markdown",
   "id": "c54d397c-7ba4-477f-b8af-746770238fb6",
   "metadata": {
    "user_expressions": []
   },
   "source": [
    "> The atmosphere was dominated by a feeling of mutual respect . . . There existed in those days a true camaraderie in our profession, whatever the small differences in our approach.  \n",
    "\n",
    "_The Remains of the Day_, Kazuo Ishiguro."
   ]
  }
 ],
 "metadata": {
  "kernelspec": {
   "display_name": "Python 3 (ipykernel)",
   "language": "python",
   "name": "python3"
  },
  "language_info": {
   "codemirror_mode": {
    "name": "ipython",
    "version": 3
   },
   "file_extension": ".py",
   "mimetype": "text/x-python",
   "name": "python",
   "nbconvert_exporter": "python",
   "pygments_lexer": "ipython3",
   "version": "3.10.6"
  }
 },
 "nbformat": 4,
 "nbformat_minor": 5
}
