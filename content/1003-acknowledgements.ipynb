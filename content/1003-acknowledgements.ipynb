{
 "cells": [
  {
   "cell_type": "markdown",
   "id": "4e33b742-0c60-4c98-be22-ce27d251d226",
   "metadata": {
    "tags": [],
    "user_expressions": []
   },
   "source": [
    "# Acknowledgements\n",
    "\n",
    "Ph.D’s are often referred to as journeys. I had a temptation to start these acknowledgements off with a quote or reference to an epic story or, journey. However, this felt foolish, I have not achieved a super-human feat, there were no Supernatural beings, or powers at play, common tropes of the gener. That being said, I reflected on the Epics I have enjoyed, The Illiad, The Lord of the Rings, Interstellar, Game of Thrones, and they all have other unifying themes and tropes which do seem fitting:\n",
    "\n",
    "The Guiding force:\n",
    "My supervisors, [title] Tzany Wheldon and [Title] Carl Wheldon. Thank you for your direction and counsel. Tzany, my painting from our art class together will always serve as a reminder of the importance of creativity, perspective, and just getting paint on the canvas. Carl, I have never been more focused on my punctation, than when writing this sentence. While I joke about this, you have instilled  in me the importance of the little details. \n",
    "\n",
    "The benefactor and sponsor  \n",
    "Details here about funding bodies.\n",
    "\n",
    "The Characters who arrived during a pivotal chapter and never get the recognition they deserve, until now. (I agree this could have been more pithy):\n",
    "Jack and Marina\n",
    "Those who produced the experiment before my journey started.\n",
    "\n",
    "The Companions\n",
    "You know who you are (but I don’t please get in touch).   \n",
    "\n",
    "The Family\n",
    "To my parents, I forgive you for not having any Physics qualifications that might have been of use to me. What you have imparted was so much more important. You have given me a work ethic, a belief in myself, and most importantly a safe and happy home that I have always been able to return to.\n",
    "\n",
    "Meg MD. I hereby note in formal academic literature, that you were the first twin to become a doctor, though in the spirt of equality when the call goes out on the plain, we shall both assist in midflight emergencies. Thank you for taking the pressure off by ensuring that mum and dad would have at least one successful offspring. To my brother Sam, thank you for the welcome interludes helping you recover your email passwords provided, and your excellent taste in memes.\n",
    "\n",
    "To the extensive Hollands and Fitzgerald clans, support comes in different ways, your never ending encouragement has meant more than you will ever know. Finally, to my additional family the Rowe’s, thank you for always offering me the last potato. \n",
    "\n",
    "The love interest\n",
    "I will let you do this bit. Sometime to say less is to say more.\n",
    "\n",
    "I acknwolegde in these acknowledgements that I was very lucky not to have a mortal enemy, but then isn’t the greatsest enemy of all: time?\n",
    "\n",
    "As I come to the end of this first Epic journey, I am filled with nothing but gratitude. I am thankful for those I met along the way and hope you will be enduring characters in my next chapters, and I in yours. For those already in my life, thank you for your patience. I have no excuse not to do the dishes anymore.\n"
   ]
  }
 ],
 "metadata": {
  "kernelspec": {
   "display_name": "Python 3 (ipykernel)",
   "language": "python",
   "name": "python3"
  },
  "language_info": {
   "codemirror_mode": {
    "name": "ipython",
    "version": 3
   },
   "file_extension": ".py",
   "mimetype": "text/x-python",
   "name": "python",
   "nbconvert_exporter": "python",
   "pygments_lexer": "ipython3",
   "version": "3.10.6"
  },
  "widgets": {
   "application/vnd.jupyter.widget-state+json": {
    "state": {},
    "version_major": 2,
    "version_minor": 0
   }
  }
 },
 "nbformat": 4,
 "nbformat_minor": 5
}
