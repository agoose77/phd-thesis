{
 "cells": [
  {
   "cell_type": "markdown",
   "id": "4a712c74-97b0-42c3-9f83-9b43dedb6dd9",
   "metadata": {
    "tags": [],
    "user_expressions": []
   },
   "source": [
    "# Track Fitting"
   ]
  },
  {
   "cell_type": "code",
   "execution_count": null,
   "id": "a483bfa3-ba9d-4566-86af-443817fc5945",
   "metadata": {},
   "outputs": [],
   "source": []
  }
 ],
 "metadata": {
  "kernelspec": {
   "display_name": "Python 3 (ipykernel)",
   "language": "python",
   "name": "python3"
  },
  "language_info": {
   "codemirror_mode": {
    "name": "ipython",
    "version": 3
   },
   "file_extension": ".py",
   "mimetype": "text/x-python",
   "name": "python",
   "nbconvert_exporter": "python",
   "pygments_lexer": "ipython3",
   "version": "3.10.4"
  }
 },
 "nbformat": 4,
 "nbformat_minor": 5
}
