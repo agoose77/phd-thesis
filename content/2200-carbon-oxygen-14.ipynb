{
 "cells": [
  {
   "cell_type": "markdown",
   "id": "498d021f-0a7b-4c61-9448-b4f14199d303",
   "metadata": {
    "user_expressions": []
   },
   "source": [
    "# {math}`{}^{14}C` and {math}`{}^{14}O` Mirror Nuclei"
   ]
  },
  {
   "cell_type": "markdown",
   "id": "8839afc8-8826-41f4-8c5f-ae3fa31b2e84",
   "metadata": {
    "tags": [],
    "user_expressions": []
   },
   "source": [
    "## Mirror Nuclei\n",
    "\n",
    "In {ref}`liquid-drop-model`, the semi-empirical mass formula was introduced. Notably, it is only the Coulomb term of {eq}`semi-empirical-mass-formula` that explicitly depends upon a nucleon flavour (the proton). This hints at a symmetry of the strong interaction - that the Hamiltonian is degenerate with respect to nucleon charge. It is not an _exact_ symmetry; the mass of the neutron is slightly greater than that of the proton, and thus the eigenvalues of the strong Hamiltonian are distinct. This difference can be treated as a _perturbation_ of an exact symmetry, called Isospin {math}`I` for its close resemblance of the spin-{math}`\\frac{1}{2}` representation.{cite:ps}`wigner_consequences_1937` In this model, protons and neutrons form eigenstates of the spin-doublet system with {math}`3` projection {math}`I_3 \\pm \\frac{1}{2}`. "
   ]
  },
  {
   "cell_type": "markdown",
   "id": "7a835baa-5010-4a45-9923-08623bc27861",
   "metadata": {
    "tags": [],
    "user_expressions": []
   },
   "source": [
    "There are two interpretations of isospin symmetry:\n",
    "\n",
    "Charge-symmetry\n",
    ": Charge-_symmetry_ holds that the _pp_ interaction is indistinguishable from that of the _nn_ interaction. In terms of the isospin \n",
    "    :::{math}\n",
    "    :label: charge-symmetry\n",
    "    \n",
    "    \\comm{\\hat{H}}{\\exp(\\frac{i\\pi \\hat{I}_i}{\\hbar})} = 0\\,,\n",
    "    :::\n",
    "    where {math}`\\hat{I}_i` is the operator that measures the {math}`i\\neq 3` projection of the isospin {math}`I`, and {math}`\\hat{H}` is the strong Hamiltonian. The {math}`\\exp(\\frac{i\\pi \\hat{I}_i}{\\hbar})` rotation operator negates the {math}`\\hat{I}_3` expectation value.\n",
    "    \n",
    "    % Most of the mass of the proton/neutron comes from strong interaction between quarks. Quarks in p and n have equal mass, so strong interaction Hamiltonian determines "
   ]
  },
  {
   "cell_type": "markdown",
   "id": "5dbca47a-220c-48a6-8c51-9df9d2fa3973",
   "metadata": {
    "user_expressions": []
   },
   "source": [
    "Charge-independence\n",
    ": Charge-_independence_ holds that the _pp_, _nn_, and _pn_ interactions are indistinguishable, i.e.\n",
    "    :::{math}\n",
    "    :label: charge-independence\n",
    "    \n",
    "    \\comm{\\hat{H}}{\\exp(\\frac{i \\theta \\hat{I}_i}{\\hbar})} = 0\\,,\n",
    "    :::\n",
    "    where {math}`\\theta` is an arbitrary rotation in isospin space. It is therefore a stronger statement of charge-_symmetry_. The eigenstates correspond to a set of _isobaric_ nuclei; nuclei with the same total number of nucleons."
   ]
  },
  {
   "cell_type": "markdown",
   "id": "6068260b-9285-4512-ac92-261d83b2d072",
   "metadata": {
    "tags": [],
    "user_expressions": []
   },
   "source": [
    "% Rotations about I2 and I1 correspond to shifts in I3 projection (need to show this mathematically). I2 can be formed from ladder operators (identity L+- = L1 +- iL2 (?)), so there is *some* clear relation.\n",
    "As implied from the construction of {eq}`semi-empirical-mass-formula`, there is good evidence from measurements of nucleon-nucleon scattering lengths that the strong interaction is approximately charge-symmetric.{cite:ps}`machleidt_high-precision_2001` These same data indicate a stronger degree of charge-independence breaking, suggested by a larger (absolute) value for the _pn_ scattering length. It follows that _mirror_ nuclei, nuclei with exchanged proton and neutron numbers such as {math}`{ }^{11} \\mathrm{C}` and {math}`{ }^{11} \\mathrm{B}`, or {math}`{ }^{14} \\mathrm{O}` and {math}`{ }^{14} \\mathrm{C}`, should exhibit similar structures subject to modulation by the Coulomb interaction. \n",
    "\n",
    "The level schemes for a pair of mirror nuclei are shown in {numref}`level-scheme-11c-11b`. It is clear that the two nuclei posses very similar structures; the ordering between levels is closely matched, with a general decrease in excitation energy associated with the addition long-range spin-independent Coulomb potential seen in {math}`{}^{11}B`."
   ]
  },
  {
   "cell_type": "markdown",
   "id": "d9fe35d0-b8c7-4597-a600-cd3849b17ada",
   "metadata": {
    "user_expressions": []
   },
   "source": [
    ":::{figure} image/placeholder/level-scheme-11c-11b.svg\n",
    ":name: level-scheme-11c-11b\n",
    "\n",
    "Level schemes of the {math}`{}^{11}C` and {math}`{}^{11}B` nuclei. The order and spacing between the levels is well preserved under exchange of the protons and neutrons, with only the {math}`\\frac{7}{2}^{-}` and {math}`\\frac{7}{2}^{-}` states changing in order. The states of the {math}`{}^{11}C` nucleus are observed to have lower energies (are more weakly bound), which follows from the increased long-range Coulomb repulsion between protons.\n",
    ":::"
   ]
  },
  {
   "cell_type": "markdown",
   "id": "0de77692-4e7e-4ff2-b108-8b05b3adadd5",
   "metadata": {
    "user_expressions": []
   },
   "source": [
    "## AMD Predictions of Structures in {math}`{}^{14}C` and {math}`{}^{14}O`"
   ]
  },
  {
   "cell_type": "markdown",
   "id": "141302f9-9a95-4168-b86a-b0f107561268",
   "metadata": {
    "user_expressions": []
   },
   "source": [
    "{ref}`Later in this chapter <experiment>`, an experimental measurement of the structure of {math}`{}^{14}O` is discussed. As the mirror of {math}`{}^{14}O`, {math}`{}^{14}C` is well studied. It therefore serves as a good foil against which to evaluate the performance of the measurement, in addition to the effects of charge-symmetry breaking upon the observed structure of the nucleus. As such, it is of interest to evaluate the landscape of structure predictions concerning these nuclei."
   ]
  },
  {
   "cell_type": "markdown",
   "id": "31721054-ebd2-4b03-bfb0-1991aaa2a5b9",
   "metadata": {
    "tags": [],
    "user_expressions": []
   },
   "source": [
    "One of the earliest conjectures as to the existence of molecular structures in {math}`{}^{14}\\text{C}` was that of a near-threshold isomeric state at ~17.24 MeV given by {cite:authorpars}`von_oertzen_two-center_1996`. This prediction followed from the postulate that bound _multimers_ could be formed by adding helium isotopes to the known beryllium dimer structures, whereby the additional valence neutrons would form covalent bonds between the next two {math}`\\alpha`-particles. An exploration of the relationship between clustering and the deformed harmonic oscillator (DHO) model has been performed by {cite:authorpars}`freer_relationship_1995-2`, demonstrating that spherical harmonic oscillator (SHO) shell-model structure appears within the DHO for integer deformation ratios {math}`\\omega_x : \\omega_y : \\omega_z`. \n",
    "\n",
    ":::{figure} image/placeholder/dho-predicted-structures.png\n",
    ":align: center\n",
    ":name: dho-predicted-structures\n",
    ":width: 400px\n",
    "\n",
    "Energy diagram of shell-model degeneracies for integer deformation ratios in an axially deformed harmonic oscillator. The open circles indicate the shells occupied by valence neutrons, whilst the shaded dots denote the shells occupied by the isospin-degenerate {math}`J_z=0` nucleon pairs that form an {math}`\\alpha`-particle. Figure take from {cite:ps}`von_oertzen_nuclear_2006`.\n",
    ":::\n",
    "\n",
    "Subsequent work has further postulated the existence of a linear chain structure at a {math}`3:1` deformation. In this configuration, three quartets of paired protons and neutrons occupy the leading, degenerate SHO _s_ shells; whilst the two valence neutrons lie on perpendicular orbitals given by the shared {math}`p_\\frac{3}{2}` state (see {numref}`dho-predicted-structures`). This chain is predicted to form a {math}`\\pi`-orbital, which is expected to be the lowest-energy linear chain system.{cite:ps}`von_oertzen_nuclear_2006` See {numref}`pi-sigma-bonds-13c` for the Hückel wave-function amplitudes that correspond to the valence nucleon orbits in {math}`{}^{13}C`.\n",
    "\n",
    ":::{figure} image/placeholder/pi-sigma-bonds-13c.png\n",
    ":align: center\n",
    ":name: pi-sigma-bonds-13c\n",
    ":width: 400px\n",
    "\n",
    "% I *think* all of these are pi bonding, from the text:\n",
    "% > In (a) and (b) the wavefunction comprises linear combinations of [001] singleparticle orbits which give rise to σ -bonding. In all other plots they comprise [100] orbits which generate π -bonds.\n",
    "\n",
    "One-dimensional molecular orbits for cluster states in {math}`{}^{13}\\text{C}`; showing {math}`\\pi`. Note that the number of nodes increases with increasing oscillator quanta. In this 2D projection, the deformation axis lies in parallel to the plane normal. Figure adapted from {cite:ps}`mcewan_characterization_2004-1`.\n",
    ":::\n",
    "\n",
    "By extending the concept of near-threshold states, {cite:authorpars}`von_oertzen_dimers_1997` have predicted two molecular isomers below the ~18.8 MeV {math}`{}^8\\text{Be}+n+\\alpha` threshold: one {math}`pi`-orbit chain, and another _lower_ energy {math}`\\sigma`-orbit chain at 18.1 MeV and 17.4 MeV respectively. The prediction of a lower energy for the latter isomer follows from the stronger binding effect for each valence neutron.{cite:ps}`von_oertzen_dimers_1997`"
   ]
  },
  {
   "cell_type": "markdown",
   "id": "ce490e12-be20-4d19-a7b5-bde038fa505d",
   "metadata": {
    "user_expressions": []
   },
   "source": [
    "- Using molecular-orbital model with GCM, Itagaki et al. predicted the existence of two rotational bands in {math}`{}^{14}C` with {math}`0^+` and {math}`3^-` corresponding to a rigid, oblate, equilateral-triangle structure.\n",
    "\n",
    ":::{admonition} To Do\n",
    ":class: margin\n",
    "\n",
    "How many papers on 14C vs 14O?\n",
    ":::"
   ]
  },
  {
   "cell_type": "markdown",
   "id": "eee9f8c3-329b-4989-b754-b10a0b57b46b",
   "metadata": {},
   "source": [
    "% https://web1.eng.famu.fsu.edu/~dommelen/quantum/style_a/ntiso.html"
   ]
  }
 ],
 "metadata": {
  "kernelspec": {
   "display_name": "Python 3 (ipykernel)",
   "language": "python",
   "name": "python3"
  },
  "language_info": {
   "codemirror_mode": {
    "name": "ipython",
    "version": 3
   },
   "file_extension": ".py",
   "mimetype": "text/x-python",
   "name": "python",
   "nbconvert_exporter": "python",
   "pygments_lexer": "ipython3",
   "version": "3.10.5"
  },
  "widgets": {
   "application/vnd.jupyter.widget-state+json": {
    "state": {},
    "version_major": 2,
    "version_minor": 0
   }
  }
 },
 "nbformat": 4,
 "nbformat_minor": 5
}
