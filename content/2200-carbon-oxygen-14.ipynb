{
 "cells": [
  {
   "cell_type": "markdown",
   "id": "498d021f-0a7b-4c61-9448-b4f14199d303",
   "metadata": {
    "user_expressions": []
   },
   "source": [
    "# {math}`{}^{14}C` and {math}`{}^{14}O` Mirror Nuclei"
   ]
  },
  {
   "cell_type": "markdown",
   "id": "e3ad163b-7a08-461c-9017-22b6bb5482f7",
   "metadata": {},
   "source": [
    "% TODO motivations"
   ]
  },
  {
   "cell_type": "markdown",
   "id": "8839afc8-8826-41f4-8c5f-ae3fa31b2e84",
   "metadata": {
    "tags": [],
    "user_expressions": []
   },
   "source": [
    "## Mirror Nuclei\n",
    "\n",
    "In {ref}`liquid-drop-model`, the semi-empirical mass formula was introduced. Notably, it is only the Coulomb term of {eq}`semi-empirical-mass-formula` that explicitly depends upon a nucleon flavour (the proton). This hints at a symmetry of the strong interaction - that the Hamiltonian is degenerate with respect to nucleon charge. It is not an _exact_ symmetry; the mass of the neutron is slightly greater than that of the proton, and thus the eigenvalues of the strong Hamiltonian are distinct. This difference can be treated as a _perturbation_ of an exact symmetry, called Isospin {math}`I` for its close resemblance of the spin-{math}`\\frac{1}{2}` representation.{cite:ps}`wigner_consequences_1937` In this model, protons and neutrons form eigenstates of the spin-doublet system with {math}`3` projection {math}`I_3 \\pm \\frac{1}{2}`. "
   ]
  },
  {
   "cell_type": "markdown",
   "id": "7a835baa-5010-4a45-9923-08623bc27861",
   "metadata": {
    "tags": [],
    "user_expressions": []
   },
   "source": [
    "There are two interpretations of isospin symmetry:\n",
    "\n",
    "Charge-symmetry\n",
    ": Charge-_symmetry_ holds that the _pp_ interaction is indistinguishable from that of the _nn_ interaction. In terms of the isospin \n",
    "    :::{math}\n",
    "    :label: charge-symmetry\n",
    "    \n",
    "    \\comm{\\hat{H}}{\\exp(\\frac{i\\pi \\hat{I}_i}{\\hbar})} = 0\\,,\n",
    "    :::\n",
    "    where {math}`\\hat{I}_i` is the operator that measures the {math}`i\\neq 3` projection of the isospin {math}`I`, and {math}`\\hat{H}` is the strong Hamiltonian. The {math}`\\exp(\\frac{i\\pi \\hat{I}_i}{\\hbar})` rotation operator negates the {math}`\\hat{I}_3` expectation value.\n",
    "    \n",
    "    % Most of the mass of the proton/neutron comes from strong interaction between quarks. Quarks in p and n have equal mass, so strong interaction Hamiltonian determines "
   ]
  },
  {
   "cell_type": "markdown",
   "id": "5dbca47a-220c-48a6-8c51-9df9d2fa3973",
   "metadata": {
    "user_expressions": []
   },
   "source": [
    "Charge-independence\n",
    ": Charge-_independence_ holds that the _pp_, _nn_, and _pn_ interactions are indistinguishable, i.e.\n",
    "    :::{math}\n",
    "    :label: charge-independence\n",
    "    \n",
    "    \\comm{\\hat{H}}{\\exp(\\frac{i \\theta \\hat{I}_i}{\\hbar})} = 0\\,,\n",
    "    :::\n",
    "    where {math}`\\theta` is an arbitrary rotation in isospin space. It is therefore a stronger statement of charge-_symmetry_. The eigenstates correspond to a set of _isobaric_ nuclei; nuclei with the same total number of nucleons."
   ]
  },
  {
   "cell_type": "markdown",
   "id": "6068260b-9285-4512-ac92-261d83b2d072",
   "metadata": {
    "tags": [],
    "user_expressions": []
   },
   "source": [
    "% Rotations about I2 and I1 correspond to shifts in I3 projection (need to show this mathematically). I2 can be formed from ladder operators (identity L+- = L1 +- iL2 (?)), so there is *some* clear relation.\n",
    "As implied from the construction of {eq}`semi-empirical-mass-formula`, there is good evidence from measurements of nucleon-nucleon scattering lengths that the strong interaction is approximately charge-symmetric.{cite:ps}`machleidt_high-precision_2001` These same data indicate a stronger degree of charge-independence breaking, suggested by a larger (absolute) value for the _pn_ scattering length. It follows that _mirror_ nuclei, nuclei with exchanged proton and neutron numbers such as {math}`{ }^{11} \\mathrm{C}` and {math}`{ }^{11} \\mathrm{B}`, or {math}`{ }^{14} \\mathrm{O}` and {math}`{ }^{14} \\mathrm{C}`, should exhibit similar structures subject to modulation by the Coulomb interaction. \n",
    "\n",
    "The level schemes for a pair of mirror nuclei are shown in {numref}`level-scheme-11c-11b`. It is clear that the two nuclei posses very similar structures; the ordering between levels is closely matched, with a general decrease in excitation energy associated with the addition long-range spin-independent Coulomb potential seen in {math}`{}^{11}B`. For this reason, mirror nuclei can serve as useful tools for probing the structure of hard-to-measure nuclei, and elucidating the role of valence nucleons in stabilising deformed structures."
   ]
  },
  {
   "cell_type": "markdown",
   "id": "d9fe35d0-b8c7-4597-a600-cd3849b17ada",
   "metadata": {
    "user_expressions": []
   },
   "source": [
    ":::{figure} image/placeholder/level-scheme-11c-11b.svg\n",
    ":name: level-scheme-11c-11b\n",
    "\n",
    "Level schemes of the {math}`{}^{11}C` and {math}`{}^{11}B` nuclei. The order and spacing between the levels is well preserved under exchange of the protons and neutrons, with only the {math}`\\frac{7}{2}^{-}` and {math}`\\frac{7}{2}^{-}` states changing in order. The states of the {math}`{}^{11}C` nucleus are observed to have lower energies (are more weakly bound), which follows from the increased long-range Coulomb repulsion between protons.\n",
    ":::"
   ]
  },
  {
   "cell_type": "markdown",
   "id": "0de77692-4e7e-4ff2-b108-8b05b3adadd5",
   "metadata": {
    "user_expressions": []
   },
   "source": [
    "## Predicted Structures in {math}`{}^{14}C` and {math}`{}^{14}O`"
   ]
  },
  {
   "cell_type": "markdown",
   "id": "141302f9-9a95-4168-b86a-b0f107561268",
   "metadata": {
    "user_expressions": []
   },
   "source": [
    "{ref}`Later in this chapter <experiment>`, an experimental measurement of the structure of {math}`{}^{14}O` is discussed. As the mirror of {math}`{}^{14}O`, {math}`{}^{14}C` is well studied. It therefore serves as a good foil against which to evaluate the performance of the measurement, in addition to the effects of charge-symmetry breaking upon the observed structure of the nucleus. As such, it is of interest to evaluate the landscape of structure predictions concerning these nuclei.\n",
    "\n",
    ":::{figure} image/placeholder/a-14-isobar-levels.png\n",
    ":align: center\n",
    ":name: a-14-isobar-levels\n",
    ":width: 400px\n",
    "\n",
    "Lower energy levels of {math}`A=14` isobars, with adjusted energies relative to {math}`{}^{14}\\mathrm{N}`. Levels in {math}`{}^{14}\\mathrm{C}` and {math}`{}^{14}\\mathrm{O}` have {math}`T=1`, whilst those in {math}`{}^{14}\\mathrm{N}` have {math}`T=0` apart from those levels in common with the other members of the isobar. Figure taken from {cite:ps}`krane_introductory_1987`.\n",
    ":::"
   ]
  },
  {
   "cell_type": "markdown",
   "id": "fbeb4f52-c8f8-4b30-938c-edf07c2ea052",
   "metadata": {
    "user_expressions": []
   },
   "source": [
    "\n",
    "An exploration of the relationship between clustering and the deformed harmonic oscillator (DHO) model has been performed by {cite:authorpars}`freer_relationship_1995-2`, demonstrating that spherical harmonic oscillator (SHO) shell-model structure appears within the DHO for integer deformation ratios ({math}`\\omega_x : \\omega_y : \\omega_z\\,,\\omega_i\\in\\mathcal{Z}`). The symmetries observed in these integral deformation ratios suggest that the deformed potential may instead be expressed in term of overlapping spherical oscillators. This provides a lens through which clustered structures may be understood as multi-centre spherical potentials. Subsequent work has applied this concept to propose the existence of a linear chain structure at a {math}`3:1` deformation. In this configuration, three quartets of paired protons and neutrons occupy the leading, degenerate SHO _s_ shells; whilst the two valence neutrons lie on perpendicular orbitals given by the shared {math}`p_\\frac{3}{2}` state (see {numref}`dho-predicted-structures`). This chain is predicted to form a {math}`\\pi`-orbital, which the DHO model associated with the lowest-energy linear chain system by minimising the axial deformation.{cite:ps}`von_oertzen_nuclear_2006` See {numref}`pi-sigma-bonds-13c` for the Hückel wave-function amplitudes that correspond to the valence nucleon orbits in {math}`{}^{13}C`.\n",
    "\n",
    ":::{figure} image/placeholder/dho-predicted-structures.png\n",
    ":align: center\n",
    ":name: dho-predicted-structures\n",
    ":width: 400px\n",
    "\n",
    "Energy diagram of shell-model degeneracies for integer deformation ratios in an axially deformed harmonic oscillator. The open circles indicate the shells occupied by valence neutrons, whilst the shaded dots denote the shells occupied by the isospin-degenerate {math}`J_z=0` nucleon pairs that form an {math}`\\alpha`-particle. Figure taken from {cite:ps}`von_oertzen_nuclear_2006`.\n",
    ":::\n",
    "\n",
    "% I *think* all of these are pi bonding, from the text:\n",
    "% > In (a) and (b) the wavefunction comprises linear combinations of [001] singleparticle orbits which give rise to σ -bonding. In all other plots they comprise [100] orbits which generate π -bonds.\n",
    "% This is *only* in huckel\n",
    "\n",
    ":::{figure} image/placeholder/pi-sigma-bonds-13c.png\n",
    ":align: center\n",
    ":name: pi-sigma-bonds-13c\n",
    ":width: 400px\n",
    "\n",
    "One-dimensional molecular orbits for cluster states in {math}`{}^{13}\\mathrm{C}`; showing {math}`\\pi`. Note that the number of nodes {math}`[n_1 n_2 n_3]` increases with increasing oscillator quanta. In this 2D projection, the deformation axis lies in parallel to the plane normal. Figure adapted from {cite:ps}`mcewan_characterization_2004`.\n",
    ":::"
   ]
  },
  {
   "cell_type": "markdown",
   "id": "26c908c0-be82-4f95-9b4b-8d5e1747ccfe",
   "metadata": {
    "tags": [],
    "user_expressions": []
   },
   "source": [
    ":::{note}\n",
    ":class: margin\n",
    "\n",
    "The term \"multimer\" refers to units of protein molecules comprised of two or more polypeptide chains. A \"dimer\" is a two-unit molecule.\n",
    ":::\n",
    "\n",
    "One of the earliest conjectures as to the existence of molecular structures in {math}`{}^{14}\\text{C}` was that of a near-threshold {math}`{}^{9}\\mathrm{Be} + {}^{5}\\mathrm{He}` isomeric state at ~17.24 MeV given by {cite:authorpars}`von_oertzen_two-center_1996` (see (x) in {numref}`states-in-carbon-oertzen`). This prediction followed from the postulate that bound _multimers_ could be formed by adding helium isotopes to the known beryllium dimer structures, whereby the additional valence neutrons would form covalent bonds between the next two {math}`\\alpha`-particles. \n",
    "\n",
    "\n",
    ":::{figure} image/states-in-carbon-oertzen.png\n",
    ":align: center\n",
    ":name: states-in-carbon-oertzen\n",
    ":width: 400px\n",
    "\n",
    "Energy diagrams of molecular chain states in carbon isotopes, adapted from {cite:ps}`von_oertzen_dimers_1997`. The predicted configurations for {math}`{}^{14}\\mathrm{C}` are shown in the blue box.\n",
    "\n",
    ":::\n",
    "\n",
    "Extending the concept of near-threshold states, {cite:authorpars}`von_oertzen_dimers_1997` further anticipate resonances in the {math}`{}^{10}\\mathrm{Be}^* + {}^{4}\\alpha` system at 18 MeV. These resonances lie, below the ~18.8 MeV {math}`{}^8\\mathrm{Be}+n+\\alpha` threshold, due to the covalent binding of the valence neutrons.{cite:ps}`von_oertzen_nuclear_2006` It was predicted that a series of four states would arise from the group of states at 6 MeV in {math}`{}^{10}Be^*` with spins {math}`0^+`, {math}`2^+`, {math}`1^-`, and {math}`2^+`. The {math}`\\sigma`-orbit configuration, with valence nucleons distributed equally among the alpha particles (see (x) in {numref}`states-in-carbon-oertzen`), is expected to be found at lower energies than the asymmetric {math}`\\pi`-orbit configuration due to the stronger binding effect of each valence neutron. It is also anticipated to form a rotational band of {math}`0^+`, {math}`2^+`, and {math}`4^+`.{cite:ps}`von_oertzen_dimers_1997`\n",
    "\n",
    "The prolate linear-chain structures described above have two deformation modes, shown in {numref}`linear-chain-modes`. In the alpha-conjugate nucleus {math}`{}^{12}\\mathrm{C}`, there is an absence of experimental evidence for pure linear chain structures, indicating that it is unstable with respect to these bending and breathing modes. Meanwhile, the valence neutrons are conjectured to stabilise the molecular chain structures described above. \n",
    "{cite:authorpars}`itagaki_molecular-orbital_2001-1` have applied the Molecular Orbital model, discussed briefly in {ref}`content:nuclear-molecules`, to predict the behaviour of these conjected structures. The orbitals that are obtained by this method are classified in terms of their angular momentum projection and parity, {math}`K^\\pi`.\n",
    "\n",
    "- L is of _orbital_. Intrinsic \n",
    "\n",
    "\n",
    "Calculations of {math}`{}^{14}\\mathrm{C}` for the given configurations identify minima in the energy curve with respect to molecular center separation; the {math}`{}^{14}\\mathrm{C}\\pqty{\\frac{3}{2}^-_\\pi}^2` configuration appears minimal at an excitation energy of ~18 MeV, whilst the {math}`{}^{14}\\mathrm{C}\\pqty{\\frac{1}{2}^-_\\sigma}^2` configuration has a minimum at ~32 MeV.\n",
    "\n",
    ":::{figure} image/linear-chain-modes.png\n",
    ":align: center\n",
    ":name: linear-chain-modes\n",
    ":width: 300px\n",
    "\n",
    "Schematic illustration of the deformation modes of linear-chain states. (a) shows the _breathing_ mode in which the center-separation {math}`d` varies, whilst (b) depicts the _bending_ mode that depends upon the bending angle {math}`\\theta`. Figure taken from {cite:ps}`itagaki_molecular-orbital_2001-1`.\n",
    ":::"
   ]
  },
  {
   "cell_type": "code",
   "execution_count": null,
   "id": "50621229-dea8-4d4a-aae8-48f644c63cb5",
   "metadata": {},
   "outputs": [],
   "source": []
  },
  {
   "cell_type": "markdown",
   "id": "a8e1eb79-b5a9-4736-9344-02111ef6ac5f",
   "metadata": {
    "user_expressions": []
   },
   "source": [
    "\n",
    ":::{admonition} To Do\n",
    ":class: margin\n",
    "\n",
    "- Using molecular-orbital model with GCM, Itagaki et al. predicted the existence of two rotational bands in {math}`{}^{14}C` with {math}`0^+` and {math}`3^-` corresponding to a rigid, oblate, equilateral-triangle structure.\n",
    "\n",
    "How many papers on 14C vs 14O?\n",
    ":::\n",
    "\n",
    "% https://web1.eng.famu.fsu.edu/~dommelen/quantum/style_a/ntiso.html"
   ]
  },
  {
   "cell_type": "markdown",
   "id": "fa6b838d-ed4e-427c-a325-6b530389621a",
   "metadata": {
    "user_expressions": [
     {
      "expression": "f\"{2424.92 + 15698.67 - 8007.78:.2f}\"",
      "result": {
       "data": {
        "text/plain": "'10115.81'"
       },
       "metadata": {},
       "status": "ok"
      }
     }
    ]
   },
   "source": [
    "For reactions that proceed via the alpha channel, we can calculate the Q value from the mass excesses (see {numref}`mass-excess`) as {eval}`f\"{2424.92 + 15698.67 - 8007.78:.2f}\"` keV.\n",
    "\n",
    ":::{list-table} Mass excesses for the {math}`{}^4\\mathrm{He}+{}^{10}\\mathrm{C} \\rightarrow {}^{14}\\mathrm{O}` reaction.\n",
    ":header-rows: 1\n",
    ":name: mass-excess\n",
    "\n",
    "* - Isotope\n",
    "  - Mass excess (keV)\n",
    "* - {math}`{}^4\\mathrm{He}`\n",
    "  - 2424.92\n",
    "* - {math}`{}^{10}\\mathrm{C}`\n",
    "  - 15698.67\n",
    "* - {math}`{}^{14}\\mathrm{O}`\n",
    "  - 8007.78\n",
    ":::\n",
    "\n"
   ]
  },
  {
   "cell_type": "code",
   "execution_count": 23,
   "id": "b9696671-dab3-4538-b977-078b0accd142",
   "metadata": {
    "tags": [
     "hide-cell"
    ]
   },
   "outputs": [],
   "source": [
    "from texat.units import units as u\n",
    "\n",
    "z_a = 6\n",
    "z_b = 2\n",
    "r_a = 10 ** (1 / 3) * r_0\n",
    "r_b = 4 ** (1 / 3) * r_0\n",
    "\n",
    "r_0 = u.Quantity(1.2, \"fm\")\n",
    "v_c = u.Quantity(\"e^2 / (4*π*ε_0)\") * (z_a * z_b) / (r_a + r_b)"
   ]
  },
  {
   "cell_type": "markdown",
   "id": "a79d010d-7314-43b4-9a53-c8efeda6e028",
   "metadata": {
    "tags": [],
    "user_expressions": [
     {
      "expression": "f\"{v_c.to('MeV'):.2f~}\"",
      "result": {
       "data": {
        "text/plain": "'3.85 MeV'"
       },
       "metadata": {},
       "status": "ok"
      }
     }
    ]
   },
   "source": [
    "The Coulomb barrier between the {math}`{}^4\\mathrm{He}` and the {math}`{}^{10}\\mathrm{C}` nuclei is given by\n",
    "\n",
    ":::{math}\n",
    "V_C=\\frac{e^2}{4 \\pi \\varepsilon_0} \\frac{Z_a Z_b}{R_a+R_b}\n",
    ":::\n",
    "\n",
    "to be {eval}`f\"{v_c.to('MeV'):.2f~}\"`."
   ]
  }
 ],
 "metadata": {
  "kernelspec": {
   "display_name": "Python 3 (ipykernel)",
   "language": "python",
   "name": "python3"
  },
  "language_info": {
   "codemirror_mode": {
    "name": "ipython",
    "version": 3
   },
   "file_extension": ".py",
   "mimetype": "text/x-python",
   "name": "python",
   "nbconvert_exporter": "python",
   "pygments_lexer": "ipython3",
   "version": "3.10.6"
  },
  "widgets": {
   "application/vnd.jupyter.widget-state+json": {
    "state": {},
    "version_major": 2,
    "version_minor": 0
   }
  }
 },
 "nbformat": 4,
 "nbformat_minor": 5
}
