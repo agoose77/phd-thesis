{
 "cells": [
  {
   "cell_type": "markdown",
   "id": "498d021f-0a7b-4c61-9448-b4f14199d303",
   "metadata": {
    "user_expressions": []
   },
   "source": [
    "# {math}`{}^{14}C` and {math}`{}^{14}O` Mirror Nuclei"
   ]
  },
  {
   "cell_type": "markdown",
   "id": "f997a7db-241b-4f80-9a04-2fc7b23450f5",
   "metadata": {
    "user_expressions": []
   },
   "source": [
    "## Mirror Nuclei\n",
    "\n",
    "\n",
    "First described in 1935, the Semi Empirical Mass Formula (SEMF) is an approximation for the ground-state binding energy of a nucleus according to its proton and neutron numbers.{cite:ps}`weizsacker_zur_1935` Inspired by the liquid drop model, which considers the nucleus as a drop of incompressible fluid, it comprises of several theoretically-motivated terms:\n",
    "\n",
    ":::{math}\n",
    ":label: semi-empirical-mass-formula\n",
    "\n",
    "E_B = \\underbrace{a_VA}_{\\text{volume}} - \\underbrace{a_SA^{\\frac{2}{3}}}_{\\text{surface}} - \\underbrace{a_C\\frac{Z(Z-1)}{A^{\\frac{1}{3}}}}_{\\text{coulomb}} - \\underbrace{a_A\\frac{(N-Z)^2}{A}}_{\\text{asymmetry}} + \\underbrace{\\delta(N, Z)}_{\\text{pairing}}\n",
    ":::\n",
    "\n",
    "Volume energy\n",
    ": The attractive-repulsive potential of the strong force. The short effective range of the strong interaction means that it is effectively constrained to a constant number of neighbours.\n",
    "\n",
    "Surface energy\n",
    ": A corrective term to account for nucleons at the surface of the nucleus, which have fewer neighbours than those at the centre of the drop.\n",
    "\n",
    "Coulomb energy\n",
    ": Coulombic repulsion between positively charged protons reduces the binding energy.\n",
    "\n",
    "Asymmetry energy\n",
    ": Given the Paul exclusion principle, nuclei of {math}`N = Z` should have higher binding energies than those for which {math}`N \\neq Z`. \n",
    "\n",
    "Pairing energy\n",
    ": Identical nucleons with anti-aligned spins in the same spatial state have maximal wavefunction overlap, and correspondingly an enhanced binding energy."
   ]
  },
  {
   "cell_type": "markdown",
   "id": "a612265b-63f3-404f-a804-f0fa700a5239",
   "metadata": {
    "user_expressions": []
   },
   "source": [
    "Notably, it is only the Coulomb term that explicitly depends upon a nucleon flavour (the proton). This hints at a symmetry of the strong interaction - that the Hamiltonian is degenerate with respect to nucleon charge. It is not an _exact_ symmetry; the mass of the neutron is slightly greater than that of the proton, and thus the eigenvalues of the strong Hamiltonian are distinct. This difference can be treated as a _perturbation_ of an exact symmetry, called Isospin {math}`I` for its close resemblance of the spin-{math}`\\frac{1}{2}` representation.{cite:ps}`wigner_consequences_1937` In this model, protons and neutrons form eigenstates of the spin-doublet system with {math}`3` projection {math}`I_3 \\pm \\frac{1}{2}`. "
   ]
  },
  {
   "cell_type": "markdown",
   "id": "7a835baa-5010-4a45-9923-08623bc27861",
   "metadata": {
    "tags": [],
    "user_expressions": []
   },
   "source": [
    "There are two interpretations of isospin symmetry:\n",
    "\n",
    "Charge-symmetry\n",
    ": Charge-_symmetry_ holds that the _pp_ interaction is indistinguishable from that of the _nn_ interaction. In terms of the isospin \n",
    "    :::{math}\n",
    "    :label: charge-symmetry\n",
    "    \n",
    "    \\comm{\\hat{H}}{\\exp(\\frac{i\\pi \\hat{I}_i}{\\hbar})} = 0\\,,\n",
    "    :::\n",
    "    where {math}`\\hat{I}_i` is the operator that measures the {math}`i\\neq 3` projection of the isospin {math}`I`, and {math}`\\hat{H}` is the strong Hamiltonian. The {math}`\\exp(\\frac{i\\pi \\hat{I}_i}{\\hbar})` rotation operator negates the {math}`\\hat{I}_3` expectation value.\n",
    "    \n",
    "    % Most of the mass of the proton/neutron comes from strong interaction between quarks. Quarks in p and n have equal mass, so strong interaction Hamiltonian determines "
   ]
  },
  {
   "cell_type": "markdown",
   "id": "5dbca47a-220c-48a6-8c51-9df9d2fa3973",
   "metadata": {
    "user_expressions": []
   },
   "source": [
    "Charge-independence\n",
    ": Charge-_independence_ holds that the _pp_, _nn_, and _pn_ interactions are indistinguishable, i.e.\n",
    "    :::{math}\n",
    "    :label: charge-independence\n",
    "    \n",
    "    \\comm{\\hat{H}}{\\exp(\\frac{i \\theta \\hat{I}_i}{\\hbar})} = 0\\,,\n",
    "    :::\n",
    "    where {math}`\\theta` is an arbitrary rotation in isospin space. It is therefore a stronger statement of charge-_symmetry_. The eigenstates correspond to a set of _isobaric_ nuclei; nuclei with the same total number of nucleons."
   ]
  },
  {
   "cell_type": "markdown",
   "id": "6068260b-9285-4512-ac92-261d83b2d072",
   "metadata": {
    "tags": [],
    "user_expressions": []
   },
   "source": [
    "% Rotations about I2 and I1 correspond to shifts in I3 projection (need to show this mathematically). I2 can be formed from ladder operators (identity L+- = L1 +- iL2 (?)), so there is *some* clear relation.\n",
    "As implied from the construction of {eq}`semi-empirical-mass-formula`, there is good evidence from measurements of nucleon-nucleon scattering lengths that the strong interaction is approximately charge-symmetric.{cite:ps}`machleidt_high-precision_2001` These same data indicate a stronger degree of charge-independence breaking, suggested by a larger (absolute) value for the _pn_ scattering length. It follows that _mirror_ nuclei, nuclei with exchanged proton and neutron numbers such as {math}`{ }^{11} \\mathrm{C}` and {math}`{ }^{11} \\mathrm{B}`, or {math}`{ }^{14} \\mathrm{O}` and {math}`{ }^{14} \\mathrm{C}`, should exhibit similar structures subject to modulation by the Coulomb interaction. \n",
    "\n",
    "The level schemes for a pair of mirror nuclei are shown in {numref}`level-scheme-11c-11b`. It is clear that the two nuclei posses very similar structures; the ordering between levels is closely matched, with a general decrease in excitation energy associated with the addition long-range spin-independent Coulomb potential seen in {math}`{}^{11}B`."
   ]
  },
  {
   "cell_type": "markdown",
   "id": "d9fe35d0-b8c7-4597-a600-cd3849b17ada",
   "metadata": {
    "user_expressions": []
   },
   "source": [
    ":::{figure} image/placeholder/level-scheme-11c-11b.svg\n",
    ":name: level-scheme-11c-11b\n",
    "\n",
    "Level schemes of the {math}`{}^{11}C` and {math}`{}^{11}B` nuclei. The order and spacing between the levels is well preserved under exchange of the protons and neutrons, with only the {math}`\\frac{7}{2}^{-}` and {math}`\\frac{7}{2}^{-}` states changing in order. The states of the {math}`{}^{11}C` nucleus are observed to have lower energies (are more weakly bound), which follows from the increased long-range Coulomb repulsion between protons.\n",
    ":::"
   ]
  },
  {
   "cell_type": "markdown",
   "id": "0de77692-4e7e-4ff2-b108-8b05b3adadd5",
   "metadata": {
    "user_expressions": []
   },
   "source": [
    "## AMD Predictions of Structures in {math}`{}^{14}C` and {math}`{}^{14}O`"
   ]
  },
  {
   "cell_type": "markdown",
   "id": "141302f9-9a95-4168-b86a-b0f107561268",
   "metadata": {
    "user_expressions": []
   },
   "source": [
    "{ref}`Later in this chapter <experiment>`, an experimental measurement of the structure of {math}`{}^{14}O` is discussed. The mirror of {math}`{}^{14}O`, {math}`{}^{14}C`, is well studied. It therefore serves as a good foil against which to evaluate the performance of the measurement, in addition to the effects of charge-symmetry breaking upon the observed structure of the nucleus. As such, it is of interest to evaluate the landscape of structure predictions concerning these nuclei."
   ]
  },
  {
   "cell_type": "markdown",
   "id": "ce490e12-be20-4d19-a7b5-bde038fa505d",
   "metadata": {
    "user_expressions": []
   },
   "source": [
    "- Using molecular-orbital model with GCM, Itagaki et al. predicted the existence of two rotational bands in {math}`{}^{14}C` with {math}`0^+` and {math}`3^-` correspoding to a rigid, oblate, equilateral-triangle structure.\n",
    "\n",
    ":::{admonition} To Do\n",
    "\n",
    "How many papers on 14C vs 14O?\n",
    ":::"
   ]
  },
  {
   "cell_type": "markdown",
   "id": "eee9f8c3-329b-4989-b754-b10a0b57b46b",
   "metadata": {},
   "source": [
    "% https://web1.eng.famu.fsu.edu/~dommelen/quantum/style_a/ntiso.html"
   ]
  },
  {
   "cell_type": "code",
   "execution_count": null,
   "id": "c6c7931f-074c-4ca0-bb1d-7dec63a0ea91",
   "metadata": {},
   "outputs": [],
   "source": []
  }
 ],
 "metadata": {
  "kernelspec": {
   "display_name": "Python 3 (ipykernel)",
   "language": "python",
   "name": "python3"
  },
  "language_info": {
   "codemirror_mode": {
    "name": "ipython",
    "version": 3
   },
   "file_extension": ".py",
   "mimetype": "text/x-python",
   "name": "python",
   "nbconvert_exporter": "python",
   "pygments_lexer": "ipython3",
   "version": "3.10.5"
  },
  "widgets": {
   "application/vnd.jupyter.widget-state+json": {
    "state": {},
    "version_major": 2,
    "version_minor": 0
   }
  }
 },
 "nbformat": 4,
 "nbformat_minor": 5
}
