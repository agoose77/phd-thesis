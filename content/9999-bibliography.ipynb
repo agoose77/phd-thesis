{
 "cells": [
  {
   "cell_type": "markdown",
   "id": "dde1ae06-0552-42c0-bece-75d37b4f4573",
   "metadata": {
    "user_expressions": []
   },
   "source": [
    "# Bibliography\n",
    "\n",
    ":::{note} TODO\n",
    "Look into https://bitbucket.org/pybtex-devs/pybtex/src/master/pybtex/style/formatting/unsrt.py\n",
    ":::\n",
    "\n",
    "```{bibliography}\n",
    ":style: unsrt\n",
    "```"
   ]
  }
 ],
 "metadata": {
  "kernelspec": {
   "display_name": "Python 3 (ipykernel)",
   "language": "python",
   "name": "python3"
  },
  "language_info": {
   "codemirror_mode": {
    "name": "ipython",
    "version": 3
   },
   "file_extension": ".py",
   "mimetype": "text/x-python",
   "name": "python",
   "nbconvert_exporter": "python",
   "pygments_lexer": "ipython3",
   "version": "3.10.4"
  }
 },
 "nbformat": 4,
 "nbformat_minor": 5
}
