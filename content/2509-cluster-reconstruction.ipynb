{
 "cells": [
  {
   "cell_type": "code",
   "execution_count": null,
   "id": "aa44266c-9e86-460c-a8df-30c68cb6efc4",
   "metadata": {},
   "outputs": [],
   "source": [
    "import k3d\n",
    "import k3d.platonic\n",
    "import numpy as np\n",
    "from matplotlib import pyplot as plt"
   ]
  },
  {
   "cell_type": "markdown",
   "id": "4a712c74-97b0-42c3-9f83-9b43dedb6dd9",
   "metadata": {
    "tags": [
     "hide-cell"
    ],
    "user_expressions": []
   },
   "source": [
    "# Cluster Reconstruction"
   ]
  },
  {
   "cell_type": "markdown",
   "id": "26e69270-605e-4f4a-ac8c-6be774531138",
   "metadata": {
    "user_expressions": []
   },
   "source": [
    "As outlined in </TODO>, the MicroMeGaS anode is highly segmented to give good position resolution measurements of the charge clusters produced by ionisation. In order to reconstruct the track trajectories in 3D, it is necessary to determine the initial height of the charge cluster. Given that the MicroMeGaS waveforms are energy-time signals, the height coordinate can be derived from the drift time, given by the locus of the peak in the measured waveform, and the drift velocity (see {ref}`gas-simulation`).\n",
    "    \n",
    "## Central Region\n",
    "Within the central \"pads\" region, the anode position of a waveform is uniquely determined by the channel from which it was measured. \n",
    "    \n",
    ":::{admonition} To Do\n",
    "Generate a figure that demonstrates this visually.    \n",
    ":::\n",
    " "
   ]
  },
  {
   "cell_type": "markdown",
   "id": "9a4709f9-015c-4b8d-9ce5-848ab04cc6ab",
   "metadata": {
    "user_expressions": []
   },
   "source": [
    "## Side Region\n",
    "Meanwhile, for the multiplexing side regions, only _one_ coordinate is uniquely defined: the column for the _chains_, and the row for the _strips_. In order to localise a waveform in these regions, _another_ waveform must be recorded in the complementary family (strip-chain or chain-strip) of channels such that _both_ coordinates are uniquely determined.\n",
    "    \n",
    "The set of valid positions {math}`P` defined for the side regions is naively given by the Cartesian product of the strips {math}`S` and chains {math}`C`, i.e."
   ]
  },
  {
   "cell_type": "markdown",
   "id": "edb67c19-5d9b-4129-b251-837d2fe43d16",
   "metadata": {
    "user_expressions": []
   },
   "source": [
    ":::{math}\n",
    ":label: set-of-strip-chain-positions\n",
    "    \n",
    "P = S \\times C\\,.\n",
    ":::"
   ]
  },
  {
   "cell_type": "markdown",
   "id": "57d2bf43-2e95-44b7-bdf9-6c36ee790899",
   "metadata": {
    "user_expressions": []
   },
   "source": [
    "Among these ordered pairs, only a small subset {math}`P_\\text{valid}` provides a reasonable interpretation of the observed ion path in the detector. In order to identify this subset, an additional discriminator is required. \n",
    "\n",
    "For tracks with a significant inclination to the drift plane, we can use the drift _time_  to order strip-chain pairings by their vertical separation. In the extreme case of a track that lies along the drift axis, the drift time is an exact proxy for the position of the charge distribution along the track. It follows that for some deviation from this ideal case, taking the strip-chain pairs with the smallest time difference will yield a reasonable set of charge clusters.\n",
    "\n",
    "Meanwhile, the charge distributions formed along a track have a non-zero width and relative position to the average track direction; the electrons liberated by scattering of the incident ion arrest over a finite distance within the gas. There is therefore a _minimum_ time-separation below which a \"reasonable set\" of pair can not be discriminated from those which arise from random correlations. In the extreme case, a track that lies exactly within the drift plane will yield strip-chain pairs that are entirely separated in time by the uncertainty on the cluster position, and this method cannot be used.\n",
    "\n",
    "To discern the range over which time-separation holds as a valuable reconstruction method, consider a track with the gradient {math}`\\dv{z}{s}` at 45° to the element stacking axis, where _element_ refers to a strip or chain.\n",
    "Any two elements (strip-strip or chain-chain) are separated by a fixed spacing {math}`\\delta s`. The separation between an adjacent hit on a strip-chain pair is therefore {math}`\\sqrt{2\\left(\\delta s\\right)^2}`. The change in height between the members of the pair consequently given by {math}`\\delta z = \\dv{z}{s}\\cdot\\sqrt{2}\\delta s`. For some intrinsic width $\\sigma$ of the charge distribution about the track, it follows that the resolving limit is\n",
    ":::{math}\n",
    ":label: time-resolving-limit\n",
    "\n",
    "\\dv{z}{s} \\geq \\frac{\\sigma}{\\sqrt{2}\\delta s}\n",
    ":::"
   ]
  },
  {
   "cell_type": "markdown",
   "id": "e88569d0-cabd-46fe-a11c-4d81942b7424",
   "metadata": {
    "user_expressions": []
   },
   "source": [
    ":::{admonition} To Do\n",
    "   \n",
    "Do a better job of explaining how the mechanism of charge formation implies a minimum resolution.\n",
    ":::\n",
    "    "
   ]
  },
  {
   "cell_type": "code",
   "execution_count": 74,
   "id": "db1a5dc9-610a-402a-863e-04940841e358",
   "metadata": {
    "mystnb": {
     "figure": {
      "caption": "A 3D diagram of the strip-chain pairing procedure. The electrical contacts that comprise the MicroMeGaS anode are represented with a plane of opaque quadrilaterals. The shaded volume above these contacts indicates the measured _drift time_ of the charge cluster incident upon the element (strip/chain). The volume above the contact upon which the current signal is induced is shaded opaque, whilst the remaining (electrically connected) contacts are rendered partially transparent. It can be seen that the pairs with the closest drift times correspond to the elements over which the track passes.",
      "name": "strip-chain-procedure-inclined"
     },
     "image": {
      "align": "center",
      "width": "512"
     }
    },
    "tags": [
     "hide-input"
    ]
   },
   "outputs": [
    {
     "data": {
      "application/vnd.jupyter.widget-view+json": {
       "model_id": "8be3239e276743b1a64d0327177e82fe",
       "version_major": 2,
       "version_minor": 0
      },
      "text/plain": [
       "Plot(antialias=3, axes=['x', 'y', 'z'], axes_helper=1.0, background_color=16777215, camera_animation=[], camer…"
      ]
     },
     "metadata": {},
     "output_type": "display_data"
    }
   ],
   "source": [
    "def hex_to_int(color):\n",
    "    return int(color.replace(\"#\", \"0x\"), base=16)\n",
    "\n",
    "\n",
    "colors = [hex_to_int(c) for c in plt.rcParams[\"axes.prop_cycle\"].by_key()[\"color\"]]\n",
    "\n",
    "# Track parameters\n",
    "track_rel_dest_inclined = np.array(\n",
    "    [9, 9, 9],\n",
    ").astype(np.float32)\n",
    "track_rel_dest_flat = np.array(\n",
    "    [9, 9, 0],\n",
    ").astype(np.float32)\n",
    "track_origin = np.array([0, 0, 2]).astype(np.float32)\n",
    "\n",
    "label_box = False\n",
    "mode = \"dynamic\"\n",
    "\n",
    "regions = []\n",
    "for track_rel_dest in (track_rel_dest_inclined, track_rel_dest_flat):\n",
    "    track_normal = track_rel_dest / np.linalg.norm(track_rel_dest)\n",
    "\n",
    "    figure = k3d.plot()\n",
    "\n",
    "    vertex_square, index_square = k3d.helpers.quad(1, 1)\n",
    "    vertex_square = vertex_square.reshape(-1, 3)\n",
    "    dz_dx = dz_dy = track_normal[2] / track_normal[1]\n",
    "\n",
    "    # Chains\n",
    "    for j in range(6):\n",
    "        for dx, k in [(0.0, 0), (8.0, 4)]:\n",
    "            # Anode\n",
    "            figure += k3d.mesh(\n",
    "                (vertex_square + np.array([dx, j * 2, 0], dtype=np.float32)),\n",
    "                index_square,\n",
    "                color=colors[0],\n",
    "            )\n",
    "\n",
    "            # Volume\n",
    "            height = track_origin[2] + dz_dx * dx\n",
    "            mesh = k3d.platonic.Cube(origin=(dx, j * 2, 0.5), size=0.5).mesh\n",
    "            mesh.transform.scaling = (1, 1, height)\n",
    "            mesh.opacity = 1 if j == k else 0.1\n",
    "            mesh.color = colors[0]\n",
    "            figure += mesh\n",
    "\n",
    "    # Strips\n",
    "    for j in range(-1, 10):\n",
    "        for dy, k in [(1.0, 1), (9.0, 9)]:\n",
    "            figure += k3d.mesh(\n",
    "                (track_rel_dest + np.array([j - 1, dy, 0], dtype=np.float32)),\n",
    "                index_square,\n",
    "                color=colors[1],\n",
    "            )\n",
    "\n",
    "            height = track_origin[2] + dz_dy * dy\n",
    "            mesh = k3d.platonic.Cube(origin=(j, dy, 0.5), size=0.5).mesh\n",
    "            mesh.transform.scaling = (1, 1, height)\n",
    "            mesh.opacity = 1 if j == k else 0.1\n",
    "            mesh.color = colors[1]\n",
    "            figure += mesh\n",
    "\n",
    "    figure += k3d.vectors(\n",
    "        track_origin,\n",
    "        track_rel_dest,\n",
    "        labels=[\"Track\"],\n",
    "        head_size=10,\n",
    "        line_width=0.2,\n",
    "        color=colors[2],\n",
    "    )\n",
    "    figure += k3d.label(\n",
    "        \"Strip\", position=(9, 1, 0), label_box=False, mode=\"dynamic\", color=colors[1]\n",
    "    )\n",
    "    figure += k3d.label(\n",
    "        \"Chain\", position=(0, 0, 0), label_box=False, mode=\"dynamic\", color=colors[0]\n",
    "    )\n",
    "    figure += k3d.text(\n",
    "        \"\\\\delta s\",\n",
    "        label_box=False,\n",
    "        color=colors[0],\n",
    "        position=(8, -1, 0),\n",
    "        reference_point=\"cc\",\n",
    "    )\n",
    "    figure += k3d.text(\n",
    "        \"\\\\delta s\",\n",
    "        label_box=False,\n",
    "        color=colors[1],\n",
    "        position=(-2, 1, 0),\n",
    "        reference_point=\"cc\",\n",
    "    )\n",
    "\n",
    "    regions.append(figure)\n",
    "\n",
    "regions[0]"
   ]
  },
  {
   "cell_type": "code",
   "execution_count": 75,
   "id": "046475c6-e0b9-4cad-af6f-5464f7abeecd",
   "metadata": {
    "mystnb": {
     "figure": {
      "caption": "A 3D diagram of the strip-chain pairing procedure for planar tracks. See {numref}`strip-chain-procedure-inclined` for more details. It can be seen that the pairs with the closest drift times no longer correspond to the elements over which the track passes.",
      "name": "strip-chain-procedure-planar"
     },
     "image": {
      "align": "center",
      "width": "512"
     }
    },
    "tags": [
     "hide-input"
    ]
   },
   "outputs": [
    {
     "data": {
      "application/vnd.jupyter.widget-view+json": {
       "model_id": "d33ecb6279a64d3192667848681cd766",
       "version_major": 2,
       "version_minor": 0
      },
      "text/plain": [
       "Plot(antialias=3, axes=['x', 'y', 'z'], axes_helper=1.0, background_color=16777215, camera_animation=[], camer…"
      ]
     },
     "metadata": {},
     "output_type": "display_data"
    }
   ],
   "source": [
    "regions[1]"
   ]
  }
 ],
 "metadata": {
  "kernelspec": {
   "display_name": "Python 3 (ipykernel)",
   "language": "python",
   "name": "python3"
  },
  "language_info": {
   "codemirror_mode": {
    "name": "ipython",
    "version": 3
   },
   "file_extension": ".py",
   "mimetype": "text/x-python",
   "name": "python",
   "nbconvert_exporter": "python",
   "pygments_lexer": "ipython3",
   "version": "3.10.5"
  }
 },
 "nbformat": 4,
 "nbformat_minor": 5
}
