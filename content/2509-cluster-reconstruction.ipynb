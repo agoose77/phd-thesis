{
 "cells": [
  {
   "cell_type": "markdown",
   "id": "4a712c74-97b0-42c3-9f83-9b43dedb6dd9",
   "metadata": {
    "tags": [],
    "user_expressions": []
   },
   "source": [
    "# Cluster Reconstruction"
   ]
  },
  {
   "cell_type": "markdown",
   "id": "26e69270-605e-4f4a-ac8c-6be774531138",
   "metadata": {
    "user_expressions": []
   },
   "source": [
    "As outlined in </TODO>, the MicroMeGaS anode is highly segmented to give good position resolution measurements of the charge clusters produced by ionisation. In order to reconstruct the track trajectories in 3D, it is necessary to determine the initial height of the charge cluster. Given that the MicroMeGaS waveforms are energy-time signals, the height coordinate can be derived from the drift time, given by the locus of the peak in the measured waveform, and the drift velocity (see {ref}`gas-simulation`).\n",
    "    \n",
    "Within the central \"pads\" region, the anode position of a waveform is uniquely determined by the channel from which it was measured. \n",
    "    \n",
    ":::{admonition} To Do\n",
    "Generate a figure that demonstrates this visually.    \n",
    ":::\n",
    " "
   ]
  },
  {
   "cell_type": "markdown",
   "id": "9a4709f9-015c-4b8d-9ce5-848ab04cc6ab",
   "metadata": {
    "user_expressions": []
   },
   "source": [
    "   \n",
    "Meanwhile, for the multiplexing side regions, only _one_ coordinate is uniquely defined: the column for the _chains_, and the row for the _strips_. In order to localise a waveform in these regions, _another_ waveform must be recorded in the complementary family (strip-chain or chain-strip) of channels such that _both_ coordinates are uniquely determined.\n",
    "    \n",
    "The set of valid positions {math}`P` defined for the side regions is naively given by the Cartesian product of the strips {math}`S` and chains {math}`C`, i.e."
   ]
  },
  {
   "cell_type": "markdown",
   "id": "edb67c19-5d9b-4129-b251-837d2fe43d16",
   "metadata": {
    "user_expressions": []
   },
   "source": [
    ":::{math}\n",
    ":label: set-of-strip-chain-positions\n",
    "    \n",
    "P = S \\times C\\,.\n",
    ":::"
   ]
  },
  {
   "cell_type": "markdown",
   "id": "57d2bf43-2e95-44b7-bdf9-6c36ee790899",
   "metadata": {
    "user_expressions": []
   },
   "source": [
    "Among these ordered pairs, only a small subset {math}`P_\\text{valid}` provides a reasonable interpretation of the observed ion path in the detector. In order to identify this subset, an additional discriminator is required. \n",
    "\n",
    "For tracks with a significant inclination to the drift plane, we can use the drift _time_  to order strip-chain pairings by their vertical separation. In the extreme case of a track that lies along the drift axis, the drift time is an exact proxy for the position of the charge distribution along the track. It follows that for some deviation from this ideal case, taking the strip-chain pairs with the smallest time difference will yield a reasonable set of charge clusters.\n",
    "\n",
    "Meanwhile, the charge distributions formed along a track have a non-zero width and relative position to the average track direction; the electrons liberated by scattering of the incident ion arrest over a finite distance within the gas. There is therefore a _minimum_ time-separation below which a \"reasonable set\" of pair can not be discriminated from those which arise from random correlations. In the extreme case, a track that lies exactly within the drift plane will yield strip-chain pairs that are entirely separated in time by the uncertainty on the cluster position, and this method cannot be used.\n",
    "\n",
    "To discern the range over which time-separation holds as a valuable reconstruction method, consider a track with the gradient {math}`\\dv{z}{s}` at 45° to the element stacking axis, where _element_ refers to a strip or chain.\n",
    "Any two elements (strip-strip or chain-chain) are separated by a fixed spacing {math}`\\delta s`. The separation between an adjacent hit on a strip-chain pair is therefore {math}`\\sqrt{2\\left(\\delta s\\right)^2}`. The change in height between the members of the pair consequently given by {math}`\\delta z = \\dv{z}{s}\\cdot\\sqrt{2}\\delta s`. For some intrinsic width $\\sigma$ of the charge distribution about the track, it follows that the resolving limit is\n",
    ":::{math}\n",
    ":label: time-resolving-limit\n",
    "\n",
    "\\dv{z}{s} \\geq \\frac{\\sigma}{\\sqrt{2}\\delta s}\n",
    ":::"
   ]
  },
  {
   "cell_type": "markdown",
   "id": "e88569d0-cabd-46fe-a11c-4d81942b7424",
   "metadata": {
    "user_expressions": []
   },
   "source": [
    ":::{admonition} To Do\n",
    "   \n",
    "Do a better job of explaining how the mechanism of charge formation implies a minimum resolution.\n",
    ":::\n",
    "    "
   ]
  },
  {
   "cell_type": "code",
   "execution_count": null,
   "id": "4057ac42-481e-4d55-8848-88f486d4d949",
   "metadata": {},
   "outputs": [],
   "source": []
  }
 ],
 "metadata": {
  "kernelspec": {
   "display_name": "Python 3 (ipykernel)",
   "language": "python",
   "name": "python3"
  },
  "language_info": {
   "codemirror_mode": {
    "name": "ipython",
    "version": 3
   },
   "file_extension": ".py",
   "mimetype": "text/x-python",
   "name": "python",
   "nbconvert_exporter": "python",
   "pygments_lexer": "ipython3",
   "version": "3.10.5"
  }
 },
 "nbformat": 4,
 "nbformat_minor": 5
}
