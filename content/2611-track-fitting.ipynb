{
 "cells": [
  {
   "cell_type": "markdown",
   "id": "4a712c74-97b0-42c3-9f83-9b43dedb6dd9",
   "metadata": {
    "tags": [],
    "user_expressions": []
   },
   "source": [
    "(content:texat-track-fitting)=\n",
    "# Track Fitting"
   ]
  },
  {
   "cell_type": "markdown",
   "id": "c492b6c2-6a3a-46bd-b2ae-789276777bce",
   "metadata": {
    "user_expressions": []
   },
   "source": [
    "In {ref}`content:facility-location-problem`, the PeARL method for multi-model discovery and fitting was discussed. For this experiment, a random sample of 1024 models was drawn from pairwise combinations of the clusters computed in {ref}`content:cluster-reconstruction`. Each model comprised of a pair of clusters, with corresponding positions and charges, and assigned a characteristic width drawn from a Gaussian distribution whose width was determined by inspection. "
   ]
  },
  {
   "cell_type": "markdown",
   "id": "aae7988f-6d5d-4b4e-81b9-7a2e144870d8",
   "metadata": {
    "user_expressions": []
   },
   "source": [
    ":::{warning}\n",
    "Depends upon analysis work\n",
    ":::"
   ]
  }
 ],
 "metadata": {
  "kernelspec": {
   "display_name": "Python 3 (ipykernel)",
   "language": "python",
   "name": "python3"
  },
  "language_info": {
   "codemirror_mode": {
    "name": "ipython",
    "version": 3
   },
   "file_extension": ".py",
   "mimetype": "text/x-python",
   "name": "python",
   "nbconvert_exporter": "python",
   "pygments_lexer": "ipython3",
   "version": "3.10.6"
  }
 },
 "nbformat": 4,
 "nbformat_minor": 5
}
