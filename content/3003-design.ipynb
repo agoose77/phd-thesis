{
 "cells": [
  {
   "cell_type": "code",
   "execution_count": 34,
   "id": "219d2f12-0734-4348-91d2-45137bc7ad21",
   "metadata": {
    "tags": [
     "hide-cell"
    ]
   },
   "outputs": [],
   "source": [
    "import ipywidgets as w\n",
    "import k3d\n",
    "import numpy as np\n",
    "from IPython.display import Code\n",
    "from k3d import matplotlib_color_maps\n",
    "from matplotlib import cm as mpl_cm\n",
    "from matplotlib import colors as mpl_colors\n",
    "from scipy import integrate"
   ]
  },
  {
   "cell_type": "markdown",
   "id": "760b80d3-a90f-40a3-8522-1e61bcbf7f70",
   "metadata": {
    "user_expressions": []
   },
   "source": [
    "# Design"
   ]
  },
  {
   "cell_type": "markdown",
   "id": "804f5a90-5496-487b-b6f2-0f3f843d1b1a",
   "metadata": {
    "user_expressions": []
   },
   "source": [
    "The objectives outlined in {ref}`olab:motivations` can be partitioned into development-focused priorities and product-focused outcomes. Though members of the development team had varying degrees of experience in writing Physics analyses, the landscape of modern software development spans a significant number of software packages, programming languages, and domain-specific knowledge. In order to deliver a usable, extensible platform which could be used to facilitate remote learning within the constrained time frame, a content-first, iterative approach to developing OLAB would be imperative. From these constraints, the following technological decisions were made:\n",
    ":::{list-table}\n",
    ":header-rows: 1\n",
    ":name: software-choices\n",
    "\n",
    "* - Software / Tool\n",
    "  - Motivation\n",
    "* - Python\n",
    "  - Python is the fastest growing programming language as measured by the TIOBE index, and is frequently used in data analytics and dashboarding contexts.{cite:ps}`noauthor_tiobe_nodate` The development group already had varying experience with the language, which is renowned for its quick time-to-first-result.\n",
    "* - Jupyter Notebook\n",
    "  - Jupyter Notebooks are widely used in academic research. There are already a significant number of software packages that add interactive widgets, and the notebook format serves as a standard across the Jupyter ecosystem.\n",
    "* - JupyterHub\n",
    "  - JupyterHub provides a battle-tested multi-tenant platform around which to serve customised computing environments to individual users. It provides hooks to integrate with LTI authentication systems such as those used by the Canvas LMS.\n",
    "* - ROOT\n",
    "  - ROOT is a standard tool used in the particle physics domain for all stages of the analysis lifecycle. \n",
    "* - ipywidgets\n",
    "  - ipywidgets provides a well-tested suite of interactive widgets, which can easily be composed to build complex layouts.\n",
    "* - Voilà\n",
    "  - The Voilà server was used alongside jupyter-flex to present linear notebook documents as a customised user-friendly dashboard.\n",
    "* - Kubernetes on GCP\n",
    "  - To orchestrate the multi-tenant JupyterHub containers, Kubernetes was deployed on Google Cloud Platform.\n",
    ":::\n",
    "\n",
    "Further discussion of the merits and motivations behind this set of software packages is given later in this chapter."
   ]
  },
  {
   "cell_type": "markdown",
   "id": "af880ef4-cce4-4d9d-bcf5-ce7d91b9ff2f",
   "metadata": {
    "user_expressions": []
   },
   "source": [
    "## Jupyter & Interactive Dashboarding"
   ]
  },
  {
   "cell_type": "markdown",
   "id": "6d603c36-0930-4619-ad57-f0ab344a1e22",
   "metadata": {
    "user_expressions": []
   },
   "source": [
    "The Jupyter (a loose acronoym meaning Julia-Python-R) project is a \n",
    "> non-profit, open-source project, born out of the IPython Project in 2014 as it evolved to support interactive data science and scientific computing across all programming languages. Jupyter will always be 100% open-source software, free for all to use and released under the liberal terms of the modified BSD license.{cite:ps}`noauthor_project_nodate`\n",
    "\n",
    "It encompasses a range of open source protocols and repositories around which a collaborative, interoperable ecosystem has been established. Through these common protocols and standards, a project building a particular Jupyter project is able to integrate with a range of other Jupyter-aware applications and software libraries. The Jupyter kernel standard, and the Jupyter notebook format are of particular relevance to this project; around these two standards, a strong separation between code, evaluation, and presentation has been established. This separation facilitates specialised workflows in which content authorship can use different tools to those used for the final presentation. {numref}`jupyter-lab-ide` shows an example notebook of the Lorenz attractor open in the JupyterLab IDE. It can be seen that both narrative and computational components are present in the same editor workflow.{cite:ps}`stewart_lorenz_2000` The same notebook can be served via the Voila server, which presents end-users with pre-rendered interactive representations of Jupyter notebooks. {numref}`voila-lorenz` shows a screenshot of Voila serving the Lorenz attractor notebook. It can be seen that the editable code cell has been hidden (removed) from the end user."
   ]
  },
  {
   "cell_type": "markdown",
   "id": "0178ffe2-1554-491e-b073-7bc37d73f2dc",
   "metadata": {
    "tags": [],
    "user_expressions": []
   },
   "source": [
    ":::{figure} image/jupyter-lab-ide.png\n",
    ":name: jupyter-lab-ide\n",
    ":width: 512px\n",
    ":align: center\n",
    "\n",
    "Screenshot of the `Lorenz` demonstration notebook within the JupyterLab next-generation IDE. Rich computational narratives can easily be constructed by interweaving code and markup (Markdown) cells. Rich outputs, such as interactive widgets and rendered plots, can be embedded to support exploratory analyses.\n",
    ":::"
   ]
  },
  {
   "cell_type": "markdown",
   "id": "dfcbb3f5-ed49-407c-b586-9eb680ac2908",
   "metadata": {
    "tags": [],
    "user_expressions": []
   },
   "source": [
    ":::{figure} image/voila-lorenz.png\n",
    ":name: voila-lorenz\n",
    ":width: 512px\n",
    ":align: center\n",
    "\n",
    "Screenshot of the `Lorenz` demonstration notebook presented using Voila. Voila templates can be customised and configured: from re-arranging content or changing the formatting, to building entire applications.\n",
    ":::"
   ]
  },
  {
   "cell_type": "code",
   "execution_count": 54,
   "id": "cbc589c0-a452-4851-8998-01e6d38dc7af",
   "metadata": {
    "mystnb": {
     "figure": {
      "align": "left",
      "caption": "A 3D interactive plot of a particular solution to the Lorentz attractor. This particular example does not include any parameterisation; full interactivity is frequently is provided by a running \"server\" (kernel) that executes computations and returns the results. This plot was generated with a Jupyter notebook; this _thesis_ is written in Jupyter Book, which itself can be driven by these documents.",
      "name": "lorenz-attractor-widget"
     }
    },
    "tags": [
     "hide-input",
     "no-latex"
    ]
   },
   "outputs": [
    {
     "data": {
      "application/vnd.jupyter.widget-view+json": {
       "model_id": "53829f21405d43f4a04a531e4040e5d4",
       "version_major": 2,
       "version_minor": 0
      },
      "text/plain": [
       "Output()"
      ]
     },
     "metadata": {},
     "output_type": "display_data"
    }
   ],
   "source": [
    "N = 10\n",
    "angle = 0.0\n",
    "max_time = 4.0\n",
    "sigma = 10.0\n",
    "beta = 8.0 / 3\n",
    "rho = 28.0\n",
    "\n",
    "\n",
    "def lorenz_deriv(x_y_z, t0, sigma=sigma, beta=beta, rho=rho):\n",
    "    \"\"\"Compute the time-derivative of a Lorenz system.\"\"\"\n",
    "    x, y, z = x_y_z\n",
    "    return [sigma * (y - x), x * (rho - z) - y, x * y - beta * z]\n",
    "\n",
    "\n",
    "# Choose random starting points, uniformly distributed from -15 to 15\n",
    "np.random.seed(1)\n",
    "x0 = -15 + 30 * np.random.random((N, 3))\n",
    "\n",
    "# Solve for the trajectories\n",
    "t = np.linspace(0, max_time, int(250 * max_time))\n",
    "x_t = np.asarray([integrate.odeint(lorenz_deriv, x0i, t) for x0i in x0])\n",
    "\n",
    "# choose a different color for each trajectory\n",
    "colors = mpl_cm.viridis(np.linspace(0, 1, N))\n",
    "\n",
    "plot = k3d.plot(camera_rotate_speed=4, grid_visible=False)\n",
    "\n",
    "for i in range(N):\n",
    "    plot += k3d.line(\n",
    "        x_t[i, :, :].astype(np.float32),\n",
    "        width=0.6,\n",
    "        color=int(mpl_colors.rgb2hex(colors[i]).replace(\"#\", \"0x\"), base=16),\n",
    "    )\n",
    "plot.display()"
   ]
  },
  {
   "cell_type": "markdown",
   "id": "c6316fe3-6f2b-427d-a2c7-8b5e8a6eb79c",
   "metadata": {
    "user_expressions": []
   },
   "source": [
    "Jupyter Notebook (or Lab) is already an established tool for aiding research within the academic sphere. It is used across a range of disciplines, and is particularly popular in the science and engineering fields. It follows that the OLab development team were already partially familiar with parts of the Jupyter ecosystem, and the choice to commit to the Jupyter software stack provided a low barrier to entry for authoring virtual laboratory content. "
   ]
  },
  {
   "cell_type": "markdown",
   "id": "c1c0d774-ce6f-4553-9f4e-e9a06f72d0bc",
   "metadata": {
    "user_expressions": []
   },
   "source": [
    "As discussed in {ref}`olab:learning-tools`, a prospective benefit of virtual laboratories is the ability to unify and maintain the software and content deployment process. A key component of this within the Jupyter project is JupyterHub.\n",
    "> JupyterHub brings the power of notebooks to groups of users. It gives users access to computational environments and resources without burdening the users with installation and maintenance tasks. Users - including students, researchers, and data scientists - can get their work done in their own workspaces on shared resources which can be managed efficiently by system administrators.{cite:ps}`noauthor_project_nodate-1`\n",
    "\n",
    "Within institutions, JupyterHub is increasingly popular, with a number of universities building MOOCs upon the platform such as Berkley's Data8 course.{cite:ps}`adhikari_issue_2021` Though these institutions predominantly utilise JupyterHub to provision JupyterLab instances, i.e. to provide a partially homogeneous computing environment, there are an increasing number of groups using JupyterHub to serve third-party software such as RStudio. JupyterHub is built from a series of composable resources that facilitate integration of a multi-tenant compute platform with existing virtual learning systems and compute resources. Users can be authenticated using OAuth or LTI solutions. User environments (containers) can easily be configured by platform maintainers, and can be run on a range of cloud providers e.g. via Kubernetes, or using on-prem infrastructure via SLURM, Torque, or even Docker spawners.  It was for these reasons that the Jupyter technologies listed in {numref}`software-choices` were employed to build O-Lab. "
   ]
  },
  {
   "cell_type": "markdown",
   "id": "71700b56-f234-476c-aa19-2cf3424969ad",
   "metadata": {
    "user_expressions": []
   },
   "source": [
    "## Cloud Deployment & Provisioning\n",
    "\n",
    "An impediment to deploying a JupyterHub within an academic institution is the lack of appropriate compute resources. Whilst universities often maintain on-prem compute facilities, these are usually designed to tackle conventional (homogeneous) HPC workloads, rather than the heterogeneous demands of general-purpose user containers. Whilst these systems can be leveraged to host a JupyterHub instance, e.g. using the aforementioned SLURM spawner, in practice the limitations of these systems are encountered fairly immediately. On an administrative level, HPC resources are typically earmarked for research purposes; deployment of teaching resources usually requires a separate treatment. Nonetheless, a trial deployment using the SLURM spawner was trialed to evaluate the viability of the HPC platform as a compute layer. There were several notable drawbacks identified during this trial period: users required VPN access in order to access the Hub from outside the University network, and the startup times were considerable; in some instances, on the order of tens of minutes. In general, this is a drawback of HPC-oriented schedulers; users are rewarded for short-running jobs. Meanwhile, JupyterHub jobs are unknown in duration, and therefore we must ask the schedule for long runtimes on the order of many hours, which leads to low job priorities. \n",
    "\n",
    "It follows that a more versatile deployment solution was needed. Without dedicated on-prem compute to power O-Lab, a cloud solution was sought after. In this space, the dominant approach is to use Kubernetes as the lingua-franca of cloud compute providers. Kubernetes defines an abstract set of primitives that collectively facilitate large-scale container orchestration and deployment (see {numref}`kubernetes-diagram`). It is supported by the majority of cloud providers, meaning that an investment in a particular cloud provider is not fraught with the perils of vendor lock-in, as is common with bespoke cloud platforms. \n",
    "\n",
    ":::{figure} https://upload.wikimedia.org/wikipedia/commons/b/be/Kubernetes.png\n",
    ":name: kubernetes-diagram\n",
    ":width: 512px\n",
    ":align: center\n",
    "\n",
    "Architecture diagram of a Kubernetes deployment. Several black-box containers are run within Kubernetes \"pods\", and communicate with one another over a shared network. Through horizontal and vertical autoscaling, Kubernetes can ensure that available resources are optimally distributed across the running pods. Healthy deployments are ensured through monitoring and subsequent redeployment, providing a mechanism for failure tolerance.\n",
    "Figure by Khtan66, distributed under a [CC BY-SA 4.0](https://creativecommons.org/licenses/by-sa/4.0/deed.en) license.\n",
    ":::\n",
    "\n",
    "These building blocks are configured through declarative YAML templates, which can be parameterised by user values to easily customise the deployment through centralised configuration files. See {numref}`kubernetes-certificate` for an example of such a template. Kubernetes is a \"lingua franca\" for cloud providers because it abstracts over the details of how these platforms expose e.g. routing, disk allocation, etc. Instead, Kubernetes provides a standard interface with which tools like JupyterHub's `KubeSpawner` can communicate, allowing a write-once use-everywhere design. This flexibility was employed during the O-Lab trials; an initial deployment was made onto Microsoft Azure, before subsequent migration to Google Kubernetes Engine (GKE)."
   ]
  },
  {
   "cell_type": "code",
   "execution_count": 53,
   "id": "cbcc338c-20e3-4414-a23c-8b9fd2ccf215",
   "metadata": {
    "mystnb": {
     "figure": {
      "align": "left",
      "caption": "YAML template for a Kubernetes resource configuring the HTTPS certificates of the ingress node.",
      "name": "kubernetes-certificate"
     }
    },
    "tags": [
     "remove-input"
    ]
   },
   "outputs": [
    {
     "data": {
      "text/html": [
       "<style>pre { line-height: 125%; }\n",
       "td.linenos .normal { color: inherit; background-color: transparent; padding-left: 5px; padding-right: 5px; }\n",
       "span.linenos { color: inherit; background-color: transparent; padding-left: 5px; padding-right: 5px; }\n",
       "td.linenos .special { color: #000000; background-color: #ffffc0; padding-left: 5px; padding-right: 5px; }\n",
       "span.linenos.special { color: #000000; background-color: #ffffc0; padding-left: 5px; padding-right: 5px; }\n",
       ".output_html .hll { background-color: #ffffcc }\n",
       ".output_html { background: #f8f8f8; }\n",
       ".output_html .c { color: #3D7B7B; font-style: italic } /* Comment */\n",
       ".output_html .err { border: 1px solid #FF0000 } /* Error */\n",
       ".output_html .k { color: #008000; font-weight: bold } /* Keyword */\n",
       ".output_html .o { color: #666666 } /* Operator */\n",
       ".output_html .ch { color: #3D7B7B; font-style: italic } /* Comment.Hashbang */\n",
       ".output_html .cm { color: #3D7B7B; font-style: italic } /* Comment.Multiline */\n",
       ".output_html .cp { color: #9C6500 } /* Comment.Preproc */\n",
       ".output_html .cpf { color: #3D7B7B; font-style: italic } /* Comment.PreprocFile */\n",
       ".output_html .c1 { color: #3D7B7B; font-style: italic } /* Comment.Single */\n",
       ".output_html .cs { color: #3D7B7B; font-style: italic } /* Comment.Special */\n",
       ".output_html .gd { color: #A00000 } /* Generic.Deleted */\n",
       ".output_html .ge { font-style: italic } /* Generic.Emph */\n",
       ".output_html .gr { color: #E40000 } /* Generic.Error */\n",
       ".output_html .gh { color: #000080; font-weight: bold } /* Generic.Heading */\n",
       ".output_html .gi { color: #008400 } /* Generic.Inserted */\n",
       ".output_html .go { color: #717171 } /* Generic.Output */\n",
       ".output_html .gp { color: #000080; font-weight: bold } /* Generic.Prompt */\n",
       ".output_html .gs { font-weight: bold } /* Generic.Strong */\n",
       ".output_html .gu { color: #800080; font-weight: bold } /* Generic.Subheading */\n",
       ".output_html .gt { color: #0044DD } /* Generic.Traceback */\n",
       ".output_html .kc { color: #008000; font-weight: bold } /* Keyword.Constant */\n",
       ".output_html .kd { color: #008000; font-weight: bold } /* Keyword.Declaration */\n",
       ".output_html .kn { color: #008000; font-weight: bold } /* Keyword.Namespace */\n",
       ".output_html .kp { color: #008000 } /* Keyword.Pseudo */\n",
       ".output_html .kr { color: #008000; font-weight: bold } /* Keyword.Reserved */\n",
       ".output_html .kt { color: #B00040 } /* Keyword.Type */\n",
       ".output_html .m { color: #666666 } /* Literal.Number */\n",
       ".output_html .s { color: #BA2121 } /* Literal.String */\n",
       ".output_html .na { color: #687822 } /* Name.Attribute */\n",
       ".output_html .nb { color: #008000 } /* Name.Builtin */\n",
       ".output_html .nc { color: #0000FF; font-weight: bold } /* Name.Class */\n",
       ".output_html .no { color: #880000 } /* Name.Constant */\n",
       ".output_html .nd { color: #AA22FF } /* Name.Decorator */\n",
       ".output_html .ni { color: #717171; font-weight: bold } /* Name.Entity */\n",
       ".output_html .ne { color: #CB3F38; font-weight: bold } /* Name.Exception */\n",
       ".output_html .nf { color: #0000FF } /* Name.Function */\n",
       ".output_html .nl { color: #767600 } /* Name.Label */\n",
       ".output_html .nn { color: #0000FF; font-weight: bold } /* Name.Namespace */\n",
       ".output_html .nt { color: #008000; font-weight: bold } /* Name.Tag */\n",
       ".output_html .nv { color: #19177C } /* Name.Variable */\n",
       ".output_html .ow { color: #AA22FF; font-weight: bold } /* Operator.Word */\n",
       ".output_html .w { color: #bbbbbb } /* Text.Whitespace */\n",
       ".output_html .mb { color: #666666 } /* Literal.Number.Bin */\n",
       ".output_html .mf { color: #666666 } /* Literal.Number.Float */\n",
       ".output_html .mh { color: #666666 } /* Literal.Number.Hex */\n",
       ".output_html .mi { color: #666666 } /* Literal.Number.Integer */\n",
       ".output_html .mo { color: #666666 } /* Literal.Number.Oct */\n",
       ".output_html .sa { color: #BA2121 } /* Literal.String.Affix */\n",
       ".output_html .sb { color: #BA2121 } /* Literal.String.Backtick */\n",
       ".output_html .sc { color: #BA2121 } /* Literal.String.Char */\n",
       ".output_html .dl { color: #BA2121 } /* Literal.String.Delimiter */\n",
       ".output_html .sd { color: #BA2121; font-style: italic } /* Literal.String.Doc */\n",
       ".output_html .s2 { color: #BA2121 } /* Literal.String.Double */\n",
       ".output_html .se { color: #AA5D1F; font-weight: bold } /* Literal.String.Escape */\n",
       ".output_html .sh { color: #BA2121 } /* Literal.String.Heredoc */\n",
       ".output_html .si { color: #A45A77; font-weight: bold } /* Literal.String.Interpol */\n",
       ".output_html .sx { color: #008000 } /* Literal.String.Other */\n",
       ".output_html .sr { color: #A45A77 } /* Literal.String.Regex */\n",
       ".output_html .s1 { color: #BA2121 } /* Literal.String.Single */\n",
       ".output_html .ss { color: #19177C } /* Literal.String.Symbol */\n",
       ".output_html .bp { color: #008000 } /* Name.Builtin.Pseudo */\n",
       ".output_html .fm { color: #0000FF } /* Name.Function.Magic */\n",
       ".output_html .vc { color: #19177C } /* Name.Variable.Class */\n",
       ".output_html .vg { color: #19177C } /* Name.Variable.Global */\n",
       ".output_html .vi { color: #19177C } /* Name.Variable.Instance */\n",
       ".output_html .vm { color: #19177C } /* Name.Variable.Magic */\n",
       ".output_html .il { color: #666666 } /* Literal.Number.Integer.Long */</style><div class=\"highlight\"><pre><span></span><span class=\"nt\">apiVersion</span><span class=\"p\">:</span><span class=\"w\"> </span><span class=\"l l-Scalar l-Scalar-Plain\">networking.gke.io/v1</span><span class=\"w\"></span>\n",
       "<span class=\"nt\">kind</span><span class=\"p\">:</span><span class=\"w\"> </span><span class=\"l l-Scalar l-Scalar-Plain\">ManagedCertificate</span><span class=\"w\"></span>\n",
       "<span class=\"nt\">metadata</span><span class=\"p\">:</span><span class=\"w\"></span>\n",
       "<span class=\"w\">  </span><span class=\"nt\">name</span><span class=\"p\">:</span><span class=\"w\"> </span><span class=\"l l-Scalar l-Scalar-Plain\">ingress-certificate</span><span class=\"w\"></span>\n",
       "<span class=\"nt\">spec</span><span class=\"p\">:</span><span class=\"w\"></span>\n",
       "<span class=\"w\">  </span><span class=\"nt\">domains</span><span class=\"p\">:</span><span class=\"w\"></span>\n",
       "<span class=\"w\">    </span><span class=\"p p-Indicator\">{{</span><span class=\"nv\">- range $.Values.domains</span><span class=\"w\"> </span><span class=\"p p-Indicator\">}}</span><span class=\"w\"></span>\n",
       "<span class=\"w\">    </span><span class=\"p p-Indicator\">-</span><span class=\"w\"> </span><span class=\"p p-Indicator\">{{</span><span class=\"w\"> </span><span class=\"nv\">.</span><span class=\"w\"> </span><span class=\"p p-Indicator\">}}</span><span class=\"w\"></span>\n",
       "<span class=\"w\">    </span><span class=\"p p-Indicator\">{{</span><span class=\"nv\">- end</span><span class=\"w\"> </span><span class=\"p p-Indicator\">}}</span><span class=\"w\">    </span>\n",
       "</pre></div>\n"
      ],
      "text/latex": [
       "\\begin{Verbatim}[commandchars=\\\\\\{\\}]\n",
       "\\PY{n+nt}{apiVersion}\\PY{p}{:}\\PY{+w}{ }\\PY{l+lScalar+lScalarPlain}{networking.gke.io/v1}\n",
       "\\PY{n+nt}{kind}\\PY{p}{:}\\PY{+w}{ }\\PY{l+lScalar+lScalarPlain}{ManagedCertificate}\n",
       "\\PY{n+nt}{metadata}\\PY{p}{:}\n",
       "\\PY{+w}{  }\\PY{n+nt}{name}\\PY{p}{:}\\PY{+w}{ }\\PY{l+lScalar+lScalarPlain}{ingress\\PYZhy{}certificate}\n",
       "\\PY{n+nt}{spec}\\PY{p}{:}\n",
       "\\PY{+w}{  }\\PY{n+nt}{domains}\\PY{p}{:}\n",
       "\\PY{+w}{    }\\PY{p+pIndicator}{\\PYZob{}}\\PY{p+pIndicator}{\\PYZob{}}\\PY{n+nv}{\\PYZhy{}}\\PY{n+nv}{ }\\PY{n+nv}{range}\\PY{n+nv}{ }\\PY{n+nv}{\\PYZdl{}.Values.domains}\\PY{+w}{ }\\PY{p+pIndicator}{\\PYZcb{}}\\PY{p+pIndicator}{\\PYZcb{}}\n",
       "\\PY{+w}{    }\\PY{p+pIndicator}{\\PYZhy{}}\\PY{+w}{ }\\PY{p+pIndicator}{\\PYZob{}}\\PY{p+pIndicator}{\\PYZob{}}\\PY{+w}{ }\\PY{n+nv}{.}\\PY{+w}{ }\\PY{p+pIndicator}{\\PYZcb{}}\\PY{p+pIndicator}{\\PYZcb{}}\n",
       "\\PY{+w}{    }\\PY{p+pIndicator}{\\PYZob{}}\\PY{p+pIndicator}{\\PYZob{}}\\PY{n+nv}{\\PYZhy{}}\\PY{n+nv}{ }\\PY{n+nv}{end}\\PY{+w}{ }\\PY{p+pIndicator}{\\PYZcb{}}\\PY{p+pIndicator}{\\PYZcb{}}\\PY{+w}{    }\n",
       "\\end{Verbatim}\n"
      ],
      "text/plain": [
       "apiVersion: networking.gke.io/v1\n",
       "kind: ManagedCertificate\n",
       "metadata:\n",
       "  name: ingress-certificate\n",
       "spec:\n",
       "  domains:\n",
       "    {{- range $.Values.domains }}\n",
       "    - {{ . }}\n",
       "    {{- end }}    "
      ]
     },
     "execution_count": 53,
     "metadata": {},
     "output_type": "execute_result"
    }
   ],
   "source": [
    "Code(\n",
    "    \"\"\"apiVersion: networking.gke.io/v1\n",
    "kind: ManagedCertificate\n",
    "metadata:\n",
    "  name: ingress-certificate\n",
    "spec:\n",
    "  domains:\n",
    "    {{- range $.Values.domains }}\n",
    "    - {{ . }}\n",
    "    {{- end }}    \n",
    "\"\"\",\n",
    "    language=\"yaml\",\n",
    ")"
   ]
  },
  {
   "cell_type": "markdown",
   "id": "dc1eb08d-e464-4cbd-88c9-3f8ac7dfa425",
   "metadata": {
    "user_expressions": []
   },
   "source": [
    "Whilst Kubernetes is a powerful tool for managing deployments of scalable applications in the cloud, it does not address the challenge of setting up the infrastructure upon which it runs. For this, Terraform (after investigations with Ansible) was used. Like Kubernetes, a fundamental advantage of Terraform is its declarative configuration files; infrastructure state is expressed through intent (infrastructure as code), rather than imperative procedures. Although a unique Terraform configuration is required for each cloud provider, the building blocks provided by Terraform significantly reduce the maintenance burden. When building cloud-hosted distributed applications, the ability to automate the provisioning and deployment of infrastructure is invaluable."
   ]
  },
  {
   "cell_type": "code",
   "execution_count": 44,
   "id": "11ed73c3-8bfa-4e68-8fd3-a5f0ab8404c6",
   "metadata": {
    "jupyter": {
     "source_hidden": true
    },
    "mystnb": {
     "figure": {
      "align": "left",
      "caption": "Example Terraform Resource configuration file, provisioning a node pool of three compute nodes on Google Kubernetes Engine (GKE).",
      "name": "terraform-gke"
     }
    },
    "tags": [
     "remove-input"
    ]
   },
   "outputs": [
    {
     "data": {
      "text/html": [
       "<style>pre { line-height: 125%; }\n",
       "td.linenos .normal { color: inherit; background-color: transparent; padding-left: 5px; padding-right: 5px; }\n",
       "span.linenos { color: inherit; background-color: transparent; padding-left: 5px; padding-right: 5px; }\n",
       "td.linenos .special { color: #000000; background-color: #ffffc0; padding-left: 5px; padding-right: 5px; }\n",
       "span.linenos.special { color: #000000; background-color: #ffffc0; padding-left: 5px; padding-right: 5px; }\n",
       ".output_html .hll { background-color: #ffffcc }\n",
       ".output_html { background: #f8f8f8; }\n",
       ".output_html .c { color: #3D7B7B; font-style: italic } /* Comment */\n",
       ".output_html .err { border: 1px solid #FF0000 } /* Error */\n",
       ".output_html .k { color: #008000; font-weight: bold } /* Keyword */\n",
       ".output_html .o { color: #666666 } /* Operator */\n",
       ".output_html .ch { color: #3D7B7B; font-style: italic } /* Comment.Hashbang */\n",
       ".output_html .cm { color: #3D7B7B; font-style: italic } /* Comment.Multiline */\n",
       ".output_html .cp { color: #9C6500 } /* Comment.Preproc */\n",
       ".output_html .cpf { color: #3D7B7B; font-style: italic } /* Comment.PreprocFile */\n",
       ".output_html .c1 { color: #3D7B7B; font-style: italic } /* Comment.Single */\n",
       ".output_html .cs { color: #3D7B7B; font-style: italic } /* Comment.Special */\n",
       ".output_html .gd { color: #A00000 } /* Generic.Deleted */\n",
       ".output_html .ge { font-style: italic } /* Generic.Emph */\n",
       ".output_html .gr { color: #E40000 } /* Generic.Error */\n",
       ".output_html .gh { color: #000080; font-weight: bold } /* Generic.Heading */\n",
       ".output_html .gi { color: #008400 } /* Generic.Inserted */\n",
       ".output_html .go { color: #717171 } /* Generic.Output */\n",
       ".output_html .gp { color: #000080; font-weight: bold } /* Generic.Prompt */\n",
       ".output_html .gs { font-weight: bold } /* Generic.Strong */\n",
       ".output_html .gu { color: #800080; font-weight: bold } /* Generic.Subheading */\n",
       ".output_html .gt { color: #0044DD } /* Generic.Traceback */\n",
       ".output_html .kc { color: #008000; font-weight: bold } /* Keyword.Constant */\n",
       ".output_html .kd { color: #008000; font-weight: bold } /* Keyword.Declaration */\n",
       ".output_html .kn { color: #008000; font-weight: bold } /* Keyword.Namespace */\n",
       ".output_html .kp { color: #008000 } /* Keyword.Pseudo */\n",
       ".output_html .kr { color: #008000; font-weight: bold } /* Keyword.Reserved */\n",
       ".output_html .kt { color: #B00040 } /* Keyword.Type */\n",
       ".output_html .m { color: #666666 } /* Literal.Number */\n",
       ".output_html .s { color: #BA2121 } /* Literal.String */\n",
       ".output_html .na { color: #687822 } /* Name.Attribute */\n",
       ".output_html .nb { color: #008000 } /* Name.Builtin */\n",
       ".output_html .nc { color: #0000FF; font-weight: bold } /* Name.Class */\n",
       ".output_html .no { color: #880000 } /* Name.Constant */\n",
       ".output_html .nd { color: #AA22FF } /* Name.Decorator */\n",
       ".output_html .ni { color: #717171; font-weight: bold } /* Name.Entity */\n",
       ".output_html .ne { color: #CB3F38; font-weight: bold } /* Name.Exception */\n",
       ".output_html .nf { color: #0000FF } /* Name.Function */\n",
       ".output_html .nl { color: #767600 } /* Name.Label */\n",
       ".output_html .nn { color: #0000FF; font-weight: bold } /* Name.Namespace */\n",
       ".output_html .nt { color: #008000; font-weight: bold } /* Name.Tag */\n",
       ".output_html .nv { color: #19177C } /* Name.Variable */\n",
       ".output_html .ow { color: #AA22FF; font-weight: bold } /* Operator.Word */\n",
       ".output_html .w { color: #bbbbbb } /* Text.Whitespace */\n",
       ".output_html .mb { color: #666666 } /* Literal.Number.Bin */\n",
       ".output_html .mf { color: #666666 } /* Literal.Number.Float */\n",
       ".output_html .mh { color: #666666 } /* Literal.Number.Hex */\n",
       ".output_html .mi { color: #666666 } /* Literal.Number.Integer */\n",
       ".output_html .mo { color: #666666 } /* Literal.Number.Oct */\n",
       ".output_html .sa { color: #BA2121 } /* Literal.String.Affix */\n",
       ".output_html .sb { color: #BA2121 } /* Literal.String.Backtick */\n",
       ".output_html .sc { color: #BA2121 } /* Literal.String.Char */\n",
       ".output_html .dl { color: #BA2121 } /* Literal.String.Delimiter */\n",
       ".output_html .sd { color: #BA2121; font-style: italic } /* Literal.String.Doc */\n",
       ".output_html .s2 { color: #BA2121 } /* Literal.String.Double */\n",
       ".output_html .se { color: #AA5D1F; font-weight: bold } /* Literal.String.Escape */\n",
       ".output_html .sh { color: #BA2121 } /* Literal.String.Heredoc */\n",
       ".output_html .si { color: #A45A77; font-weight: bold } /* Literal.String.Interpol */\n",
       ".output_html .sx { color: #008000 } /* Literal.String.Other */\n",
       ".output_html .sr { color: #A45A77 } /* Literal.String.Regex */\n",
       ".output_html .s1 { color: #BA2121 } /* Literal.String.Single */\n",
       ".output_html .ss { color: #19177C } /* Literal.String.Symbol */\n",
       ".output_html .bp { color: #008000 } /* Name.Builtin.Pseudo */\n",
       ".output_html .fm { color: #0000FF } /* Name.Function.Magic */\n",
       ".output_html .vc { color: #19177C } /* Name.Variable.Class */\n",
       ".output_html .vg { color: #19177C } /* Name.Variable.Global */\n",
       ".output_html .vi { color: #19177C } /* Name.Variable.Instance */\n",
       ".output_html .vm { color: #19177C } /* Name.Variable.Magic */\n",
       ".output_html .il { color: #666666 } /* Literal.Number.Integer.Long */</style><div class=\"highlight\"><pre><span></span><span class=\"kr\">resource</span><span class=\"w\"> </span><span class=\"nc\">&quot;google_container_node_pool&quot;</span><span class=\"w\"> </span><span class=\"nv\">&quot;user_nodes&quot;</span><span class=\"w\"> </span><span class=\"p\">{</span><span class=\"w\"></span>\n",
       "<span class=\"w\">  </span><span class=\"na\">name</span><span class=\"w\">       </span><span class=\"o\">=</span><span class=\"w\"> </span><span class=\"s2\">&quot;user&quot;</span><span class=\"w\"></span>\n",
       "<span class=\"w\">  </span><span class=\"na\">cluster</span><span class=\"w\">    </span><span class=\"o\">=</span><span class=\"w\"> </span><span class=\"nv\">google_container_cluster.primary.name</span><span class=\"w\"></span>\n",
       "<span class=\"w\">  </span><span class=\"na\">node_count</span><span class=\"w\"> </span><span class=\"o\">=</span><span class=\"w\"> </span><span class=\"m\">3</span><span class=\"w\"></span>\n",
       "\n",
       "<span class=\"w\">  </span><span class=\"nb\">node_config</span><span class=\"w\"> </span><span class=\"p\">{</span><span class=\"w\"></span>\n",
       "<span class=\"w\">    </span><span class=\"na\">preemptible</span><span class=\"w\">  </span><span class=\"o\">=</span><span class=\"w\"> </span><span class=\"no\">false</span><span class=\"w\"></span>\n",
       "<span class=\"w\">    </span><span class=\"na\">machine_type</span><span class=\"w\"> </span><span class=\"o\">=</span><span class=\"w\"> </span><span class=\"s2\">&quot;e2-standard-2&quot;</span><span class=\"c1\"></span>\n",
       "\n",
       "<span class=\"c1\">    # Google recommends custom service accounts that have </span>\n",
       "<span class=\"c1\">    # cloud-platform scope and permissions granted via IAM Roles.</span>\n",
       "<span class=\"w\">    </span><span class=\"na\">service_account</span><span class=\"w\"> </span><span class=\"o\">=</span><span class=\"w\"> </span><span class=\"nv\">google_service_account.default.email</span><span class=\"w\"></span>\n",
       "\n",
       "<span class=\"w\">    </span><span class=\"na\">oauth_scopes</span><span class=\"w\"> </span><span class=\"o\">=</span><span class=\"w\"> </span><span class=\"p\">[</span><span class=\"w\"></span>\n",
       "<span class=\"w\">      </span><span class=\"p\">...</span><span class=\"w\"></span>\n",
       "<span class=\"w\">    </span><span class=\"p\">]</span><span class=\"c1\"></span>\n",
       "\n",
       "<span class=\"c1\">    # To prevent non-user nodes being scheduled here</span>\n",
       "<span class=\"w\">    </span><span class=\"nb\">labels</span><span class=\"w\"> </span><span class=\"o\">=</span><span class=\"w\"> </span><span class=\"p\">{</span><span class=\"w\"></span>\n",
       "<span class=\"w\">      </span><span class=\"s2\">&quot;hub.jupyter.org/node-purpose&quot;</span><span class=\"w\"> </span><span class=\"o\">=</span><span class=\"w\"> </span><span class=\"s2\">&quot;user&quot;</span><span class=\"w\"></span>\n",
       "<span class=\"w\">    </span><span class=\"p\">}</span><span class=\"w\"></span>\n",
       "\n",
       "<span class=\"w\">    </span><span class=\"na\">taint</span><span class=\"w\"> </span><span class=\"o\">=</span><span class=\"w\"> </span><span class=\"p\">[</span><span class=\"w\"></span>\n",
       "<span class=\"w\">      </span><span class=\"p\">{</span><span class=\"w\"></span>\n",
       "<span class=\"w\">        </span><span class=\"na\">effect</span><span class=\"w\"> </span><span class=\"o\">=</span><span class=\"w\"> </span><span class=\"s2\">&quot;NO_SCHEDULE&quot;</span><span class=\"w\"></span>\n",
       "<span class=\"w\">        </span><span class=\"na\">key</span><span class=\"w\">    </span><span class=\"o\">=</span><span class=\"w\"> </span><span class=\"s2\">&quot;hub.jupyter.org_dedicated&quot;</span><span class=\"w\"></span>\n",
       "<span class=\"w\">        </span><span class=\"na\">value</span><span class=\"w\">  </span><span class=\"o\">=</span><span class=\"w\"> </span><span class=\"s2\">&quot;user&quot;</span><span class=\"w\"></span>\n",
       "<span class=\"w\">      </span><span class=\"p\">}</span><span class=\"w\"></span>\n",
       "<span class=\"w\">    </span><span class=\"p\">]</span><span class=\"w\"></span>\n",
       "<span class=\"w\">  </span><span class=\"p\">}</span><span class=\"w\"></span>\n",
       "\n",
       "<span class=\"w\">  </span><span class=\"nb\">autoscaling</span><span class=\"w\"> </span><span class=\"p\">{</span><span class=\"w\"></span>\n",
       "<span class=\"w\">    </span><span class=\"na\">min_node_count</span><span class=\"w\"> </span><span class=\"o\">=</span><span class=\"w\"> </span><span class=\"m\">0</span><span class=\"w\"></span>\n",
       "<span class=\"w\">    </span><span class=\"na\">max_node_count</span><span class=\"w\"> </span><span class=\"o\">=</span><span class=\"w\"> </span><span class=\"m\">3</span><span class=\"w\"></span>\n",
       "<span class=\"w\">  </span><span class=\"p\">}</span><span class=\"w\"></span>\n",
       "<span class=\"p\">}</span><span class=\"w\"></span>\n",
       "</pre></div>\n"
      ],
      "text/latex": [
       "\\begin{Verbatim}[commandchars=\\\\\\{\\}]\n",
       "\\PY{k+kr}{resource}\\PY{+w}{ }\\PY{n+nc}{\\PYZdq{}google\\PYZus{}container\\PYZus{}node\\PYZus{}pool\\PYZdq{}}\\PY{+w}{ }\\PY{n+nv}{\\PYZdq{}user\\PYZus{}nodes\\PYZdq{}}\\PY{+w}{ }\\PY{p}{\\PYZob{}}\n",
       "\\PY{+w}{  }\\PY{n+na}{name}\\PY{+w}{       }\\PY{o}{=}\\PY{+w}{ }\\PY{l+s+s2}{\\PYZdq{}user\\PYZdq{}}\n",
       "\\PY{+w}{  }\\PY{n+na}{cluster}\\PY{+w}{    }\\PY{o}{=}\\PY{+w}{ }\\PY{n+nv}{google\\PYZus{}container\\PYZus{}cluster.primary.name}\n",
       "\\PY{+w}{  }\\PY{n+na}{node\\PYZus{}count}\\PY{+w}{ }\\PY{o}{=}\\PY{+w}{ }\\PY{l+m}{3}\n",
       "\n",
       "\\PY{+w}{  }\\PY{n+nb}{node\\PYZus{}config}\\PY{+w}{ }\\PY{p}{\\PYZob{}}\n",
       "\\PY{+w}{    }\\PY{n+na}{preemptible}\\PY{+w}{  }\\PY{o}{=}\\PY{+w}{ }\\PY{n+no}{false}\n",
       "\\PY{+w}{    }\\PY{n+na}{machine\\PYZus{}type}\\PY{+w}{ }\\PY{o}{=}\\PY{+w}{ }\\PY{l+s+s2}{\\PYZdq{}e2\\PYZhy{}standard\\PYZhy{}2\\PYZdq{}}\n",
       "\n",
       "\\PY{c+c1}{    \\PYZsh{} Google recommends custom service accounts that have }\n",
       "\\PY{c+c1}{    \\PYZsh{} cloud\\PYZhy{}platform scope and permissions granted via IAM Roles.}\n",
       "\\PY{+w}{    }\\PY{n+na}{service\\PYZus{}account}\\PY{+w}{ }\\PY{o}{=}\\PY{+w}{ }\\PY{n+nv}{google\\PYZus{}service\\PYZus{}account.default.email}\n",
       "\n",
       "\\PY{+w}{    }\\PY{n+na}{oauth\\PYZus{}scopes}\\PY{+w}{ }\\PY{o}{=}\\PY{+w}{ }\\PY{p}{[}\n",
       "\\PY{+w}{      }\\PY{p}{.}\\PY{p}{.}\\PY{p}{.}\n",
       "\\PY{+w}{    }\\PY{p}{]}\n",
       "\n",
       "\\PY{c+c1}{    \\PYZsh{} To prevent non\\PYZhy{}user nodes being scheduled here}\n",
       "\\PY{+w}{    }\\PY{n+nb}{labels}\\PY{+w}{ }\\PY{o}{=}\\PY{+w}{ }\\PY{p}{\\PYZob{}}\n",
       "\\PY{+w}{      }\\PY{l+s+s2}{\\PYZdq{}hub.jupyter.org/node\\PYZhy{}purpose\\PYZdq{}}\\PY{+w}{ }\\PY{o}{=}\\PY{+w}{ }\\PY{l+s+s2}{\\PYZdq{}user\\PYZdq{}}\n",
       "\\PY{+w}{    }\\PY{p}{\\PYZcb{}}\n",
       "\n",
       "\\PY{+w}{    }\\PY{n+na}{taint}\\PY{+w}{ }\\PY{o}{=}\\PY{+w}{ }\\PY{p}{[}\n",
       "\\PY{+w}{      }\\PY{p}{\\PYZob{}}\n",
       "\\PY{+w}{        }\\PY{n+na}{effect}\\PY{+w}{ }\\PY{o}{=}\\PY{+w}{ }\\PY{l+s+s2}{\\PYZdq{}NO\\PYZus{}SCHEDULE\\PYZdq{}}\n",
       "\\PY{+w}{        }\\PY{n+na}{key}\\PY{+w}{    }\\PY{o}{=}\\PY{+w}{ }\\PY{l+s+s2}{\\PYZdq{}hub.jupyter.org\\PYZus{}dedicated\\PYZdq{}}\n",
       "\\PY{+w}{        }\\PY{n+na}{value}\\PY{+w}{  }\\PY{o}{=}\\PY{+w}{ }\\PY{l+s+s2}{\\PYZdq{}user\\PYZdq{}}\n",
       "\\PY{+w}{      }\\PY{p}{\\PYZcb{}}\n",
       "\\PY{+w}{    }\\PY{p}{]}\n",
       "\\PY{+w}{  }\\PY{p}{\\PYZcb{}}\n",
       "\n",
       "\\PY{+w}{  }\\PY{n+nb}{autoscaling}\\PY{+w}{ }\\PY{p}{\\PYZob{}}\n",
       "\\PY{+w}{    }\\PY{n+na}{min\\PYZus{}node\\PYZus{}count}\\PY{+w}{ }\\PY{o}{=}\\PY{+w}{ }\\PY{l+m}{0}\n",
       "\\PY{+w}{    }\\PY{n+na}{max\\PYZus{}node\\PYZus{}count}\\PY{+w}{ }\\PY{o}{=}\\PY{+w}{ }\\PY{l+m}{3}\n",
       "\\PY{+w}{  }\\PY{p}{\\PYZcb{}}\n",
       "\\PY{p}{\\PYZcb{}}\n",
       "\\end{Verbatim}\n"
      ],
      "text/plain": [
       "resource \"google_container_node_pool\" \"user_nodes\" {\n",
       "  name       = \"user\"\n",
       "  cluster    = google_container_cluster.primary.name\n",
       "  node_count = 3\n",
       "\n",
       "  node_config {\n",
       "    preemptible  = false\n",
       "    machine_type = \"e2-standard-2\"\n",
       "\n",
       "    # Google recommends custom service accounts that have \n",
       "    # cloud-platform scope and permissions granted via IAM Roles.\n",
       "    service_account = google_service_account.default.email\n",
       "\n",
       "    oauth_scopes = [\n",
       "      ...\n",
       "    ]\n",
       "\n",
       "    # To prevent non-user nodes being scheduled here\n",
       "    labels = {\n",
       "      \"hub.jupyter.org/node-purpose\" = \"user\"\n",
       "    }\n",
       "\n",
       "    taint = [\n",
       "      {\n",
       "        effect = \"NO_SCHEDULE\"\n",
       "        key    = \"hub.jupyter.org_dedicated\"\n",
       "        value  = \"user\"\n",
       "      }\n",
       "    ]\n",
       "  }\n",
       "\n",
       "  autoscaling {\n",
       "    min_node_count = 0\n",
       "    max_node_count = 3\n",
       "  }\n",
       "}"
      ]
     },
     "execution_count": 44,
     "metadata": {},
     "output_type": "execute_result"
    }
   ],
   "source": [
    "Code(\n",
    "    \"\"\"resource \"google_container_node_pool\" \"user_nodes\" {\n",
    "  name       = \"user\"\n",
    "  cluster    = google_container_cluster.primary.name\n",
    "  node_count = 3\n",
    "\n",
    "  node_config {\n",
    "    preemptible  = false\n",
    "    machine_type = \"e2-standard-2\"\n",
    "\n",
    "    # Google recommends custom service accounts that have \n",
    "    # cloud-platform scope and permissions granted via IAM Roles.\n",
    "    service_account = google_service_account.default.email\n",
    "\n",
    "    oauth_scopes = [\n",
    "      ...\n",
    "    ]\n",
    "\n",
    "    # To prevent non-user nodes being scheduled here\n",
    "    labels = {\n",
    "      \"hub.jupyter.org/node-purpose\" = \"user\"\n",
    "    }\n",
    "\n",
    "    taint = [\n",
    "      {\n",
    "        effect = \"NO_SCHEDULE\"\n",
    "        key    = \"hub.jupyter.org_dedicated\"\n",
    "        value  = \"user\"\n",
    "      }\n",
    "    ]\n",
    "  }\n",
    "\n",
    "  autoscaling {\n",
    "    min_node_count = 0\n",
    "    max_node_count = 3\n",
    "  }\n",
    "}\n",
    "\"\"\",\n",
    "    language=\"terraform\",\n",
    ")"
   ]
  },
  {
   "cell_type": "markdown",
   "id": "c21556b5-855c-41ba-b1ec-22a93b146b5f",
   "metadata": {
    "user_expressions": []
   },
   "source": [
    "As a first iteration of the online laboratory concept, a series of experiments were designed with close resemblance to their real-world counterparts. In addition to reducing the scope of the laboratory design, replicating on-premise experiments also offers the opportunity for students to prepare for practical in-situ experimentation, with an understanding of the real-world constraints. From this initial set of experiment proposals, a single candidate was chosen for a proof-of-concept: _characterisation of a NaI(Tl) scintillation detector_. "
   ]
  }
 ],
 "metadata": {
  "kernelspec": {
   "display_name": "Python 3 (ipykernel)",
   "language": "python",
   "name": "python3"
  },
  "language_info": {
   "codemirror_mode": {
    "name": "ipython",
    "version": 3
   },
   "file_extension": ".py",
   "mimetype": "text/x-python",
   "name": "python",
   "nbconvert_exporter": "python",
   "pygments_lexer": "ipython3",
   "version": "3.10.6"
  },
  "widgets": {
   "application/vnd.jupyter.widget-state+json": {
    "state": {},
    "version_major": 2,
    "version_minor": 0
   }
  }
 },
 "nbformat": 4,
 "nbformat_minor": 5
}
